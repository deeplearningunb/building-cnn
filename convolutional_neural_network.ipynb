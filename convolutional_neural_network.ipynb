{
  "nbformat": 4,
  "nbformat_minor": 2,
  "metadata": {
    "colab": {
      "name": "convolutional_neural_network.ipynb",
      "provenance": [],
      "collapsed_sections": []
    },
    "kernelspec": {
      "display_name": "Python 3",
      "language": "python",
      "name": "python3"
    },
    "language_info": {
      "codemirror_mode": {
        "name": "ipython",
        "version": 3
      },
      "file_extension": ".py",
      "mimetype": "text/x-python",
      "name": "python",
      "nbconvert_exporter": "python",
      "pygments_lexer": "ipython3",
      "version": "3.6.9"
    }
  },
  "cells": [
    {
      "cell_type": "markdown",
      "source": [
        "# Convolutional Neural Network"
      ],
      "metadata": {
        "id": "3DR-eO17geWu"
      }
    },
    {
      "cell_type": "markdown",
      "source": [
        "### Importing the libraries"
      ],
      "metadata": {
        "id": "EMefrVPCg-60"
      }
    },
    {
      "cell_type": "code",
      "execution_count": 1,
      "source": [
        "!pip install --upgrade tensorflow keras Pillow"
      ],
      "outputs": [
        {
          "output_type": "stream",
          "name": "stdout",
          "text": [
            "Requirement already satisfied: tensorflow in /usr/local/lib/python3.7/dist-packages (2.6.0)\n",
            "Requirement already satisfied: keras in /usr/local/lib/python3.7/dist-packages (2.6.0)\n",
            "Requirement already satisfied: Pillow in /usr/local/lib/python3.7/dist-packages (8.3.1)\n",
            "Requirement already satisfied: flatbuffers~=1.12.0 in /usr/local/lib/python3.7/dist-packages (from tensorflow) (1.12)\n",
            "Requirement already satisfied: wrapt~=1.12.1 in /usr/local/lib/python3.7/dist-packages (from tensorflow) (1.12.1)\n",
            "Requirement already satisfied: six~=1.15.0 in /usr/local/lib/python3.7/dist-packages (from tensorflow) (1.15.0)\n",
            "Requirement already satisfied: numpy~=1.19.2 in /usr/local/lib/python3.7/dist-packages (from tensorflow) (1.19.5)\n",
            "Requirement already satisfied: protobuf>=3.9.2 in /usr/local/lib/python3.7/dist-packages (from tensorflow) (3.17.3)\n",
            "Requirement already satisfied: google-pasta~=0.2 in /usr/local/lib/python3.7/dist-packages (from tensorflow) (0.2.0)\n",
            "Requirement already satisfied: tensorflow-estimator~=2.6 in /usr/local/lib/python3.7/dist-packages (from tensorflow) (2.6.0)\n",
            "Requirement already satisfied: termcolor~=1.1.0 in /usr/local/lib/python3.7/dist-packages (from tensorflow) (1.1.0)\n",
            "Requirement already satisfied: wheel~=0.35 in /usr/local/lib/python3.7/dist-packages (from tensorflow) (0.37.0)\n",
            "Requirement already satisfied: astunparse~=1.6.3 in /usr/local/lib/python3.7/dist-packages (from tensorflow) (1.6.3)\n",
            "Requirement already satisfied: grpcio<2.0,>=1.37.0 in /usr/local/lib/python3.7/dist-packages (from tensorflow) (1.39.0)\n",
            "Requirement already satisfied: keras-preprocessing~=1.1.2 in /usr/local/lib/python3.7/dist-packages (from tensorflow) (1.1.2)\n",
            "Requirement already satisfied: gast==0.4.0 in /usr/local/lib/python3.7/dist-packages (from tensorflow) (0.4.0)\n",
            "Requirement already satisfied: opt-einsum~=3.3.0 in /usr/local/lib/python3.7/dist-packages (from tensorflow) (3.3.0)\n",
            "Requirement already satisfied: tensorboard~=2.6 in /usr/local/lib/python3.7/dist-packages (from tensorflow) (2.6.0)\n",
            "Requirement already satisfied: h5py~=3.1.0 in /usr/local/lib/python3.7/dist-packages (from tensorflow) (3.1.0)\n",
            "Requirement already satisfied: clang~=5.0 in /usr/local/lib/python3.7/dist-packages (from tensorflow) (5.0)\n",
            "Requirement already satisfied: absl-py~=0.10 in /usr/local/lib/python3.7/dist-packages (from tensorflow) (0.12.0)\n",
            "Requirement already satisfied: typing-extensions~=3.7.4 in /usr/local/lib/python3.7/dist-packages (from tensorflow) (3.7.4.3)\n",
            "Requirement already satisfied: cached-property in /usr/local/lib/python3.7/dist-packages (from h5py~=3.1.0->tensorflow) (1.5.2)\n",
            "Requirement already satisfied: tensorboard-plugin-wit>=1.6.0 in /usr/local/lib/python3.7/dist-packages (from tensorboard~=2.6->tensorflow) (1.8.0)\n",
            "Requirement already satisfied: setuptools>=41.0.0 in /usr/local/lib/python3.7/dist-packages (from tensorboard~=2.6->tensorflow) (57.4.0)\n",
            "Requirement already satisfied: google-auth<2,>=1.6.3 in /usr/local/lib/python3.7/dist-packages (from tensorboard~=2.6->tensorflow) (1.34.0)\n",
            "Requirement already satisfied: google-auth-oauthlib<0.5,>=0.4.1 in /usr/local/lib/python3.7/dist-packages (from tensorboard~=2.6->tensorflow) (0.4.5)\n",
            "Requirement already satisfied: requests<3,>=2.21.0 in /usr/local/lib/python3.7/dist-packages (from tensorboard~=2.6->tensorflow) (2.23.0)\n",
            "Requirement already satisfied: tensorboard-data-server<0.7.0,>=0.6.0 in /usr/local/lib/python3.7/dist-packages (from tensorboard~=2.6->tensorflow) (0.6.1)\n",
            "Requirement already satisfied: werkzeug>=0.11.15 in /usr/local/lib/python3.7/dist-packages (from tensorboard~=2.6->tensorflow) (1.0.1)\n",
            "Requirement already satisfied: markdown>=2.6.8 in /usr/local/lib/python3.7/dist-packages (from tensorboard~=2.6->tensorflow) (3.3.4)\n",
            "Requirement already satisfied: rsa<5,>=3.1.4 in /usr/local/lib/python3.7/dist-packages (from google-auth<2,>=1.6.3->tensorboard~=2.6->tensorflow) (4.7.2)\n",
            "Requirement already satisfied: pyasn1-modules>=0.2.1 in /usr/local/lib/python3.7/dist-packages (from google-auth<2,>=1.6.3->tensorboard~=2.6->tensorflow) (0.2.8)\n",
            "Requirement already satisfied: cachetools<5.0,>=2.0.0 in /usr/local/lib/python3.7/dist-packages (from google-auth<2,>=1.6.3->tensorboard~=2.6->tensorflow) (4.2.2)\n",
            "Requirement already satisfied: requests-oauthlib>=0.7.0 in /usr/local/lib/python3.7/dist-packages (from google-auth-oauthlib<0.5,>=0.4.1->tensorboard~=2.6->tensorflow) (1.3.0)\n",
            "Requirement already satisfied: importlib-metadata in /usr/local/lib/python3.7/dist-packages (from markdown>=2.6.8->tensorboard~=2.6->tensorflow) (4.6.4)\n",
            "Requirement already satisfied: pyasn1<0.5.0,>=0.4.6 in /usr/local/lib/python3.7/dist-packages (from pyasn1-modules>=0.2.1->google-auth<2,>=1.6.3->tensorboard~=2.6->tensorflow) (0.4.8)\n",
            "Requirement already satisfied: chardet<4,>=3.0.2 in /usr/local/lib/python3.7/dist-packages (from requests<3,>=2.21.0->tensorboard~=2.6->tensorflow) (3.0.4)\n",
            "Requirement already satisfied: urllib3!=1.25.0,!=1.25.1,<1.26,>=1.21.1 in /usr/local/lib/python3.7/dist-packages (from requests<3,>=2.21.0->tensorboard~=2.6->tensorflow) (1.24.3)\n",
            "Requirement already satisfied: certifi>=2017.4.17 in /usr/local/lib/python3.7/dist-packages (from requests<3,>=2.21.0->tensorboard~=2.6->tensorflow) (2021.5.30)\n",
            "Requirement already satisfied: idna<3,>=2.5 in /usr/local/lib/python3.7/dist-packages (from requests<3,>=2.21.0->tensorboard~=2.6->tensorflow) (2.10)\n",
            "Requirement already satisfied: oauthlib>=3.0.0 in /usr/local/lib/python3.7/dist-packages (from requests-oauthlib>=0.7.0->google-auth-oauthlib<0.5,>=0.4.1->tensorboard~=2.6->tensorflow) (3.1.1)\n",
            "Requirement already satisfied: zipp>=0.5 in /usr/local/lib/python3.7/dist-packages (from importlib-metadata->markdown>=2.6.8->tensorboard~=2.6->tensorflow) (3.5.0)\n"
          ]
        }
      ],
      "metadata": {
        "colab": {
          "base_uri": "https://localhost:8080/"
        },
        "id": "Y9sui_xiri4R",
        "outputId": "22fa34c3-5314-4907-857e-0399b101b07a"
      }
    },
    {
      "cell_type": "code",
      "execution_count": 2,
      "source": [
        "import tensorflow as tf\r\n",
        "from keras.preprocessing.image import ImageDataGenerator"
      ],
      "outputs": [],
      "metadata": {
        "id": "sCV30xyVhFbE"
      }
    },
    {
      "cell_type": "code",
      "execution_count": 3,
      "source": [
        "tf.__version__"
      ],
      "outputs": [
        {
          "output_type": "execute_result",
          "data": {
            "text/plain": [
              "'2.6.0'"
            ],
            "application/vnd.google.colaboratory.intrinsic+json": {
              "type": "string"
            }
          },
          "metadata": {},
          "execution_count": 3
        }
      ],
      "metadata": {
        "colab": {
          "base_uri": "https://localhost:8080/",
          "height": 35
        },
        "id": "FIleuCAjoFD8",
        "outputId": "4c49c50c-1eac-44d9-b6d6-22b894aa45bc"
      }
    },
    {
      "cell_type": "code",
      "execution_count": 43,
      "source": [
        "from keras.models import Sequential\r\n",
        "from keras.layers import Input, Dense, Conv2D, MaxPooling2D, GlobalMaxPooling2D, Flatten, Activation, BatchNormalization, Dropout\r\n",
        "import numpy as np\r\n",
        "import matplotlib.pyplot as plt\r\n",
        "%matplotlib inline "
      ],
      "outputs": [],
      "metadata": {
        "id": "gsU2D3nbV0Dg"
      }
    },
    {
      "cell_type": "markdown",
      "source": [
        "## Part 1 - Data Preprocessing"
      ],
      "metadata": {
        "id": "oxQxCBWyoGPE"
      }
    },
    {
      "cell_type": "markdown",
      "source": [
        "### Preprocessing the Training set"
      ],
      "metadata": {
        "id": "MvE-heJNo3GG"
      }
    },
    {
      "cell_type": "code",
      "execution_count": 47,
      "source": [
        "!unzip dataset.zip"
      ],
      "outputs": [
        {
          "output_type": "stream",
          "name": "stdout",
          "text": [
            "Archive:  dataset.zip\n",
            "replace dataset/.DS_Store? [y]es, [n]o, [A]ll, [N]one, [r]ename: N\n"
          ]
        }
      ],
      "metadata": {
        "colab": {
          "base_uri": "https://localhost:8080/"
        },
        "id": "NuScam-cYoqz",
        "outputId": "09e3836c-2192-41a0-ca41-a99a6c68b1c4"
      }
    },
    {
      "cell_type": "code",
      "execution_count": 48,
      "source": [
        "train_datagen = ImageDataGenerator(rescale = 1./255,\r\n",
        "                                   shear_range = 0.2,\r\n",
        "                                   zoom_range = 0.2,\r\n",
        "                                   horizontal_flip = True)\r\n",
        "training_set = train_datagen.flow_from_directory('dataset/training_set',\r\n",
        "                                                 target_size = (64, 64),\r\n",
        "                                                 batch_size = 32,\r\n",
        "                                                 class_mode = 'binary')"
      ],
      "outputs": [
        {
          "output_type": "stream",
          "name": "stdout",
          "text": [
            "Found 12000 images belonging to 2 classes.\n"
          ]
        }
      ],
      "metadata": {
        "colab": {
          "base_uri": "https://localhost:8080/"
        },
        "id": "0koUcJMJpEBD",
        "outputId": "9b57280f-9798-4c43-8ade-0ff3aafd6b22"
      }
    },
    {
      "cell_type": "markdown",
      "source": [
        "### Preprocessing the Test set"
      ],
      "metadata": {
        "id": "mrCMmGw9pHys"
      }
    },
    {
      "cell_type": "code",
      "execution_count": 49,
      "source": [
        "test_datagen = ImageDataGenerator(rescale = 1./255)\r\n",
        "test_set = test_datagen.flow_from_directory('dataset/test_set',\r\n",
        "                                            target_size = (64, 64),\r\n",
        "                                            batch_size = 32,\r\n",
        "                                            class_mode = 'binary')"
      ],
      "outputs": [
        {
          "output_type": "stream",
          "name": "stdout",
          "text": [
            "Found 2000 images belonging to 2 classes.\n"
          ]
        }
      ],
      "metadata": {
        "id": "SH4WzfOhpKc3",
        "colab": {
          "base_uri": "https://localhost:8080/"
        },
        "outputId": "f1e33163-b62b-4f2f-bc66-a1d766f00c66"
      }
    },
    {
      "cell_type": "code",
      "execution_count": 50,
      "source": [
        "import glob\r\n",
        "import matplotlib.pyplot as plt\r\n",
        "import matplotlib.image as mpimg\r\n",
        "%matplotlib inline"
      ],
      "outputs": [],
      "metadata": {
        "id": "wQYNEtYoZ5Do"
      }
    },
    {
      "cell_type": "code",
      "execution_count": 51,
      "source": [
        "import glob\r\n",
        "images = glob.glob('dataset/test_set/cats/*.jpg')"
      ],
      "outputs": [],
      "metadata": {
        "id": "39eGiTRxdEok"
      }
    },
    {
      "cell_type": "markdown",
      "source": [
        "## Part 2 - Building the CNN"
      ],
      "metadata": {
        "id": "af8O4l90gk7B"
      }
    },
    {
      "cell_type": "markdown",
      "source": [
        "### Initialising the CNN"
      ],
      "metadata": {
        "id": "ces1gXY2lmoX"
      }
    },
    {
      "cell_type": "code",
      "execution_count": 52,
      "source": [
        "cnn = tf.keras.models.Sequential()"
      ],
      "outputs": [],
      "metadata": {
        "id": "6hySzS7mcR-S"
      }
    },
    {
      "cell_type": "markdown",
      "source": [
        "### Step 1 - Convolution"
      ],
      "metadata": {
        "id": "u5YJj_XMl5LF"
      }
    },
    {
      "cell_type": "code",
      "execution_count": 53,
      "source": [
        "cnn.add(tf.keras.layers.Conv2D(filters=64, kernel_size=3, activation='elu', input_shape=[64, 64, 3]))"
      ],
      "outputs": [],
      "metadata": {
        "id": "XPzPrMckl-hV"
      }
    },
    {
      "cell_type": "markdown",
      "source": [
        "### Step 2 - Pooling"
      ],
      "metadata": {
        "id": "tf87FpvxmNOJ"
      }
    },
    {
      "cell_type": "code",
      "execution_count": 54,
      "source": [
        "cnn.add(tf.keras.layers.MaxPooling2D(pool_size=2, strides=2))"
      ],
      "outputs": [],
      "metadata": {
        "id": "ncpqPl69mOac"
      }
    },
    {
      "cell_type": "markdown",
      "source": [
        "### Adding a second convolutional layer"
      ],
      "metadata": {
        "id": "xaTOgD8rm4mU"
      }
    },
    {
      "cell_type": "code",
      "execution_count": 55,
      "source": [
        "cnn.add(tf.keras.layers.Conv2D(filters=64, kernel_size=3,  activation='elu'))\r\n",
        "cnn.add(tf.keras.layers.MaxPool2D(pool_size=2, strides=2))"
      ],
      "outputs": [],
      "metadata": {
        "id": "i_-FZjn_m8gk"
      }
    },
    {
      "cell_type": "markdown",
      "source": [
        "### Step 3 - Flattening"
      ],
      "metadata": {
        "id": "tmiEuvTunKfk"
      }
    },
    {
      "cell_type": "code",
      "execution_count": 56,
      "source": [
        "cnn.add(tf.keras.layers.Flatten())"
      ],
      "outputs": [],
      "metadata": {
        "id": "6AZeOGCvnNZn"
      }
    },
    {
      "cell_type": "markdown",
      "source": [
        "### Step 3.1 - Stop Overfitting"
      ],
      "metadata": {
        "id": "13Bj-Na4d_Rj"
      }
    },
    {
      "cell_type": "code",
      "execution_count": 57,
      "source": [
        "cnn.add(tf.keras.layers.Dropout(0.1))"
      ],
      "outputs": [],
      "metadata": {
        "id": "Efq7XqEleGkC"
      }
    },
    {
      "cell_type": "markdown",
      "source": [
        "### Step 4 - Full Connection"
      ],
      "metadata": {
        "id": "dAoSECOm203v"
      }
    },
    {
      "cell_type": "code",
      "execution_count": 58,
      "source": [
        "cnn.add(tf.keras.layers.Dense(units=128, activation='elu'))"
      ],
      "outputs": [],
      "metadata": {
        "id": "8GtmUlLd26Nq"
      }
    },
    {
      "cell_type": "markdown",
      "source": [
        "### Step 5 - Output Layer"
      ],
      "metadata": {
        "id": "yTldFvbX28Na"
      }
    },
    {
      "cell_type": "code",
      "execution_count": 59,
      "source": [
        "cnn.add(tf.keras.layers.Dense(units=1, activation='softmax'))"
      ],
      "outputs": [],
      "metadata": {
        "id": "1p_Zj1Mc3Ko_"
      }
    },
    {
      "cell_type": "markdown",
      "source": [
        "## Part 3 - Training the CNN"
      ],
      "metadata": {
        "id": "D6XkI90snSDl"
      }
    },
    {
      "cell_type": "markdown",
      "source": [
        "### Compiling the CNN"
      ],
      "metadata": {
        "id": "vfrFQACEnc6i"
      }
    },
    {
      "cell_type": "code",
      "execution_count": 60,
      "source": [
        "cnn.compile(optimizer = 'nadam', loss = 'binary_crossentropy', metrics = ['accuracy'])"
      ],
      "outputs": [],
      "metadata": {
        "id": "NALksrNQpUlJ"
      }
    },
    {
      "cell_type": "markdown",
      "source": [
        "### Training the CNN on the Training set and evaluating it on the Test set"
      ],
      "metadata": {
        "id": "ehS-v3MIpX2h"
      }
    },
    {
      "cell_type": "code",
      "execution_count": 62,
      "source": [
        "a = cnn.fit(x = training_set, validation_data = test_set, epochs = 15)"
      ],
      "outputs": [
        {
          "output_type": "stream",
          "name": "stdout",
          "text": [
            "Epoch 1/15\n",
            "375/375 [==============================] - 204s 543ms/step - loss: 0.6407 - accuracy: 0.6667 - val_loss: 0.7385 - val_accuracy: 0.5000\n",
            "Epoch 2/15\n",
            "375/375 [==============================] - 203s 541ms/step - loss: 0.6384 - accuracy: 0.6667 - val_loss: 0.7293 - val_accuracy: 0.5000\n",
            "Epoch 3/15\n",
            "375/375 [==============================] - 198s 526ms/step - loss: 0.6388 - accuracy: 0.6667 - val_loss: 0.7385 - val_accuracy: 0.5000\n",
            "Epoch 4/15\n",
            "375/375 [==============================] - 188s 501ms/step - loss: 0.6386 - accuracy: 0.6667 - val_loss: 0.7598 - val_accuracy: 0.5000\n",
            "Epoch 5/15\n",
            "375/375 [==============================] - 189s 503ms/step - loss: 0.6389 - accuracy: 0.6667 - val_loss: 0.7513 - val_accuracy: 0.5000\n",
            "Epoch 6/15\n",
            "375/375 [==============================] - 188s 502ms/step - loss: 0.6386 - accuracy: 0.6667 - val_loss: 0.7367 - val_accuracy: 0.5000\n",
            "Epoch 7/15\n",
            "375/375 [==============================] - 188s 502ms/step - loss: 0.6383 - accuracy: 0.6667 - val_loss: 0.7313 - val_accuracy: 0.5000\n",
            "Epoch 8/15\n",
            "375/375 [==============================] - 188s 502ms/step - loss: 0.6385 - accuracy: 0.6667 - val_loss: 0.7482 - val_accuracy: 0.5000\n",
            "Epoch 9/15\n",
            "375/375 [==============================] - 190s 506ms/step - loss: 0.6385 - accuracy: 0.6667 - val_loss: 0.7871 - val_accuracy: 0.5000\n",
            "Epoch 10/15\n",
            "375/375 [==============================] - 189s 504ms/step - loss: 0.6383 - accuracy: 0.6667 - val_loss: 0.7605 - val_accuracy: 0.5000\n",
            "Epoch 11/15\n",
            "375/375 [==============================] - 188s 502ms/step - loss: 0.6390 - accuracy: 0.6667 - val_loss: 0.7306 - val_accuracy: 0.5000\n",
            "Epoch 12/15\n",
            "375/375 [==============================] - 189s 504ms/step - loss: 0.6382 - accuracy: 0.6667 - val_loss: 0.7557 - val_accuracy: 0.5000\n",
            "Epoch 13/15\n",
            "375/375 [==============================] - 190s 506ms/step - loss: 0.6384 - accuracy: 0.6667 - val_loss: 0.7400 - val_accuracy: 0.5000\n",
            "Epoch 14/15\n",
            "375/375 [==============================] - 191s 510ms/step - loss: 0.6389 - accuracy: 0.6667 - val_loss: 0.7718 - val_accuracy: 0.5000\n",
            "Epoch 15/15\n",
            "375/375 [==============================] - 192s 512ms/step - loss: 0.6381 - accuracy: 0.6667 - val_loss: 0.7587 - val_accuracy: 0.5000\n"
          ]
        }
      ],
      "metadata": {
        "id": "XUj1W4PJptta",
        "colab": {
          "base_uri": "https://localhost:8080/"
        },
        "outputId": "ce888e38-0cba-4499-dab3-6a8b3ff27b37"
      }
    },
    {
      "cell_type": "markdown",
      "source": [
        "## Part 4 - Plotando alguns gráficos"
      ],
      "metadata": {
        "id": "eEJwDXHVgraU"
      }
    },
    {
      "cell_type": "code",
      "execution_count": 63,
      "source": [
        "# Treino e teste - loss\r\n",
        "plt.figure()\r\n",
        "plt.plot(a.history['loss'],'b*',)\r\n",
        "plt.plot(a.history['val_loss'],'g')\r\n",
        "plt.title('modelo de loss - batch size = '+str(32))\r\n",
        "plt.ylabel('Loss')\r\n",
        "plt.xlabel('Época')\r\n",
        "plt.legend(['train', 'test'], loc='upper left')"
      ],
      "outputs": [
        {
          "output_type": "execute_result",
          "data": {
            "text/plain": [
              "<matplotlib.legend.Legend at 0x7f90b9113bd0>"
            ]
          },
          "metadata": {},
          "execution_count": 63
        },
        {
          "output_type": "display_data",
          "data": {
            "text/plain": [
              "<Figure size 432x288 with 1 Axes>"
            ],
            "image/png": "[encoded data removed]"
          },
          "metadata": {
            "needs_background": "light"
          }
        }
      ],
      "metadata": {
        "colab": {
          "base_uri": "https://localhost:8080/",
          "height": 314
        },
        "id": "qZMWO_FrgMWZ",
        "outputId": "c1c3065d-e399-458c-88ff-ee417ee77cd7"
      }
    },
    {
      "cell_type": "code",
      "execution_count": 66,
      "source": [
        "# Treino e teste - acurácia\r\n",
        "plt.figure()\r\n",
        "plt.plot(a.history['accuracy'],'b*',)\r\n",
        "plt.plot(a.history['val_accuracy'],'g')\r\n",
        "plt.title('modelo de acurácia - batch size = '+str(32))\r\n",
        "plt.xlabel('Época')\r\n",
        "plt.legend(['train', 'test'], loc='upper left')"
      ],
      "outputs": [
        {
          "output_type": "execute_result",
          "data": {
            "text/plain": [
              "<matplotlib.legend.Legend at 0x7f90b8f82fd0>"
            ]
          },
          "metadata": {},
          "execution_count": 66
        },
        {
          "output_type": "display_data",
          "data": {
            "text/plain": [
              "<Figure size 432x288 with 1 Axes>"
            ],
            "image/png": "[encoded data removed]"
          },
          "metadata": {
            "needs_background": "light"
          }
        }
      ],
      "metadata": {
        "colab": {
          "base_uri": "https://localhost:8080/",
          "height": 314
        },
        "id": "BMYlStwLg4Hj",
        "outputId": "1264938c-c6d5-4222-ad86-7aa9ee581678"
      }
    },
    {
      "cell_type": "markdown",
      "source": [
        "\n",
        "## Part 5 - Making a single prediction"
      ],
      "metadata": {
        "id": "U3PZasO0006Z"
      }
    },
    {
      "cell_type": "code",
      "execution_count": 67,
      "source": [
        "import numpy as np\r\n",
        "from keras.preprocessing import image\r\n",
        "test_image = image.load_img('dataset/single_prediction/cat_or_dog_1.jpg', target_size = (64, 64))\r\n",
        "test_image = image.img_to_array(test_image)\r\n",
        "test_image = np.expand_dims(test_image, axis = 0)\r\n",
        "result = cnn.predict(test_image)\r\n",
        "training_set.class_indices\r\n",
        "if result[0][0] == 1:\r\n",
        "  prediction = 'dog'\r\n",
        "else:\r\n",
        "  prediction = 'cat'"
      ],
      "outputs": [
        {
          "output_type": "stream",
          "name": "stderr",
          "text": [
            "Exception ignored in: <function IteratorResourceDeleter.__del__ at 0x7f90d79a4560>\n",
            "Traceback (most recent call last):\n",
            "  File \"/usr/local/lib/python3.7/dist-packages/tensorflow/python/data/ops/iterator_ops.py\", line 546, in __del__\n",
            "    handle=self._handle, deleter=self._deleter)\n",
            "  File \"/usr/local/lib/python3.7/dist-packages/tensorflow/python/ops/gen_dataset_ops.py\", line 1264, in delete_iterator\n",
            "    _ctx, \"DeleteIterator\", name, handle, deleter)\n",
            "KeyboardInterrupt: \n"
          ]
        }
      ],
      "metadata": {
        "id": "gsSiWEJY1BPB",
        "colab": {
          "base_uri": "https://localhost:8080/"
        },
        "outputId": "50751a7d-c784-4b5c-8cfd-8b8c9db08267"
      }
    },
    {
      "cell_type": "code",
      "execution_count": 68,
      "source": [
        "print(prediction)   "
      ],
      "outputs": [
        {
          "output_type": "stream",
          "name": "stdout",
          "text": [
            "dog\n"
          ]
        }
      ],
      "metadata": {
        "id": "ED9KB3I54c1i",
        "colab": {
          "base_uri": "https://localhost:8080/"
        },
        "outputId": "c48e8ace-51a6-4ead-c832-117adde8d501"
      }
    },
    {
      "cell_type": "code",
      "execution_count": 70,
      "source": [
        "aa = image.load_img('dataset/single_prediction/cat_or_dog_1.jpg', target_size = (64, 64))\r\n",
        "plt.imshow(aa)\r\n",
        "plt.show()"
      ],
      "outputs": [
        {
          "output_type": "display_data",
          "data": {
            "text/plain": [
              "<Figure size 432x288 with 1 Axes>"
            ],
            "image/png": "[encoded data removed]"
          },
          "metadata": {
            "needs_background": "light"
          }
        }
      ],
      "metadata": {
        "colab": {
          "base_uri": "https://localhost:8080/",
          "height": 268
        },
        "id": "YukeF1zghjqh",
        "outputId": "c172651c-70e6-42b8-d799-453585ae9d7f"
      }
    },
    {
      "cell_type": "markdown",
      "source": [
        "## Fim.\r\n"
      ],
      "metadata": {
        "id": "-KXL0o4Gri4v"
      }
    }
  ]
}