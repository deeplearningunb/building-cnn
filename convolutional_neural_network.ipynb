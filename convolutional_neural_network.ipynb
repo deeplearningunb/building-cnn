{
 "cells": [
  {
   "cell_type": "markdown",
   "metadata": {
    "colab_type": "text",
    "id": "3DR-eO17geWu"
   },
   "source": [
    "# Convolutional Neural Network\n",
    "\n",
    "* Estudante: Welison Lucas Almeida Regis\n",
    "* Matrícula: 17/0024121"
   ]
  },
  {
   "cell_type": "markdown",
   "metadata": {},
   "source": [
    "## Mudanças implementadas\n",
    "\n",
    "* Alteração na dimensão dos dados de entrada: `input_shape=[128,128,3]`.\n",
    "* Adição de novas camadas com funções de ativação 'relu'.\n",
    "* Redução de overfitting através de Dropouts.\n",
    "* Armazenamento do modelo em formato \".h5\"."
   ]
  },
  {
   "cell_type": "markdown",
   "metadata": {
    "colab_type": "text",
    "id": "EMefrVPCg-60"
   },
   "source": [
    "### Importing the libraries"
   ]
  },
  {
   "cell_type": "code",
   "execution_count": 1,
   "metadata": {},
   "outputs": [
    {
     "name": "stdout",
     "output_type": "stream",
     "text": [
      "Collecting tensorflow\n",
      "  Downloading tensorflow-2.3.1-cp38-cp38-manylinux2010_x86_64.whl (320.5 MB)\n",
      "\u001b[K     |████████████████████████████████| 320.5 MB 3.4 kB/s eta 0:00:010\n",
      "\u001b[?25hRequirement already up-to-date: keras in /home/welison/.local/lib/python3.8/site-packages (2.4.3)\n",
      "Requirement already up-to-date: Pillow in /home/welison/anaconda3/lib/python3.8/site-packages (7.2.0)\n",
      "Requirement already satisfied, skipping upgrade: wrapt>=1.11.1 in /home/welison/.local/lib/python3.8/site-packages (from tensorflow) (1.12.1)\n",
      "Requirement already satisfied, skipping upgrade: astunparse==1.6.3 in /home/welison/.local/lib/python3.8/site-packages (from tensorflow) (1.6.3)\n",
      "Requirement already satisfied, skipping upgrade: google-pasta>=0.1.8 in /home/welison/.local/lib/python3.8/site-packages (from tensorflow) (0.2.0)\n",
      "Requirement already satisfied, skipping upgrade: opt-einsum>=2.3.2 in /home/welison/.local/lib/python3.8/site-packages (from tensorflow) (3.3.0)\n",
      "Requirement already satisfied, skipping upgrade: tensorboard<3,>=2.3.0 in /home/welison/.local/lib/python3.8/site-packages (from tensorflow) (2.3.0)\n",
      "Requirement already satisfied, skipping upgrade: keras-preprocessing<1.2,>=1.1.1 in /home/welison/.local/lib/python3.8/site-packages (from tensorflow) (1.1.2)\n",
      "Requirement already satisfied, skipping upgrade: protobuf>=3.9.2 in /home/welison/.local/lib/python3.8/site-packages (from tensorflow) (3.13.0)\n",
      "Requirement already satisfied, skipping upgrade: tensorflow-estimator<2.4.0,>=2.3.0 in /home/welison/.local/lib/python3.8/site-packages (from tensorflow) (2.3.0)\n",
      "Requirement already satisfied, skipping upgrade: wheel>=0.26 in /home/welison/anaconda3/lib/python3.8/site-packages (from tensorflow) (0.34.2)\n",
      "Requirement already satisfied, skipping upgrade: gast==0.3.3 in /home/welison/.local/lib/python3.8/site-packages (from tensorflow) (0.3.3)\n",
      "Collecting numpy<1.19.0,>=1.16.0\n",
      "  Using cached numpy-1.18.5-cp38-cp38-manylinux1_x86_64.whl (20.6 MB)\n",
      "Requirement already satisfied, skipping upgrade: h5py<2.11.0,>=2.10.0 in /home/welison/.local/lib/python3.8/site-packages (from tensorflow) (2.10.0)\n",
      "Requirement already satisfied, skipping upgrade: grpcio>=1.8.6 in /home/welison/.local/lib/python3.8/site-packages (from tensorflow) (1.31.0)\n",
      "Requirement already satisfied, skipping upgrade: absl-py>=0.7.0 in /home/welison/.local/lib/python3.8/site-packages (from tensorflow) (0.10.0)\n",
      "Requirement already satisfied, skipping upgrade: six>=1.12.0 in /home/welison/anaconda3/lib/python3.8/site-packages (from tensorflow) (1.15.0)\n",
      "Requirement already satisfied, skipping upgrade: termcolor>=1.1.0 in /home/welison/.local/lib/python3.8/site-packages (from tensorflow) (1.1.0)\n",
      "Requirement already satisfied, skipping upgrade: pyyaml in /home/welison/anaconda3/lib/python3.8/site-packages (from keras) (5.3.1)\n",
      "Requirement already satisfied, skipping upgrade: scipy>=0.14 in /home/welison/.local/lib/python3.8/site-packages (from keras) (1.4.1)\n",
      "Requirement already satisfied, skipping upgrade: markdown>=2.6.8 in /home/welison/anaconda3/lib/python3.8/site-packages (from tensorboard<3,>=2.3.0->tensorflow) (3.2.2)\n",
      "Requirement already satisfied, skipping upgrade: setuptools>=41.0.0 in /home/welison/anaconda3/lib/python3.8/site-packages (from tensorboard<3,>=2.3.0->tensorflow) (49.2.0.post20200714)\n",
      "Requirement already satisfied, skipping upgrade: tensorboard-plugin-wit>=1.6.0 in /home/welison/.local/lib/python3.8/site-packages (from tensorboard<3,>=2.3.0->tensorflow) (1.7.0)\n",
      "Requirement already satisfied, skipping upgrade: werkzeug>=0.11.15 in /home/welison/anaconda3/lib/python3.8/site-packages (from tensorboard<3,>=2.3.0->tensorflow) (1.0.1)\n",
      "Requirement already satisfied, skipping upgrade: google-auth-oauthlib<0.5,>=0.4.1 in /home/welison/.local/lib/python3.8/site-packages (from tensorboard<3,>=2.3.0->tensorflow) (0.4.1)\n",
      "Requirement already satisfied, skipping upgrade: requests<3,>=2.21.0 in /home/welison/anaconda3/lib/python3.8/site-packages (from tensorboard<3,>=2.3.0->tensorflow) (2.24.0)\n",
      "Requirement already satisfied, skipping upgrade: google-auth<2,>=1.6.3 in /home/welison/.local/lib/python3.8/site-packages (from tensorboard<3,>=2.3.0->tensorflow) (1.21.1)\n",
      "Requirement already satisfied, skipping upgrade: requests-oauthlib>=0.7.0 in /home/welison/.local/lib/python3.8/site-packages (from google-auth-oauthlib<0.5,>=0.4.1->tensorboard<3,>=2.3.0->tensorflow) (1.3.0)\n",
      "Requirement already satisfied, skipping upgrade: idna<3,>=2.5 in /home/welison/anaconda3/lib/python3.8/site-packages (from requests<3,>=2.21.0->tensorboard<3,>=2.3.0->tensorflow) (2.10)\n",
      "Requirement already satisfied, skipping upgrade: certifi>=2017.4.17 in /home/welison/.local/lib/python3.8/site-packages (from requests<3,>=2.21.0->tensorboard<3,>=2.3.0->tensorflow) (2020.6.20)\n",
      "Requirement already satisfied, skipping upgrade: chardet<4,>=3.0.2 in /home/welison/anaconda3/lib/python3.8/site-packages (from requests<3,>=2.21.0->tensorboard<3,>=2.3.0->tensorflow) (3.0.4)\n",
      "Requirement already satisfied, skipping upgrade: urllib3!=1.25.0,!=1.25.1,<1.26,>=1.21.1 in /home/welison/anaconda3/lib/python3.8/site-packages (from requests<3,>=2.21.0->tensorboard<3,>=2.3.0->tensorflow) (1.25.9)\n",
      "Requirement already satisfied, skipping upgrade: pyasn1-modules>=0.2.1 in /home/welison/.local/lib/python3.8/site-packages (from google-auth<2,>=1.6.3->tensorboard<3,>=2.3.0->tensorflow) (0.2.8)\n",
      "Requirement already satisfied, skipping upgrade: cachetools<5.0,>=2.0.0 in /home/welison/.local/lib/python3.8/site-packages (from google-auth<2,>=1.6.3->tensorboard<3,>=2.3.0->tensorflow) (4.1.1)\n",
      "Requirement already satisfied, skipping upgrade: rsa<5,>=3.1.4; python_version >= \"3.5\" in /home/welison/.local/lib/python3.8/site-packages (from google-auth<2,>=1.6.3->tensorboard<3,>=2.3.0->tensorflow) (4.6)\n",
      "Requirement already satisfied, skipping upgrade: oauthlib>=3.0.0 in /home/welison/anaconda3/lib/python3.8/site-packages (from requests-oauthlib>=0.7.0->google-auth-oauthlib<0.5,>=0.4.1->tensorboard<3,>=2.3.0->tensorflow) (3.1.0)\n",
      "Requirement already satisfied, skipping upgrade: pyasn1<0.5.0,>=0.4.6 in /home/welison/.local/lib/python3.8/site-packages (from pyasn1-modules>=0.2.1->google-auth<2,>=1.6.3->tensorboard<3,>=2.3.0->tensorflow) (0.4.8)\n",
      "Installing collected packages: numpy, tensorflow\n",
      "  Attempting uninstall: numpy\n",
      "    Found existing installation: numpy 1.19.2\n",
      "    Uninstalling numpy-1.19.2:\n",
      "      Successfully uninstalled numpy-1.19.2\n",
      "  Attempting uninstall: tensorflow\n",
      "    Found existing installation: tensorflow 2.3.0\n",
      "    Uninstalling tensorflow-2.3.0:\n",
      "      Successfully uninstalled tensorflow-2.3.0\n",
      "Successfully installed numpy-1.18.5 tensorflow-2.3.1\n"
     ]
    }
   ],
   "source": [
    "!pip install --upgrade tensorflow keras Pillow"
   ]
  },
  {
   "cell_type": "code",
   "execution_count": 1,
   "metadata": {
    "colab": {},
    "colab_type": "code",
    "id": "sCV30xyVhFbE"
   },
   "outputs": [],
   "source": [
    "import tensorflow as tf\n",
    "from keras.preprocessing.image import ImageDataGenerator"
   ]
  },
  {
   "cell_type": "code",
   "execution_count": 2,
   "metadata": {
    "colab": {},
    "colab_type": "code",
    "id": "FIleuCAjoFD8"
   },
   "outputs": [
    {
     "data": {
      "text/plain": [
       "'2.3.1'"
      ]
     },
     "execution_count": 2,
     "metadata": {},
     "output_type": "execute_result"
    }
   ],
   "source": [
    "tf.__version__"
   ]
  },
  {
   "cell_type": "markdown",
   "metadata": {
    "colab_type": "text",
    "id": "oxQxCBWyoGPE"
   },
   "source": [
    "## Part 1 - Data Preprocessing"
   ]
  },
  {
   "cell_type": "markdown",
   "metadata": {
    "colab_type": "text",
    "id": "MvE-heJNo3GG"
   },
   "source": [
    "### Preprocessing the Training set"
   ]
  },
  {
   "cell_type": "code",
   "execution_count": 3,
   "metadata": {
    "colab": {},
    "colab_type": "code",
    "id": "0koUcJMJpEBD"
   },
   "outputs": [
    {
     "name": "stdout",
     "output_type": "stream",
     "text": [
      "Found 8000 images belonging to 2 classes.\n"
     ]
    }
   ],
   "source": [
    "train_datagen = ImageDataGenerator(rescale = 1./255,\n",
    "                                   shear_range = 0.2,\n",
    "                                   zoom_range = 0.2,\n",
    "                                   horizontal_flip = True)\n",
    "training_set = train_datagen.flow_from_directory('dataset/training_set',\n",
    "                                                 target_size = (128, 128),\n",
    "                                                 batch_size = 32,\n",
    "                                                 class_mode = 'binary')"
   ]
  },
  {
   "cell_type": "markdown",
   "metadata": {
    "colab_type": "text",
    "id": "mrCMmGw9pHys"
   },
   "source": [
    "### Preprocessing the Test set"
   ]
  },
  {
   "cell_type": "code",
   "execution_count": 4,
   "metadata": {
    "colab": {},
    "colab_type": "code",
    "id": "SH4WzfOhpKc3"
   },
   "outputs": [
    {
     "name": "stdout",
     "output_type": "stream",
     "text": [
      "Found 2000 images belonging to 2 classes.\n"
     ]
    }
   ],
   "source": [
    "test_datagen = ImageDataGenerator(rescale = 1./255)\n",
    "test_set = test_datagen.flow_from_directory('dataset/test_set',\n",
    "                                            target_size = (128, 128),\n",
    "                                            batch_size = 32,\n",
    "                                            class_mode = 'binary')"
   ]
  },
  {
   "cell_type": "markdown",
   "metadata": {
    "colab_type": "text",
    "id": "af8O4l90gk7B"
   },
   "source": [
    "## Part 2 - Building the CNN"
   ]
  },
  {
   "cell_type": "markdown",
   "metadata": {
    "colab_type": "text",
    "id": "ces1gXY2lmoX"
   },
   "source": [
    "### Initialising the CNN"
   ]
  },
  {
   "cell_type": "code",
   "execution_count": 5,
   "metadata": {
    "colab": {},
    "colab_type": "code",
    "id": "SAUt4UMPlhLS"
   },
   "outputs": [],
   "source": [
    "cnn = tf.keras.models.Sequential()"
   ]
  },
  {
   "cell_type": "markdown",
   "metadata": {
    "colab_type": "text",
    "id": "u5YJj_XMl5LF"
   },
   "source": [
    "### Adding layers to CNN"
   ]
  },
  {
   "cell_type": "code",
   "execution_count": 6,
   "metadata": {
    "colab": {},
    "colab_type": "code",
    "id": "XPzPrMckl-hV"
   },
   "outputs": [],
   "source": [
    "cnn.add(tf.keras.layers.Conv2D(filters=32, kernel_size=3, activation='relu', input_shape=[128, 128, 3]))\n",
    "cnn.add(tf.keras.layers.MaxPool2D(pool_size=2, strides=2))\n",
    "cnn.add(tf.keras.layers.Dropout(0.25))\n",
    "\n",
    "cnn.add(tf.keras.layers.Conv2D(filters=64, kernel_size=3, activation='relu'))\n",
    "cnn.add(tf.keras.layers.MaxPool2D(pool_size=2, strides=2))\n",
    "cnn.add(tf.keras.layers.Dropout(0.25))\n",
    "\n",
    "cnn.add(tf.keras.layers.Conv2D(filters=128, kernel_size=3, activation='relu'))\n",
    "cnn.add(tf.keras.layers.MaxPool2D(pool_size=2, strides=2))\n",
    "cnn.add(tf.keras.layers.Dropout(0.25))\n",
    "\n",
    "cnn.add(tf.keras.layers.Flatten())\n",
    "cnn.add(tf.keras.layers.Dense(units=256, activation='relu'))\n",
    "cnn.add(tf.keras.layers.Dropout(0.5))"
   ]
  },
  {
   "cell_type": "markdown",
   "metadata": {
    "colab_type": "text",
    "id": "yTldFvbX28Na"
   },
   "source": [
    "### Output Layer"
   ]
  },
  {
   "cell_type": "code",
   "execution_count": 7,
   "metadata": {
    "colab": {},
    "colab_type": "code",
    "id": "1p_Zj1Mc3Ko_"
   },
   "outputs": [],
   "source": [
    "cnn.add(tf.keras.layers.Dense(units=1, activation='sigmoid'))"
   ]
  },
  {
   "cell_type": "markdown",
   "metadata": {
    "colab_type": "text",
    "id": "D6XkI90snSDl"
   },
   "source": [
    "## Part 3 - Training the CNN"
   ]
  },
  {
   "cell_type": "markdown",
   "metadata": {
    "colab_type": "text",
    "id": "vfrFQACEnc6i"
   },
   "source": [
    "### Compiling the CNN"
   ]
  },
  {
   "cell_type": "code",
   "execution_count": 8,
   "metadata": {
    "colab": {},
    "colab_type": "code",
    "id": "NALksrNQpUlJ"
   },
   "outputs": [],
   "source": [
    "cnn.compile(optimizer = 'adam', loss = 'binary_crossentropy', metrics = ['accuracy'])"
   ]
  },
  {
   "cell_type": "markdown",
   "metadata": {
    "colab_type": "text",
    "id": "ehS-v3MIpX2h"
   },
   "source": [
    "### Training the CNN on the Training set and evaluating it on the Test set"
   ]
  },
  {
   "cell_type": "code",
   "execution_count": 9,
   "metadata": {
    "colab": {},
    "colab_type": "code",
    "id": "XUj1W4PJptta"
   },
   "outputs": [
    {
     "name": "stdout",
     "output_type": "stream",
     "text": [
      "Epoch 1/30\n",
      "250/250 [==============================] - 106s 425ms/step - loss: 0.7142 - accuracy: 0.5006 - val_loss: 0.6931 - val_accuracy: 0.5045\n",
      "Epoch 2/30\n",
      "250/250 [==============================] - 115s 461ms/step - loss: 0.6907 - accuracy: 0.5297 - val_loss: 0.6828 - val_accuracy: 0.5790\n",
      "Epoch 3/30\n",
      "250/250 [==============================] - 114s 457ms/step - loss: 0.6737 - accuracy: 0.5878 - val_loss: 0.6586 - val_accuracy: 0.6050\n",
      "Epoch 4/30\n",
      "250/250 [==============================] - 114s 456ms/step - loss: 0.6542 - accuracy: 0.6331 - val_loss: 0.6311 - val_accuracy: 0.6570\n",
      "Epoch 5/30\n",
      "250/250 [==============================] - 115s 461ms/step - loss: 0.6333 - accuracy: 0.6514 - val_loss: 0.6084 - val_accuracy: 0.6815\n",
      "Epoch 6/30\n",
      "250/250 [==============================] - 114s 457ms/step - loss: 0.6036 - accuracy: 0.6720 - val_loss: 0.5479 - val_accuracy: 0.7265\n",
      "Epoch 7/30\n",
      "250/250 [==============================] - 114s 456ms/step - loss: 0.5896 - accuracy: 0.6917 - val_loss: 0.5595 - val_accuracy: 0.7270\n",
      "Epoch 8/30\n",
      "250/250 [==============================] - 115s 459ms/step - loss: 0.5480 - accuracy: 0.7240 - val_loss: 0.5116 - val_accuracy: 0.7550\n",
      "Epoch 9/30\n",
      "250/250 [==============================] - 114s 457ms/step - loss: 0.5212 - accuracy: 0.7406 - val_loss: 0.5519 - val_accuracy: 0.7205\n",
      "Epoch 10/30\n",
      "250/250 [==============================] - 114s 455ms/step - loss: 0.5058 - accuracy: 0.7514 - val_loss: 0.4705 - val_accuracy: 0.7815\n",
      "Epoch 11/30\n",
      "250/250 [==============================] - 115s 459ms/step - loss: 0.4841 - accuracy: 0.7663 - val_loss: 0.4692 - val_accuracy: 0.7870\n",
      "Epoch 12/30\n",
      "250/250 [==============================] - 114s 457ms/step - loss: 0.4765 - accuracy: 0.7680 - val_loss: 0.4736 - val_accuracy: 0.7680\n",
      "Epoch 13/30\n",
      "250/250 [==============================] - 122s 490ms/step - loss: 0.4556 - accuracy: 0.7855 - val_loss: 0.4502 - val_accuracy: 0.7970\n",
      "Epoch 14/30\n",
      "250/250 [==============================] - 133s 532ms/step - loss: 0.4487 - accuracy: 0.7914 - val_loss: 0.4237 - val_accuracy: 0.8060\n",
      "Epoch 15/30\n",
      "250/250 [==============================] - 124s 497ms/step - loss: 0.4364 - accuracy: 0.7924 - val_loss: 0.4235 - val_accuracy: 0.8015\n",
      "Epoch 16/30\n",
      "250/250 [==============================] - 185s 742ms/step - loss: 0.4151 - accuracy: 0.8070 - val_loss: 0.4431 - val_accuracy: 0.8065\n",
      "Epoch 17/30\n",
      "250/250 [==============================] - 155s 621ms/step - loss: 0.4062 - accuracy: 0.8160 - val_loss: 0.4613 - val_accuracy: 0.8025\n",
      "Epoch 18/30\n",
      "250/250 [==============================] - 127s 508ms/step - loss: 0.4030 - accuracy: 0.8150 - val_loss: 0.4004 - val_accuracy: 0.8135\n",
      "Epoch 19/30\n",
      "250/250 [==============================] - 113s 454ms/step - loss: 0.4018 - accuracy: 0.8150 - val_loss: 0.4017 - val_accuracy: 0.8220\n",
      "Epoch 20/30\n",
      "250/250 [==============================] - 114s 454ms/step - loss: 0.3816 - accuracy: 0.8240 - val_loss: 0.4377 - val_accuracy: 0.8120\n",
      "Epoch 21/30\n",
      "250/250 [==============================] - 114s 458ms/step - loss: 0.3762 - accuracy: 0.8288 - val_loss: 0.3982 - val_accuracy: 0.8245\n",
      "Epoch 22/30\n",
      "250/250 [==============================] - 113s 454ms/step - loss: 0.3810 - accuracy: 0.8331 - val_loss: 0.4110 - val_accuracy: 0.8275\n",
      "Epoch 23/30\n",
      "250/250 [==============================] - 113s 453ms/step - loss: 0.3610 - accuracy: 0.8389 - val_loss: 0.3832 - val_accuracy: 0.8355\n",
      "Epoch 24/30\n",
      "250/250 [==============================] - 114s 454ms/step - loss: 0.3576 - accuracy: 0.8401 - val_loss: 0.3851 - val_accuracy: 0.8305\n",
      "Epoch 25/30\n",
      "250/250 [==============================] - 114s 455ms/step - loss: 0.3491 - accuracy: 0.8374 - val_loss: 0.3958 - val_accuracy: 0.8355\n",
      "Epoch 26/30\n",
      "250/250 [==============================] - 114s 456ms/step - loss: 0.3382 - accuracy: 0.8490 - val_loss: 0.3944 - val_accuracy: 0.8250\n",
      "Epoch 27/30\n",
      "250/250 [==============================] - 115s 462ms/step - loss: 0.3271 - accuracy: 0.8556 - val_loss: 0.4014 - val_accuracy: 0.8380\n",
      "Epoch 28/30\n",
      "250/250 [==============================] - 121s 486ms/step - loss: 0.3234 - accuracy: 0.8619 - val_loss: 0.4046 - val_accuracy: 0.8430\n",
      "Epoch 29/30\n",
      "250/250 [==============================] - 119s 476ms/step - loss: 0.3236 - accuracy: 0.8546 - val_loss: 0.3846 - val_accuracy: 0.8465\n",
      "Epoch 30/30\n",
      "250/250 [==============================] - 114s 457ms/step - loss: 0.3283 - accuracy: 0.8584 - val_loss: 0.3645 - val_accuracy: 0.8550\n"
     ]
    },
    {
     "data": {
      "text/plain": [
       "<tensorflow.python.keras.callbacks.History at 0x7fd8396d44c0>"
      ]
     },
     "execution_count": 9,
     "metadata": {},
     "output_type": "execute_result"
    }
   ],
   "source": [
    "cnn.fit(x = training_set, validation_data = test_set, epochs = 30)"
   ]
  },
  {
   "cell_type": "markdown",
   "metadata": {
    "colab_type": "text",
    "id": "U3PZasO0006Z"
   },
   "source": [
    "## Part 4 - Making a single prediction"
   ]
  },
  {
   "cell_type": "code",
   "execution_count": 10,
   "metadata": {
    "colab": {},
    "colab_type": "code",
    "id": "gsSiWEJY1BPB"
   },
   "outputs": [],
   "source": [
    "import numpy as np\n",
    "from keras.preprocessing import image\n",
    "test_image = image.load_img('dataset/single_prediction/cat_or_dog_1.jpg', target_size = (128, 128))\n",
    "test_image = image.img_to_array(test_image)\n",
    "test_image = np.expand_dims(test_image, axis = 0)\n",
    "result = cnn.predict(test_image)\n",
    "if result[0][0] == training_set.class_indices['dogs']:\n",
    "  prediction = 'dog'\n",
    "else:\n",
    "  prediction = 'cat'"
   ]
  },
  {
   "cell_type": "code",
   "execution_count": 11,
   "metadata": {
    "colab": {},
    "colab_type": "code",
    "id": "ED9KB3I54c1i"
   },
   "outputs": [
    {
     "name": "stdout",
     "output_type": "stream",
     "text": [
      "dog\n"
     ]
    }
   ],
   "source": [
    "print(prediction)"
   ]
  },
  {
   "cell_type": "markdown",
   "metadata": {},
   "source": [
    "## Part 5 - Save model"
   ]
  },
  {
   "cell_type": "code",
   "execution_count": 12,
   "metadata": {},
   "outputs": [],
   "source": [
    "cnn.save('cats_dogs_predictor.h5')"
   ]
  },
  {
   "cell_type": "markdown",
   "metadata": {},
   "source": [
    "## Fim"
   ]
  }
 ],
 "metadata": {
  "colab": {
   "collapsed_sections": [],
   "name": "convolutional_neural_network.ipynb",
   "provenance": [],
   "toc_visible": true
  },
  "kernelspec": {
   "display_name": "Python 3",
   "language": "python",
   "name": "python3"
  },
  "language_info": {
   "codemirror_mode": {
    "name": "ipython",
    "version": 3
   },
   "file_extension": ".py",
   "mimetype": "text/x-python",
   "name": "python",
   "nbconvert_exporter": "python",
   "pygments_lexer": "ipython3",
   "version": "3.8.3"
  }
 },
 "nbformat": 4,
 "nbformat_minor": 4
}
