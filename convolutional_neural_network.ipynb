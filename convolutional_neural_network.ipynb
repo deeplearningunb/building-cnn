{
 "cells": [
  {
   "cell_type": "markdown",
   "metadata": {
    "colab_type": "text",
    "id": "3DR-eO17geWu"
   },
   "source": [
    "# Convolutional Neural Network"
   ]
  },
  {
   "cell_type": "markdown",
   "metadata": {
    "colab_type": "text",
    "id": "EMefrVPCg-60"
   },
   "source": [
    "### Importing the libraries"
   ]
  },
  {
   "cell_type": "code",
   "execution_count": 1,
   "metadata": {},
   "outputs": [
    {
     "name": "stdout",
     "output_type": "stream",
     "text": [
      "Requirement already satisfied: tensorflow in /home/ilus/DeepLearning/test/lib/python3.8/site-packages (2.6.0)\n",
      "Requirement already satisfied: keras in /home/ilus/DeepLearning/test/lib/python3.8/site-packages (2.6.0)\n",
      "Requirement already satisfied: Pillow in /home/ilus/DeepLearning/test/lib/python3.8/site-packages (8.3.1)\n",
      "Requirement already satisfied: tensorboard~=2.6 in /home/ilus/DeepLearning/test/lib/python3.8/site-packages (from tensorflow) (2.6.0)\n",
      "Requirement already satisfied: h5py~=3.1.0 in /home/ilus/DeepLearning/test/lib/python3.8/site-packages (from tensorflow) (3.1.0)\n",
      "Requirement already satisfied: tensorflow-estimator~=2.6 in /home/ilus/DeepLearning/test/lib/python3.8/site-packages (from tensorflow) (2.6.0)\n",
      "Requirement already satisfied: wrapt~=1.12.1 in /home/ilus/DeepLearning/test/lib/python3.8/site-packages (from tensorflow) (1.12.1)\n",
      "Requirement already satisfied: absl-py~=0.10 in /home/ilus/DeepLearning/test/lib/python3.8/site-packages (from tensorflow) (0.11.0)\n",
      "Requirement already satisfied: protobuf>=3.9.2 in /home/ilus/DeepLearning/test/lib/python3.8/site-packages (from tensorflow) (3.15.5)\n",
      "Requirement already satisfied: grpcio<2.0,>=1.37.0 in /home/ilus/DeepLearning/test/lib/python3.8/site-packages (from tensorflow) (1.39.0)\n",
      "Requirement already satisfied: gast==0.4.0 in /home/ilus/DeepLearning/test/lib/python3.8/site-packages (from tensorflow) (0.4.0)\n",
      "Requirement already satisfied: clang~=5.0 in /home/ilus/DeepLearning/test/lib/python3.8/site-packages (from tensorflow) (5.0)\n",
      "Requirement already satisfied: numpy~=1.19.2 in /home/ilus/DeepLearning/test/lib/python3.8/site-packages (from tensorflow) (1.19.5)\n",
      "Requirement already satisfied: opt-einsum~=3.3.0 in /home/ilus/DeepLearning/test/lib/python3.8/site-packages (from tensorflow) (3.3.0)\n",
      "Requirement already satisfied: wheel~=0.35 in /home/ilus/DeepLearning/test/lib/python3.8/site-packages (from tensorflow) (0.36.2)\n",
      "Requirement already satisfied: flatbuffers~=1.12.0 in /home/ilus/DeepLearning/test/lib/python3.8/site-packages (from tensorflow) (1.12)\n",
      "Requirement already satisfied: termcolor~=1.1.0 in /home/ilus/DeepLearning/test/lib/python3.8/site-packages (from tensorflow) (1.1.0)\n",
      "Requirement already satisfied: six~=1.15.0 in /home/ilus/DeepLearning/test/lib/python3.8/site-packages (from tensorflow) (1.15.0)\n",
      "Requirement already satisfied: keras-preprocessing~=1.1.2 in /home/ilus/DeepLearning/test/lib/python3.8/site-packages (from tensorflow) (1.1.2)\n",
      "Requirement already satisfied: astunparse~=1.6.3 in /home/ilus/DeepLearning/test/lib/python3.8/site-packages (from tensorflow) (1.6.3)\n",
      "Requirement already satisfied: google-pasta~=0.2 in /home/ilus/DeepLearning/test/lib/python3.8/site-packages (from tensorflow) (0.2.0)\n",
      "Requirement already satisfied: typing-extensions~=3.7.4 in /home/ilus/DeepLearning/test/lib/python3.8/site-packages (from tensorflow) (3.7.4.3)\n",
      "Requirement already satisfied: markdown>=2.6.8 in /home/ilus/DeepLearning/test/lib/python3.8/site-packages (from tensorboard~=2.6->tensorflow) (3.3.4)\n",
      "Requirement already satisfied: requests<3,>=2.21.0 in /home/ilus/DeepLearning/test/lib/python3.8/site-packages (from tensorboard~=2.6->tensorflow) (2.25.1)\n",
      "Requirement already satisfied: setuptools>=41.0.0 in /home/ilus/DeepLearning/test/lib/python3.8/site-packages (from tensorboard~=2.6->tensorflow) (53.0.0)\n",
      "Requirement already satisfied: google-auth<2,>=1.6.3 in /home/ilus/DeepLearning/test/lib/python3.8/site-packages (from tensorboard~=2.6->tensorflow) (1.27.1)\n",
      "Requirement already satisfied: google-auth-oauthlib<0.5,>=0.4.1 in /home/ilus/DeepLearning/test/lib/python3.8/site-packages (from tensorboard~=2.6->tensorflow) (0.4.3)\n",
      "Requirement already satisfied: werkzeug>=0.11.15 in /home/ilus/DeepLearning/test/lib/python3.8/site-packages (from tensorboard~=2.6->tensorflow) (1.0.1)\n",
      "Requirement already satisfied: tensorboard-plugin-wit>=1.6.0 in /home/ilus/DeepLearning/test/lib/python3.8/site-packages (from tensorboard~=2.6->tensorflow) (1.8.0)\n",
      "Requirement already satisfied: tensorboard-data-server<0.7.0,>=0.6.0 in /home/ilus/DeepLearning/test/lib/python3.8/site-packages (from tensorboard~=2.6->tensorflow) (0.6.1)\n",
      "Requirement already satisfied: cachetools<5.0,>=2.0.0 in /home/ilus/DeepLearning/test/lib/python3.8/site-packages (from google-auth<2,>=1.6.3->tensorboard~=2.6->tensorflow) (4.2.1)\n",
      "Requirement already satisfied: rsa<5,>=3.1.4 in /home/ilus/DeepLearning/test/lib/python3.8/site-packages (from google-auth<2,>=1.6.3->tensorboard~=2.6->tensorflow) (4.7.2)\n",
      "Requirement already satisfied: pyasn1-modules>=0.2.1 in /home/ilus/DeepLearning/test/lib/python3.8/site-packages (from google-auth<2,>=1.6.3->tensorboard~=2.6->tensorflow) (0.2.8)\n",
      "Requirement already satisfied: requests-oauthlib>=0.7.0 in /home/ilus/DeepLearning/test/lib/python3.8/site-packages (from google-auth-oauthlib<0.5,>=0.4.1->tensorboard~=2.6->tensorflow) (1.3.0)\n",
      "Requirement already satisfied: pyasn1<0.5.0,>=0.4.6 in /home/ilus/DeepLearning/test/lib/python3.8/site-packages (from pyasn1-modules>=0.2.1->google-auth<2,>=1.6.3->tensorboard~=2.6->tensorflow) (0.4.8)\n",
      "Requirement already satisfied: certifi>=2017.4.17 in /home/ilus/DeepLearning/test/lib/python3.8/site-packages (from requests<3,>=2.21.0->tensorboard~=2.6->tensorflow) (2020.12.5)\n",
      "Requirement already satisfied: urllib3<1.27,>=1.21.1 in /home/ilus/DeepLearning/test/lib/python3.8/site-packages (from requests<3,>=2.21.0->tensorboard~=2.6->tensorflow) (1.26.3)\n",
      "Requirement already satisfied: idna<3,>=2.5 in /home/ilus/DeepLearning/test/lib/python3.8/site-packages (from requests<3,>=2.21.0->tensorboard~=2.6->tensorflow) (2.10)\n",
      "Requirement already satisfied: chardet<5,>=3.0.2 in /home/ilus/DeepLearning/test/lib/python3.8/site-packages (from requests<3,>=2.21.0->tensorboard~=2.6->tensorflow) (4.0.0)\n",
      "Requirement already satisfied: oauthlib>=3.0.0 in /home/ilus/DeepLearning/test/lib/python3.8/site-packages (from requests-oauthlib>=0.7.0->google-auth-oauthlib<0.5,>=0.4.1->tensorboard~=2.6->tensorflow) (3.1.0)\n",
      "\u001b[33mWARNING: You are using pip version 21.0.1; however, version 21.2.4 is available.\n",
      "You should consider upgrading via the '/home/ilus/DeepLearning/test/bin/python -m pip install --upgrade pip' command.\u001b[0m\n"
     ]
    }
   ],
   "source": [
    "!pip install --upgrade tensorflow keras Pillow"
   ]
  },
  {
   "cell_type": "code",
   "execution_count": 2,
   "metadata": {
    "colab": {},
    "colab_type": "code",
    "id": "sCV30xyVhFbE"
   },
   "outputs": [],
   "source": [
    "import tensorflow as tf\n",
    "from keras.preprocessing.image import ImageDataGenerator"
   ]
  },
  {
   "cell_type": "code",
   "execution_count": 3,
   "metadata": {
    "colab": {},
    "colab_type": "code",
    "id": "FIleuCAjoFD8"
   },
   "outputs": [
    {
     "data": {
      "text/plain": [
       "'2.6.0'"
      ]
     },
     "execution_count": 3,
     "metadata": {},
     "output_type": "execute_result"
    }
   ],
   "source": [
    "tf.__version__"
   ]
  },
  {
   "cell_type": "markdown",
   "metadata": {
    "colab_type": "text",
    "id": "oxQxCBWyoGPE"
   },
   "source": [
    "## Part 1 - Data Preprocessing"
   ]
  },
  {
   "cell_type": "markdown",
   "metadata": {
    "colab_type": "text",
    "id": "MvE-heJNo3GG"
   },
   "source": [
    "### Preprocessing the Training set"
   ]
  },
  {
   "cell_type": "code",
   "execution_count": 4,
   "metadata": {
    "colab": {},
    "colab_type": "code",
    "id": "0koUcJMJpEBD"
   },
   "outputs": [
    {
     "name": "stdout",
     "output_type": "stream",
     "text": [
      "Found 8000 images belonging to 2 classes.\n"
     ]
    }
   ],
   "source": [
    "train_datagen = ImageDataGenerator(rescale = 1./128,\n",
    "                                   shear_range = 0.2,\n",
    "                                   zoom_range = 0.2,\n",
    "                                   horizontal_flip = True)\n",
    "training_set = train_datagen.flow_from_directory('dataset/training_set',\n",
    "                                                 target_size = (128, 128),\n",
    "                                                 batch_size = 32,\n",
    "                                                 class_mode = 'binary')"
   ]
  },
  {
   "cell_type": "markdown",
   "metadata": {
    "colab_type": "text",
    "id": "mrCMmGw9pHys"
   },
   "source": [
    "### Preprocessing the Test set"
   ]
  },
  {
   "cell_type": "code",
   "execution_count": 5,
   "metadata": {
    "colab": {},
    "colab_type": "code",
    "id": "SH4WzfOhpKc3"
   },
   "outputs": [
    {
     "name": "stdout",
     "output_type": "stream",
     "text": [
      "Found 2000 images belonging to 2 classes.\n"
     ]
    }
   ],
   "source": [
    "test_datagen = ImageDataGenerator(rescale = 1./128)\n",
    "test_set = test_datagen.flow_from_directory('dataset/test_set',\n",
    "                                            target_size = (128, 128),\n",
    "                                            batch_size = 32,\n",
    "                                            class_mode = 'binary')"
   ]
  },
  {
   "cell_type": "markdown",
   "metadata": {
    "colab_type": "text",
    "id": "af8O4l90gk7B"
   },
   "source": [
    "## Part 2 - Building the CNN"
   ]
  },
  {
   "cell_type": "markdown",
   "metadata": {
    "colab_type": "text",
    "id": "ces1gXY2lmoX"
   },
   "source": [
    "### Initialising the CNN"
   ]
  },
  {
   "cell_type": "code",
   "execution_count": 6,
   "metadata": {
    "colab": {},
    "colab_type": "code",
    "id": "SAUt4UMPlhLS"
   },
   "outputs": [],
   "source": [
    "cnn = tf.keras.models.Sequential()"
   ]
  },
  {
   "cell_type": "markdown",
   "metadata": {
    "colab_type": "text",
    "id": "u5YJj_XMl5LF"
   },
   "source": [
    "### Step 1 - Convolution"
   ]
  },
  {
   "cell_type": "code",
   "execution_count": 7,
   "metadata": {
    "colab": {},
    "colab_type": "code",
    "id": "XPzPrMckl-hV"
   },
   "outputs": [],
   "source": [
    "cnn.add(tf.keras.layers.Conv2D(filters=32, kernel_size=3, activation='relu', input_shape=[128, 128, 3]))"
   ]
  },
  {
   "cell_type": "markdown",
   "metadata": {
    "colab_type": "text",
    "id": "tf87FpvxmNOJ"
   },
   "source": [
    "### Step 2 - Pooling"
   ]
  },
  {
   "cell_type": "code",
   "execution_count": 8,
   "metadata": {
    "colab": {},
    "colab_type": "code",
    "id": "ncpqPl69mOac"
   },
   "outputs": [],
   "source": [
    "cnn.add(tf.keras.layers.MaxPool2D(pool_size=2, strides=2))"
   ]
  },
  {
   "cell_type": "markdown",
   "metadata": {
    "colab_type": "text",
    "id": "xaTOgD8rm4mU"
   },
   "source": [
    "### Adding a second convolutional layer"
   ]
  },
  {
   "cell_type": "code",
   "execution_count": 9,
   "metadata": {
    "colab": {},
    "colab_type": "code",
    "id": "i_-FZjn_m8gk"
   },
   "outputs": [],
   "source": [
    "cnn.add(tf.keras.layers.Conv2D(filters=32, kernel_size=3, activation='relu'))\n",
    "cnn.add(tf.keras.layers.MaxPool2D(pool_size=2, strides=2))"
   ]
  },
  {
   "cell_type": "markdown",
   "metadata": {
    "colab_type": "text",
    "id": "tmiEuvTunKfk"
   },
   "source": [
    "### Step 3 - Flattening"
   ]
  },
  {
   "cell_type": "code",
   "execution_count": 10,
   "metadata": {
    "colab": {},
    "colab_type": "code",
    "id": "6AZeOGCvnNZn"
   },
   "outputs": [],
   "source": [
    "cnn.add(tf.keras.layers.Flatten())"
   ]
  },
  {
   "cell_type": "markdown",
   "metadata": {
    "colab_type": "text",
    "id": "dAoSECOm203v"
   },
   "source": [
    "### Step 4 - Full Connection"
   ]
  },
  {
   "cell_type": "code",
   "execution_count": 11,
   "metadata": {},
   "outputs": [],
   "source": [
    "cnn.add(tf.keras.layers.Dense(units=128, activation='relu'))"
   ]
  },
  {
   "cell_type": "markdown",
   "metadata": {
    "colab_type": "text",
    "id": "yTldFvbX28Na"
   },
   "source": [
    "### Step 5 - Output Layer"
   ]
  },
  {
   "cell_type": "code",
   "execution_count": 12,
   "metadata": {
    "colab": {},
    "colab_type": "code",
    "id": "1p_Zj1Mc3Ko_"
   },
   "outputs": [],
   "source": [
    "cnn.add(tf.keras.layers.Dense(units=1, activation='sigmoid'))"
   ]
  },
  {
   "cell_type": "markdown",
   "metadata": {
    "colab_type": "text",
    "id": "D6XkI90snSDl"
   },
   "source": [
    "## Part 3 - Training the CNN"
   ]
  },
  {
   "cell_type": "markdown",
   "metadata": {
    "colab_type": "text",
    "id": "vfrFQACEnc6i"
   },
   "source": [
    "### Compiling the CNN"
   ]
  },
  {
   "cell_type": "code",
   "execution_count": 13,
   "metadata": {
    "colab": {},
    "colab_type": "code",
    "id": "NALksrNQpUlJ"
   },
   "outputs": [],
   "source": [
    "cnn.compile(optimizer = 'adam', loss = 'binary_crossentropy', metrics = ['accuracy'])"
   ]
  },
  {
   "cell_type": "markdown",
   "metadata": {
    "colab_type": "text",
    "id": "ehS-v3MIpX2h"
   },
   "source": [
    "### Training the CNN on the Training set and evaluating it on the Test set"
   ]
  },
  {
   "cell_type": "code",
   "execution_count": 14,
   "metadata": {
    "colab": {},
    "colab_type": "code",
    "id": "XUj1W4PJptta"
   },
   "outputs": [
    {
     "name": "stdout",
     "output_type": "stream",
     "text": [
      "Epoch 1/25\n",
      "250/250 [==============================] - 105s 417ms/step - loss: 0.7259 - accuracy: 0.5804 - val_loss: 0.6560 - val_accuracy: 0.6175\n",
      "Epoch 2/25\n",
      "250/250 [==============================] - 103s 410ms/step - loss: 0.6510 - accuracy: 0.6254 - val_loss: 0.6588 - val_accuracy: 0.6270\n",
      "Epoch 3/25\n",
      "250/250 [==============================] - 104s 416ms/step - loss: 0.6190 - accuracy: 0.6582 - val_loss: 0.6122 - val_accuracy: 0.6880\n",
      "Epoch 4/25\n",
      "250/250 [==============================] - 107s 427ms/step - loss: 0.5905 - accuracy: 0.6900 - val_loss: 0.5987 - val_accuracy: 0.6970\n",
      "Epoch 5/25\n",
      "250/250 [==============================] - 102s 405ms/step - loss: 0.5628 - accuracy: 0.7063 - val_loss: 0.5834 - val_accuracy: 0.7075\n",
      "Epoch 6/25\n",
      "250/250 [==============================] - 104s 413ms/step - loss: 0.5288 - accuracy: 0.7391 - val_loss: 0.5662 - val_accuracy: 0.7210\n",
      "Epoch 7/25\n",
      "250/250 [==============================] - 102s 406ms/step - loss: 0.5037 - accuracy: 0.7480 - val_loss: 0.5291 - val_accuracy: 0.7510\n",
      "Epoch 8/25\n",
      "250/250 [==============================] - 103s 413ms/step - loss: 0.4726 - accuracy: 0.7738 - val_loss: 0.5758 - val_accuracy: 0.7415\n",
      "Epoch 9/25\n",
      "250/250 [==============================] - 100s 398ms/step - loss: 0.4533 - accuracy: 0.7872 - val_loss: 0.5287 - val_accuracy: 0.7550\n",
      "Epoch 10/25\n",
      "250/250 [==============================] - 99s 394ms/step - loss: 0.4302 - accuracy: 0.8043 - val_loss: 0.5402 - val_accuracy: 0.7580\n",
      "Epoch 11/25\n",
      "250/250 [==============================] - 116s 463ms/step - loss: 0.4052 - accuracy: 0.8176 - val_loss: 0.5430 - val_accuracy: 0.7550\n",
      "Epoch 12/25\n",
      "250/250 [==============================] - 117s 466ms/step - loss: 0.3823 - accuracy: 0.8299 - val_loss: 0.5301 - val_accuracy: 0.7725\n",
      "Epoch 13/25\n",
      "250/250 [==============================] - 115s 459ms/step - loss: 0.3633 - accuracy: 0.8415 - val_loss: 0.5341 - val_accuracy: 0.7785\n",
      "Epoch 14/25\n",
      "250/250 [==============================] - 123s 492ms/step - loss: 0.3453 - accuracy: 0.8479 - val_loss: 0.5539 - val_accuracy: 0.7650\n",
      "Epoch 15/25\n",
      "250/250 [==============================] - 113s 451ms/step - loss: 0.3186 - accuracy: 0.8606 - val_loss: 0.5984 - val_accuracy: 0.7655\n",
      "Epoch 16/25\n",
      "250/250 [==============================] - 118s 470ms/step - loss: 0.2997 - accuracy: 0.8717 - val_loss: 0.6118 - val_accuracy: 0.7660\n",
      "Epoch 17/25\n",
      "250/250 [==============================] - 120s 478ms/step - loss: 0.2815 - accuracy: 0.8819 - val_loss: 0.5705 - val_accuracy: 0.7845\n",
      "Epoch 18/25\n",
      "250/250 [==============================] - 114s 454ms/step - loss: 0.2674 - accuracy: 0.8879 - val_loss: 0.6133 - val_accuracy: 0.7760\n",
      "Epoch 19/25\n",
      "250/250 [==============================] - 100s 399ms/step - loss: 0.2434 - accuracy: 0.8971 - val_loss: 0.6322 - val_accuracy: 0.7700\n",
      "Epoch 20/25\n",
      "250/250 [==============================] - 100s 401ms/step - loss: 0.2315 - accuracy: 0.9069 - val_loss: 0.6505 - val_accuracy: 0.7705\n",
      "Epoch 21/25\n",
      "250/250 [==============================] - 101s 401ms/step - loss: 0.2151 - accuracy: 0.9168 - val_loss: 0.6775 - val_accuracy: 0.7730\n",
      "Epoch 22/25\n",
      "250/250 [==============================] - 100s 400ms/step - loss: 0.2079 - accuracy: 0.9199 - val_loss: 0.7367 - val_accuracy: 0.7790\n",
      "Epoch 23/25\n",
      "250/250 [==============================] - 100s 401ms/step - loss: 0.2033 - accuracy: 0.9208 - val_loss: 0.7290 - val_accuracy: 0.7820\n",
      "Epoch 24/25\n",
      "250/250 [==============================] - 100s 398ms/step - loss: 0.1832 - accuracy: 0.9293 - val_loss: 0.7149 - val_accuracy: 0.7780\n",
      "Epoch 25/25\n",
      "250/250 [==============================] - 100s 398ms/step - loss: 0.1754 - accuracy: 0.9316 - val_loss: 0.8248 - val_accuracy: 0.7645\n"
     ]
    },
    {
     "data": {
      "text/plain": [
       "<keras.callbacks.History at 0x7f753c769d90>"
      ]
     },
     "execution_count": 14,
     "metadata": {},
     "output_type": "execute_result"
    }
   ],
   "source": [
    "cnn.fit(x = training_set, validation_data = test_set, epochs = 25)"
   ]
  },
  {
   "cell_type": "markdown",
   "metadata": {
    "colab_type": "text",
    "id": "U3PZasO0006Z"
   },
   "source": [
    "## Part 4 - Making a single prediction"
   ]
  },
  {
   "cell_type": "code",
   "execution_count": 15,
   "metadata": {
    "colab": {},
    "colab_type": "code",
    "id": "gsSiWEJY1BPB"
   },
   "outputs": [],
   "source": [
    "import numpy as np\n",
    "from keras.preprocessing import image\n",
    "test_image = image.load_img('dataset/single_prediction/cat_or_dog_2.jpg', target_size = (128, 128))\n",
    "test_image = image.img_to_array(test_image)\n",
    "test_image = np.expand_dims(test_image, axis = 0)\n",
    "result = cnn.predict(test_image)\n",
    "training_set.class_indices\n",
    "if result[0][0] == 1:\n",
    "  prediction = 'dog'\n",
    "else:\n",
    "  prediction = 'cat'"
   ]
  },
  {
   "cell_type": "code",
   "execution_count": 16,
   "metadata": {
    "colab": {},
    "colab_type": "code",
    "id": "ED9KB3I54c1i"
   },
   "outputs": [
    {
     "name": "stdout",
     "output_type": "stream",
     "text": [
      "dog\n"
     ]
    }
   ],
   "source": [
    "print(prediction)"
   ]
  },
  {
   "cell_type": "markdown",
   "metadata": {},
   "source": [
    "## Fim"
   ]
  }
 ],
 "metadata": {
  "colab": {
   "collapsed_sections": [],
   "name": "convolutional_neural_network.ipynb",
   "provenance": [],
   "toc_visible": true
  },
  "kernelspec": {
   "display_name": "Python 3",
   "language": "python",
   "name": "python3"
  },
  "language_info": {
   "codemirror_mode": {
    "name": "ipython",
    "version": 3
   },
   "file_extension": ".py",
   "mimetype": "text/x-python",
   "name": "python",
   "nbconvert_exporter": "python",
   "pygments_lexer": "ipython3",
   "version": "3.8.10"
  }
 },
 "nbformat": 4,
 "nbformat_minor": 4
}
