{
 "cells": [
  {
   "cell_type": "markdown",
   "source": [
    "# Convolutional Neural Network"
   ],
   "metadata": {
    "colab_type": "text",
    "id": "3DR-eO17geWu"
   }
  },
  {
   "cell_type": "markdown",
   "source": [
    "### Importing the libraries"
   ],
   "metadata": {
    "colab_type": "text",
    "id": "EMefrVPCg-60"
   }
  },
  {
   "cell_type": "code",
   "execution_count": 17,
   "source": [
    "#!pip install --upgrade tensorflow keras Pillow"
   ],
   "outputs": [],
   "metadata": {}
  },
  {
   "cell_type": "code",
   "execution_count": 18,
   "source": [
    "import tensorflow as tf\r\n",
    "from keras.preprocessing.image import ImageDataGenerator"
   ],
   "outputs": [],
   "metadata": {
    "colab": {},
    "colab_type": "code",
    "id": "sCV30xyVhFbE"
   }
  },
  {
   "cell_type": "code",
   "execution_count": 19,
   "source": [
    "tf.__version__"
   ],
   "outputs": [
    {
     "output_type": "execute_result",
     "data": {
      "text/plain": [
       "'2.6.0'"
      ]
     },
     "metadata": {},
     "execution_count": 19
    }
   ],
   "metadata": {
    "colab": {},
    "colab_type": "code",
    "id": "FIleuCAjoFD8"
   }
  },
  {
   "cell_type": "markdown",
   "source": [
    "## Part 1 - Data Preprocessing"
   ],
   "metadata": {
    "colab_type": "text",
    "id": "oxQxCBWyoGPE"
   }
  },
  {
   "cell_type": "markdown",
   "source": [
    "### Preprocessing the Training set"
   ],
   "metadata": {
    "colab_type": "text",
    "id": "MvE-heJNo3GG"
   }
  },
  {
   "cell_type": "code",
   "execution_count": 20,
   "source": [
    "train_datagen = ImageDataGenerator(rescale = 1./255,\r\n",
    "                                   shear_range = 0.2,\r\n",
    "                                   zoom_range = 0.2,\r\n",
    "                                   horizontal_flip = True)\r\n",
    "training_set = train_datagen.flow_from_directory('dataset/training_set',\r\n",
    "                                                 target_size = (64, 64),\r\n",
    "                                                 batch_size = 32,\r\n",
    "                                                 class_mode = 'binary')"
   ],
   "outputs": [
    {
     "output_type": "stream",
     "name": "stdout",
     "text": [
      "Found 8000 images belonging to 2 classes.\n"
     ]
    }
   ],
   "metadata": {
    "colab": {},
    "colab_type": "code",
    "id": "0koUcJMJpEBD"
   }
  },
  {
   "cell_type": "markdown",
   "source": [
    "### Preprocessing the Test set"
   ],
   "metadata": {
    "colab_type": "text",
    "id": "mrCMmGw9pHys"
   }
  },
  {
   "cell_type": "code",
   "execution_count": 21,
   "source": [
    "test_datagen = ImageDataGenerator(rescale = 1./255)\r\n",
    "test_set = test_datagen.flow_from_directory('dataset/test_set',\r\n",
    "                                            target_size = (64, 64),\r\n",
    "                                            batch_size = 32,\r\n",
    "                                            class_mode = 'binary')"
   ],
   "outputs": [
    {
     "output_type": "stream",
     "name": "stdout",
     "text": [
      "Found 2000 images belonging to 2 classes.\n"
     ]
    }
   ],
   "metadata": {
    "colab": {},
    "colab_type": "code",
    "id": "SH4WzfOhpKc3"
   }
  },
  {
   "cell_type": "markdown",
   "source": [
    "## Part 2 - Building the CNN"
   ],
   "metadata": {
    "colab_type": "text",
    "id": "af8O4l90gk7B"
   }
  },
  {
   "cell_type": "markdown",
   "source": [
    "### Initialising the CNN"
   ],
   "metadata": {
    "colab_type": "text",
    "id": "ces1gXY2lmoX"
   }
  },
  {
   "cell_type": "code",
   "execution_count": 22,
   "source": [
    "cnn = tf.keras.models.Sequential()"
   ],
   "outputs": [],
   "metadata": {
    "colab": {},
    "colab_type": "code",
    "id": "SAUt4UMPlhLS"
   }
  },
  {
   "cell_type": "markdown",
   "source": [
    "### Step 1 - Convolution"
   ],
   "metadata": {
    "colab_type": "text",
    "id": "u5YJj_XMl5LF"
   }
  },
  {
   "cell_type": "code",
   "execution_count": 23,
   "source": [
    "cnn.add(tf.keras.layers.Conv2D(filters=32, kernel_size=3, activation='tanh', input_shape=[64, 64, 3]))"
   ],
   "outputs": [],
   "metadata": {
    "colab": {},
    "colab_type": "code",
    "id": "XPzPrMckl-hV"
   }
  },
  {
   "cell_type": "markdown",
   "source": [
    "### Step 2 - Pooling"
   ],
   "metadata": {
    "colab_type": "text",
    "id": "tf87FpvxmNOJ"
   }
  },
  {
   "cell_type": "code",
   "execution_count": 24,
   "source": [
    "cnn.add(tf.keras.layers.MaxPool2D(pool_size=2, strides=2))\r\n",
    "cnn.add(tf.keras.layers.Dropout(0.1)) # Avoid some overfitting"
   ],
   "outputs": [],
   "metadata": {
    "colab": {},
    "colab_type": "code",
    "id": "ncpqPl69mOac"
   }
  },
  {
   "cell_type": "markdown",
   "source": [
    "### Adding a second convolutional layer"
   ],
   "metadata": {
    "colab_type": "text",
    "id": "xaTOgD8rm4mU"
   }
  },
  {
   "cell_type": "code",
   "execution_count": 25,
   "source": [
    "cnn.add(tf.keras.layers.Conv2D(filters=32, kernel_size=3, activation='tanh'))\r\n",
    "cnn.add(tf.keras.layers.MaxPool2D(pool_size=2, strides=2))\r\n",
    "cnn.add(tf.keras.layers.Dropout(0.1)) # Avoid some overfitting"
   ],
   "outputs": [],
   "metadata": {
    "colab": {},
    "colab_type": "code",
    "id": "i_-FZjn_m8gk"
   }
  },
  {
   "cell_type": "markdown",
   "source": [
    "### Adding a third convolutional layer"
   ],
   "metadata": {
    "colab_type": "text",
    "id": "xaTOgD8rm4mU"
   }
  },
  {
   "cell_type": "code",
   "execution_count": 26,
   "source": [
    "cnn.add(tf.keras.layers.Conv2D(filters=32, kernel_size=3, activation='tanh'))\r\n",
    "cnn.add(tf.keras.layers.MaxPool2D(pool_size=2, strides=2))\r\n",
    "cnn.add(tf.keras.layers.Dropout(0.1)) # Avoid some overfitting"
   ],
   "outputs": [],
   "metadata": {}
  },
  {
   "cell_type": "markdown",
   "source": [
    "### Step 3 - Flattening"
   ],
   "metadata": {
    "colab_type": "text",
    "id": "tmiEuvTunKfk"
   }
  },
  {
   "cell_type": "code",
   "execution_count": 27,
   "source": [
    "cnn.add(tf.keras.layers.Flatten())"
   ],
   "outputs": [],
   "metadata": {
    "colab": {},
    "colab_type": "code",
    "id": "6AZeOGCvnNZn"
   }
  },
  {
   "cell_type": "markdown",
   "source": [
    "### Step 4 - Full Connection"
   ],
   "metadata": {
    "colab_type": "text",
    "id": "dAoSECOm203v"
   }
  },
  {
   "cell_type": "code",
   "execution_count": 28,
   "source": [
    "cnn.add(tf.keras.layers.Dense(units=128, activation='tanh'))"
   ],
   "outputs": [],
   "metadata": {
    "colab": {},
    "colab_type": "code",
    "id": "8GtmUlLd26Nq"
   }
  },
  {
   "cell_type": "markdown",
   "source": [
    "### Step 5 - Output Layer"
   ],
   "metadata": {
    "colab_type": "text",
    "id": "yTldFvbX28Na"
   }
  },
  {
   "cell_type": "code",
   "execution_count": 29,
   "source": [
    "cnn.add(tf.keras.layers.Dense(units=1, activation='sigmoid'))"
   ],
   "outputs": [],
   "metadata": {
    "colab": {},
    "colab_type": "code",
    "id": "1p_Zj1Mc3Ko_"
   }
  },
  {
   "cell_type": "markdown",
   "source": [
    "## Part 3 - Training the CNN"
   ],
   "metadata": {
    "colab_type": "text",
    "id": "D6XkI90snSDl"
   }
  },
  {
   "cell_type": "markdown",
   "source": [
    "### Compiling the CNN"
   ],
   "metadata": {
    "colab_type": "text",
    "id": "vfrFQACEnc6i"
   }
  },
  {
   "cell_type": "code",
   "execution_count": 30,
   "source": [
    "cnn.compile(optimizer = 'rmsprop', loss = 'binary_crossentropy', metrics = ['accuracy'])"
   ],
   "outputs": [],
   "metadata": {
    "colab": {},
    "colab_type": "code",
    "id": "NALksrNQpUlJ"
   }
  },
  {
   "cell_type": "markdown",
   "source": [
    "### Training the CNN on the Training set and evaluating it on the Test set"
   ],
   "metadata": {
    "colab_type": "text",
    "id": "ehS-v3MIpX2h"
   }
  },
  {
   "cell_type": "code",
   "execution_count": 31,
   "source": [
    "cnn.fit(x = training_set, validation_data = test_set, epochs = 50)"
   ],
   "outputs": [
    {
     "output_type": "stream",
     "name": "stdout",
     "text": [
      "Epoch 1/50\n",
      "250/250 [==============================] - 31s 122ms/step - loss: 0.6743 - accuracy: 0.6061 - val_loss: 0.6001 - val_accuracy: 0.6825\n",
      "Epoch 2/50\n",
      "250/250 [==============================] - 30s 119ms/step - loss: 0.5902 - accuracy: 0.6875 - val_loss: 0.6138 - val_accuracy: 0.6865\n",
      "Epoch 3/50\n",
      "250/250 [==============================] - 31s 125ms/step - loss: 0.5617 - accuracy: 0.7092 - val_loss: 0.5374 - val_accuracy: 0.7250\n",
      "Epoch 4/50\n",
      "250/250 [==============================] - 33s 131ms/step - loss: 0.5426 - accuracy: 0.7236 - val_loss: 0.5136 - val_accuracy: 0.7575\n",
      "Epoch 5/50\n",
      "250/250 [==============================] - 30s 121ms/step - loss: 0.5294 - accuracy: 0.7371 - val_loss: 0.5034 - val_accuracy: 0.7565\n",
      "Epoch 6/50\n",
      "250/250 [==============================] - 30s 120ms/step - loss: 0.5171 - accuracy: 0.7426 - val_loss: 0.4895 - val_accuracy: 0.7705\n",
      "Epoch 7/50\n",
      "250/250 [==============================] - 31s 122ms/step - loss: 0.5055 - accuracy: 0.7542 - val_loss: 0.5128 - val_accuracy: 0.7450\n",
      "Epoch 8/50\n",
      "250/250 [==============================] - 32s 128ms/step - loss: 0.5030 - accuracy: 0.7525 - val_loss: 0.5002 - val_accuracy: 0.7565\n",
      "Epoch 9/50\n",
      "250/250 [==============================] - 30s 119ms/step - loss: 0.4940 - accuracy: 0.7580 - val_loss: 0.5164 - val_accuracy: 0.7465\n",
      "Epoch 10/50\n",
      "250/250 [==============================] - 30s 118ms/step - loss: 0.4873 - accuracy: 0.7656 - val_loss: 0.4744 - val_accuracy: 0.7730\n",
      "Epoch 11/50\n",
      "250/250 [==============================] - 30s 118ms/step - loss: 0.4848 - accuracy: 0.7649 - val_loss: 0.4663 - val_accuracy: 0.7790\n",
      "Epoch 12/50\n",
      "250/250 [==============================] - 30s 121ms/step - loss: 0.4771 - accuracy: 0.7750 - val_loss: 0.4945 - val_accuracy: 0.7565\n",
      "Epoch 13/50\n",
      "250/250 [==============================] - 31s 122ms/step - loss: 0.4738 - accuracy: 0.7695 - val_loss: 0.4715 - val_accuracy: 0.7755\n",
      "Epoch 14/50\n",
      "250/250 [==============================] - 30s 120ms/step - loss: 0.4651 - accuracy: 0.7770 - val_loss: 0.4573 - val_accuracy: 0.7955\n",
      "Epoch 15/50\n",
      "250/250 [==============================] - 30s 121ms/step - loss: 0.4649 - accuracy: 0.7760 - val_loss: 0.4745 - val_accuracy: 0.7760\n",
      "Epoch 16/50\n",
      "250/250 [==============================] - 30s 121ms/step - loss: 0.4501 - accuracy: 0.7818 - val_loss: 0.4558 - val_accuracy: 0.7925\n",
      "Epoch 17/50\n",
      "250/250 [==============================] - 31s 124ms/step - loss: 0.4414 - accuracy: 0.7954 - val_loss: 0.4514 - val_accuracy: 0.7945\n",
      "Epoch 18/50\n",
      "250/250 [==============================] - 30s 121ms/step - loss: 0.4423 - accuracy: 0.7918 - val_loss: 0.4631 - val_accuracy: 0.7780\n",
      "Epoch 19/50\n",
      "250/250 [==============================] - 31s 123ms/step - loss: 0.4323 - accuracy: 0.7958 - val_loss: 0.4398 - val_accuracy: 0.7940\n",
      "Epoch 20/50\n",
      "250/250 [==============================] - 32s 130ms/step - loss: 0.4231 - accuracy: 0.8061 - val_loss: 0.4430 - val_accuracy: 0.7895\n",
      "Epoch 21/50\n",
      "250/250 [==============================] - 32s 126ms/step - loss: 0.4181 - accuracy: 0.8029 - val_loss: 0.4538 - val_accuracy: 0.7965\n",
      "Epoch 22/50\n",
      "250/250 [==============================] - 31s 123ms/step - loss: 0.4174 - accuracy: 0.8074 - val_loss: 0.4280 - val_accuracy: 0.8110\n",
      "Epoch 23/50\n",
      "250/250 [==============================] - 31s 125ms/step - loss: 0.4084 - accuracy: 0.8065 - val_loss: 0.4150 - val_accuracy: 0.8135\n",
      "Epoch 24/50\n",
      "250/250 [==============================] - 31s 124ms/step - loss: 0.4028 - accuracy: 0.8130 - val_loss: 0.4266 - val_accuracy: 0.8020\n",
      "Epoch 25/50\n",
      "250/250 [==============================] - 33s 132ms/step - loss: 0.4007 - accuracy: 0.8150 - val_loss: 0.4443 - val_accuracy: 0.7985\n",
      "Epoch 26/50\n",
      "250/250 [==============================] - 30s 121ms/step - loss: 0.3869 - accuracy: 0.8260 - val_loss: 0.4460 - val_accuracy: 0.7990\n",
      "Epoch 27/50\n",
      "250/250 [==============================] - 30s 121ms/step - loss: 0.3861 - accuracy: 0.8251 - val_loss: 0.4226 - val_accuracy: 0.8095\n",
      "Epoch 28/50\n",
      "250/250 [==============================] - 30s 121ms/step - loss: 0.3718 - accuracy: 0.8350 - val_loss: 0.4079 - val_accuracy: 0.8190\n",
      "Epoch 29/50\n",
      "250/250 [==============================] - 31s 122ms/step - loss: 0.3738 - accuracy: 0.8342 - val_loss: 0.4052 - val_accuracy: 0.8170\n",
      "Epoch 30/50\n",
      "250/250 [==============================] - 31s 125ms/step - loss: 0.3710 - accuracy: 0.8300 - val_loss: 0.4016 - val_accuracy: 0.8225\n",
      "Epoch 31/50\n",
      "250/250 [==============================] - 30s 122ms/step - loss: 0.3638 - accuracy: 0.8361 - val_loss: 0.4130 - val_accuracy: 0.8240\n",
      "Epoch 32/50\n",
      "250/250 [==============================] - 30s 122ms/step - loss: 0.3638 - accuracy: 0.8331 - val_loss: 0.4077 - val_accuracy: 0.8225\n",
      "Epoch 33/50\n",
      "250/250 [==============================] - 30s 120ms/step - loss: 0.3575 - accuracy: 0.8405 - val_loss: 0.3982 - val_accuracy: 0.8245\n",
      "Epoch 34/50\n",
      "250/250 [==============================] - 30s 119ms/step - loss: 0.3417 - accuracy: 0.8456 - val_loss: 0.4025 - val_accuracy: 0.8300\n",
      "Epoch 35/50\n",
      "250/250 [==============================] - 30s 119ms/step - loss: 0.3446 - accuracy: 0.8484 - val_loss: 0.4139 - val_accuracy: 0.8085\n",
      "Epoch 36/50\n",
      "250/250 [==============================] - 29s 118ms/step - loss: 0.3353 - accuracy: 0.8514 - val_loss: 0.3962 - val_accuracy: 0.8255\n",
      "Epoch 37/50\n",
      "250/250 [==============================] - 30s 120ms/step - loss: 0.3290 - accuracy: 0.8533 - val_loss: 0.3949 - val_accuracy: 0.8230\n",
      "Epoch 38/50\n",
      "250/250 [==============================] - 31s 122ms/step - loss: 0.3296 - accuracy: 0.8529 - val_loss: 0.3945 - val_accuracy: 0.8250\n",
      "Epoch 39/50\n",
      "250/250 [==============================] - 30s 120ms/step - loss: 0.3189 - accuracy: 0.8560 - val_loss: 0.4177 - val_accuracy: 0.8135\n",
      "Epoch 40/50\n",
      "250/250 [==============================] - 30s 119ms/step - loss: 0.3094 - accuracy: 0.8652 - val_loss: 0.4423 - val_accuracy: 0.8095\n",
      "Epoch 41/50\n",
      "250/250 [==============================] - 30s 119ms/step - loss: 0.3144 - accuracy: 0.8600 - val_loss: 0.4343 - val_accuracy: 0.8110\n",
      "Epoch 42/50\n",
      "250/250 [==============================] - 31s 122ms/step - loss: 0.3072 - accuracy: 0.8619 - val_loss: 0.4724 - val_accuracy: 0.8005\n",
      "Epoch 43/50\n",
      "250/250 [==============================] - 32s 128ms/step - loss: 0.2951 - accuracy: 0.8714 - val_loss: 0.3907 - val_accuracy: 0.8365\n",
      "Epoch 44/50\n",
      "250/250 [==============================] - 32s 128ms/step - loss: 0.3064 - accuracy: 0.8664 - val_loss: 0.3984 - val_accuracy: 0.8190\n",
      "Epoch 45/50\n",
      "250/250 [==============================] - 31s 122ms/step - loss: 0.2892 - accuracy: 0.8766 - val_loss: 0.3964 - val_accuracy: 0.8275\n",
      "Epoch 46/50\n",
      "250/250 [==============================] - 30s 120ms/step - loss: 0.2940 - accuracy: 0.8761 - val_loss: 0.4193 - val_accuracy: 0.8105\n",
      "Epoch 47/50\n",
      "250/250 [==============================] - 31s 123ms/step - loss: 0.2919 - accuracy: 0.8691 - val_loss: 0.4129 - val_accuracy: 0.8290\n",
      "Epoch 48/50\n",
      "250/250 [==============================] - 30s 121ms/step - loss: 0.2821 - accuracy: 0.8786 - val_loss: 0.3931 - val_accuracy: 0.8325\n",
      "Epoch 49/50\n",
      "250/250 [==============================] - 30s 121ms/step - loss: 0.2741 - accuracy: 0.8844 - val_loss: 0.4132 - val_accuracy: 0.8250\n",
      "Epoch 50/50\n",
      "250/250 [==============================] - 30s 121ms/step - loss: 0.2836 - accuracy: 0.8791 - val_loss: 0.3867 - val_accuracy: 0.8410\n"
     ]
    },
    {
     "output_type": "execute_result",
     "data": {
      "text/plain": [
       "<keras.callbacks.History at 0x2c20e0478e0>"
      ]
     },
     "metadata": {},
     "execution_count": 31
    }
   ],
   "metadata": {
    "colab": {},
    "colab_type": "code",
    "id": "XUj1W4PJptta"
   }
  },
  {
   "cell_type": "markdown",
   "source": [
    "## Part 4 - Making a single prediction"
   ],
   "metadata": {
    "colab_type": "text",
    "id": "U3PZasO0006Z"
   }
  },
  {
   "cell_type": "code",
   "execution_count": 68,
   "source": [
    "import numpy as np\r\n",
    "from keras.preprocessing import image\r\n",
    "test_image = image.load_img('dataset/single_prediction/cat_or_dog_1.jpg', target_size = (64, 64))\r\n",
    "test_image = image.img_to_array(test_image)\r\n",
    "test_image = np.expand_dims(test_image, axis = 0)\r\n",
    "result = cnn.predict(test_image)\r\n",
    "training_set.class_indices\r\n",
    "if result[0][0] > 0.8:\r\n",
    "  prediction = 'dog'\r\n",
    "else:\r\n",
    "  prediction = 'cat'"
   ],
   "outputs": [],
   "metadata": {
    "colab": {},
    "colab_type": "code",
    "id": "gsSiWEJY1BPB"
   }
  },
  {
   "cell_type": "code",
   "execution_count": 69,
   "source": [
    "print(prediction)"
   ],
   "outputs": [
    {
     "output_type": "stream",
     "name": "stdout",
     "text": [
      "dog\n"
     ]
    }
   ],
   "metadata": {
    "colab": {},
    "colab_type": "code",
    "id": "ED9KB3I54c1i"
   }
  },
  {
   "cell_type": "markdown",
   "source": [
    "## Fim\r\n",
    "\r\n",
    "Modificado por\r\n",
    "> Álvaro Leles Guimarães"
   ],
   "metadata": {}
  }
 ],
 "metadata": {
  "colab": {
   "collapsed_sections": [],
   "name": "convolutional_neural_network.ipynb",
   "provenance": [],
   "toc_visible": true
  },
  "kernelspec": {
   "name": "python3",
   "display_name": "Python 3.9.6 64-bit (system)"
  },
  "language_info": {
   "codemirror_mode": {
    "name": "ipython",
    "version": 3
   },
   "file_extension": ".py",
   "mimetype": "text/x-python",
   "name": "python",
   "nbconvert_exporter": "python",
   "pygments_lexer": "ipython3",
   "version": "3.9.6"
  },
  "interpreter": {
   "hash": "f207fd70f9fbf0576c013b5478e6433bf21bddade4b54cedc324eb219afc4cf7"
  }
 },
 "nbformat": 4,
 "nbformat_minor": 4
}