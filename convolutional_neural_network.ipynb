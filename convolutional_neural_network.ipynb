{
 "cells": [
  {
   "cell_type": "markdown",
   "metadata": {
    "colab_type": "text",
    "id": "3DR-eO17geWu"
   },
   "source": [
    "# Convolutional Neural Network"
   ]
  },
  {
   "cell_type": "markdown",
   "metadata": {
    "colab_type": "text",
    "id": "EMefrVPCg-60"
   },
   "source": [
    "### Importing the libraries"
   ]
  },
  {
   "cell_type": "code",
   "execution_count": 71,
   "metadata": {
    "colab": {},
    "colab_type": "code",
    "id": "sCV30xyVhFbE"
   },
   "outputs": [],
   "source": [
    "import tensorflow as tf\n",
    "from keras.preprocessing.image import ImageDataGenerator"
   ]
  },
  {
   "cell_type": "code",
   "execution_count": 72,
   "metadata": {
    "colab": {},
    "colab_type": "code",
    "id": "FIleuCAjoFD8"
   },
   "outputs": [
    {
     "output_type": "execute_result",
     "data": {
      "text/plain": [
       "'2.5.0'"
      ]
     },
     "metadata": {},
     "execution_count": 72
    }
   ],
   "source": [
    "tf.__version__"
   ]
  },
  {
   "cell_type": "markdown",
   "metadata": {
    "colab_type": "text",
    "id": "oxQxCBWyoGPE"
   },
   "source": [
    "## Part 1 - Data Preprocessing"
   ]
  },
  {
   "cell_type": "markdown",
   "metadata": {
    "colab_type": "text",
    "id": "MvE-heJNo3GG"
   },
   "source": [
    "### Preprocessing the Training set"
   ]
  },
  {
   "cell_type": "code",
   "execution_count": 73,
   "metadata": {
    "colab": {},
    "colab_type": "code",
    "id": "0koUcJMJpEBD"
   },
   "outputs": [
    {
     "output_type": "stream",
     "name": "stdout",
     "text": [
      "Found 8000 images belonging to 2 classes.\n"
     ]
    }
   ],
   "source": [
    "train_datagen = ImageDataGenerator(rescale = 1./255,\n",
    "                                   shear_range = 0.2,\n",
    "                                   zoom_range = 0.2,\n",
    "                                   horizontal_flip = True)\n",
    "training_set = train_datagen.flow_from_directory('dataset/training_set',\n",
    "                                                 target_size = (64, 64),\n",
    "                                                 batch_size = 32,\n",
    "                                                 class_mode = 'binary')"
   ]
  },
  {
   "cell_type": "markdown",
   "metadata": {
    "colab_type": "text",
    "id": "mrCMmGw9pHys"
   },
   "source": [
    "### Preprocessing the Test set"
   ]
  },
  {
   "cell_type": "code",
   "execution_count": 74,
   "metadata": {
    "colab": {},
    "colab_type": "code",
    "id": "SH4WzfOhpKc3"
   },
   "outputs": [
    {
     "output_type": "stream",
     "name": "stdout",
     "text": [
      "Found 2000 images belonging to 2 classes.\n"
     ]
    }
   ],
   "source": [
    "test_datagen = ImageDataGenerator(rescale = 1./255)\n",
    "test_set = test_datagen.flow_from_directory('dataset/test_set',\n",
    "                                            target_size = (64, 64),\n",
    "                                            batch_size = 32,\n",
    "                                            class_mode = 'binary')"
   ]
  },
  {
   "cell_type": "markdown",
   "metadata": {
    "colab_type": "text",
    "id": "af8O4l90gk7B"
   },
   "source": [
    "## Part 2 - Building the CNN"
   ]
  },
  {
   "cell_type": "markdown",
   "metadata": {
    "colab_type": "text",
    "id": "ces1gXY2lmoX"
   },
   "source": [
    "### Initialising the CNN"
   ]
  },
  {
   "cell_type": "code",
   "execution_count": 75,
   "metadata": {
    "colab": {},
    "colab_type": "code",
    "id": "SAUt4UMPlhLS"
   },
   "outputs": [],
   "source": [
    "cnn = tf.keras.models.Sequential()"
   ]
  },
  {
   "cell_type": "markdown",
   "metadata": {
    "colab_type": "text",
    "id": "u5YJj_XMl5LF"
   },
   "source": [
    "### Step 1 - Convolution"
   ]
  },
  {
   "cell_type": "code",
   "execution_count": 76,
   "metadata": {
    "colab": {},
    "colab_type": "code",
    "id": "XPzPrMckl-hV"
   },
   "outputs": [],
   "source": [
    "cnn.add(tf.keras.layers.Conv2D(filters=32, kernel_size=3, activation='relu', input_shape=[64, 64, 3]))"
   ]
  },
  {
   "cell_type": "markdown",
   "metadata": {
    "colab_type": "text",
    "id": "tf87FpvxmNOJ"
   },
   "source": [
    "### Step 2 - Pooling"
   ]
  },
  {
   "cell_type": "code",
   "execution_count": 77,
   "metadata": {
    "colab": {},
    "colab_type": "code",
    "id": "ncpqPl69mOac"
   },
   "outputs": [],
   "source": [
    "cnn.add(tf.keras.layers.MaxPool2D(pool_size=2, strides=2))"
   ]
  },
  {
   "cell_type": "markdown",
   "metadata": {
    "colab_type": "text",
    "id": "xaTOgD8rm4mU"
   },
   "source": [
    "#### Adding a second convolutional layer"
   ]
  },
  {
   "cell_type": "code",
   "execution_count": 78,
   "metadata": {
    "colab": {},
    "colab_type": "code",
    "id": "i_-FZjn_m8gk"
   },
   "outputs": [],
   "source": [
    "cnn.add(tf.keras.layers.Conv2D(filters=128, kernel_size=3, activation='relu'))\n",
    "cnn.add(tf.keras.layers.MaxPool2D(pool_size=2, strides=2))"
   ]
  },
  {
   "source": [
    "#### Adding a third convolutional layer"
   ],
   "cell_type": "markdown",
   "metadata": {}
  },
  {
   "cell_type": "code",
   "execution_count": 79,
   "metadata": {},
   "outputs": [],
   "source": [
    "cnn.add(tf.keras.layers.Conv2D(filters=64, kernel_size=3, activation='relu'))\n",
    "cnn.add(tf.keras.layers.MaxPool2D(pool_size=2, strides=2))"
   ]
  },
  {
   "source": [
    "#### Adding a fourth convolutional layer"
   ],
   "cell_type": "markdown",
   "metadata": {}
  },
  {
   "cell_type": "code",
   "execution_count": 80,
   "metadata": {},
   "outputs": [],
   "source": [
    "cnn.add(tf.keras.layers.Conv2D(filters=32, kernel_size=3, activation='relu'))\n",
    "cnn.add(tf.keras.layers.MaxPool2D(pool_size=2, strides=2))"
   ]
  },
  {
   "cell_type": "markdown",
   "metadata": {
    "colab_type": "text",
    "id": "tmiEuvTunKfk"
   },
   "source": [
    "### Step 3 - Flattening"
   ]
  },
  {
   "cell_type": "code",
   "execution_count": 81,
   "metadata": {
    "colab": {},
    "colab_type": "code",
    "id": "6AZeOGCvnNZn"
   },
   "outputs": [],
   "source": [
    "cnn.add(tf.keras.layers.Flatten())"
   ]
  },
  {
   "cell_type": "markdown",
   "metadata": {
    "colab_type": "text",
    "id": "dAoSECOm203v"
   },
   "source": [
    "### Step 4 - Full Connection"
   ]
  },
  {
   "cell_type": "code",
   "execution_count": 82,
   "metadata": {
    "colab": {},
    "colab_type": "code",
    "id": "8GtmUlLd26Nq"
   },
   "outputs": [],
   "source": [
    "cnn.add(tf.keras.layers.Dense(units=128, activation='relu'))"
   ]
  },
  {
   "cell_type": "markdown",
   "metadata": {
    "colab_type": "text",
    "id": "yTldFvbX28Na"
   },
   "source": [
    "### Step 5 - Output Layer"
   ]
  },
  {
   "cell_type": "code",
   "execution_count": 83,
   "metadata": {
    "colab": {},
    "colab_type": "code",
    "id": "1p_Zj1Mc3Ko_"
   },
   "outputs": [],
   "source": [
    "cnn.add(tf.keras.layers.Dense(units=1, activation='exponential'))"
   ]
  },
  {
   "cell_type": "markdown",
   "metadata": {
    "colab_type": "text",
    "id": "D6XkI90snSDl"
   },
   "source": [
    "## Part 3 - Training the CNN"
   ]
  },
  {
   "cell_type": "markdown",
   "metadata": {
    "colab_type": "text",
    "id": "vfrFQACEnc6i"
   },
   "source": [
    "### Compiling the CNN"
   ]
  },
  {
   "cell_type": "code",
   "execution_count": 84,
   "metadata": {
    "colab": {},
    "colab_type": "code",
    "id": "NALksrNQpUlJ"
   },
   "outputs": [],
   "source": [
    "cnn.compile(optimizer = 'adam', loss = 'binary_crossentropy', metrics = ['accuracy'])"
   ]
  },
  {
   "cell_type": "markdown",
   "metadata": {
    "colab_type": "text",
    "id": "ehS-v3MIpX2h"
   },
   "source": [
    "### Training the CNN on the Training set and evaluating it on the Test set"
   ]
  },
  {
   "cell_type": "code",
   "execution_count": 85,
   "metadata": {
    "colab": {},
    "colab_type": "code",
    "id": "XUj1W4PJptta"
   },
   "outputs": [
    {
     "output_type": "stream",
     "name": "stdout",
     "text": [
      "Epoch 1/25\n",
      "250/250 [==============================] - 51s 202ms/step - loss: 0.7049 - accuracy: 0.5259 - val_loss: 0.6718 - val_accuracy: 0.5940\n",
      "Epoch 2/25\n",
      "250/250 [==============================] - 53s 212ms/step - loss: 0.6723 - accuracy: 0.5920 - val_loss: 0.6491 - val_accuracy: 0.6455\n",
      "Epoch 3/25\n",
      "250/250 [==============================] - 53s 210ms/step - loss: 0.6935 - accuracy: 0.5838 - val_loss: 0.6478 - val_accuracy: 0.6175\n",
      "Epoch 4/25\n",
      "250/250 [==============================] - 52s 210ms/step - loss: 0.6624 - accuracy: 0.6115 - val_loss: 0.6613 - val_accuracy: 0.6375\n",
      "Epoch 5/25\n",
      "250/250 [==============================] - 53s 210ms/step - loss: 0.6410 - accuracy: 0.6503 - val_loss: 0.6088 - val_accuracy: 0.6815\n",
      "Epoch 6/25\n",
      "250/250 [==============================] - 53s 211ms/step - loss: 0.6222 - accuracy: 0.6565 - val_loss: 0.6616 - val_accuracy: 0.6795\n",
      "Epoch 7/25\n",
      "250/250 [==============================] - 53s 212ms/step - loss: 0.5999 - accuracy: 0.6848 - val_loss: 0.5755 - val_accuracy: 0.7160\n",
      "Epoch 8/25\n",
      "250/250 [==============================] - 53s 212ms/step - loss: 0.6144 - accuracy: 0.6756 - val_loss: 0.6875 - val_accuracy: 0.5205\n",
      "Epoch 9/25\n",
      "250/250 [==============================] - 52s 210ms/step - loss: 0.6317 - accuracy: 0.6429 - val_loss: 0.5985 - val_accuracy: 0.6945\n",
      "Epoch 10/25\n",
      "250/250 [==============================] - 52s 210ms/step - loss: 0.5929 - accuracy: 0.7056 - val_loss: 0.7183 - val_accuracy: 0.7075\n",
      "Epoch 11/25\n",
      "250/250 [==============================] - 53s 210ms/step - loss: 0.5815 - accuracy: 0.6992 - val_loss: 0.5730 - val_accuracy: 0.7180\n",
      "Epoch 12/25\n",
      "250/250 [==============================] - 52s 209ms/step - loss: 0.5624 - accuracy: 0.7243 - val_loss: 0.6639 - val_accuracy: 0.7455\n",
      "Epoch 13/25\n",
      "250/250 [==============================] - 53s 211ms/step - loss: 0.5540 - accuracy: 0.7279 - val_loss: 0.5824 - val_accuracy: 0.7385\n",
      "Epoch 14/25\n",
      "250/250 [==============================] - 53s 212ms/step - loss: 0.5870 - accuracy: 0.6945 - val_loss: 0.6040 - val_accuracy: 0.6740\n",
      "Epoch 15/25\n",
      "250/250 [==============================] - 50s 201ms/step - loss: 0.5942 - accuracy: 0.6781 - val_loss: 0.5594 - val_accuracy: 0.7145\n",
      "Epoch 16/25\n",
      "250/250 [==============================] - 52s 209ms/step - loss: 0.5601 - accuracy: 0.7178 - val_loss: 0.5699 - val_accuracy: 0.7200\n",
      "Epoch 17/25\n",
      "250/250 [==============================] - 53s 210ms/step - loss: 0.5847 - accuracy: 0.7015 - val_loss: 0.6249 - val_accuracy: 0.7235\n",
      "Epoch 18/25\n",
      "250/250 [==============================] - 53s 210ms/step - loss: 0.5795 - accuracy: 0.7021 - val_loss: 0.5416 - val_accuracy: 0.7320\n",
      "Epoch 19/25\n",
      "250/250 [==============================] - 53s 211ms/step - loss: 0.5357 - accuracy: 0.7393 - val_loss: 0.5181 - val_accuracy: 0.7510\n",
      "Epoch 20/25\n",
      "250/250 [==============================] - 50s 201ms/step - loss: 0.5896 - accuracy: 0.6819 - val_loss: 0.5614 - val_accuracy: 0.7210\n",
      "Epoch 21/25\n",
      "250/250 [==============================] - 53s 213ms/step - loss: 0.5339 - accuracy: 0.7329 - val_loss: 0.5260 - val_accuracy: 0.7465\n",
      "Epoch 22/25\n",
      "250/250 [==============================] - 53s 211ms/step - loss: 0.5893 - accuracy: 0.6906 - val_loss: 0.6180 - val_accuracy: 0.6605\n",
      "Epoch 23/25\n",
      "250/250 [==============================] - 52s 210ms/step - loss: 0.5476 - accuracy: 0.7271 - val_loss: 0.5483 - val_accuracy: 0.7345\n",
      "Epoch 24/25\n",
      "250/250 [==============================] - 53s 210ms/step - loss: 0.5287 - accuracy: 0.7429 - val_loss: 0.5180 - val_accuracy: 0.7545\n",
      "Epoch 25/25\n",
      "250/250 [==============================] - 52s 210ms/step - loss: 0.5815 - accuracy: 0.6959 - val_loss: 0.6311 - val_accuracy: 0.7235\n"
     ]
    },
    {
     "output_type": "execute_result",
     "data": {
      "text/plain": [
       "<tensorflow.python.keras.callbacks.History at 0x7fedf7b9b278>"
      ]
     },
     "metadata": {},
     "execution_count": 85
    }
   ],
   "source": [
    "cnn.fit(x = training_set, validation_data = test_set, epochs = 25)"
   ]
  },
  {
   "cell_type": "markdown",
   "metadata": {
    "colab_type": "text",
    "id": "U3PZasO0006Z"
   },
   "source": [
    "## Part 4 - Making a single prediction"
   ]
  },
  {
   "cell_type": "code",
   "execution_count": 86,
   "metadata": {
    "colab": {},
    "colab_type": "code",
    "id": "gsSiWEJY1BPB"
   },
   "outputs": [],
   "source": [
    "import numpy as np\n",
    "from keras.preprocessing import image\n",
    "test_image = image.load_img('dataset/single_prediction/cat_or_dog_1.jpg', target_size = (64, 64))\n",
    "test_image = image.img_to_array(test_image)\n",
    "test_image = np.expand_dims(test_image, axis = 0)\n",
    "result = cnn.predict(test_image)\n",
    "training_set.class_indices\n",
    "if result[0][0] == 1:\n",
    "  prediction = 'dog'\n",
    "else:\n",
    "  prediction = 'cat'"
   ]
  },
  {
   "cell_type": "code",
   "execution_count": 87,
   "metadata": {
    "colab": {},
    "colab_type": "code",
    "id": "ED9KB3I54c1i"
   },
   "outputs": [
    {
     "output_type": "stream",
     "name": "stdout",
     "text": [
      "cat\n"
     ]
    }
   ],
   "source": [
    "print(prediction)"
   ]
  },
  {
   "cell_type": "markdown",
   "metadata": {},
   "source": [
    "## Fim"
   ]
  }
 ],
 "metadata": {
  "colab": {
   "collapsed_sections": [],
   "name": "convolutional_neural_network.ipynb",
   "provenance": [],
   "toc_visible": true
  },
  "kernelspec": {
   "display_name": "Python 3",
   "language": "python",
   "name": "python3"
  },
  "language_info": {
   "codemirror_mode": {
    "name": "ipython",
    "version": 3
   },
   "file_extension": ".py",
   "mimetype": "text/x-python",
   "name": "python",
   "nbconvert_exporter": "python",
   "pygments_lexer": "ipython3",
   "version": "3.6.9"
  }
 },
 "nbformat": 4,
 "nbformat_minor": 4
}