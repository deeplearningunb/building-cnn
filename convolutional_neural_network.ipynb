{
 "cells": [
  {
   "cell_type": "markdown",
   "metadata": {
    "colab_type": "text",
    "id": "3DR-eO17geWu"
   },
   "source": [
    "# Convolutional Neural Network"
   ]
  },
  {
   "cell_type": "markdown",
   "metadata": {
    "colab_type": "text",
    "id": "EMefrVPCg-60"
   },
   "source": [
    "### Importing the libraries"
   ]
  },
  {
   "cell_type": "code",
   "execution_count": 45,
   "metadata": {},
   "outputs": [
    {
     "name": "stdout",
     "output_type": "stream",
     "text": [
      "Requirement already satisfied: tensorflow in /home/jschneiderm/.pyenv/versions/3.7.12/envs/deeplearning/lib/python3.7/site-packages (2.8.0)\n",
      "Requirement already satisfied: keras in /home/jschneiderm/.pyenv/versions/3.7.12/envs/deeplearning/lib/python3.7/site-packages (2.8.0)\n",
      "Requirement already satisfied: Pillow in /home/jschneiderm/.pyenv/versions/3.7.12/envs/deeplearning/lib/python3.7/site-packages (9.1.0)\n",
      "Requirement already satisfied: opt-einsum>=2.3.2 in /home/jschneiderm/.pyenv/versions/3.7.12/envs/deeplearning/lib/python3.7/site-packages (from tensorflow) (3.3.0)\n",
      "Requirement already satisfied: flatbuffers>=1.12 in /home/jschneiderm/.pyenv/versions/3.7.12/envs/deeplearning/lib/python3.7/site-packages (from tensorflow) (2.0)\n",
      "Requirement already satisfied: termcolor>=1.1.0 in /home/jschneiderm/.pyenv/versions/3.7.12/envs/deeplearning/lib/python3.7/site-packages (from tensorflow) (1.1.0)\n",
      "Requirement already satisfied: numpy>=1.20 in /home/jschneiderm/.pyenv/versions/3.7.12/envs/deeplearning/lib/python3.7/site-packages (from tensorflow) (1.21.5)\n",
      "Requirement already satisfied: tensorflow-io-gcs-filesystem>=0.23.1 in /home/jschneiderm/.pyenv/versions/3.7.12/envs/deeplearning/lib/python3.7/site-packages (from tensorflow) (0.24.0)\n",
      "Requirement already satisfied: absl-py>=0.4.0 in /home/jschneiderm/.pyenv/versions/3.7.12/envs/deeplearning/lib/python3.7/site-packages (from tensorflow) (1.0.0)\n",
      "Requirement already satisfied: libclang>=9.0.1 in /home/jschneiderm/.pyenv/versions/3.7.12/envs/deeplearning/lib/python3.7/site-packages (from tensorflow) (13.0.0)\n",
      "Requirement already satisfied: h5py>=2.9.0 in /home/jschneiderm/.pyenv/versions/3.7.12/envs/deeplearning/lib/python3.7/site-packages (from tensorflow) (2.10.0)\n",
      "Requirement already satisfied: setuptools in /home/jschneiderm/.pyenv/versions/3.7.12/envs/deeplearning/lib/python3.7/site-packages (from tensorflow) (47.1.0)\n",
      "Requirement already satisfied: six>=1.12.0 in /home/jschneiderm/.pyenv/versions/3.7.12/envs/deeplearning/lib/python3.7/site-packages (from tensorflow) (1.16.0)\n",
      "Requirement already satisfied: astunparse>=1.6.0 in /home/jschneiderm/.pyenv/versions/3.7.12/envs/deeplearning/lib/python3.7/site-packages (from tensorflow) (1.6.3)\n",
      "Requirement already satisfied: grpcio<2.0,>=1.24.3 in /home/jschneiderm/.pyenv/versions/3.7.12/envs/deeplearning/lib/python3.7/site-packages (from tensorflow) (1.43.0)\n",
      "Requirement already satisfied: tf-estimator-nightly==2.8.0.dev2021122109 in /home/jschneiderm/.pyenv/versions/3.7.12/envs/deeplearning/lib/python3.7/site-packages (from tensorflow) (2.8.0.dev2021122109)\n",
      "Requirement already satisfied: keras-preprocessing>=1.1.1 in /home/jschneiderm/.pyenv/versions/3.7.12/envs/deeplearning/lib/python3.7/site-packages (from tensorflow) (1.1.2)\n",
      "Requirement already satisfied: typing-extensions>=3.6.6 in /home/jschneiderm/.pyenv/versions/3.7.12/envs/deeplearning/lib/python3.7/site-packages (from tensorflow) (4.0.1)\n",
      "Requirement already satisfied: google-pasta>=0.1.1 in /home/jschneiderm/.pyenv/versions/3.7.12/envs/deeplearning/lib/python3.7/site-packages (from tensorflow) (0.2.0)\n",
      "Requirement already satisfied: protobuf>=3.9.2 in /home/jschneiderm/.pyenv/versions/3.7.12/envs/deeplearning/lib/python3.7/site-packages (from tensorflow) (3.19.4)\n",
      "Requirement already satisfied: gast>=0.2.1 in /home/jschneiderm/.pyenv/versions/3.7.12/envs/deeplearning/lib/python3.7/site-packages (from tensorflow) (0.3.3)\n",
      "Requirement already satisfied: wrapt>=1.11.0 in /home/jschneiderm/.pyenv/versions/3.7.12/envs/deeplearning/lib/python3.7/site-packages (from tensorflow) (1.13.3)\n",
      "Requirement already satisfied: tensorboard<2.9,>=2.8 in /home/jschneiderm/.pyenv/versions/3.7.12/envs/deeplearning/lib/python3.7/site-packages (from tensorflow) (2.8.0)\n",
      "Requirement already satisfied: wheel<1.0,>=0.23.0 in /home/jschneiderm/.pyenv/versions/3.7.12/envs/deeplearning/lib/python3.7/site-packages (from astunparse>=1.6.0->tensorflow) (0.37.1)\n",
      "Requirement already satisfied: google-auth-oauthlib<0.5,>=0.4.1 in /home/jschneiderm/.pyenv/versions/3.7.12/envs/deeplearning/lib/python3.7/site-packages (from tensorboard<2.9,>=2.8->tensorflow) (0.4.6)\n",
      "Requirement already satisfied: requests<3,>=2.21.0 in /home/jschneiderm/.pyenv/versions/3.7.12/envs/deeplearning/lib/python3.7/site-packages (from tensorboard<2.9,>=2.8->tensorflow) (2.27.1)\n",
      "Requirement already satisfied: werkzeug>=0.11.15 in /home/jschneiderm/.pyenv/versions/3.7.12/envs/deeplearning/lib/python3.7/site-packages (from tensorboard<2.9,>=2.8->tensorflow) (2.0.3)\n",
      "Requirement already satisfied: markdown>=2.6.8 in /home/jschneiderm/.pyenv/versions/3.7.12/envs/deeplearning/lib/python3.7/site-packages (from tensorboard<2.9,>=2.8->tensorflow) (3.3.6)\n",
      "Requirement already satisfied: tensorboard-plugin-wit>=1.6.0 in /home/jschneiderm/.pyenv/versions/3.7.12/envs/deeplearning/lib/python3.7/site-packages (from tensorboard<2.9,>=2.8->tensorflow) (1.8.1)\n",
      "Requirement already satisfied: google-auth<3,>=1.6.3 in /home/jschneiderm/.pyenv/versions/3.7.12/envs/deeplearning/lib/python3.7/site-packages (from tensorboard<2.9,>=2.8->tensorflow) (2.6.0)\n",
      "Requirement already satisfied: tensorboard-data-server<0.7.0,>=0.6.0 in /home/jschneiderm/.pyenv/versions/3.7.12/envs/deeplearning/lib/python3.7/site-packages (from tensorboard<2.9,>=2.8->tensorflow) (0.6.1)\n",
      "Requirement already satisfied: rsa<5,>=3.1.4 in /home/jschneiderm/.pyenv/versions/3.7.12/envs/deeplearning/lib/python3.7/site-packages (from google-auth<3,>=1.6.3->tensorboard<2.9,>=2.8->tensorflow) (4.8)\n",
      "Requirement already satisfied: cachetools<6.0,>=2.0.0 in /home/jschneiderm/.pyenv/versions/3.7.12/envs/deeplearning/lib/python3.7/site-packages (from google-auth<3,>=1.6.3->tensorboard<2.9,>=2.8->tensorflow) (5.0.0)\n",
      "Requirement already satisfied: pyasn1-modules>=0.2.1 in /home/jschneiderm/.pyenv/versions/3.7.12/envs/deeplearning/lib/python3.7/site-packages (from google-auth<3,>=1.6.3->tensorboard<2.9,>=2.8->tensorflow) (0.2.8)\n",
      "Requirement already satisfied: requests-oauthlib>=0.7.0 in /home/jschneiderm/.pyenv/versions/3.7.12/envs/deeplearning/lib/python3.7/site-packages (from google-auth-oauthlib<0.5,>=0.4.1->tensorboard<2.9,>=2.8->tensorflow) (1.3.1)\n",
      "Requirement already satisfied: importlib-metadata>=4.4 in /home/jschneiderm/.pyenv/versions/3.7.12/envs/deeplearning/lib/python3.7/site-packages (from markdown>=2.6.8->tensorboard<2.9,>=2.8->tensorflow) (4.11.0)\n",
      "Requirement already satisfied: urllib3<1.27,>=1.21.1 in /home/jschneiderm/.pyenv/versions/3.7.12/envs/deeplearning/lib/python3.7/site-packages (from requests<3,>=2.21.0->tensorboard<2.9,>=2.8->tensorflow) (1.26.8)\n",
      "Requirement already satisfied: idna<4,>=2.5 in /home/jschneiderm/.pyenv/versions/3.7.12/envs/deeplearning/lib/python3.7/site-packages (from requests<3,>=2.21.0->tensorboard<2.9,>=2.8->tensorflow) (3.3)\n",
      "Requirement already satisfied: certifi>=2017.4.17 in /home/jschneiderm/.pyenv/versions/3.7.12/envs/deeplearning/lib/python3.7/site-packages (from requests<3,>=2.21.0->tensorboard<2.9,>=2.8->tensorflow) (2021.10.8)\n",
      "Requirement already satisfied: charset-normalizer~=2.0.0 in /home/jschneiderm/.pyenv/versions/3.7.12/envs/deeplearning/lib/python3.7/site-packages (from requests<3,>=2.21.0->tensorboard<2.9,>=2.8->tensorflow) (2.0.11)\n",
      "Requirement already satisfied: zipp>=0.5 in /home/jschneiderm/.pyenv/versions/3.7.12/envs/deeplearning/lib/python3.7/site-packages (from importlib-metadata>=4.4->markdown>=2.6.8->tensorboard<2.9,>=2.8->tensorflow) (3.7.0)\n",
      "Requirement already satisfied: pyasn1<0.5.0,>=0.4.6 in /home/jschneiderm/.pyenv/versions/3.7.12/envs/deeplearning/lib/python3.7/site-packages (from pyasn1-modules>=0.2.1->google-auth<3,>=1.6.3->tensorboard<2.9,>=2.8->tensorflow) (0.4.8)\n",
      "Requirement already satisfied: oauthlib>=3.0.0 in /home/jschneiderm/.pyenv/versions/3.7.12/envs/deeplearning/lib/python3.7/site-packages (from requests-oauthlib>=0.7.0->google-auth-oauthlib<0.5,>=0.4.1->tensorboard<2.9,>=2.8->tensorflow) (3.2.0)\n",
      "\u001b[33mWARNING: You are using pip version 22.0.3; however, version 22.0.4 is available.\n",
      "You should consider upgrading via the '/home/jschneiderm/.pyenv/versions/3.7.12/envs/deeplearning/bin/python -m pip install --upgrade pip' command.\u001b[0m\u001b[33m\n",
      "\u001b[0mNote: you may need to restart the kernel to use updated packages.\n"
     ]
    }
   ],
   "source": [
    "%pip install --upgrade tensorflow keras Pillow"
   ]
  },
  {
   "cell_type": "code",
   "execution_count": 46,
   "metadata": {
    "colab": {},
    "colab_type": "code",
    "id": "sCV30xyVhFbE"
   },
   "outputs": [],
   "source": [
    "import tensorflow as tf\n",
    "from keras.preprocessing.image import ImageDataGenerator"
   ]
  },
  {
   "cell_type": "code",
   "execution_count": 47,
   "metadata": {
    "colab": {},
    "colab_type": "code",
    "id": "FIleuCAjoFD8"
   },
   "outputs": [
    {
     "data": {
      "text/plain": [
       "'2.8.0'"
      ]
     },
     "execution_count": 47,
     "metadata": {},
     "output_type": "execute_result"
    }
   ],
   "source": [
    "tf.__version__"
   ]
  },
  {
   "cell_type": "markdown",
   "metadata": {
    "colab_type": "text",
    "id": "oxQxCBWyoGPE"
   },
   "source": [
    "## Part 1 - Data Preprocessing"
   ]
  },
  {
   "cell_type": "markdown",
   "metadata": {
    "colab_type": "text",
    "id": "MvE-heJNo3GG"
   },
   "source": [
    "### Preprocessing the Training set"
   ]
  },
  {
   "cell_type": "code",
   "execution_count": 48,
   "metadata": {
    "colab": {},
    "colab_type": "code",
    "id": "0koUcJMJpEBD"
   },
   "outputs": [
    {
     "name": "stdout",
     "output_type": "stream",
     "text": [
      "Found 8000 images belonging to 2 classes.\n"
     ]
    }
   ],
   "source": [
    "train_datagen = ImageDataGenerator(rescale = 1./255,\n",
    "                                   shear_range = 0.2,\n",
    "                                   zoom_range = 0.2,\n",
    "                                   horizontal_flip = True)\n",
    "training_set = train_datagen.flow_from_directory('dataset/training_set',\n",
    "                                                 target_size = (64, 64),\n",
    "                                                 batch_size = 32,\n",
    "                                                 class_mode = 'binary')"
   ]
  },
  {
   "cell_type": "markdown",
   "metadata": {
    "colab_type": "text",
    "id": "mrCMmGw9pHys"
   },
   "source": [
    "### Preprocessing the Test set"
   ]
  },
  {
   "cell_type": "code",
   "execution_count": 49,
   "metadata": {
    "colab": {},
    "colab_type": "code",
    "id": "SH4WzfOhpKc3"
   },
   "outputs": [
    {
     "name": "stdout",
     "output_type": "stream",
     "text": [
      "Found 2000 images belonging to 2 classes.\n"
     ]
    }
   ],
   "source": [
    "test_datagen = ImageDataGenerator(rescale = 1./255)\n",
    "test_set = test_datagen.flow_from_directory('dataset/test_set',\n",
    "                                            target_size = (64, 64),\n",
    "                                            batch_size = 32,\n",
    "                                            class_mode = 'binary')"
   ]
  },
  {
   "cell_type": "markdown",
   "metadata": {
    "colab_type": "text",
    "id": "af8O4l90gk7B"
   },
   "source": [
    "## Part 2 - Building the CNN"
   ]
  },
  {
   "cell_type": "markdown",
   "metadata": {
    "colab_type": "text",
    "id": "ces1gXY2lmoX"
   },
   "source": [
    "### Initialising the CNN"
   ]
  },
  {
   "cell_type": "code",
   "execution_count": 50,
   "metadata": {
    "colab": {},
    "colab_type": "code",
    "id": "SAUt4UMPlhLS"
   },
   "outputs": [],
   "source": [
    "cnn = tf.keras.models.Sequential()"
   ]
  },
  {
   "cell_type": "markdown",
   "metadata": {
    "colab_type": "text",
    "id": "u5YJj_XMl5LF"
   },
   "source": [
    "### Step 1 - Convolution"
   ]
  },
  {
   "cell_type": "code",
   "execution_count": 51,
   "metadata": {
    "colab": {},
    "colab_type": "code",
    "id": "XPzPrMckl-hV"
   },
   "outputs": [],
   "source": [
    "cnn.add(tf.keras.layers.Conv2D(filters=32, kernel_size=3, activation='relu', input_shape=[64, 64, 3]))"
   ]
  },
  {
   "cell_type": "markdown",
   "metadata": {
    "colab_type": "text",
    "id": "tf87FpvxmNOJ"
   },
   "source": [
    "### Step 2 - Pooling"
   ]
  },
  {
   "cell_type": "code",
   "execution_count": 52,
   "metadata": {
    "colab": {},
    "colab_type": "code",
    "id": "ncpqPl69mOac"
   },
   "outputs": [],
   "source": [
    "cnn.add(tf.keras.layers.MaxPool2D(pool_size=2, strides=2))"
   ]
  },
  {
   "cell_type": "markdown",
   "metadata": {
    "colab_type": "text",
    "id": "xaTOgD8rm4mU"
   },
   "source": [
    "### Adding a second convolutional layer"
   ]
  },
  {
   "cell_type": "code",
   "execution_count": 53,
   "metadata": {
    "colab": {},
    "colab_type": "code",
    "id": "i_-FZjn_m8gk"
   },
   "outputs": [],
   "source": [
    "cnn.add(tf.keras.layers.Conv2D(filters=32, kernel_size=3, activation='relu', input_shape=[32, 32, 3]))\n",
    "cnn.add(tf.keras.layers.MaxPool2D(pool_size=2, strides=2))"
   ]
  },
  {
   "cell_type": "markdown",
   "metadata": {},
   "source": [
    "### Adding a third convolutional layer"
   ]
  },
  {
   "cell_type": "code",
   "execution_count": 54,
   "metadata": {},
   "outputs": [],
   "source": [
    "cnn.add(tf.keras.layers.Conv2D(filters=32, kernel_size=3, activation='tanh', input_shape=[8, 8, 3]))\n",
    "cnn.add(tf.keras.layers.MaxPool2D(pool_size=2, strides=2))"
   ]
  },
  {
   "cell_type": "markdown",
   "metadata": {},
   "source": [
    "### Adding a fourth convolutional layer"
   ]
  },
  {
   "cell_type": "code",
   "execution_count": 55,
   "metadata": {},
   "outputs": [],
   "source": [
    "cnn.add(tf.keras.layers.Conv2D(filters=32, kernel_size=3, activation='elu'))\n",
    "cnn.add(tf.keras.layers.MaxPool2D(pool_size=2, strides=2))"
   ]
  },
  {
   "cell_type": "markdown",
   "metadata": {
    "colab_type": "text",
    "id": "tmiEuvTunKfk"
   },
   "source": [
    "### Step 3 - Flattening"
   ]
  },
  {
   "cell_type": "code",
   "execution_count": 56,
   "metadata": {
    "colab": {},
    "colab_type": "code",
    "id": "6AZeOGCvnNZn"
   },
   "outputs": [],
   "source": [
    "cnn.add(tf.keras.layers.Flatten())"
   ]
  },
  {
   "cell_type": "markdown",
   "metadata": {
    "colab_type": "text",
    "id": "dAoSECOm203v"
   },
   "source": [
    "### Step 4 - Full Connection"
   ]
  },
  {
   "cell_type": "code",
   "execution_count": 57,
   "metadata": {
    "colab": {},
    "colab_type": "code",
    "id": "8GtmUlLd26Nq"
   },
   "outputs": [],
   "source": [
    "cnn.add(tf.keras.layers.Dense(units=128, activation='relu'))"
   ]
  },
  {
   "cell_type": "markdown",
   "metadata": {
    "colab_type": "text",
    "id": "yTldFvbX28Na"
   },
   "source": [
    "### Step 5 - Output Layer"
   ]
  },
  {
   "cell_type": "code",
   "execution_count": 58,
   "metadata": {
    "colab": {},
    "colab_type": "code",
    "id": "1p_Zj1Mc3Ko_"
   },
   "outputs": [],
   "source": [
    "cnn.add(tf.keras.layers.Dense(units=1, activation='sigmoid'))"
   ]
  },
  {
   "cell_type": "markdown",
   "metadata": {
    "colab_type": "text",
    "id": "D6XkI90snSDl"
   },
   "source": [
    "## Part 3 - Training the CNN"
   ]
  },
  {
   "cell_type": "markdown",
   "metadata": {
    "colab_type": "text",
    "id": "vfrFQACEnc6i"
   },
   "source": [
    "### Compiling the CNN"
   ]
  },
  {
   "cell_type": "code",
   "execution_count": 59,
   "metadata": {
    "colab": {},
    "colab_type": "code",
    "id": "NALksrNQpUlJ"
   },
   "outputs": [],
   "source": [
    "cnn.compile(optimizer = 'adam', loss = 'binary_crossentropy', metrics = ['accuracy'])"
   ]
  },
  {
   "cell_type": "markdown",
   "metadata": {
    "colab_type": "text",
    "id": "ehS-v3MIpX2h"
   },
   "source": [
    "### Training the CNN on the Training set and evaluating it on the Test set"
   ]
  },
  {
   "cell_type": "code",
   "execution_count": 60,
   "metadata": {
    "colab": {},
    "colab_type": "code",
    "id": "XUj1W4PJptta"
   },
   "outputs": [
    {
     "name": "stdout",
     "output_type": "stream",
     "text": [
      "Epoch 1/25\n",
      "250/250 [==============================] - 16s 63ms/step - loss: 0.6837 - accuracy: 0.5546 - val_loss: 0.6423 - val_accuracy: 0.6385\n",
      "Epoch 2/25\n",
      "250/250 [==============================] - 16s 66ms/step - loss: 0.6247 - accuracy: 0.6594 - val_loss: 0.6102 - val_accuracy: 0.6655\n",
      "Epoch 3/25\n",
      "250/250 [==============================] - 16s 65ms/step - loss: 0.5712 - accuracy: 0.7056 - val_loss: 0.5619 - val_accuracy: 0.7285\n",
      "Epoch 4/25\n",
      "250/250 [==============================] - 16s 63ms/step - loss: 0.5319 - accuracy: 0.7331 - val_loss: 0.5021 - val_accuracy: 0.7670\n",
      "Epoch 5/25\n",
      "250/250 [==============================] - 16s 63ms/step - loss: 0.4931 - accuracy: 0.7623 - val_loss: 0.4859 - val_accuracy: 0.7730\n",
      "Epoch 6/25\n",
      "250/250 [==============================] - 15s 61ms/step - loss: 0.4863 - accuracy: 0.7645 - val_loss: 0.4656 - val_accuracy: 0.7830\n",
      "Epoch 7/25\n",
      "250/250 [==============================] - 15s 61ms/step - loss: 0.4623 - accuracy: 0.7800 - val_loss: 0.4799 - val_accuracy: 0.7770\n",
      "Epoch 8/25\n",
      "250/250 [==============================] - 16s 66ms/step - loss: 0.4387 - accuracy: 0.7914 - val_loss: 0.4383 - val_accuracy: 0.7995\n",
      "Epoch 9/25\n",
      "250/250 [==============================] - 16s 63ms/step - loss: 0.4364 - accuracy: 0.7972 - val_loss: 0.4432 - val_accuracy: 0.7920\n",
      "Epoch 10/25\n",
      "250/250 [==============================] - 15s 61ms/step - loss: 0.4185 - accuracy: 0.8055 - val_loss: 0.4045 - val_accuracy: 0.8180\n",
      "Epoch 11/25\n",
      "250/250 [==============================] - 16s 64ms/step - loss: 0.3988 - accuracy: 0.8167 - val_loss: 0.4471 - val_accuracy: 0.8065\n",
      "Epoch 12/25\n",
      "250/250 [==============================] - 16s 63ms/step - loss: 0.3895 - accuracy: 0.8163 - val_loss: 0.5481 - val_accuracy: 0.7355\n",
      "Epoch 13/25\n",
      "250/250 [==============================] - 16s 62ms/step - loss: 0.3844 - accuracy: 0.8241 - val_loss: 0.3803 - val_accuracy: 0.8410\n",
      "Epoch 14/25\n",
      "250/250 [==============================] - 16s 63ms/step - loss: 0.3736 - accuracy: 0.8315 - val_loss: 0.4057 - val_accuracy: 0.8240\n",
      "Epoch 15/25\n",
      "250/250 [==============================] - 15s 61ms/step - loss: 0.3558 - accuracy: 0.8457 - val_loss: 0.4097 - val_accuracy: 0.8205\n",
      "Epoch 16/25\n",
      "250/250 [==============================] - 15s 62ms/step - loss: 0.3504 - accuracy: 0.8434 - val_loss: 0.3711 - val_accuracy: 0.8430\n",
      "Epoch 17/25\n",
      "250/250 [==============================] - 16s 66ms/step - loss: 0.3372 - accuracy: 0.8494 - val_loss: 0.3812 - val_accuracy: 0.8350\n",
      "Epoch 18/25\n",
      "250/250 [==============================] - 16s 64ms/step - loss: 0.3332 - accuracy: 0.8484 - val_loss: 0.4655 - val_accuracy: 0.7905\n",
      "Epoch 19/25\n",
      "250/250 [==============================] - 15s 62ms/step - loss: 0.3179 - accuracy: 0.8587 - val_loss: 0.3798 - val_accuracy: 0.8385\n",
      "Epoch 20/25\n",
      "250/250 [==============================] - 16s 64ms/step - loss: 0.3082 - accuracy: 0.8660 - val_loss: 0.3667 - val_accuracy: 0.8410\n",
      "Epoch 21/25\n",
      "250/250 [==============================] - 16s 66ms/step - loss: 0.3075 - accuracy: 0.8605 - val_loss: 0.3999 - val_accuracy: 0.8255\n",
      "Epoch 22/25\n",
      "250/250 [==============================] - 16s 65ms/step - loss: 0.2971 - accuracy: 0.8690 - val_loss: 0.4346 - val_accuracy: 0.8055\n",
      "Epoch 23/25\n",
      "250/250 [==============================] - 16s 66ms/step - loss: 0.2926 - accuracy: 0.8729 - val_loss: 0.3866 - val_accuracy: 0.8375\n",
      "Epoch 24/25\n",
      "250/250 [==============================] - 16s 63ms/step - loss: 0.2902 - accuracy: 0.8734 - val_loss: 0.3850 - val_accuracy: 0.8390\n",
      "Epoch 25/25\n",
      "250/250 [==============================] - 15s 61ms/step - loss: 0.2792 - accuracy: 0.8774 - val_loss: 0.3885 - val_accuracy: 0.8400\n"
     ]
    },
    {
     "data": {
      "text/plain": [
       "<keras.callbacks.History at 0x7f0326fa4c50>"
      ]
     },
     "execution_count": 60,
     "metadata": {},
     "output_type": "execute_result"
    }
   ],
   "source": [
    "cnn.fit(x = training_set, validation_data = test_set, epochs = 25)"
   ]
  },
  {
   "cell_type": "markdown",
   "metadata": {
    "colab_type": "text",
    "id": "U3PZasO0006Z"
   },
   "source": [
    "## Part 4 - Making a single prediction"
   ]
  },
  {
   "cell_type": "code",
   "execution_count": 63,
   "metadata": {
    "colab": {},
    "colab_type": "code",
    "id": "gsSiWEJY1BPB"
   },
   "outputs": [],
   "source": [
    "import numpy as np\n",
    "from keras.preprocessing import image\n",
    "test_image = image.load_img('dataset/single_prediction/cat_or_dog_2.jpg', target_size = (64, 64))\n",
    "test_image = image.img_to_array(test_image)\n",
    "test_image = np.expand_dims(test_image, axis = 0)\n",
    "result = cnn.predict(test_image)\n",
    "training_set.class_indices\n",
    "if result[0][0] == 1:\n",
    "  prediction = 'dog'\n",
    "else:\n",
    "  prediction = 'cat'"
   ]
  },
  {
   "cell_type": "code",
   "execution_count": 64,
   "metadata": {
    "colab": {},
    "colab_type": "code",
    "id": "ED9KB3I54c1i"
   },
   "outputs": [
    {
     "name": "stdout",
     "output_type": "stream",
     "text": [
      "cat\n"
     ]
    }
   ],
   "source": [
    "print(prediction)"
   ]
  },
  {
   "cell_type": "markdown",
   "metadata": {},
   "source": [
    "## Fim"
   ]
  }
 ],
 "metadata": {
  "colab": {
   "collapsed_sections": [],
   "name": "convolutional_neural_network.ipynb",
   "provenance": [],
   "toc_visible": true
  },
  "kernelspec": {
   "display_name": "Python 3",
   "language": "python",
   "name": "python3"
  },
  "language_info": {
   "codemirror_mode": {
    "name": "ipython",
    "version": 3
   },
   "file_extension": ".py",
   "mimetype": "text/x-python",
   "name": "python",
   "nbconvert_exporter": "python",
   "pygments_lexer": "ipython3",
   "version": "3.7.12"
  }
 },
 "nbformat": 4,
 "nbformat_minor": 4
}
