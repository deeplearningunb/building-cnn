{
 "cells": [
  {
   "cell_type": "markdown",
   "source": [
    "# Convolutional Neural Network"
   ],
   "metadata": {
    "colab_type": "text",
    "id": "3DR-eO17geWu"
   }
  },
  {
   "cell_type": "markdown",
   "source": [
    "### Importing the libraries"
   ],
   "metadata": {
    "colab_type": "text",
    "id": "EMefrVPCg-60"
   }
  },
  {
   "cell_type": "code",
   "execution_count": 27,
   "source": [
    "!pip install --upgrade tensorflow keras Pillow"
   ],
   "outputs": [
    {
     "output_type": "stream",
     "name": "stdout",
     "text": [
      "^C\n"
     ]
    },
    {
     "output_type": "stream",
     "name": "stderr",
     "text": [
      "WARNING: You are using pip version 21.1.3; however, version 21.2.4 is available.\n",
      "You should consider upgrading via the 'c:\\users\\samue\\área de trabalho\\unbe\\disciplinas\\deep\\deep_venv\\scripts\\python.exe -m pip install --upgrade pip' command.\n"
     ]
    },
    {
     "output_type": "stream",
     "name": "stdout",
     "text": [
      "Requirement already satisfied: tensorflow in c:\\users\\samue\\área de trabalho\\unbe\\disciplinas\\deep\\deep_venv\\lib\\site-packages (2.6.0)\n",
      "Requirement already satisfied: keras in c:\\users\\samue\\área de trabalho\\unbe\\disciplinas\\deep\\deep_venv\\lib\\site-packages (2.6.0)\n",
      "Requirement already satisfied: Pillow in c:\\users\\samue\\área de trabalho\\unbe\\disciplinas\\deep\\deep_venv\\lib\\site-packages (8.3.1)\n",
      "Requirement already satisfied: absl-py~=0.10 in c:\\users\\samue\\área de trabalho\\unbe\\disciplinas\\deep\\deep_venv\\lib\\site-packages (from tensorflow) (0.13.0)\n",
      "Requirement already satisfied: wrapt~=1.12.1 in c:\\users\\samue\\área de trabalho\\unbe\\disciplinas\\deep\\deep_venv\\lib\\site-packages (from tensorflow) (1.12.1)\n",
      "Requirement already satisfied: six~=1.15.0 in c:\\users\\samue\\área de trabalho\\unbe\\disciplinas\\deep\\deep_venv\\lib\\site-packages (from tensorflow) (1.15.0)\n",
      "Requirement already satisfied: wheel~=0.35 in c:\\users\\samue\\área de trabalho\\unbe\\disciplinas\\deep\\deep_venv\\lib\\site-packages (from tensorflow) (0.37.0)\n",
      "Requirement already satisfied: protobuf>=3.9.2 in c:\\users\\samue\\área de trabalho\\unbe\\disciplinas\\deep\\deep_venv\\lib\\site-packages (from tensorflow) (3.17.3)\n",
      "Requirement already satisfied: opt-einsum~=3.3.0 in c:\\users\\samue\\área de trabalho\\unbe\\disciplinas\\deep\\deep_venv\\lib\\site-packages (from tensorflow) (3.3.0)\n",
      "Requirement already satisfied: clang~=5.0 in c:\\users\\samue\\área de trabalho\\unbe\\disciplinas\\deep\\deep_venv\\lib\\site-packages (from tensorflow) (5.0)\n",
      "Requirement already satisfied: flatbuffers~=1.12.0 in c:\\users\\samue\\área de trabalho\\unbe\\disciplinas\\deep\\deep_venv\\lib\\site-packages (from tensorflow) (1.12)\n",
      "Requirement already satisfied: numpy~=1.19.2 in c:\\users\\samue\\área de trabalho\\unbe\\disciplinas\\deep\\deep_venv\\lib\\site-packages (from tensorflow) (1.19.5)\n",
      "Requirement already satisfied: h5py~=3.1.0 in c:\\users\\samue\\área de trabalho\\unbe\\disciplinas\\deep\\deep_venv\\lib\\site-packages (from tensorflow) (3.1.0)\n",
      "Requirement already satisfied: astunparse~=1.6.3 in c:\\users\\samue\\área de trabalho\\unbe\\disciplinas\\deep\\deep_venv\\lib\\site-packages (from tensorflow) (1.6.3)\n",
      "Requirement already satisfied: keras-preprocessing~=1.1.2 in c:\\users\\samue\\área de trabalho\\unbe\\disciplinas\\deep\\deep_venv\\lib\\site-packages (from tensorflow) (1.1.2)\n",
      "Requirement already satisfied: grpcio<2.0,>=1.37.0 in c:\\users\\samue\\área de trabalho\\unbe\\disciplinas\\deep\\deep_venv\\lib\\site-packages (from tensorflow) (1.39.0)\n",
      "Requirement already satisfied: termcolor~=1.1.0 in c:\\users\\samue\\área de trabalho\\unbe\\disciplinas\\deep\\deep_venv\\lib\\site-packages (from tensorflow) (1.1.0)\n",
      "Requirement already satisfied: google-pasta~=0.2 in c:\\users\\samue\\área de trabalho\\unbe\\disciplinas\\deep\\deep_venv\\lib\\site-packages (from tensorflow) (0.2.0)\n",
      "Requirement already satisfied: typing-extensions~=3.7.4 in c:\\users\\samue\\área de trabalho\\unbe\\disciplinas\\deep\\deep_venv\\lib\\site-packages (from tensorflow) (3.7.4.3)\n",
      "Requirement already satisfied: tensorflow-estimator~=2.6 in c:\\users\\samue\\área de trabalho\\unbe\\disciplinas\\deep\\deep_venv\\lib\\site-packages (from tensorflow) (2.6.0)\n",
      "Requirement already satisfied: tensorboard~=2.6 in c:\\users\\samue\\área de trabalho\\unbe\\disciplinas\\deep\\deep_venv\\lib\\site-packages (from tensorflow) (2.6.0)\n",
      "Requirement already satisfied: gast==0.4.0 in c:\\users\\samue\\área de trabalho\\unbe\\disciplinas\\deep\\deep_venv\\lib\\site-packages (from tensorflow) (0.4.0)\n",
      "Requirement already satisfied: requests<3,>=2.21.0 in c:\\users\\samue\\área de trabalho\\unbe\\disciplinas\\deep\\deep_venv\\lib\\site-packages (from tensorboard~=2.6->tensorflow) (2.26.0)\n",
      "Requirement already satisfied: google-auth<2,>=1.6.3 in c:\\users\\samue\\área de trabalho\\unbe\\disciplinas\\deep\\deep_venv\\lib\\site-packages (from tensorboard~=2.6->tensorflow) (1.35.0)\n",
      "Requirement already satisfied: tensorboard-data-server<0.7.0,>=0.6.0 in c:\\users\\samue\\área de trabalho\\unbe\\disciplinas\\deep\\deep_venv\\lib\\site-packages (from tensorboard~=2.6->tensorflow) (0.6.1)\n",
      "Requirement already satisfied: werkzeug>=0.11.15 in c:\\users\\samue\\área de trabalho\\unbe\\disciplinas\\deep\\deep_venv\\lib\\site-packages (from tensorboard~=2.6->tensorflow) (2.0.1)\n",
      "Requirement already satisfied: tensorboard-plugin-wit>=1.6.0 in c:\\users\\samue\\área de trabalho\\unbe\\disciplinas\\deep\\deep_venv\\lib\\site-packages (from tensorboard~=2.6->tensorflow) (1.8.0)\n",
      "Requirement already satisfied: setuptools>=41.0.0 in c:\\users\\samue\\área de trabalho\\unbe\\disciplinas\\deep\\deep_venv\\lib\\site-packages (from tensorboard~=2.6->tensorflow) (56.0.0)\n",
      "Requirement already satisfied: google-auth-oauthlib<0.5,>=0.4.1 in c:\\users\\samue\\área de trabalho\\unbe\\disciplinas\\deep\\deep_venv\\lib\\site-packages (from tensorboard~=2.6->tensorflow) (0.4.5)\n",
      "Requirement already satisfied: markdown>=2.6.8 in c:\\users\\samue\\área de trabalho\\unbe\\disciplinas\\deep\\deep_venv\\lib\\site-packages (from tensorboard~=2.6->tensorflow) (3.3.4)\n",
      "Requirement already satisfied: pyasn1-modules>=0.2.1 in c:\\users\\samue\\área de trabalho\\unbe\\disciplinas\\deep\\deep_venv\\lib\\site-packages (from google-auth<2,>=1.6.3->tensorboard~=2.6->tensorflow) (0.2.8)\n",
      "Requirement already satisfied: cachetools<5.0,>=2.0.0 in c:\\users\\samue\\área de trabalho\\unbe\\disciplinas\\deep\\deep_venv\\lib\\site-packages (from google-auth<2,>=1.6.3->tensorboard~=2.6->tensorflow) (4.2.2)\n",
      "Requirement already satisfied: rsa<5,>=3.1.4 in c:\\users\\samue\\área de trabalho\\unbe\\disciplinas\\deep\\deep_venv\\lib\\site-packages (from google-auth<2,>=1.6.3->tensorboard~=2.6->tensorflow) (4.7.2)\n",
      "Requirement already satisfied: requests-oauthlib>=0.7.0 in c:\\users\\samue\\área de trabalho\\unbe\\disciplinas\\deep\\deep_venv\\lib\\site-packages (from google-auth-oauthlib<0.5,>=0.4.1->tensorboard~=2.6->tensorflow) (1.3.0)\n",
      "Requirement already satisfied: pyasn1<0.5.0,>=0.4.6 in c:\\users\\samue\\área de trabalho\\unbe\\disciplinas\\deep\\deep_venv\\lib\\site-packages (from pyasn1-modules>=0.2.1->google-auth<2,>=1.6.3->tensorboard~=2.6->tensorflow) (0.4.8)\n",
      "Requirement already satisfied: urllib3<1.27,>=1.21.1 in c:\\users\\samue\\área de trabalho\\unbe\\disciplinas\\deep\\deep_venv\\lib\\site-packages (from requests<3,>=2.21.0->tensorboard~=2.6->tensorflow) (1.26.6)\n",
      "Requirement already satisfied: certifi>=2017.4.17 in c:\\users\\samue\\área de trabalho\\unbe\\disciplinas\\deep\\deep_venv\\lib\\site-packages (from requests<3,>=2.21.0->tensorboard~=2.6->tensorflow) (2021.5.30)\n",
      "Requirement already satisfied: charset-normalizer~=2.0.0 in c:\\users\\samue\\área de trabalho\\unbe\\disciplinas\\deep\\deep_venv\\lib\\site-packages (from requests<3,>=2.21.0->tensorboard~=2.6->tensorflow) (2.0.4)\n",
      "Requirement already satisfied: idna<4,>=2.5 in c:\\users\\samue\\área de trabalho\\unbe\\disciplinas\\deep\\deep_venv\\lib\\site-packages (from requests<3,>=2.21.0->tensorboard~=2.6->tensorflow) (3.2)\n",
      "Requirement already satisfied: oauthlib>=3.0.0 in c:\\users\\samue\\área de trabalho\\unbe\\disciplinas\\deep\\deep_venv\\lib\\site-packages (from requests-oauthlib>=0.7.0->google-auth-oauthlib<0.5,>=0.4.1->tensorboard~=2.6->tensorflow) (3.1.1)\n"
     ]
    }
   ],
   "metadata": {}
  },
  {
   "cell_type": "code",
   "execution_count": 28,
   "source": [
    "import tensorflow as tf\r\n",
    "from keras.preprocessing.image import ImageDataGenerator"
   ],
   "outputs": [],
   "metadata": {
    "colab": {},
    "colab_type": "code",
    "id": "sCV30xyVhFbE"
   }
  },
  {
   "cell_type": "code",
   "execution_count": 29,
   "source": [
    "tf.__version__"
   ],
   "outputs": [
    {
     "output_type": "execute_result",
     "data": {
      "text/plain": [
       "'2.6.0'"
      ]
     },
     "metadata": {},
     "execution_count": 29
    }
   ],
   "metadata": {
    "colab": {},
    "colab_type": "code",
    "id": "FIleuCAjoFD8"
   }
  },
  {
   "cell_type": "markdown",
   "source": [
    "## Part 1 - Data Preprocessing"
   ],
   "metadata": {
    "colab_type": "text",
    "id": "oxQxCBWyoGPE"
   }
  },
  {
   "cell_type": "markdown",
   "source": [
    "### Preprocessing the Training set"
   ],
   "metadata": {
    "colab_type": "text",
    "id": "MvE-heJNo3GG"
   }
  },
  {
   "cell_type": "code",
   "execution_count": 30,
   "source": [
    "train_datagen = ImageDataGenerator(rescale = 1./255,\r\n",
    "                                   shear_range = 0.2,\r\n",
    "                                   zoom_range = 0.2,\r\n",
    "                                   horizontal_flip = True)\r\n",
    "training_set = train_datagen.flow_from_directory('dataset/training_set',\r\n",
    "                                                 target_size = (64, 64),\r\n",
    "                                                 batch_size = 32,\r\n",
    "                                                 class_mode = 'binary')"
   ],
   "outputs": [
    {
     "output_type": "stream",
     "name": "stdout",
     "text": [
      "Found 8000 images belonging to 2 classes.\n"
     ]
    }
   ],
   "metadata": {
    "colab": {},
    "colab_type": "code",
    "id": "0koUcJMJpEBD"
   }
  },
  {
   "cell_type": "markdown",
   "source": [
    "### Preprocessing the Test set"
   ],
   "metadata": {
    "colab_type": "text",
    "id": "mrCMmGw9pHys"
   }
  },
  {
   "cell_type": "code",
   "execution_count": 31,
   "source": [
    "test_datagen = ImageDataGenerator(rescale = 1./255)\r\n",
    "test_set = test_datagen.flow_from_directory('dataset/test_set',\r\n",
    "                                            target_size = (64, 64),\r\n",
    "                                            batch_size = 32,\r\n",
    "                                            class_mode = 'binary')"
   ],
   "outputs": [
    {
     "output_type": "stream",
     "name": "stdout",
     "text": [
      "Found 2000 images belonging to 2 classes.\n"
     ]
    }
   ],
   "metadata": {
    "colab": {},
    "colab_type": "code",
    "id": "SH4WzfOhpKc3"
   }
  },
  {
   "cell_type": "markdown",
   "source": [
    "## Part 2 - Building the CNN"
   ],
   "metadata": {
    "colab_type": "text",
    "id": "af8O4l90gk7B"
   }
  },
  {
   "cell_type": "markdown",
   "source": [
    "### Initialising the CNN"
   ],
   "metadata": {
    "colab_type": "text",
    "id": "ces1gXY2lmoX"
   }
  },
  {
   "cell_type": "code",
   "execution_count": 32,
   "source": [
    "cnn = tf.keras.models.Sequential()"
   ],
   "outputs": [],
   "metadata": {
    "colab": {},
    "colab_type": "code",
    "id": "SAUt4UMPlhLS"
   }
  },
  {
   "cell_type": "markdown",
   "source": [
    "### Step 1 - Convolution"
   ],
   "metadata": {
    "colab_type": "text",
    "id": "u5YJj_XMl5LF"
   }
  },
  {
   "cell_type": "code",
   "execution_count": 33,
   "source": [
    "cnn.add(tf.keras.layers.Conv2D(filters=32, kernel_size=3, activation='relu', input_shape=[64, 64, 3]))"
   ],
   "outputs": [],
   "metadata": {
    "colab": {},
    "colab_type": "code",
    "id": "XPzPrMckl-hV"
   }
  },
  {
   "cell_type": "markdown",
   "source": [
    "### Step 2 - Pooling"
   ],
   "metadata": {
    "colab_type": "text",
    "id": "tf87FpvxmNOJ"
   }
  },
  {
   "cell_type": "code",
   "execution_count": 34,
   "source": [
    "cnn.add(tf.keras.layers.MaxPool2D(pool_size=2, strides=2))"
   ],
   "outputs": [],
   "metadata": {
    "colab": {},
    "colab_type": "code",
    "id": "ncpqPl69mOac"
   }
  },
  {
   "cell_type": "markdown",
   "source": [
    "### Adding a second convolutional layer"
   ],
   "metadata": {
    "colab_type": "text",
    "id": "xaTOgD8rm4mU"
   }
  },
  {
   "cell_type": "code",
   "execution_count": 35,
   "source": [
    "cnn.add(tf.keras.layers.Conv2D(filters=32, kernel_size=3, activation='relu'))\r\n",
    "cnn.add(tf.keras.layers.MaxPool2D(pool_size=2, strides=2))"
   ],
   "outputs": [],
   "metadata": {
    "colab": {},
    "colab_type": "code",
    "id": "i_-FZjn_m8gk"
   }
  },
  {
   "cell_type": "markdown",
   "source": [
    "### Adding a second convolutional layer"
   ],
   "metadata": {}
  },
  {
   "cell_type": "code",
   "execution_count": 36,
   "source": [
    "cnn.add(tf.keras.layers.Conv2D(filters=32, kernel_size=3, activation='tanh'))\r\n",
    "cnn.add(tf.keras.layers.MaxPool2D(pool_size=2, strides=2))"
   ],
   "outputs": [],
   "metadata": {}
  },
  {
   "cell_type": "markdown",
   "source": [
    "### Step 3 - Flattening"
   ],
   "metadata": {
    "colab_type": "text",
    "id": "tmiEuvTunKfk"
   }
  },
  {
   "cell_type": "code",
   "execution_count": 37,
   "source": [
    "cnn.add(tf.keras.layers.Flatten())"
   ],
   "outputs": [],
   "metadata": {
    "colab": {},
    "colab_type": "code",
    "id": "6AZeOGCvnNZn"
   }
  },
  {
   "cell_type": "markdown",
   "source": [
    "### Step 4 - Full Connection"
   ],
   "metadata": {
    "colab_type": "text",
    "id": "dAoSECOm203v"
   }
  },
  {
   "cell_type": "code",
   "execution_count": 38,
   "source": [
    "cnn.add(tf.keras.layers.Dense(units=128, activation='relu'))"
   ],
   "outputs": [],
   "metadata": {
    "colab": {},
    "colab_type": "code",
    "id": "8GtmUlLd26Nq"
   }
  },
  {
   "cell_type": "markdown",
   "source": [
    "### Step 5 - Output Layer"
   ],
   "metadata": {
    "colab_type": "text",
    "id": "yTldFvbX28Na"
   }
  },
  {
   "cell_type": "code",
   "execution_count": 39,
   "source": [
    "cnn.add(tf.keras.layers.Dense(units=1, activation='sigmoid'))"
   ],
   "outputs": [],
   "metadata": {
    "colab": {},
    "colab_type": "code",
    "id": "1p_Zj1Mc3Ko_"
   }
  },
  {
   "cell_type": "markdown",
   "source": [
    "## Part 3 - Training the CNN"
   ],
   "metadata": {
    "colab_type": "text",
    "id": "D6XkI90snSDl"
   }
  },
  {
   "cell_type": "markdown",
   "source": [
    "### Compiling the CNN"
   ],
   "metadata": {
    "colab_type": "text",
    "id": "vfrFQACEnc6i"
   }
  },
  {
   "cell_type": "code",
   "execution_count": 40,
   "source": [
    "cnn.compile(optimizer = 'adam', loss = 'binary_crossentropy', metrics = ['accuracy'])"
   ],
   "outputs": [],
   "metadata": {
    "colab": {},
    "colab_type": "code",
    "id": "NALksrNQpUlJ"
   }
  },
  {
   "cell_type": "markdown",
   "source": [
    "### Training the CNN on the Training set and evaluating it on the Test set"
   ],
   "metadata": {
    "colab_type": "text",
    "id": "ehS-v3MIpX2h"
   }
  },
  {
   "cell_type": "code",
   "execution_count": 41,
   "source": [
    "cnn.fit(x = training_set, validation_data = test_set, epochs = 25)"
   ],
   "outputs": [
    {
     "output_type": "stream",
     "name": "stdout",
     "text": [
      "Epoch 1/25\n",
      "250/250 [==============================] - 28s 111ms/step - loss: 0.6689 - accuracy: 0.5880 - val_loss: 0.6305 - val_accuracy: 0.6545\n",
      "Epoch 2/25\n",
      "250/250 [==============================] - 28s 112ms/step - loss: 0.5897 - accuracy: 0.6865 - val_loss: 0.5428 - val_accuracy: 0.7320\n",
      "Epoch 3/25\n",
      "250/250 [==============================] - 27s 108ms/step - loss: 0.5439 - accuracy: 0.7260 - val_loss: 0.5019 - val_accuracy: 0.7660\n",
      "Epoch 4/25\n",
      "250/250 [==============================] - 26s 103ms/step - loss: 0.5091 - accuracy: 0.7459 - val_loss: 0.4909 - val_accuracy: 0.7680\n",
      "Epoch 5/25\n",
      "250/250 [==============================] - 31s 125ms/step - loss: 0.4796 - accuracy: 0.7701 - val_loss: 0.4902 - val_accuracy: 0.7720\n",
      "Epoch 6/25\n",
      "250/250 [==============================] - 31s 126ms/step - loss: 0.4631 - accuracy: 0.7811 - val_loss: 0.4620 - val_accuracy: 0.7850\n",
      "Epoch 7/25\n",
      "250/250 [==============================] - 31s 123ms/step - loss: 0.4487 - accuracy: 0.7857 - val_loss: 0.4473 - val_accuracy: 0.7950\n",
      "Epoch 8/25\n",
      "250/250 [==============================] - 28s 111ms/step - loss: 0.4209 - accuracy: 0.8024 - val_loss: 0.4696 - val_accuracy: 0.7795\n",
      "Epoch 9/25\n",
      "250/250 [==============================] - 28s 112ms/step - loss: 0.4131 - accuracy: 0.8064 - val_loss: 0.4291 - val_accuracy: 0.8110\n",
      "Epoch 10/25\n",
      "250/250 [==============================] - 26s 105ms/step - loss: 0.4050 - accuracy: 0.8119 - val_loss: 0.4357 - val_accuracy: 0.8030\n",
      "Epoch 11/25\n",
      "250/250 [==============================] - 28s 110ms/step - loss: 0.3821 - accuracy: 0.8250 - val_loss: 0.4212 - val_accuracy: 0.8120\n",
      "Epoch 12/25\n",
      "250/250 [==============================] - 26s 105ms/step - loss: 0.3683 - accuracy: 0.8325 - val_loss: 0.4230 - val_accuracy: 0.8015\n",
      "Epoch 13/25\n",
      "250/250 [==============================] - 26s 104ms/step - loss: 0.3453 - accuracy: 0.8497 - val_loss: 0.4178 - val_accuracy: 0.8200\n",
      "Epoch 14/25\n",
      "250/250 [==============================] - 26s 105ms/step - loss: 0.3403 - accuracy: 0.8528 - val_loss: 0.4072 - val_accuracy: 0.8235\n",
      "Epoch 15/25\n",
      "250/250 [==============================] - 29s 115ms/step - loss: 0.3346 - accuracy: 0.8497 - val_loss: 0.4264 - val_accuracy: 0.8050\n",
      "Epoch 16/25\n",
      "250/250 [==============================] - 29s 118ms/step - loss: 0.3242 - accuracy: 0.8591 - val_loss: 0.4083 - val_accuracy: 0.8140\n",
      "Epoch 17/25\n",
      "250/250 [==============================] - 26s 102ms/step - loss: 0.3194 - accuracy: 0.8583 - val_loss: 0.4055 - val_accuracy: 0.8235\n",
      "Epoch 18/25\n",
      "250/250 [==============================] - 27s 107ms/step - loss: 0.2970 - accuracy: 0.8704 - val_loss: 0.4173 - val_accuracy: 0.8220\n",
      "Epoch 19/25\n",
      "250/250 [==============================] - 28s 111ms/step - loss: 0.2806 - accuracy: 0.8786 - val_loss: 0.4648 - val_accuracy: 0.7975\n",
      "Epoch 20/25\n",
      "250/250 [==============================] - 26s 104ms/step - loss: 0.2655 - accuracy: 0.8882 - val_loss: 0.4318 - val_accuracy: 0.8120\n",
      "Epoch 21/25\n",
      "250/250 [==============================] - 26s 103ms/step - loss: 0.2686 - accuracy: 0.8827 - val_loss: 0.4188 - val_accuracy: 0.8280\n",
      "Epoch 22/25\n",
      "250/250 [==============================] - 27s 106ms/step - loss: 0.2602 - accuracy: 0.8901 - val_loss: 0.4465 - val_accuracy: 0.8185\n",
      "Epoch 23/25\n",
      "250/250 [==============================] - 26s 103ms/step - loss: 0.2390 - accuracy: 0.8988 - val_loss: 0.4787 - val_accuracy: 0.8225\n",
      "Epoch 24/25\n",
      "250/250 [==============================] - 26s 102ms/step - loss: 0.2261 - accuracy: 0.9072 - val_loss: 0.4514 - val_accuracy: 0.8185\n",
      "Epoch 25/25\n",
      "250/250 [==============================] - 27s 106ms/step - loss: 0.2343 - accuracy: 0.9043 - val_loss: 0.4460 - val_accuracy: 0.8185\n"
     ]
    },
    {
     "output_type": "execute_result",
     "data": {
      "text/plain": [
       "<keras.callbacks.History at 0x1dee650dd90>"
      ]
     },
     "metadata": {},
     "execution_count": 41
    }
   ],
   "metadata": {
    "colab": {},
    "colab_type": "code",
    "id": "XUj1W4PJptta"
   }
  },
  {
   "cell_type": "markdown",
   "source": [
    "## Part 4 - Making a single prediction"
   ],
   "metadata": {
    "colab_type": "text",
    "id": "U3PZasO0006Z"
   }
  },
  {
   "cell_type": "code",
   "execution_count": 50,
   "source": [
    "import numpy as np\r\n",
    "from keras.preprocessing import image\r\n",
    "test_image = image.load_img('dataset/single_prediction/dog.jpg', target_size = (64, 64))\r\n",
    "test_image = image.img_to_array(test_image)\r\n",
    "test_image = np.expand_dims(test_image, axis = 0)\r\n",
    "result = cnn.predict(test_image)\r\n",
    "training_set.class_indices\r\n",
    "if result[0][0] == 1:\r\n",
    "  prediction = 'dog'\r\n",
    "else:\r\n",
    "  prediction = 'cat'"
   ],
   "outputs": [],
   "metadata": {
    "colab": {},
    "colab_type": "code",
    "id": "gsSiWEJY1BPB"
   }
  },
  {
   "cell_type": "code",
   "execution_count": 51,
   "source": [
    "print(prediction)"
   ],
   "outputs": [
    {
     "output_type": "stream",
     "name": "stdout",
     "text": [
      "1 -> dog\n",
      "2 -> cat\n",
      "3 -> dog\n",
      "4 -> dog\n",
      "5 -> dog\n",
      "6 -> cat\n",
      "7 -> cat\n",
      "8 -> dog\n",
      "9 -> dog\n",
      "10 -> dog\n",
      "11 -> dog\n",
      "12 -> cat\n"
     ]
    }
   ],
   "metadata": {
    "colab": {},
    "colab_type": "code",
    "id": "ED9KB3I54c1i"
   }
  },
  {
   "cell_type": "markdown",
   "source": [
    "## Fim"
   ],
   "metadata": {}
  }
 ],
 "metadata": {
  "colab": {
   "collapsed_sections": [],
   "name": "convolutional_neural_network.ipynb",
   "provenance": [],
   "toc_visible": true
  },
  "kernelspec": {
   "display_name": "Python 3 (ipykernel)",
   "language": "python",
   "name": "python3"
  },
  "language_info": {
   "name": "python",
   "version": "3.9.6",
   "mimetype": "text/x-python",
   "codemirror_mode": {
    "name": "ipython",
    "version": 3
   },
   "pygments_lexer": "ipython3",
   "nbconvert_exporter": "python",
   "file_extension": ".py"
  }
 },
 "nbformat": 4,
 "nbformat_minor": 4
}