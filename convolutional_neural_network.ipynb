{
 "cells": [
  {
   "cell_type": "markdown",
   "metadata": {
    "colab_type": "text",
    "id": "3DR-eO17geWu"
   },
   "source": [
    "# Convolutional Neural Network"
   ]
  },
  {
   "cell_type": "markdown",
   "metadata": {
    "colab_type": "text",
    "id": "EMefrVPCg-60"
   },
   "source": [
    "### Importing the libraries"
   ]
  },
  {
   "cell_type": "code",
   "execution_count": 1,
   "metadata": {},
   "outputs": [
    {
     "name": "stdout",
     "output_type": "stream",
     "text": [
      "Requirement already satisfied: tensorflow in /media/jonathan_oliveira/hd-jhon/UNB/Deep Learning/exercises/env/lib/python3.8/site-packages (2.8.0)\n",
      "Requirement already satisfied: keras in /media/jonathan_oliveira/hd-jhon/UNB/Deep Learning/exercises/env/lib/python3.8/site-packages (2.8.0)\n",
      "Requirement already satisfied: Pillow in /media/jonathan_oliveira/hd-jhon/UNB/Deep Learning/exercises/env/lib/python3.8/site-packages (9.0.1)\n",
      "Requirement already satisfied: tensorflow-io-gcs-filesystem>=0.23.1 in /media/jonathan_oliveira/hd-jhon/UNB/Deep Learning/exercises/env/lib/python3.8/site-packages (from tensorflow) (0.24.0)\n",
      "Requirement already satisfied: opt-einsum>=2.3.2 in /media/jonathan_oliveira/hd-jhon/UNB/Deep Learning/exercises/env/lib/python3.8/site-packages (from tensorflow) (3.3.0)\n",
      "Requirement already satisfied: libclang>=9.0.1 in /media/jonathan_oliveira/hd-jhon/UNB/Deep Learning/exercises/env/lib/python3.8/site-packages (from tensorflow) (13.0.0)\n",
      "Requirement already satisfied: keras-preprocessing>=1.1.1 in /media/jonathan_oliveira/hd-jhon/UNB/Deep Learning/exercises/env/lib/python3.8/site-packages (from tensorflow) (1.1.2)\n",
      "Requirement already satisfied: absl-py>=0.4.0 in /media/jonathan_oliveira/hd-jhon/UNB/Deep Learning/exercises/env/lib/python3.8/site-packages (from tensorflow) (1.0.0)\n",
      "Requirement already satisfied: numpy>=1.20 in /media/jonathan_oliveira/hd-jhon/UNB/Deep Learning/exercises/env/lib/python3.8/site-packages (from tensorflow) (1.22.3)\n",
      "Requirement already satisfied: setuptools in /media/jonathan_oliveira/hd-jhon/UNB/Deep Learning/exercises/env/lib/python3.8/site-packages (from tensorflow) (44.0.0)\n",
      "Requirement already satisfied: gast>=0.2.1 in /media/jonathan_oliveira/hd-jhon/UNB/Deep Learning/exercises/env/lib/python3.8/site-packages (from tensorflow) (0.5.3)\n",
      "Requirement already satisfied: termcolor>=1.1.0 in /media/jonathan_oliveira/hd-jhon/UNB/Deep Learning/exercises/env/lib/python3.8/site-packages (from tensorflow) (1.1.0)\n",
      "Requirement already satisfied: h5py>=2.9.0 in /media/jonathan_oliveira/hd-jhon/UNB/Deep Learning/exercises/env/lib/python3.8/site-packages (from tensorflow) (3.6.0)\n",
      "Requirement already satisfied: grpcio<2.0,>=1.24.3 in /media/jonathan_oliveira/hd-jhon/UNB/Deep Learning/exercises/env/lib/python3.8/site-packages (from tensorflow) (1.43.0)\n",
      "Requirement already satisfied: astunparse>=1.6.0 in /media/jonathan_oliveira/hd-jhon/UNB/Deep Learning/exercises/env/lib/python3.8/site-packages (from tensorflow) (1.6.3)\n",
      "Requirement already satisfied: protobuf>=3.9.2 in /media/jonathan_oliveira/hd-jhon/UNB/Deep Learning/exercises/env/lib/python3.8/site-packages (from tensorflow) (3.19.4)\n",
      "Requirement already satisfied: flatbuffers>=1.12 in /media/jonathan_oliveira/hd-jhon/UNB/Deep Learning/exercises/env/lib/python3.8/site-packages (from tensorflow) (2.0)\n",
      "Requirement already satisfied: google-pasta>=0.1.1 in /media/jonathan_oliveira/hd-jhon/UNB/Deep Learning/exercises/env/lib/python3.8/site-packages (from tensorflow) (0.2.0)\n",
      "Requirement already satisfied: six>=1.12.0 in /media/jonathan_oliveira/hd-jhon/UNB/Deep Learning/exercises/env/lib/python3.8/site-packages (from tensorflow) (1.16.0)\n",
      "Requirement already satisfied: tensorboard<2.9,>=2.8 in /media/jonathan_oliveira/hd-jhon/UNB/Deep Learning/exercises/env/lib/python3.8/site-packages (from tensorflow) (2.8.0)\n",
      "Requirement already satisfied: wrapt>=1.11.0 in /media/jonathan_oliveira/hd-jhon/UNB/Deep Learning/exercises/env/lib/python3.8/site-packages (from tensorflow) (1.13.3)\n",
      "Requirement already satisfied: tf-estimator-nightly==2.8.0.dev2021122109 in /media/jonathan_oliveira/hd-jhon/UNB/Deep Learning/exercises/env/lib/python3.8/site-packages (from tensorflow) (2.8.0.dev2021122109)\n",
      "Requirement already satisfied: typing-extensions>=3.6.6 in /media/jonathan_oliveira/hd-jhon/UNB/Deep Learning/exercises/env/lib/python3.8/site-packages (from tensorflow) (4.1.0)\n",
      "Requirement already satisfied: wheel<1.0,>=0.23.0 in /media/jonathan_oliveira/hd-jhon/UNB/Deep Learning/exercises/env/lib/python3.8/site-packages (from astunparse>=1.6.0->tensorflow) (0.34.2)\n",
      "Requirement already satisfied: werkzeug>=0.11.15 in /media/jonathan_oliveira/hd-jhon/UNB/Deep Learning/exercises/env/lib/python3.8/site-packages (from tensorboard<2.9,>=2.8->tensorflow) (2.0.3)\n",
      "Requirement already satisfied: requests<3,>=2.21.0 in /media/jonathan_oliveira/hd-jhon/UNB/Deep Learning/exercises/env/lib/python3.8/site-packages (from tensorboard<2.9,>=2.8->tensorflow) (2.27.1)\n",
      "Requirement already satisfied: tensorboard-data-server<0.7.0,>=0.6.0 in /media/jonathan_oliveira/hd-jhon/UNB/Deep Learning/exercises/env/lib/python3.8/site-packages (from tensorboard<2.9,>=2.8->tensorflow) (0.6.1)\n",
      "Requirement already satisfied: google-auth-oauthlib<0.5,>=0.4.1 in /media/jonathan_oliveira/hd-jhon/UNB/Deep Learning/exercises/env/lib/python3.8/site-packages (from tensorboard<2.9,>=2.8->tensorflow) (0.4.6)\n",
      "Requirement already satisfied: tensorboard-plugin-wit>=1.6.0 in /media/jonathan_oliveira/hd-jhon/UNB/Deep Learning/exercises/env/lib/python3.8/site-packages (from tensorboard<2.9,>=2.8->tensorflow) (1.8.1)\n",
      "Requirement already satisfied: google-auth<3,>=1.6.3 in /media/jonathan_oliveira/hd-jhon/UNB/Deep Learning/exercises/env/lib/python3.8/site-packages (from tensorboard<2.9,>=2.8->tensorflow) (2.6.0)\n",
      "Requirement already satisfied: markdown>=2.6.8 in /media/jonathan_oliveira/hd-jhon/UNB/Deep Learning/exercises/env/lib/python3.8/site-packages (from tensorboard<2.9,>=2.8->tensorflow) (3.3.6)\n",
      "Requirement already satisfied: cachetools<6.0,>=2.0.0 in /media/jonathan_oliveira/hd-jhon/UNB/Deep Learning/exercises/env/lib/python3.8/site-packages (from google-auth<3,>=1.6.3->tensorboard<2.9,>=2.8->tensorflow) (5.0.0)\n",
      "Requirement already satisfied: rsa<5,>=3.1.4 in /media/jonathan_oliveira/hd-jhon/UNB/Deep Learning/exercises/env/lib/python3.8/site-packages (from google-auth<3,>=1.6.3->tensorboard<2.9,>=2.8->tensorflow) (4.8)\n",
      "Requirement already satisfied: pyasn1-modules>=0.2.1 in /media/jonathan_oliveira/hd-jhon/UNB/Deep Learning/exercises/env/lib/python3.8/site-packages (from google-auth<3,>=1.6.3->tensorboard<2.9,>=2.8->tensorflow) (0.2.8)\n",
      "Requirement already satisfied: requests-oauthlib>=0.7.0 in /media/jonathan_oliveira/hd-jhon/UNB/Deep Learning/exercises/env/lib/python3.8/site-packages (from google-auth-oauthlib<0.5,>=0.4.1->tensorboard<2.9,>=2.8->tensorflow) (1.3.1)\n",
      "Requirement already satisfied: importlib-metadata>=4.4 in /media/jonathan_oliveira/hd-jhon/UNB/Deep Learning/exercises/env/lib/python3.8/site-packages (from markdown>=2.6.8->tensorboard<2.9,>=2.8->tensorflow) (4.11.0)\n",
      "Requirement already satisfied: charset-normalizer~=2.0.0 in /media/jonathan_oliveira/hd-jhon/UNB/Deep Learning/exercises/env/lib/python3.8/site-packages (from requests<3,>=2.21.0->tensorboard<2.9,>=2.8->tensorflow) (2.0.12)\n",
      "Requirement already satisfied: certifi>=2017.4.17 in /media/jonathan_oliveira/hd-jhon/UNB/Deep Learning/exercises/env/lib/python3.8/site-packages (from requests<3,>=2.21.0->tensorboard<2.9,>=2.8->tensorflow) (2021.10.8)\n",
      "Requirement already satisfied: urllib3<1.27,>=1.21.1 in /media/jonathan_oliveira/hd-jhon/UNB/Deep Learning/exercises/env/lib/python3.8/site-packages (from requests<3,>=2.21.0->tensorboard<2.9,>=2.8->tensorflow) (1.26.8)\n",
      "Requirement already satisfied: idna<4,>=2.5 in /media/jonathan_oliveira/hd-jhon/UNB/Deep Learning/exercises/env/lib/python3.8/site-packages (from requests<3,>=2.21.0->tensorboard<2.9,>=2.8->tensorflow) (3.3)\n",
      "Requirement already satisfied: zipp>=0.5 in /media/jonathan_oliveira/hd-jhon/UNB/Deep Learning/exercises/env/lib/python3.8/site-packages (from importlib-metadata>=4.4->markdown>=2.6.8->tensorboard<2.9,>=2.8->tensorflow) (3.7.0)\n",
      "Requirement already satisfied: pyasn1<0.5.0,>=0.4.6 in /media/jonathan_oliveira/hd-jhon/UNB/Deep Learning/exercises/env/lib/python3.8/site-packages (from pyasn1-modules>=0.2.1->google-auth<3,>=1.6.3->tensorboard<2.9,>=2.8->tensorflow) (0.4.8)\n",
      "Requirement already satisfied: oauthlib>=3.0.0 in /media/jonathan_oliveira/hd-jhon/UNB/Deep Learning/exercises/env/lib/python3.8/site-packages (from requests-oauthlib>=0.7.0->google-auth-oauthlib<0.5,>=0.4.1->tensorboard<2.9,>=2.8->tensorflow) (3.2.0)\n"
     ]
    }
   ],
   "source": [
    "!pip install --upgrade tensorflow keras Pillow"
   ]
  },
  {
   "cell_type": "code",
   "execution_count": 2,
   "metadata": {
    "colab": {},
    "colab_type": "code",
    "id": "sCV30xyVhFbE"
   },
   "outputs": [],
   "source": [
    "import os\n",
    "import tensorflow as tf\n",
    "from keras.preprocessing.image import ImageDataGenerator\n",
    "from tensorflow.keras.optimizers import SGD"
   ]
  },
  {
   "cell_type": "code",
   "execution_count": 3,
   "metadata": {},
   "outputs": [],
   "source": [
    "\n",
    "os.environ['CUDA_VISIBLE_DEVICES'] = '-1'"
   ]
  },
  {
   "cell_type": "code",
   "execution_count": 4,
   "metadata": {
    "colab": {},
    "colab_type": "code",
    "id": "FIleuCAjoFD8"
   },
   "outputs": [
    {
     "data": {
      "text/plain": [
       "'2.8.0'"
      ]
     },
     "execution_count": 4,
     "metadata": {},
     "output_type": "execute_result"
    }
   ],
   "source": [
    "tf.__version__"
   ]
  },
  {
   "cell_type": "markdown",
   "metadata": {
    "colab_type": "text",
    "id": "oxQxCBWyoGPE"
   },
   "source": [
    "## Part 1 - Data Preprocessing"
   ]
  },
  {
   "cell_type": "markdown",
   "metadata": {
    "colab_type": "text",
    "id": "MvE-heJNo3GG"
   },
   "source": [
    "### Preprocessing the Training set"
   ]
  },
  {
   "cell_type": "code",
   "execution_count": 5,
   "metadata": {
    "colab": {},
    "colab_type": "code",
    "id": "0koUcJMJpEBD"
   },
   "outputs": [
    {
     "name": "stdout",
     "output_type": "stream",
     "text": [
      "Found 8000 images belonging to 2 classes.\n"
     ]
    }
   ],
   "source": [
    "train_datagen = ImageDataGenerator(rescale = 1./255,\n",
    "                                   shear_range = 0.2,\n",
    "                                   zoom_range = 0.2,\n",
    "                                   horizontal_flip = True)\n",
    "training_set = train_datagen.flow_from_directory('dataset/training_set',\n",
    "                                                 target_size = (64, 64),\n",
    "                                                 batch_size = 32,\n",
    "                                                 class_mode = 'binary')"
   ]
  },
  {
   "cell_type": "markdown",
   "metadata": {
    "colab_type": "text",
    "id": "mrCMmGw9pHys"
   },
   "source": [
    "### Preprocessing the Test set"
   ]
  },
  {
   "cell_type": "code",
   "execution_count": 6,
   "metadata": {
    "colab": {},
    "colab_type": "code",
    "id": "SH4WzfOhpKc3"
   },
   "outputs": [
    {
     "name": "stdout",
     "output_type": "stream",
     "text": [
      "Found 2000 images belonging to 2 classes.\n"
     ]
    }
   ],
   "source": [
    "test_datagen = ImageDataGenerator(rescale = 1./255)\n",
    "test_set = test_datagen.flow_from_directory('dataset/test_set',\n",
    "                                            target_size = (64, 64),\n",
    "                                            batch_size = 32,\n",
    "                                            class_mode = 'binary')"
   ]
  },
  {
   "cell_type": "markdown",
   "metadata": {
    "colab_type": "text",
    "id": "af8O4l90gk7B"
   },
   "source": [
    "## Part 2 - Building the CNN"
   ]
  },
  {
   "cell_type": "markdown",
   "metadata": {
    "colab_type": "text",
    "id": "ces1gXY2lmoX"
   },
   "source": [
    "### Initialising the CNN"
   ]
  },
  {
   "cell_type": "code",
   "execution_count": 7,
   "metadata": {
    "colab": {},
    "colab_type": "code",
    "id": "SAUt4UMPlhLS"
   },
   "outputs": [
    {
     "name": "stderr",
     "output_type": "stream",
     "text": [
      "2022-03-26 22:50:24.898630: E tensorflow/stream_executor/cuda/cuda_driver.cc:271] failed call to cuInit: CUDA_ERROR_NO_DEVICE: no CUDA-capable device is detected\n",
      "2022-03-26 22:50:24.898693: I tensorflow/stream_executor/cuda/cuda_diagnostics.cc:156] kernel driver does not appear to be running on this host (ubuntu): /proc/driver/nvidia/version does not exist\n",
      "2022-03-26 22:50:24.900467: I tensorflow/core/platform/cpu_feature_guard.cc:151] This TensorFlow binary is optimized with oneAPI Deep Neural Network Library (oneDNN) to use the following CPU instructions in performance-critical operations:  AVX2 FMA\n",
      "To enable them in other operations, rebuild TensorFlow with the appropriate compiler flags.\n"
     ]
    }
   ],
   "source": [
    "cnn = tf.keras.models.Sequential()"
   ]
  },
  {
   "cell_type": "markdown",
   "metadata": {
    "colab_type": "text",
    "id": "u5YJj_XMl5LF"
   },
   "source": [
    "### Step 1 - Convolution"
   ]
  },
  {
   "cell_type": "code",
   "execution_count": 8,
   "metadata": {
    "colab": {},
    "colab_type": "code",
    "id": "XPzPrMckl-hV"
   },
   "outputs": [],
   "source": [
    "cnn.add(tf.keras.layers.Conv2D(filters=32, kernel_size=3, activation='relu', kernel_initializer='he_uniform', padding='same',input_shape=[64, 64, 3]))"
   ]
  },
  {
   "cell_type": "markdown",
   "metadata": {
    "colab_type": "text",
    "id": "tf87FpvxmNOJ"
   },
   "source": [
    "### Step 2 - Pooling"
   ]
  },
  {
   "cell_type": "code",
   "execution_count": 9,
   "metadata": {
    "colab": {},
    "colab_type": "code",
    "id": "ncpqPl69mOac"
   },
   "outputs": [],
   "source": [
    "cnn.add(tf.keras.layers.MaxPool2D(pool_size=2, strides=2))\n",
    "cnn.add(tf.keras.layers.Dropout(0.2))"
   ]
  },
  {
   "cell_type": "markdown",
   "metadata": {
    "colab_type": "text",
    "id": "xaTOgD8rm4mU"
   },
   "source": [
    "### Adding a second convolutional layer"
   ]
  },
  {
   "cell_type": "code",
   "execution_count": 10,
   "metadata": {
    "colab": {},
    "colab_type": "code",
    "id": "i_-FZjn_m8gk"
   },
   "outputs": [],
   "source": [
    "cnn.add(tf.keras.layers.Conv2D(64, (3, 3), activation='relu', kernel_initializer='he_uniform', padding='same'))\n",
    "cnn.add(tf.keras.layers.MaxPool2D(((2, 2))))\n",
    "cnn.add(tf.keras.layers.Dropout(0.2))"
   ]
  },
  {
   "cell_type": "markdown",
   "metadata": {},
   "source": [
    "### Adding a third convolutional layer"
   ]
  },
  {
   "cell_type": "code",
   "execution_count": 11,
   "metadata": {},
   "outputs": [],
   "source": [
    "cnn.add(tf.keras.layers.Conv2D(128, (3, 3), activation='relu', kernel_initializer='he_uniform', padding='same'))\n",
    "cnn.add(tf.keras.layers.MaxPooling2D((2, 2)))\n",
    "cnn.add(tf.keras.layers.Dropout(0.2))"
   ]
  },
  {
   "cell_type": "markdown",
   "metadata": {
    "colab_type": "text",
    "id": "tmiEuvTunKfk"
   },
   "source": [
    "### Step 3 - Flattening"
   ]
  },
  {
   "cell_type": "code",
   "execution_count": 12,
   "metadata": {
    "colab": {},
    "colab_type": "code",
    "id": "6AZeOGCvnNZn"
   },
   "outputs": [],
   "source": [
    "cnn.add(tf.keras.layers.Flatten())"
   ]
  },
  {
   "cell_type": "markdown",
   "metadata": {
    "colab_type": "text",
    "id": "dAoSECOm203v"
   },
   "source": [
    "### Step 4 - Full Connection"
   ]
  },
  {
   "cell_type": "code",
   "execution_count": 13,
   "metadata": {
    "colab": {},
    "colab_type": "code",
    "id": "8GtmUlLd26Nq"
   },
   "outputs": [],
   "source": [
    "cnn.add(tf.keras.layers.Dense(units=128, activation='relu'))"
   ]
  },
  {
   "cell_type": "markdown",
   "metadata": {
    "colab_type": "text",
    "id": "yTldFvbX28Na"
   },
   "source": [
    "### Step 5 - Output Layer"
   ]
  },
  {
   "cell_type": "code",
   "execution_count": 14,
   "metadata": {
    "colab": {},
    "colab_type": "code",
    "id": "1p_Zj1Mc3Ko_"
   },
   "outputs": [],
   "source": [
    "cnn.add(tf.keras.layers.Dense(units=1, activation='sigmoid'))"
   ]
  },
  {
   "cell_type": "markdown",
   "metadata": {
    "colab_type": "text",
    "id": "D6XkI90snSDl"
   },
   "source": [
    "## Part 3 - Training the CNN"
   ]
  },
  {
   "cell_type": "markdown",
   "metadata": {},
   "source": [
    "## Define optimizer"
   ]
  },
  {
   "cell_type": "code",
   "execution_count": 15,
   "metadata": {},
   "outputs": [],
   "source": [
    "opt = SGD(learning_rate=0.001, momentum=0.9)"
   ]
  },
  {
   "cell_type": "markdown",
   "metadata": {
    "colab_type": "text",
    "id": "vfrFQACEnc6i"
   },
   "source": [
    "### Compiling the CNN"
   ]
  },
  {
   "cell_type": "code",
   "execution_count": 16,
   "metadata": {
    "colab": {},
    "colab_type": "code",
    "id": "NALksrNQpUlJ"
   },
   "outputs": [],
   "source": [
    "cnn.compile(optimizer=opt, loss='binary_crossentropy', metrics=['accuracy'])"
   ]
  },
  {
   "cell_type": "markdown",
   "metadata": {
    "colab_type": "text",
    "id": "ehS-v3MIpX2h"
   },
   "source": [
    "### Training the CNN on the Training set and evaluating it on the Test set"
   ]
  },
  {
   "cell_type": "code",
   "execution_count": 17,
   "metadata": {},
   "outputs": [],
   "source": [
    "#cnn.fit(x = training_set, validation_data = test_set, epochs = 25)"
   ]
  },
  {
   "cell_type": "code",
   "execution_count": 18,
   "metadata": {},
   "outputs": [
    {
     "name": "stdout",
     "output_type": "stream",
     "text": [
      "Epoch 1/50\n",
      "250/250 [==============================] - 46s 180ms/step - loss: 0.7059 - accuracy: 0.5487 - val_loss: 0.6783 - val_accuracy: 0.5455\n",
      "Epoch 2/50\n",
      "250/250 [==============================] - 54s 217ms/step - loss: 0.6748 - accuracy: 0.5751 - val_loss: 0.6733 - val_accuracy: 0.5425\n",
      "Epoch 3/50\n",
      "250/250 [==============================] - 55s 219ms/step - loss: 0.6613 - accuracy: 0.5926 - val_loss: 0.6597 - val_accuracy: 0.5870\n",
      "Epoch 4/50\n",
      "250/250 [==============================] - 57s 228ms/step - loss: 0.6585 - accuracy: 0.6083 - val_loss: 0.6495 - val_accuracy: 0.6300\n",
      "Epoch 5/50\n",
      "250/250 [==============================] - 54s 217ms/step - loss: 0.6449 - accuracy: 0.6165 - val_loss: 0.6391 - val_accuracy: 0.6475\n",
      "Epoch 6/50\n",
      "250/250 [==============================] - 57s 228ms/step - loss: 0.6315 - accuracy: 0.6351 - val_loss: 0.6280 - val_accuracy: 0.6520\n",
      "Epoch 7/50\n",
      "250/250 [==============================] - 60s 239ms/step - loss: 0.6194 - accuracy: 0.6557 - val_loss: 0.6135 - val_accuracy: 0.6695\n",
      "Epoch 8/50\n",
      "250/250 [==============================] - 57s 229ms/step - loss: 0.6136 - accuracy: 0.6511 - val_loss: 0.6244 - val_accuracy: 0.6505\n",
      "Epoch 9/50\n",
      "250/250 [==============================] - 55s 218ms/step - loss: 0.6040 - accuracy: 0.6689 - val_loss: 0.5987 - val_accuracy: 0.6830\n",
      "Epoch 10/50\n",
      "250/250 [==============================] - 58s 230ms/step - loss: 0.5975 - accuracy: 0.6764 - val_loss: 0.5916 - val_accuracy: 0.6880\n",
      "Epoch 11/50\n",
      "250/250 [==============================] - 63s 251ms/step - loss: 0.5978 - accuracy: 0.6736 - val_loss: 0.5964 - val_accuracy: 0.6715\n",
      "Epoch 12/50\n",
      "250/250 [==============================] - 56s 225ms/step - loss: 0.5840 - accuracy: 0.6854 - val_loss: 0.5814 - val_accuracy: 0.6925\n",
      "Epoch 13/50\n",
      "250/250 [==============================] - 58s 232ms/step - loss: 0.5778 - accuracy: 0.7039 - val_loss: 0.5773 - val_accuracy: 0.7015\n",
      "Epoch 14/50\n",
      "250/250 [==============================] - 56s 224ms/step - loss: 0.5758 - accuracy: 0.6970 - val_loss: 0.5660 - val_accuracy: 0.7065\n",
      "Epoch 15/50\n",
      "250/250 [==============================] - 57s 230ms/step - loss: 0.5677 - accuracy: 0.7036 - val_loss: 0.5569 - val_accuracy: 0.7155\n",
      "Epoch 16/50\n",
      "250/250 [==============================] - 53s 214ms/step - loss: 0.5668 - accuracy: 0.6984 - val_loss: 0.5550 - val_accuracy: 0.7165\n",
      "Epoch 17/50\n",
      "250/250 [==============================] - 57s 226ms/step - loss: 0.5623 - accuracy: 0.7086 - val_loss: 0.5811 - val_accuracy: 0.6835\n",
      "Epoch 18/50\n",
      "250/250 [==============================] - 56s 223ms/step - loss: 0.5586 - accuracy: 0.7078 - val_loss: 0.5520 - val_accuracy: 0.7150\n",
      "Epoch 19/50\n",
      "250/250 [==============================] - 58s 230ms/step - loss: 0.5582 - accuracy: 0.7111 - val_loss: 0.5410 - val_accuracy: 0.7365\n",
      "Epoch 20/50\n",
      "250/250 [==============================] - 54s 217ms/step - loss: 0.5471 - accuracy: 0.7209 - val_loss: 0.5581 - val_accuracy: 0.7075\n",
      "Epoch 21/50\n",
      "250/250 [==============================] - 55s 222ms/step - loss: 0.5479 - accuracy: 0.7164 - val_loss: 0.5370 - val_accuracy: 0.7440\n",
      "Epoch 22/50\n",
      "250/250 [==============================] - 53s 211ms/step - loss: 0.5441 - accuracy: 0.7212 - val_loss: 0.5423 - val_accuracy: 0.7245\n",
      "Epoch 23/50\n",
      "250/250 [==============================] - 56s 222ms/step - loss: 0.5373 - accuracy: 0.7274 - val_loss: 0.5350 - val_accuracy: 0.7255\n",
      "Epoch 24/50\n",
      "250/250 [==============================] - 53s 213ms/step - loss: 0.5299 - accuracy: 0.7374 - val_loss: 0.5366 - val_accuracy: 0.7345\n",
      "Epoch 25/50\n",
      "250/250 [==============================] - 53s 211ms/step - loss: 0.5322 - accuracy: 0.7327 - val_loss: 0.5142 - val_accuracy: 0.7495\n",
      "Epoch 26/50\n",
      "250/250 [==============================] - 55s 221ms/step - loss: 0.5318 - accuracy: 0.7287 - val_loss: 0.5146 - val_accuracy: 0.7500\n",
      "Epoch 27/50\n",
      "250/250 [==============================] - 53s 211ms/step - loss: 0.5276 - accuracy: 0.7374 - val_loss: 0.5073 - val_accuracy: 0.7500\n",
      "Epoch 28/50\n",
      "250/250 [==============================] - 56s 224ms/step - loss: 0.5148 - accuracy: 0.7496 - val_loss: 0.4973 - val_accuracy: 0.7580\n",
      "Epoch 29/50\n",
      "250/250 [==============================] - 54s 215ms/step - loss: 0.5155 - accuracy: 0.7475 - val_loss: 0.4991 - val_accuracy: 0.7600\n",
      "Epoch 30/50\n",
      "250/250 [==============================] - 55s 221ms/step - loss: 0.5170 - accuracy: 0.7469 - val_loss: 0.5045 - val_accuracy: 0.7595\n",
      "Epoch 31/50\n",
      "250/250 [==============================] - 53s 213ms/step - loss: 0.5088 - accuracy: 0.7496 - val_loss: 0.4921 - val_accuracy: 0.7590\n",
      "Epoch 32/50\n",
      "250/250 [==============================] - 55s 222ms/step - loss: 0.5028 - accuracy: 0.7549 - val_loss: 0.4932 - val_accuracy: 0.7640\n",
      "Epoch 33/50\n",
      "250/250 [==============================] - 61s 243ms/step - loss: 0.4980 - accuracy: 0.7606 - val_loss: 0.4990 - val_accuracy: 0.7525\n",
      "Epoch 34/50\n",
      "250/250 [==============================] - 60s 241ms/step - loss: 0.4894 - accuracy: 0.7656 - val_loss: 0.4837 - val_accuracy: 0.7660\n",
      "Epoch 35/50\n",
      "250/250 [==============================] - 57s 227ms/step - loss: 0.4901 - accuracy: 0.7623 - val_loss: 0.4745 - val_accuracy: 0.7670\n",
      "Epoch 36/50\n",
      "250/250 [==============================] - 59s 235ms/step - loss: 0.4849 - accuracy: 0.7684 - val_loss: 0.4793 - val_accuracy: 0.7685\n",
      "Epoch 37/50\n",
      "250/250 [==============================] - 57s 228ms/step - loss: 0.4863 - accuracy: 0.7644 - val_loss: 0.4762 - val_accuracy: 0.7660\n",
      "Epoch 38/50\n",
      "250/250 [==============================] - 61s 244ms/step - loss: 0.4827 - accuracy: 0.7663 - val_loss: 0.4682 - val_accuracy: 0.7810\n",
      "Epoch 39/50\n",
      "250/250 [==============================] - 54s 215ms/step - loss: 0.4766 - accuracy: 0.7734 - val_loss: 0.4739 - val_accuracy: 0.7775\n",
      "Epoch 40/50\n",
      "250/250 [==============================] - 57s 227ms/step - loss: 0.4731 - accuracy: 0.7711 - val_loss: 0.4621 - val_accuracy: 0.7760\n",
      "Epoch 41/50\n",
      "250/250 [==============================] - 59s 235ms/step - loss: 0.4703 - accuracy: 0.7736 - val_loss: 0.4866 - val_accuracy: 0.7615\n",
      "Epoch 42/50\n",
      "250/250 [==============================] - 54s 215ms/step - loss: 0.4629 - accuracy: 0.7766 - val_loss: 0.4549 - val_accuracy: 0.7815\n",
      "Epoch 43/50\n",
      "250/250 [==============================] - 61s 243ms/step - loss: 0.4623 - accuracy: 0.7825 - val_loss: 0.4834 - val_accuracy: 0.7625\n",
      "Epoch 44/50\n",
      "250/250 [==============================] - 64s 258ms/step - loss: 0.4653 - accuracy: 0.7805 - val_loss: 0.4595 - val_accuracy: 0.7745\n",
      "Epoch 45/50\n",
      "250/250 [==============================] - 57s 226ms/step - loss: 0.4608 - accuracy: 0.7807 - val_loss: 0.4671 - val_accuracy: 0.7665\n",
      "Epoch 46/50\n",
      "250/250 [==============================] - 59s 234ms/step - loss: 0.4529 - accuracy: 0.7839 - val_loss: 0.4524 - val_accuracy: 0.7930\n",
      "Epoch 47/50\n",
      "250/250 [==============================] - 61s 244ms/step - loss: 0.4576 - accuracy: 0.7891 - val_loss: 0.4523 - val_accuracy: 0.7860\n",
      "Epoch 48/50\n",
      "250/250 [==============================] - 77s 308ms/step - loss: 0.4491 - accuracy: 0.7829 - val_loss: 0.4438 - val_accuracy: 0.7815\n",
      "Epoch 49/50\n",
      "250/250 [==============================] - 57s 228ms/step - loss: 0.4491 - accuracy: 0.7860 - val_loss: 0.4429 - val_accuracy: 0.7910\n",
      "Epoch 50/50\n",
      "250/250 [==============================] - 58s 233ms/step - loss: 0.4455 - accuracy: 0.7897 - val_loss: 0.4408 - val_accuracy: 0.7900\n"
     ]
    }
   ],
   "source": [
    "history = cnn.fit(training_set, steps_per_epoch=len(training_set),validation_data=test_set, validation_steps=len(test_set), epochs=50)"
   ]
  },
  {
   "cell_type": "code",
   "execution_count": 19,
   "metadata": {},
   "outputs": [],
   "source": [
    "from matplotlib import pyplot"
   ]
  },
  {
   "cell_type": "markdown",
   "metadata": {},
   "source": [
    "## Part 4 - Plot diagnostic learning curves"
   ]
  },
  {
   "cell_type": "code",
   "execution_count": 34,
   "metadata": {
    "scrolled": false
   },
   "outputs": [
    {
     "data": {
      "text/plain": [
       "[<matplotlib.lines.Line2D at 0x7f956600fd60>]"
      ]
     },
     "execution_count": 34,
     "metadata": {},
     "output_type": "execute_result"
    },
    {
     "data": {
      "image/png": "[encoded data removed]",
      "text/plain": [
       "<Figure size 432x288 with 1 Axes>"
      ]
     },
     "metadata": {
      "needs_background": "light"
     },
     "output_type": "display_data"
    }
   ],
   "source": [
    "\n",
    "pyplot.title('Cross Entropy Loss')\n",
    "pyplot.plot(history.history['loss'], color='blue', label='train')\n",
    "pyplot.plot(history.history['val_loss'], color='orange', label='test')\n"
   ]
  },
  {
   "cell_type": "markdown",
   "metadata": {},
   "source": [
    "## Part 5 - Plot accuracy"
   ]
  },
  {
   "cell_type": "code",
   "execution_count": 35,
   "metadata": {},
   "outputs": [
    {
     "data": {
      "text/plain": [
       "[<matplotlib.lines.Line2D at 0x7f95657f86a0>]"
      ]
     },
     "execution_count": 35,
     "metadata": {},
     "output_type": "execute_result"
    },
    {
     "data": {
      "image/png": "[encoded data removed]",
      "text/plain": [
       "<Figure size 432x288 with 1 Axes>"
      ]
     },
     "metadata": {
      "needs_background": "light"
     },
     "output_type": "display_data"
    }
   ],
   "source": [
    "\n",
    "pyplot.title('Classification Accuracy')\n",
    "pyplot.plot(history.history['accuracy'], color='blue', label='train')\n",
    "pyplot.plot(history.history['val_accuracy'], color='orange', label='test')"
   ]
  },
  {
   "cell_type": "markdown",
   "metadata": {
    "colab_type": "text",
    "id": "U3PZasO0006Z"
   },
   "source": [
    "## Part 5 - Making a single prediction"
   ]
  },
  {
   "cell_type": "code",
   "execution_count": 26,
   "metadata": {
    "colab": {},
    "colab_type": "code",
    "id": "gsSiWEJY1BPB"
   },
   "outputs": [],
   "source": [
    "import numpy as np\n",
    "from keras.preprocessing import image\n",
    "test_image = image.load_img('dataset/single_prediction/cat_or_dog_1.jpg', target_size = (64, 64))\n",
    "test_image = image.img_to_array(test_image)\n",
    "test_image = np.expand_dims(test_image, axis = 0)\n",
    "result = cnn.predict(test_image)\n",
    "training_set.class_indices\n",
    "if result[0][0] == 1:\n",
    "  prediction = 'dog'\n",
    "else:\n",
    "  prediction = 'cat'"
   ]
  },
  {
   "cell_type": "code",
   "execution_count": 27,
   "metadata": {
    "colab": {},
    "colab_type": "code",
    "id": "ED9KB3I54c1i"
   },
   "outputs": [
    {
     "name": "stdout",
     "output_type": "stream",
     "text": [
      "dog\n"
     ]
    }
   ],
   "source": [
    "print(prediction)"
   ]
  },
  {
   "cell_type": "markdown",
   "metadata": {},
   "source": [
    "## Fim"
   ]
  }
 ],
 "metadata": {
  "colab": {
   "collapsed_sections": [],
   "name": "convolutional_neural_network.ipynb",
   "provenance": [],
   "toc_visible": true
  },
  "kernelspec": {
   "display_name": "deep_learning",
   "language": "python",
   "name": "deep_learning"
  },
  "language_info": {
   "codemirror_mode": {
    "name": "ipython",
    "version": 3
   },
   "file_extension": ".py",
   "mimetype": "text/x-python",
   "name": "python",
   "nbconvert_exporter": "python",
   "pygments_lexer": "ipython3",
   "version": "3.8.10"
  }
 },
 "nbformat": 4,
 "nbformat_minor": 4
}
