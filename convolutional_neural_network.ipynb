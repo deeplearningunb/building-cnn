{
 "cells": [
  {
   "cell_type": "markdown",
   "metadata": {
    "colab_type": "text",
    "id": "3DR-eO17geWu"
   },
   "source": [
    "# Convolutional Neural Network"
   ]
  },
  {
   "cell_type": "markdown",
   "metadata": {
    "colab_type": "text",
    "id": "EMefrVPCg-60"
   },
   "source": [
    "### Importing the libraries"
   ]
  },
  {
   "cell_type": "code",
   "execution_count": 1,
   "metadata": {},
   "outputs": [],
   "source": [
    "#!pip install --upgrade tensorflow keras Pillow # Already installed"
   ]
  },
  {
   "cell_type": "code",
   "execution_count": 2,
   "metadata": {
    "colab": {},
    "colab_type": "code",
    "id": "sCV30xyVhFbE"
   },
   "outputs": [],
   "source": [
    "import tensorflow as tf\n",
    "from keras.preprocessing.image import ImageDataGenerator"
   ]
  },
  {
   "cell_type": "code",
   "execution_count": 3,
   "metadata": {
    "colab": {},
    "colab_type": "code",
    "id": "FIleuCAjoFD8"
   },
   "outputs": [
    {
     "data": {
      "text/plain": [
       "'2.6.0'"
      ]
     },
     "execution_count": 3,
     "metadata": {},
     "output_type": "execute_result"
    }
   ],
   "source": [
    "tf.__version__"
   ]
  },
  {
   "cell_type": "markdown",
   "metadata": {
    "colab_type": "text",
    "id": "oxQxCBWyoGPE"
   },
   "source": [
    "## Part 1 - Data Preprocessing"
   ]
  },
  {
   "cell_type": "markdown",
   "metadata": {
    "colab_type": "text",
    "id": "MvE-heJNo3GG"
   },
   "source": [
    "### Preprocessing the Training set"
   ]
  },
  {
   "cell_type": "code",
   "execution_count": 4,
   "metadata": {
    "colab": {},
    "colab_type": "code",
    "id": "0koUcJMJpEBD"
   },
   "outputs": [
    {
     "name": "stdout",
     "output_type": "stream",
     "text": [
      "Found 8000 images belonging to 2 classes.\n"
     ]
    }
   ],
   "source": [
    "train_datagen = ImageDataGenerator(rescale = 1./255,\n",
    "                                   shear_range = 0.2,\n",
    "                                   zoom_range = 0.2,\n",
    "                                   horizontal_flip = True)\n",
    "training_set = train_datagen.flow_from_directory('dataset/training_set',\n",
    "                                                 target_size = (64, 64),\n",
    "                                                 batch_size = 32,\n",
    "                                                 class_mode = 'binary')"
   ]
  },
  {
   "cell_type": "markdown",
   "metadata": {
    "colab_type": "text",
    "id": "mrCMmGw9pHys"
   },
   "source": [
    "### Preprocessing the Test set"
   ]
  },
  {
   "cell_type": "code",
   "execution_count": 5,
   "metadata": {
    "colab": {},
    "colab_type": "code",
    "id": "SH4WzfOhpKc3"
   },
   "outputs": [
    {
     "name": "stdout",
     "output_type": "stream",
     "text": [
      "Found 2000 images belonging to 2 classes.\n"
     ]
    }
   ],
   "source": [
    "test_datagen = ImageDataGenerator(rescale = 1./255)\n",
    "test_set = test_datagen.flow_from_directory('dataset/test_set',\n",
    "                                            target_size = (64, 64),\n",
    "                                            batch_size = 32,\n",
    "                                            class_mode = 'binary')"
   ]
  },
  {
   "cell_type": "markdown",
   "metadata": {
    "colab_type": "text",
    "id": "af8O4l90gk7B"
   },
   "source": [
    "## Part 2 - Building the CNN"
   ]
  },
  {
   "cell_type": "markdown",
   "metadata": {
    "colab_type": "text",
    "id": "ces1gXY2lmoX"
   },
   "source": [
    "### Initialising the CNN"
   ]
  },
  {
   "cell_type": "code",
   "execution_count": 6,
   "metadata": {
    "colab": {},
    "colab_type": "code",
    "id": "SAUt4UMPlhLS"
   },
   "outputs": [],
   "source": [
    "cnn = tf.keras.models.Sequential()"
   ]
  },
  {
   "cell_type": "markdown",
   "metadata": {
    "colab_type": "text",
    "id": "u5YJj_XMl5LF"
   },
   "source": [
    "### Step 1 - Convolution"
   ]
  },
  {
   "cell_type": "code",
   "execution_count": 7,
   "metadata": {
    "colab": {},
    "colab_type": "code",
    "id": "XPzPrMckl-hV"
   },
   "outputs": [],
   "source": [
    "cnn.add(tf.keras.layers.Conv2D(filters=32, kernel_size=3, activation='relu', input_shape=[64, 64, 3]))"
   ]
  },
  {
   "cell_type": "markdown",
   "metadata": {
    "colab_type": "text",
    "id": "tf87FpvxmNOJ"
   },
   "source": [
    "### Step 2 - Pooling"
   ]
  },
  {
   "cell_type": "code",
   "execution_count": 8,
   "metadata": {
    "colab": {},
    "colab_type": "code",
    "id": "ncpqPl69mOac"
   },
   "outputs": [],
   "source": [
    "cnn.add(tf.keras.layers.MaxPool2D(pool_size=2, strides=2))"
   ]
  },
  {
   "cell_type": "markdown",
   "metadata": {
    "colab_type": "text",
    "id": "xaTOgD8rm4mU"
   },
   "source": [
    "### Adding a second convolutional layer"
   ]
  },
  {
   "cell_type": "code",
   "execution_count": 9,
   "metadata": {
    "colab": {},
    "colab_type": "code",
    "id": "i_-FZjn_m8gk"
   },
   "outputs": [],
   "source": [
    "cnn.add(tf.keras.layers.Conv2D(filters=64, kernel_size=3, activation='relu'))\n",
    "cnn.add(tf.keras.layers.MaxPool2D(pool_size=2, strides=2))"
   ]
  },
  {
   "cell_type": "markdown",
   "metadata": {},
   "source": [
    "### Adding a third convolutional layer"
   ]
  },
  {
   "cell_type": "code",
   "execution_count": 10,
   "metadata": {},
   "outputs": [],
   "source": [
    "cnn.add(tf.keras.layers.Conv2D(filters=128, kernel_size=3, activation='relu'))\n",
    "cnn.add(tf.keras.layers.MaxPool2D(pool_size=2, strides=2))"
   ]
  },
  {
   "cell_type": "markdown",
   "metadata": {
    "colab_type": "text",
    "id": "tmiEuvTunKfk"
   },
   "source": [
    "### Step 3 - Flattening"
   ]
  },
  {
   "cell_type": "code",
   "execution_count": 11,
   "metadata": {
    "colab": {},
    "colab_type": "code",
    "id": "6AZeOGCvnNZn"
   },
   "outputs": [],
   "source": [
    "cnn.add(tf.keras.layers.Flatten())\n",
    "cnn.add(tf.keras.layers.Dropout(0.5)) # Avoid some overfitting"
   ]
  },
  {
   "cell_type": "markdown",
   "metadata": {
    "colab_type": "text",
    "id": "dAoSECOm203v"
   },
   "source": [
    "### Step 4 - Full Connection"
   ]
  },
  {
   "cell_type": "code",
   "execution_count": 12,
   "metadata": {
    "colab": {},
    "colab_type": "code",
    "id": "8GtmUlLd26Nq"
   },
   "outputs": [],
   "source": [
    "cnn.add(tf.keras.layers.Dense(units=128, activation='relu'))"
   ]
  },
  {
   "cell_type": "markdown",
   "metadata": {
    "colab_type": "text",
    "id": "yTldFvbX28Na"
   },
   "source": [
    "### Step 5 - Output Layer"
   ]
  },
  {
   "cell_type": "code",
   "execution_count": 13,
   "metadata": {
    "colab": {},
    "colab_type": "code",
    "id": "1p_Zj1Mc3Ko_"
   },
   "outputs": [],
   "source": [
    "cnn.add(tf.keras.layers.Dense(units=1, activation='sigmoid'))"
   ]
  },
  {
   "cell_type": "markdown",
   "metadata": {
    "colab_type": "text",
    "id": "D6XkI90snSDl"
   },
   "source": [
    "## Part 3 - Training the CNN"
   ]
  },
  {
   "cell_type": "markdown",
   "metadata": {
    "colab_type": "text",
    "id": "vfrFQACEnc6i"
   },
   "source": [
    "### Compiling the CNN"
   ]
  },
  {
   "cell_type": "code",
   "execution_count": 14,
   "metadata": {
    "colab": {},
    "colab_type": "code",
    "id": "NALksrNQpUlJ"
   },
   "outputs": [],
   "source": [
    "cnn.compile(optimizer = 'adam', loss = 'binary_crossentropy', metrics = ['accuracy'])"
   ]
  },
  {
   "cell_type": "markdown",
   "metadata": {
    "colab_type": "text",
    "id": "ehS-v3MIpX2h"
   },
   "source": [
    "### Training the CNN on the Training set and evaluating it on the Test set"
   ]
  },
  {
   "cell_type": "code",
   "execution_count": 15,
   "metadata": {
    "colab": {},
    "colab_type": "code",
    "id": "XUj1W4PJptta"
   },
   "outputs": [
    {
     "name": "stdout",
     "output_type": "stream",
     "text": [
      "Epoch 1/50\n",
      "250/250 [==============================] - 92s 364ms/step - loss: 0.6787 - accuracy: 0.5655 - val_loss: 0.6696 - val_accuracy: 0.5785\n",
      "Epoch 2/50\n",
      "250/250 [==============================] - 47s 188ms/step - loss: 0.6547 - accuracy: 0.6079 - val_loss: 0.6501 - val_accuracy: 0.6355\n",
      "Epoch 3/50\n",
      "250/250 [==============================] - 46s 184ms/step - loss: 0.6089 - accuracy: 0.6690 - val_loss: 0.6052 - val_accuracy: 0.6620\n",
      "Epoch 4/50\n",
      "250/250 [==============================] - 45s 180ms/step - loss: 0.5752 - accuracy: 0.6938 - val_loss: 0.5517 - val_accuracy: 0.7275\n",
      "Epoch 5/50\n",
      "250/250 [==============================] - 44s 174ms/step - loss: 0.5357 - accuracy: 0.7259 - val_loss: 0.5041 - val_accuracy: 0.7515\n",
      "Epoch 6/50\n",
      "250/250 [==============================] - 43s 173ms/step - loss: 0.5145 - accuracy: 0.7462 - val_loss: 0.5501 - val_accuracy: 0.7155\n",
      "Epoch 7/50\n",
      "250/250 [==============================] - 43s 174ms/step - loss: 0.4889 - accuracy: 0.7621 - val_loss: 0.4640 - val_accuracy: 0.7875\n",
      "Epoch 8/50\n",
      "250/250 [==============================] - 43s 172ms/step - loss: 0.4765 - accuracy: 0.7732 - val_loss: 0.4377 - val_accuracy: 0.7965\n",
      "Epoch 9/50\n",
      "250/250 [==============================] - 47s 189ms/step - loss: 0.4578 - accuracy: 0.7809 - val_loss: 0.4204 - val_accuracy: 0.8010\n",
      "Epoch 10/50\n",
      "250/250 [==============================] - 44s 175ms/step - loss: 0.4355 - accuracy: 0.7929 - val_loss: 0.4271 - val_accuracy: 0.8070\n",
      "Epoch 11/50\n",
      "250/250 [==============================] - 43s 174ms/step - loss: 0.4246 - accuracy: 0.8016 - val_loss: 0.4035 - val_accuracy: 0.8095\n",
      "Epoch 12/50\n",
      "250/250 [==============================] - 43s 173ms/step - loss: 0.4149 - accuracy: 0.8099 - val_loss: 0.4093 - val_accuracy: 0.8075\n",
      "Epoch 13/50\n",
      "250/250 [==============================] - 43s 171ms/step - loss: 0.4175 - accuracy: 0.8080 - val_loss: 0.4010 - val_accuracy: 0.8125\n",
      "Epoch 14/50\n",
      "250/250 [==============================] - 43s 173ms/step - loss: 0.4056 - accuracy: 0.8130 - val_loss: 0.4319 - val_accuracy: 0.7970\n",
      "Epoch 15/50\n",
      "250/250 [==============================] - 45s 180ms/step - loss: 0.3866 - accuracy: 0.8260 - val_loss: 0.3949 - val_accuracy: 0.8235\n",
      "Epoch 16/50\n",
      "250/250 [==============================] - 44s 175ms/step - loss: 0.3799 - accuracy: 0.8296 - val_loss: 0.3722 - val_accuracy: 0.8395\n",
      "Epoch 17/50\n",
      "250/250 [==============================] - 43s 172ms/step - loss: 0.3703 - accuracy: 0.8311 - val_loss: 0.3666 - val_accuracy: 0.8330\n",
      "Epoch 18/50\n",
      "250/250 [==============================] - 51s 202ms/step - loss: 0.3679 - accuracy: 0.8284 - val_loss: 0.3766 - val_accuracy: 0.8320\n",
      "Epoch 19/50\n",
      "250/250 [==============================] - 62s 248ms/step - loss: 0.3610 - accuracy: 0.8421 - val_loss: 0.3821 - val_accuracy: 0.8260\n",
      "Epoch 20/50\n",
      "250/250 [==============================] - 50s 201ms/step - loss: 0.3563 - accuracy: 0.8391 - val_loss: 0.3682 - val_accuracy: 0.8365\n",
      "Epoch 21/50\n",
      "250/250 [==============================] - 45s 180ms/step - loss: 0.3377 - accuracy: 0.8499 - val_loss: 0.3923 - val_accuracy: 0.8225\n",
      "Epoch 22/50\n",
      "250/250 [==============================] - 56s 225ms/step - loss: 0.3363 - accuracy: 0.8505 - val_loss: 0.3501 - val_accuracy: 0.8450\n",
      "Epoch 23/50\n",
      "250/250 [==============================] - 66s 264ms/step - loss: 0.3274 - accuracy: 0.8526 - val_loss: 0.3461 - val_accuracy: 0.8530\n",
      "Epoch 24/50\n",
      "250/250 [==============================] - 53s 212ms/step - loss: 0.3245 - accuracy: 0.8583 - val_loss: 0.3422 - val_accuracy: 0.8550\n",
      "Epoch 25/50\n",
      "250/250 [==============================] - 65s 259ms/step - loss: 0.3116 - accuracy: 0.8586 - val_loss: 0.3449 - val_accuracy: 0.8520\n",
      "Epoch 26/50\n",
      "250/250 [==============================] - 86s 341ms/step - loss: 0.3084 - accuracy: 0.8674 - val_loss: 0.3609 - val_accuracy: 0.8390\n",
      "Epoch 27/50\n",
      "250/250 [==============================] - 84s 336ms/step - loss: 0.3094 - accuracy: 0.8639 - val_loss: 0.4505 - val_accuracy: 0.8065\n",
      "Epoch 28/50\n",
      "250/250 [==============================] - 67s 269ms/step - loss: 0.3021 - accuracy: 0.8660 - val_loss: 0.3342 - val_accuracy: 0.8550\n",
      "Epoch 29/50\n",
      "250/250 [==============================] - 65s 259ms/step - loss: 0.2878 - accuracy: 0.8748 - val_loss: 0.3474 - val_accuracy: 0.8500\n",
      "Epoch 30/50\n",
      "250/250 [==============================] - 66s 265ms/step - loss: 0.2890 - accuracy: 0.8761 - val_loss: 0.3940 - val_accuracy: 0.8310\n",
      "Epoch 31/50\n",
      "250/250 [==============================] - 65s 258ms/step - loss: 0.2728 - accuracy: 0.8820 - val_loss: 0.3598 - val_accuracy: 0.8405\n",
      "Epoch 32/50\n",
      "250/250 [==============================] - 67s 270ms/step - loss: 0.2680 - accuracy: 0.8846 - val_loss: 0.3432 - val_accuracy: 0.8530\n",
      "Epoch 33/50\n",
      "250/250 [==============================] - 66s 266ms/step - loss: 0.2639 - accuracy: 0.8866 - val_loss: 0.3535 - val_accuracy: 0.8530\n",
      "Epoch 34/50\n",
      "250/250 [==============================] - 82s 329ms/step - loss: 0.2554 - accuracy: 0.8892 - val_loss: 0.3807 - val_accuracy: 0.8350\n",
      "Epoch 35/50\n",
      "250/250 [==============================] - 84s 336ms/step - loss: 0.2566 - accuracy: 0.8895 - val_loss: 0.3548 - val_accuracy: 0.8515\n",
      "Epoch 36/50\n",
      "250/250 [==============================] - 68s 273ms/step - loss: 0.2488 - accuracy: 0.8990 - val_loss: 0.3558 - val_accuracy: 0.8370\n",
      "Epoch 37/50\n",
      "250/250 [==============================] - 75s 301ms/step - loss: 0.2428 - accuracy: 0.8936 - val_loss: 0.3519 - val_accuracy: 0.8610\n",
      "Epoch 38/50\n",
      "250/250 [==============================] - 75s 299ms/step - loss: 0.2372 - accuracy: 0.9015 - val_loss: 0.3741 - val_accuracy: 0.8515\n",
      "Epoch 39/50\n",
      "250/250 [==============================] - 73s 290ms/step - loss: 0.2411 - accuracy: 0.9016 - val_loss: 0.3458 - val_accuracy: 0.8590\n",
      "Epoch 40/50\n",
      "250/250 [==============================] - 72s 289ms/step - loss: 0.2299 - accuracy: 0.9021 - val_loss: 0.3409 - val_accuracy: 0.8525\n",
      "Epoch 41/50\n",
      "250/250 [==============================] - 79s 315ms/step - loss: 0.2333 - accuracy: 0.9018 - val_loss: 0.3427 - val_accuracy: 0.8565\n",
      "Epoch 42/50\n",
      "250/250 [==============================] - 80s 321ms/step - loss: 0.2172 - accuracy: 0.9112 - val_loss: 0.3337 - val_accuracy: 0.8570\n",
      "Epoch 43/50\n",
      "250/250 [==============================] - 79s 316ms/step - loss: 0.2270 - accuracy: 0.9074 - val_loss: 0.3339 - val_accuracy: 0.8620\n",
      "Epoch 44/50\n",
      "250/250 [==============================] - 78s 311ms/step - loss: 0.2161 - accuracy: 0.9125 - val_loss: 0.3726 - val_accuracy: 0.8475\n",
      "Epoch 45/50\n",
      "250/250 [==============================] - 82s 328ms/step - loss: 0.2029 - accuracy: 0.9141 - val_loss: 0.3452 - val_accuracy: 0.8620\n",
      "Epoch 46/50\n",
      "250/250 [==============================] - 80s 319ms/step - loss: 0.2111 - accuracy: 0.9068 - val_loss: 0.3691 - val_accuracy: 0.8660\n",
      "Epoch 47/50\n",
      "250/250 [==============================] - 74s 296ms/step - loss: 0.2090 - accuracy: 0.9126 - val_loss: 0.3675 - val_accuracy: 0.8515\n",
      "Epoch 48/50\n",
      "250/250 [==============================] - 77s 307ms/step - loss: 0.2043 - accuracy: 0.9153 - val_loss: 0.3621 - val_accuracy: 0.8640\n",
      "Epoch 49/50\n",
      "250/250 [==============================] - 77s 310ms/step - loss: 0.1974 - accuracy: 0.9193 - val_loss: 0.3499 - val_accuracy: 0.8600\n",
      "Epoch 50/50\n",
      "250/250 [==============================] - 66s 266ms/step - loss: 0.2015 - accuracy: 0.9159 - val_loss: 0.3442 - val_accuracy: 0.8680\n"
     ]
    }
   ],
   "source": [
    "cnn_hist = cnn.fit(x = training_set, validation_data = test_set, epochs = 50)"
   ]
  },
  {
   "cell_type": "code",
   "execution_count": 16,
   "metadata": {},
   "outputs": [],
   "source": [
    "import matplotlib.pyplot as plt\n",
    "\n",
    "loss = cnn_hist.history['loss']\n",
    "accuracy = cnn_hist.history['accuracy']\n",
    "val_loss = cnn_hist.history['val_loss']\n",
    "val_accuracy = cnn_hist.history['val_accuracy']"
   ]
  },
  {
   "cell_type": "markdown",
   "metadata": {},
   "source": [
    "### Plotting Train and validation accuracy"
   ]
  },
  {
   "cell_type": "code",
   "execution_count": 17,
   "metadata": {},
   "outputs": [
    {
     "data": {
      "image/png": "[encoded data removed]",
      "text/plain": [
       "<Figure size 432x288 with 1 Axes>"
      ]
     },
     "metadata": {
      "needs_background": "light"
     },
     "output_type": "display_data"
    }
   ],
   "source": [
    "plt.plot(accuracy,label='train_accuracy')\n",
    "plt.plot(val_accuracy,label='val_accuracy')\n",
    "plt.legend()\n",
    "plt.show()"
   ]
  },
  {
   "cell_type": "markdown",
   "metadata": {},
   "source": [
    "### Plotting Train and validation loss"
   ]
  },
  {
   "cell_type": "code",
   "execution_count": 18,
   "metadata": {},
   "outputs": [
    {
     "data": {
      "image/png": "[encoded data removed]",
      "text/plain": [
       "<Figure size 432x288 with 1 Axes>"
      ]
     },
     "metadata": {
      "needs_background": "light"
     },
     "output_type": "display_data"
    }
   ],
   "source": [
    "plt.plot(loss,label='train_loss')\n",
    "plt.plot(val_loss,label='val_loss')\n",
    "plt.legend()\n",
    "plt.show()\n",
    "# ??????"
   ]
  },
  {
   "cell_type": "markdown",
   "metadata": {
    "colab_type": "text",
    "id": "U3PZasO0006Z"
   },
   "source": [
    "## Part 4 - Making a single prediction"
   ]
  },
  {
   "cell_type": "code",
   "execution_count": 100,
   "metadata": {
    "colab": {},
    "colab_type": "code",
    "id": "gsSiWEJY1BPB"
   },
   "outputs": [],
   "source": [
    "import numpy as np\n",
    "from keras.preprocessing import image\n",
    "test_image = image.load_img('dataset/single_prediction/cat_or_dog_1.jpg', target_size = (64, 64))\n",
    "test_image = image.img_to_array(test_image)\n",
    "test_image = np.expand_dims(test_image, axis = 0)\n",
    "result = cnn.predict(test_image)\n",
    "training_set.class_indices\n",
    "if result[0][0] == 1:\n",
    "  prediction = 'dog'\n",
    "else:\n",
    "  prediction = 'cat'"
   ]
  },
  {
   "cell_type": "code",
   "execution_count": 101,
   "metadata": {
    "colab": {},
    "colab_type": "code",
    "id": "ED9KB3I54c1i"
   },
   "outputs": [
    {
     "name": "stdout",
     "output_type": "stream",
     "text": [
      "dog\n"
     ]
    }
   ],
   "source": [
    "print(prediction)"
   ]
  },
  {
   "cell_type": "markdown",
   "metadata": {},
   "source": [
    "## Fim"
   ]
  },
  {
   "cell_type": "markdown",
   "metadata": {},
   "source": [
    "> Adaptações: Italo Vinicius"
   ]
  }
 ],
 "metadata": {
  "colab": {
   "collapsed_sections": [],
   "name": "convolutional_neural_network.ipynb",
   "provenance": [],
   "toc_visible": true
  },
  "kernelspec": {
   "display_name": "Python 3",
   "language": "python",
   "name": "python3"
  },
  "language_info": {
   "codemirror_mode": {
    "name": "ipython",
    "version": 3
   },
   "file_extension": ".py",
   "mimetype": "text/x-python",
   "name": "python",
   "nbconvert_exporter": "python",
   "pygments_lexer": "ipython3",
   "version": "3.6.13"
  }
 },
 "nbformat": 4,
 "nbformat_minor": 4
}
