{
 "cells": [
  {
   "cell_type": "markdown",
   "metadata": {
    "colab_type": "text",
    "id": "3DR-eO17geWu"
   },
   "source": [
    "# Convolutional Neural Network"
   ]
  },
  {
   "cell_type": "markdown",
   "metadata": {
    "colab_type": "text",
    "id": "EMefrVPCg-60"
   },
   "source": [
    "### Importing the libraries"
   ]
  },
  {
   "cell_type": "code",
   "execution_count": 1,
   "metadata": {},
   "outputs": [
    {
     "name": "stdout",
     "output_type": "stream",
     "text": [
      "Defaulting to user installation because normal site-packages is not writeable\n",
      "Requirement already satisfied: tensorflow in /home/andrelucax/.local/lib/python3.8/site-packages (2.4.1)\n",
      "Requirement already satisfied: keras in /home/andrelucax/.local/lib/python3.8/site-packages (2.4.3)\n",
      "Requirement already satisfied: Pillow in /home/andrelucax/.local/lib/python3.8/site-packages (8.2.0)\n",
      "Requirement already satisfied: h5py in /home/andrelucax/.local/lib/python3.8/site-packages (from keras) (2.10.0)\n",
      "Requirement already satisfied: numpy>=1.9.1 in /home/andrelucax/.local/lib/python3.8/site-packages (from keras) (1.19.5)\n",
      "Requirement already satisfied: pyyaml in /usr/lib/python3/dist-packages (from keras) (5.3.1)\n",
      "Requirement already satisfied: scipy>=0.14 in /home/andrelucax/.local/lib/python3.8/site-packages (from keras) (1.4.1)\n",
      "Requirement already satisfied: wrapt~=1.12.1 in /home/andrelucax/.local/lib/python3.8/site-packages (from tensorflow) (1.12.1)\n",
      "Requirement already satisfied: opt-einsum~=3.3.0 in /home/andrelucax/.local/lib/python3.8/site-packages (from tensorflow) (3.3.0)\n",
      "Requirement already satisfied: termcolor~=1.1.0 in /home/andrelucax/.local/lib/python3.8/site-packages (from tensorflow) (1.1.0)\n",
      "Requirement already satisfied: wheel~=0.35 in /home/andrelucax/.local/lib/python3.8/site-packages (from tensorflow) (0.36.2)\n",
      "Requirement already satisfied: protobuf>=3.9.2 in /home/andrelucax/.local/lib/python3.8/site-packages (from tensorflow) (3.15.5)\n",
      "Requirement already satisfied: typing-extensions~=3.7.4 in /home/andrelucax/.local/lib/python3.8/site-packages (from tensorflow) (3.7.4.3)\n",
      "Requirement already satisfied: gast==0.3.3 in /home/andrelucax/.local/lib/python3.8/site-packages (from tensorflow) (0.3.3)\n",
      "Requirement already satisfied: grpcio~=1.32.0 in /home/andrelucax/.local/lib/python3.8/site-packages (from tensorflow) (1.32.0)\n",
      "Requirement already satisfied: tensorboard~=2.4 in /home/andrelucax/.local/lib/python3.8/site-packages (from tensorflow) (2.4.1)\n",
      "Requirement already satisfied: google-pasta~=0.2 in /home/andrelucax/.local/lib/python3.8/site-packages (from tensorflow) (0.2.0)\n",
      "Requirement already satisfied: six~=1.15.0 in /home/andrelucax/.local/lib/python3.8/site-packages (from tensorflow) (1.15.0)\n",
      "Requirement already satisfied: flatbuffers~=1.12.0 in /home/andrelucax/.local/lib/python3.8/site-packages (from tensorflow) (1.12)\n",
      "Requirement already satisfied: keras-preprocessing~=1.1.2 in /home/andrelucax/.local/lib/python3.8/site-packages (from tensorflow) (1.1.2)\n",
      "Requirement already satisfied: tensorflow-estimator<2.5.0,>=2.4.0 in /home/andrelucax/.local/lib/python3.8/site-packages (from tensorflow) (2.4.0)\n",
      "Requirement already satisfied: astunparse~=1.6.3 in /home/andrelucax/.local/lib/python3.8/site-packages (from tensorflow) (1.6.3)\n",
      "Requirement already satisfied: absl-py~=0.10 in /home/andrelucax/.local/lib/python3.8/site-packages (from tensorflow) (0.11.0)\n",
      "Requirement already satisfied: google-auth<2,>=1.6.3 in /home/andrelucax/.local/lib/python3.8/site-packages (from tensorboard~=2.4->tensorflow) (1.27.1)\n",
      "Requirement already satisfied: setuptools>=41.0.0 in /home/andrelucax/.local/lib/python3.8/site-packages (from tensorboard~=2.4->tensorflow) (54.1.0)\n",
      "Requirement already satisfied: markdown>=2.6.8 in /home/andrelucax/.local/lib/python3.8/site-packages (from tensorboard~=2.4->tensorflow) (3.3.4)\n",
      "Requirement already satisfied: google-auth-oauthlib<0.5,>=0.4.1 in /home/andrelucax/.local/lib/python3.8/site-packages (from tensorboard~=2.4->tensorflow) (0.4.3)\n",
      "Requirement already satisfied: requests<3,>=2.21.0 in /usr/lib/python3/dist-packages (from tensorboard~=2.4->tensorflow) (2.22.0)\n",
      "Requirement already satisfied: tensorboard-plugin-wit>=1.6.0 in /home/andrelucax/.local/lib/python3.8/site-packages (from tensorboard~=2.4->tensorflow) (1.8.0)\n",
      "Requirement already satisfied: werkzeug>=0.11.15 in /home/andrelucax/.local/lib/python3.8/site-packages (from tensorboard~=2.4->tensorflow) (1.0.1)\n",
      "Requirement already satisfied: pyasn1-modules>=0.2.1 in /home/andrelucax/.local/lib/python3.8/site-packages (from google-auth<2,>=1.6.3->tensorboard~=2.4->tensorflow) (0.2.8)\n",
      "Requirement already satisfied: cachetools<5.0,>=2.0.0 in /home/andrelucax/.local/lib/python3.8/site-packages (from google-auth<2,>=1.6.3->tensorboard~=2.4->tensorflow) (4.2.1)\n",
      "Requirement already satisfied: rsa<5,>=3.1.4 in /home/andrelucax/.local/lib/python3.8/site-packages (from google-auth<2,>=1.6.3->tensorboard~=2.4->tensorflow) (4.7.2)\n",
      "Requirement already satisfied: requests-oauthlib>=0.7.0 in /home/andrelucax/.local/lib/python3.8/site-packages (from google-auth-oauthlib<0.5,>=0.4.1->tensorboard~=2.4->tensorflow) (1.3.0)\n",
      "Requirement already satisfied: pyasn1<0.5.0,>=0.4.6 in /home/andrelucax/.local/lib/python3.8/site-packages (from pyasn1-modules>=0.2.1->google-auth<2,>=1.6.3->tensorboard~=2.4->tensorflow) (0.4.8)\n",
      "Requirement already satisfied: oauthlib>=3.0.0 in /usr/lib/python3/dist-packages (from requests-oauthlib>=0.7.0->google-auth-oauthlib<0.5,>=0.4.1->tensorboard~=2.4->tensorflow) (3.1.0)\n"
     ]
    }
   ],
   "source": [
    "!pip install --upgrade tensorflow keras Pillow"
   ]
  },
  {
   "cell_type": "code",
   "execution_count": 2,
   "metadata": {
    "colab": {},
    "colab_type": "code",
    "id": "sCV30xyVhFbE"
   },
   "outputs": [],
   "source": [
    "import tensorflow as tf\n",
    "from keras.preprocessing.image import ImageDataGenerator"
   ]
  },
  {
   "cell_type": "code",
   "execution_count": 3,
   "metadata": {
    "colab": {},
    "colab_type": "code",
    "id": "FIleuCAjoFD8"
   },
   "outputs": [
    {
     "data": {
      "text/plain": [
       "'2.4.1'"
      ]
     },
     "execution_count": 3,
     "metadata": {},
     "output_type": "execute_result"
    }
   ],
   "source": [
    "tf.__version__"
   ]
  },
  {
   "cell_type": "markdown",
   "metadata": {
    "colab_type": "text",
    "id": "oxQxCBWyoGPE"
   },
   "source": [
    "## Part 1 - Data Preprocessing"
   ]
  },
  {
   "cell_type": "markdown",
   "metadata": {
    "colab_type": "text",
    "id": "MvE-heJNo3GG"
   },
   "source": [
    "### Preprocessing the Training set"
   ]
  },
  {
   "cell_type": "code",
   "execution_count": 4,
   "metadata": {
    "colab": {},
    "colab_type": "code",
    "id": "0koUcJMJpEBD"
   },
   "outputs": [
    {
     "name": "stdout",
     "output_type": "stream",
     "text": [
      "Found 8000 images belonging to 2 classes.\n"
     ]
    }
   ],
   "source": [
    "train_datagen = ImageDataGenerator(rescale = 1./255,\n",
    "                                   shear_range = 0.5,\n",
    "                                   zoom_range = 0.5,\n",
    "                                   horizontal_flip = True)\n",
    "training_set = train_datagen.flow_from_directory('dataset/training_set',\n",
    "                                                 target_size = (128, 128),\n",
    "                                                 batch_size = 32,\n",
    "                                                 class_mode = 'binary')"
   ]
  },
  {
   "cell_type": "markdown",
   "metadata": {
    "colab_type": "text",
    "id": "mrCMmGw9pHys"
   },
   "source": [
    "### Preprocessing the Test set"
   ]
  },
  {
   "cell_type": "code",
   "execution_count": 5,
   "metadata": {
    "colab": {},
    "colab_type": "code",
    "id": "SH4WzfOhpKc3"
   },
   "outputs": [
    {
     "name": "stdout",
     "output_type": "stream",
     "text": [
      "Found 2000 images belonging to 2 classes.\n"
     ]
    }
   ],
   "source": [
    "test_datagen = ImageDataGenerator(rescale = 1./255)\n",
    "test_set = test_datagen.flow_from_directory('dataset/test_set',\n",
    "                                            target_size = (128, 128),\n",
    "                                            batch_size = 32,\n",
    "                                            class_mode = 'binary')"
   ]
  },
  {
   "cell_type": "markdown",
   "metadata": {
    "colab_type": "text",
    "id": "af8O4l90gk7B"
   },
   "source": [
    "## Part 2 - Building the CNN"
   ]
  },
  {
   "cell_type": "markdown",
   "metadata": {
    "colab_type": "text",
    "id": "ces1gXY2lmoX"
   },
   "source": [
    "### Initialising the CNN"
   ]
  },
  {
   "cell_type": "code",
   "execution_count": 6,
   "metadata": {
    "colab": {},
    "colab_type": "code",
    "id": "SAUt4UMPlhLS"
   },
   "outputs": [],
   "source": [
    "cnn = tf.keras.models.Sequential()"
   ]
  },
  {
   "cell_type": "markdown",
   "metadata": {
    "colab_type": "text",
    "id": "u5YJj_XMl5LF"
   },
   "source": [
    "### Step 1 - Convolution"
   ]
  },
  {
   "cell_type": "code",
   "execution_count": 7,
   "metadata": {
    "colab": {},
    "colab_type": "code",
    "id": "XPzPrMckl-hV"
   },
   "outputs": [],
   "source": [
    "cnn.add(tf.keras.layers.Conv2D(filters=32, kernel_size=3, activation='relu', input_shape=[128, 128, 3]))\n",
    "cnn.add(tf.keras.layers.Conv2D(filters=32, kernel_size=3, activation='relu', input_shape=[64, 64, 3]))\n",
    "cnn.add(tf.keras.layers.Conv2D(filters=32, kernel_size=3, activation='relu', input_shape=[32, 32, 3]))"
   ]
  },
  {
   "cell_type": "markdown",
   "metadata": {
    "colab_type": "text",
    "id": "tf87FpvxmNOJ"
   },
   "source": [
    "### Step 2 - Pooling"
   ]
  },
  {
   "cell_type": "code",
   "execution_count": 8,
   "metadata": {
    "colab": {},
    "colab_type": "code",
    "id": "ncpqPl69mOac"
   },
   "outputs": [],
   "source": [
    "cnn.add(tf.keras.layers.MaxPool2D(pool_size=2, strides=2))"
   ]
  },
  {
   "cell_type": "markdown",
   "metadata": {
    "colab_type": "text",
    "id": "xaTOgD8rm4mU"
   },
   "source": [
    "### Adding a second convolutional layer"
   ]
  },
  {
   "cell_type": "code",
   "execution_count": 9,
   "metadata": {
    "colab": {},
    "colab_type": "code",
    "id": "i_-FZjn_m8gk"
   },
   "outputs": [],
   "source": [
    "cnn.add(tf.keras.layers.Conv2D(filters=32, kernel_size=3, activation='relu'))\n",
    "cnn.add(tf.keras.layers.MaxPool2D(pool_size=2, strides=2))"
   ]
  },
  {
   "cell_type": "markdown",
   "metadata": {
    "colab_type": "text",
    "id": "tmiEuvTunKfk"
   },
   "source": [
    "### Step 3 - Flattening"
   ]
  },
  {
   "cell_type": "code",
   "execution_count": 10,
   "metadata": {
    "colab": {},
    "colab_type": "code",
    "id": "6AZeOGCvnNZn"
   },
   "outputs": [],
   "source": [
    "cnn.add(tf.keras.layers.Flatten())"
   ]
  },
  {
   "cell_type": "markdown",
   "metadata": {
    "colab_type": "text",
    "id": "dAoSECOm203v"
   },
   "source": [
    "### Step 4 - Full Connection"
   ]
  },
  {
   "cell_type": "code",
   "execution_count": 11,
   "metadata": {
    "colab": {},
    "colab_type": "code",
    "id": "8GtmUlLd26Nq"
   },
   "outputs": [],
   "source": [
    "cnn.add(tf.keras.layers.Dense(units=128, activation='relu'))"
   ]
  },
  {
   "cell_type": "markdown",
   "metadata": {
    "colab_type": "text",
    "id": "yTldFvbX28Na"
   },
   "source": [
    "### Step 5 - Output Layer"
   ]
  },
  {
   "cell_type": "code",
   "execution_count": 12,
   "metadata": {
    "colab": {},
    "colab_type": "code",
    "id": "1p_Zj1Mc3Ko_"
   },
   "outputs": [],
   "source": [
    "cnn.add(tf.keras.layers.Dense(units=1, activation='sigmoid'))"
   ]
  },
  {
   "cell_type": "markdown",
   "metadata": {
    "colab_type": "text",
    "id": "D6XkI90snSDl"
   },
   "source": [
    "## Part 3 - Training the CNN"
   ]
  },
  {
   "cell_type": "markdown",
   "metadata": {
    "colab_type": "text",
    "id": "vfrFQACEnc6i"
   },
   "source": [
    "### Compiling the CNN"
   ]
  },
  {
   "cell_type": "code",
   "execution_count": 13,
   "metadata": {
    "colab": {},
    "colab_type": "code",
    "id": "NALksrNQpUlJ"
   },
   "outputs": [],
   "source": [
    "cnn.compile(optimizer = 'adam', loss = 'binary_crossentropy', metrics = ['accuracy'])"
   ]
  },
  {
   "cell_type": "markdown",
   "metadata": {
    "colab_type": "text",
    "id": "ehS-v3MIpX2h"
   },
   "source": [
    "### Training the CNN on the Training set and evaluating it on the Test set"
   ]
  },
  {
   "cell_type": "code",
   "execution_count": 14,
   "metadata": {
    "colab": {},
    "colab_type": "code",
    "id": "XUj1W4PJptta"
   },
   "outputs": [
    {
     "name": "stdout",
     "output_type": "stream",
     "text": [
      "Epoch 1/25\n",
      "250/250 [==============================] - 291s 1s/step - loss: 0.6962 - accuracy: 0.5214 - val_loss: 0.6897 - val_accuracy: 0.5340\n",
      "Epoch 2/25\n",
      "250/250 [==============================] - 225s 900ms/step - loss: 0.6850 - accuracy: 0.5492 - val_loss: 0.6794 - val_accuracy: 0.5735\n",
      "Epoch 3/25\n",
      "250/250 [==============================] - 228s 914ms/step - loss: 0.6792 - accuracy: 0.5755 - val_loss: 0.6588 - val_accuracy: 0.6385\n",
      "Epoch 4/25\n",
      "250/250 [==============================] - 225s 900ms/step - loss: 0.6525 - accuracy: 0.6221 - val_loss: 0.6600 - val_accuracy: 0.6245\n",
      "Epoch 5/25\n",
      "250/250 [==============================] - 227s 909ms/step - loss: 0.6561 - accuracy: 0.6102 - val_loss: 0.6529 - val_accuracy: 0.6070\n",
      "Epoch 6/25\n",
      "250/250 [==============================] - 230s 918ms/step - loss: 0.6301 - accuracy: 0.6507 - val_loss: 0.5946 - val_accuracy: 0.6845\n",
      "Epoch 7/25\n",
      "250/250 [==============================] - 230s 921ms/step - loss: 0.6075 - accuracy: 0.6645 - val_loss: 0.5643 - val_accuracy: 0.7215\n",
      "Epoch 8/25\n",
      "250/250 [==============================] - 232s 926ms/step - loss: 0.5979 - accuracy: 0.6816 - val_loss: 0.6176 - val_accuracy: 0.6770\n",
      "Epoch 9/25\n",
      "250/250 [==============================] - 230s 921ms/step - loss: 0.5591 - accuracy: 0.7152 - val_loss: 0.6256 - val_accuracy: 0.6495\n",
      "Epoch 10/25\n",
      "250/250 [==============================] - 227s 906ms/step - loss: 0.5524 - accuracy: 0.7177 - val_loss: 0.5942 - val_accuracy: 0.6830\n",
      "Epoch 11/25\n",
      "250/250 [==============================] - 231s 924ms/step - loss: 0.5340 - accuracy: 0.7347 - val_loss: 0.5153 - val_accuracy: 0.7555\n",
      "Epoch 12/25\n",
      "250/250 [==============================] - 230s 920ms/step - loss: 0.5145 - accuracy: 0.7449 - val_loss: 0.4753 - val_accuracy: 0.7805\n",
      "Epoch 13/25\n",
      "250/250 [==============================] - 225s 900ms/step - loss: 0.4975 - accuracy: 0.7551 - val_loss: 0.5135 - val_accuracy: 0.7580\n",
      "Epoch 14/25\n",
      "250/250 [==============================] - 226s 902ms/step - loss: 0.4820 - accuracy: 0.7696 - val_loss: 0.4958 - val_accuracy: 0.7715\n",
      "Epoch 15/25\n",
      "250/250 [==============================] - 233s 930ms/step - loss: 0.4730 - accuracy: 0.7683 - val_loss: 0.4722 - val_accuracy: 0.7865\n",
      "Epoch 16/25\n",
      "250/250 [==============================] - 233s 932ms/step - loss: 0.4688 - accuracy: 0.7748 - val_loss: 0.5056 - val_accuracy: 0.7595\n",
      "Epoch 17/25\n",
      "250/250 [==============================] - 230s 921ms/step - loss: 0.4658 - accuracy: 0.7726 - val_loss: 0.4481 - val_accuracy: 0.7935\n",
      "Epoch 18/25\n",
      "250/250 [==============================] - 234s 934ms/step - loss: 0.4400 - accuracy: 0.7953 - val_loss: 0.4547 - val_accuracy: 0.7880\n",
      "Epoch 19/25\n",
      "250/250 [==============================] - 236s 943ms/step - loss: 0.4329 - accuracy: 0.7889 - val_loss: 0.4398 - val_accuracy: 0.7985\n",
      "Epoch 20/25\n",
      "250/250 [==============================] - 233s 934ms/step - loss: 0.4298 - accuracy: 0.7938 - val_loss: 0.4248 - val_accuracy: 0.8170\n",
      "Epoch 21/25\n",
      "250/250 [==============================] - 235s 941ms/step - loss: 0.4232 - accuracy: 0.8027 - val_loss: 0.4332 - val_accuracy: 0.8085\n",
      "Epoch 22/25\n",
      "250/250 [==============================] - 226s 906ms/step - loss: 0.4260 - accuracy: 0.8008 - val_loss: 0.4340 - val_accuracy: 0.8140\n",
      "Epoch 23/25\n",
      "250/250 [==============================] - 231s 923ms/step - loss: 0.4086 - accuracy: 0.8070 - val_loss: 0.4011 - val_accuracy: 0.8285\n",
      "Epoch 24/25\n",
      "250/250 [==============================] - 231s 924ms/step - loss: 0.3987 - accuracy: 0.8221 - val_loss: 0.4203 - val_accuracy: 0.8125\n",
      "Epoch 25/25\n",
      "250/250 [==============================] - 226s 904ms/step - loss: 0.3975 - accuracy: 0.8181 - val_loss: 0.4040 - val_accuracy: 0.8280\n"
     ]
    },
    {
     "data": {
      "text/plain": [
       "<tensorflow.python.keras.callbacks.History at 0x7f9eb40aad60>"
      ]
     },
     "execution_count": 14,
     "metadata": {},
     "output_type": "execute_result"
    }
   ],
   "source": [
    "cnn.fit(x = training_set, validation_data = test_set, epochs = 25)"
   ]
  },
  {
   "cell_type": "markdown",
   "metadata": {
    "colab_type": "text",
    "id": "U3PZasO0006Z"
   },
   "source": [
    "## Part 4 - Making a single prediction"
   ]
  },
  {
   "cell_type": "code",
   "execution_count": null,
   "metadata": {
    "colab": {},
    "colab_type": "code",
    "id": "gsSiWEJY1BPB"
   },
   "outputs": [],
   "source": [
    "import numpy as np\n",
    "from keras.preprocessing import image\n",
    "test_image = image.load_img('dataset/single_prediction/cat_or_dog_1.jpg', target_size = (128, 128))\n",
    "test_image = image.img_to_array(test_image)\n",
    "test_image = np.expand_dims(test_image, axis = 0)\n",
    "result = cnn.predict(test_image)\n",
    "training_set.class_indices\n",
    "if result[0][0] == 1:\n",
    "  prediction = 'dog'\n",
    "else:\n",
    "  prediction = 'cat'"
   ]
  },
  {
   "cell_type": "code",
   "execution_count": null,
   "metadata": {
    "colab": {},
    "colab_type": "code",
    "id": "ED9KB3I54c1i"
   },
   "outputs": [],
   "source": [
    "print(prediction)"
   ]
  },
  {
   "cell_type": "markdown",
   "metadata": {},
   "source": [
    "## Fim"
   ]
  },
  {
   "cell_type": "code",
   "execution_count": null,
   "metadata": {},
   "outputs": [],
   "source": []
  }
 ],
 "metadata": {
  "colab": {
   "collapsed_sections": [],
   "name": "convolutional_neural_network.ipynb",
   "provenance": [],
   "toc_visible": true
  },
  "kernelspec": {
   "display_name": "Python 3",
   "language": "python",
   "name": "python3"
  },
  "language_info": {
   "codemirror_mode": {
    "name": "ipython",
    "version": 3
   },
   "file_extension": ".py",
   "mimetype": "text/x-python",
   "name": "python",
   "nbconvert_exporter": "python",
   "pygments_lexer": "ipython3",
   "version": "3.8.5"
  }
 },
 "nbformat": 4,
 "nbformat_minor": 4
}
