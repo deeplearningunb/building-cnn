{
 "cells": [
  {
   "cell_type": "markdown",
   "metadata": {
    "colab_type": "text",
    "id": "3DR-eO17geWu"
   },
   "source": [
    "# Convolutional Neural Network"
   ]
  },
  {
   "cell_type": "markdown",
   "metadata": {
    "colab_type": "text",
    "id": "EMefrVPCg-60"
   },
   "source": [
    "### Importing the libraries"
   ]
  },
  {
   "cell_type": "code",
   "execution_count": 2,
   "metadata": {},
   "outputs": [],
   "source": [
    "# !pip install --upgrade tensorflow keras Pillow"
   ]
  },
  {
   "cell_type": "code",
   "execution_count": 3,
   "metadata": {
    "colab": {},
    "colab_type": "code",
    "id": "sCV30xyVhFbE"
   },
   "outputs": [
    {
     "name": "stderr",
     "output_type": "stream",
     "text": [
      "2021-08-27 20:11:51.541012: W tensorflow/stream_executor/platform/default/dso_loader.cc:64] Could not load dynamic library 'libcudart.so.11.0'; dlerror: libcudart.so.11.0: cannot open shared object file: No such file or directory\n",
      "2021-08-27 20:11:51.541034: I tensorflow/stream_executor/cuda/cudart_stub.cc:29] Ignore above cudart dlerror if you do not have a GPU set up on your machine.\n"
     ]
    }
   ],
   "source": [
    "import tensorflow as tf\n",
    "from keras.preprocessing.image import ImageDataGenerator\n",
    "from tensorflow.keras.layers import Dropout\n",
    "from sklearn.experimental import enable_halving_search_cv\n",
    "from sklearn.model_selection import HalvingGridSearchCV"
   ]
  },
  {
   "cell_type": "code",
   "execution_count": 4,
   "metadata": {
    "colab": {},
    "colab_type": "code",
    "id": "FIleuCAjoFD8"
   },
   "outputs": [
    {
     "data": {
      "text/plain": [
       "'2.6.0'"
      ]
     },
     "execution_count": 4,
     "metadata": {},
     "output_type": "execute_result"
    }
   ],
   "source": [
    "tf.__version__"
   ]
  },
  {
   "cell_type": "markdown",
   "metadata": {
    "colab_type": "text",
    "id": "oxQxCBWyoGPE"
   },
   "source": [
    "## Part 1 - Data Preprocessing"
   ]
  },
  {
   "cell_type": "markdown",
   "metadata": {
    "colab_type": "text",
    "id": "MvE-heJNo3GG"
   },
   "source": [
    "### Preprocessing the Training set"
   ]
  },
  {
   "cell_type": "code",
   "execution_count": 5,
   "metadata": {
    "colab": {},
    "colab_type": "code",
    "id": "0koUcJMJpEBD"
   },
   "outputs": [
    {
     "name": "stdout",
     "output_type": "stream",
     "text": [
      "Found 8001 images belonging to 2 classes.\n"
     ]
    }
   ],
   "source": [
    "train_datagen = ImageDataGenerator(rescale = 1./255,\n",
    "                                   shear_range = 0.2,\n",
    "                                   zoom_range = 0.2,\n",
    "                                   horizontal_flip = True)\n",
    "training_set = train_datagen.flow_from_directory('dataset/training_set',\n",
    "                                                 target_size = (64, 64),\n",
    "                                                 batch_size = 32,\n",
    "                                                 class_mode = 'binary')"
   ]
  },
  {
   "cell_type": "markdown",
   "metadata": {
    "colab_type": "text",
    "id": "mrCMmGw9pHys"
   },
   "source": [
    "### Preprocessing the Test set"
   ]
  },
  {
   "cell_type": "code",
   "execution_count": 6,
   "metadata": {
    "colab": {},
    "colab_type": "code",
    "id": "SH4WzfOhpKc3"
   },
   "outputs": [
    {
     "name": "stdout",
     "output_type": "stream",
     "text": [
      "Found 2000 images belonging to 2 classes.\n"
     ]
    }
   ],
   "source": [
    "test_datagen = ImageDataGenerator(rescale = 1./255)\n",
    "test_set = test_datagen.flow_from_directory('dataset/test_set',\n",
    "                                            target_size = (64, 64),\n",
    "                                            batch_size = 32,\n",
    "                                            class_mode = 'binary')"
   ]
  },
  {
   "cell_type": "markdown",
   "metadata": {
    "colab_type": "text",
    "id": "af8O4l90gk7B"
   },
   "source": [
    "## Part 2 - Building the CNN"
   ]
  },
  {
   "cell_type": "markdown",
   "metadata": {
    "colab_type": "text",
    "id": "ces1gXY2lmoX"
   },
   "source": [
    "### Initialising the CNN"
   ]
  },
  {
   "cell_type": "code",
   "execution_count": 7,
   "metadata": {
    "colab": {},
    "colab_type": "code",
    "id": "SAUt4UMPlhLS"
   },
   "outputs": [
    {
     "name": "stderr",
     "output_type": "stream",
     "text": [
      "2021-08-27 20:11:55.062011: W tensorflow/stream_executor/platform/default/dso_loader.cc:64] Could not load dynamic library 'libcuda.so.1'; dlerror: libcuda.so.1: cannot open shared object file: No such file or directory\n",
      "2021-08-27 20:11:55.062032: W tensorflow/stream_executor/cuda/cuda_driver.cc:269] failed call to cuInit: UNKNOWN ERROR (303)\n",
      "2021-08-27 20:11:55.062047: I tensorflow/stream_executor/cuda/cuda_diagnostics.cc:156] kernel driver does not appear to be running on this host (iurisevero-Inspiron-3583): /proc/driver/nvidia/version does not exist\n",
      "2021-08-27 20:11:55.062241: I tensorflow/core/platform/cpu_feature_guard.cc:142] This TensorFlow binary is optimized with oneAPI Deep Neural Network Library (oneDNN) to use the following CPU instructions in performance-critical operations:  AVX2 FMA\n",
      "To enable them in other operations, rebuild TensorFlow with the appropriate compiler flags.\n"
     ]
    }
   ],
   "source": [
    "cnn = tf.keras.models.Sequential()"
   ]
  },
  {
   "cell_type": "markdown",
   "metadata": {
    "colab_type": "text",
    "id": "u5YJj_XMl5LF"
   },
   "source": [
    "### Step 1 - Convolution"
   ]
  },
  {
   "cell_type": "code",
   "execution_count": 8,
   "metadata": {
    "colab": {},
    "colab_type": "code",
    "id": "XPzPrMckl-hV"
   },
   "outputs": [],
   "source": [
    "cnn.add(tf.keras.layers.Conv2D(filters=32, kernel_size=3, activation='relu', input_shape=[64, 64, 3]))"
   ]
  },
  {
   "cell_type": "markdown",
   "metadata": {
    "colab_type": "text",
    "id": "tf87FpvxmNOJ"
   },
   "source": [
    "### Step 2 - Pooling"
   ]
  },
  {
   "cell_type": "code",
   "execution_count": 9,
   "metadata": {
    "colab": {},
    "colab_type": "code",
    "id": "ncpqPl69mOac"
   },
   "outputs": [],
   "source": [
    "cnn.add(tf.keras.layers.MaxPool2D(pool_size=2, strides=2))"
   ]
  },
  {
   "cell_type": "markdown",
   "metadata": {
    "colab_type": "text",
    "id": "xaTOgD8rm4mU"
   },
   "source": [
    "### Adding a second convolutional layer"
   ]
  },
  {
   "cell_type": "code",
   "execution_count": 10,
   "metadata": {
    "colab": {},
    "colab_type": "code",
    "id": "i_-FZjn_m8gk"
   },
   "outputs": [],
   "source": [
    "cnn.add(tf.keras.layers.Conv2D(filters=32, kernel_size=3, activation='relu'))\n",
    "cnn.add(tf.keras.layers.MaxPool2D(pool_size=2, strides=2))"
   ]
  },
  {
   "cell_type": "markdown",
   "metadata": {},
   "source": [
    "### Adding a third convolutional layer"
   ]
  },
  {
   "cell_type": "code",
   "execution_count": 11,
   "metadata": {},
   "outputs": [],
   "source": [
    "cnn.add(tf.keras.layers.Conv2D(filters=32, kernel_size=3, activation='relu'))\n",
    "cnn.add(tf.keras.layers.MaxPool2D(pool_size=2, strides=2))"
   ]
  },
  {
   "cell_type": "markdown",
   "metadata": {
    "colab_type": "text",
    "id": "tmiEuvTunKfk",
    "tags": []
   },
   "source": [
    "### Step 3 - Flattening"
   ]
  },
  {
   "cell_type": "code",
   "execution_count": 12,
   "metadata": {
    "colab": {},
    "colab_type": "code",
    "id": "6AZeOGCvnNZn"
   },
   "outputs": [],
   "source": [
    "cnn.add(tf.keras.layers.Flatten())"
   ]
  },
  {
   "cell_type": "markdown",
   "metadata": {
    "colab_type": "text",
    "id": "dAoSECOm203v"
   },
   "source": [
    "### Step 4 - Full Connection"
   ]
  },
  {
   "cell_type": "code",
   "execution_count": 13,
   "metadata": {
    "colab": {},
    "colab_type": "code",
    "id": "8GtmUlLd26Nq"
   },
   "outputs": [],
   "source": [
    "cnn.add(tf.keras.layers.Dense(units=128, activation='relu'))\n",
    "cnn.add(tf.keras.layers.Dropout(0.1))\n",
    "cnn.add(tf.keras.layers.Dense(units=128, activation='relu'))\n",
    "cnn.add(tf.keras.layers.Dropout(0.1))"
   ]
  },
  {
   "cell_type": "markdown",
   "metadata": {
    "colab_type": "text",
    "id": "yTldFvbX28Na"
   },
   "source": [
    "### Step 5 - Output Layer"
   ]
  },
  {
   "cell_type": "code",
   "execution_count": 14,
   "metadata": {
    "colab": {},
    "colab_type": "code",
    "id": "1p_Zj1Mc3Ko_"
   },
   "outputs": [],
   "source": [
    "cnn.add(tf.keras.layers.Dense(units=1, activation='sigmoid'))"
   ]
  },
  {
   "cell_type": "markdown",
   "metadata": {
    "colab_type": "text",
    "id": "D6XkI90snSDl"
   },
   "source": [
    "## Part 3 - Training the CNN"
   ]
  },
  {
   "cell_type": "markdown",
   "metadata": {
    "colab_type": "text",
    "id": "vfrFQACEnc6i"
   },
   "source": [
    "### Compiling the CNN"
   ]
  },
  {
   "cell_type": "code",
   "execution_count": 15,
   "metadata": {
    "colab": {},
    "colab_type": "code",
    "id": "NALksrNQpUlJ",
    "tags": []
   },
   "outputs": [],
   "source": [
    "cnn.compile(optimizer = 'adam', loss = 'binary_crossentropy', metrics = ['accuracy'])"
   ]
  },
  {
   "cell_type": "markdown",
   "metadata": {
    "colab_type": "text",
    "id": "ehS-v3MIpX2h",
    "tags": []
   },
   "source": [
    "### Training the CNN on the Training set and evaluating it on the Test set"
   ]
  },
  {
   "cell_type": "code",
   "execution_count": 17,
   "metadata": {},
   "outputs": [
    {
     "name": "stderr",
     "output_type": "stream",
     "text": [
      "2021-08-27 20:12:14.080748: I tensorflow/compiler/mlir/mlir_graph_optimization_pass.cc:185] None of the MLIR Optimization Passes are enabled (registered 2)\n"
     ]
    },
    {
     "name": "stdout",
     "output_type": "stream",
     "text": [
      "Epoch 1/50\n",
      "251/251 [==============================] - 32s 126ms/step - loss: 0.6830 - accuracy: 0.5458 - val_loss: 0.6453 - val_accuracy: 0.6270\n",
      "Epoch 2/50\n",
      "251/251 [==============================] - 33s 132ms/step - loss: 0.6261 - accuracy: 0.6518 - val_loss: 0.6042 - val_accuracy: 0.6645\n",
      "Epoch 3/50\n",
      "251/251 [==============================] - 33s 133ms/step - loss: 0.5852 - accuracy: 0.6908 - val_loss: 0.5597 - val_accuracy: 0.7240\n",
      "Epoch 4/50\n",
      "251/251 [==============================] - 33s 132ms/step - loss: 0.5575 - accuracy: 0.7158 - val_loss: 0.5636 - val_accuracy: 0.7265\n",
      "Epoch 5/50\n",
      "251/251 [==============================] - 33s 133ms/step - loss: 0.5355 - accuracy: 0.7303 - val_loss: 0.4936 - val_accuracy: 0.7590\n",
      "Epoch 6/50\n",
      "251/251 [==============================] - 34s 134ms/step - loss: 0.5134 - accuracy: 0.7463 - val_loss: 0.4679 - val_accuracy: 0.7855\n",
      "Epoch 7/50\n",
      "251/251 [==============================] - 33s 133ms/step - loss: 0.4865 - accuracy: 0.7695 - val_loss: 0.4971 - val_accuracy: 0.7725\n",
      "Epoch 8/50\n",
      "251/251 [==============================] - 33s 133ms/step - loss: 0.4705 - accuracy: 0.7788 - val_loss: 0.5010 - val_accuracy: 0.7600\n",
      "Epoch 9/50\n",
      "251/251 [==============================] - 34s 134ms/step - loss: 0.4585 - accuracy: 0.7833 - val_loss: 0.5101 - val_accuracy: 0.7540\n",
      "Epoch 10/50\n",
      "251/251 [==============================] - 34s 135ms/step - loss: 0.4505 - accuracy: 0.7867 - val_loss: 0.4431 - val_accuracy: 0.8030\n",
      "Epoch 11/50\n",
      "251/251 [==============================] - 33s 130ms/step - loss: 0.4336 - accuracy: 0.7962 - val_loss: 0.4218 - val_accuracy: 0.8015\n",
      "Epoch 12/50\n",
      "251/251 [==============================] - 33s 133ms/step - loss: 0.4240 - accuracy: 0.8008 - val_loss: 0.4293 - val_accuracy: 0.8050\n",
      "Epoch 13/50\n",
      "251/251 [==============================] - 33s 133ms/step - loss: 0.4170 - accuracy: 0.8101 - val_loss: 0.4236 - val_accuracy: 0.8090\n",
      "Epoch 14/50\n",
      "251/251 [==============================] - 33s 130ms/step - loss: 0.4092 - accuracy: 0.8145 - val_loss: 0.4128 - val_accuracy: 0.8060\n",
      "Epoch 15/50\n",
      "251/251 [==============================] - 34s 136ms/step - loss: 0.3898 - accuracy: 0.8213 - val_loss: 0.4290 - val_accuracy: 0.7965\n",
      "Epoch 16/50\n",
      "251/251 [==============================] - 34s 134ms/step - loss: 0.3772 - accuracy: 0.8315 - val_loss: 0.4002 - val_accuracy: 0.8130\n",
      "Epoch 17/50\n",
      "251/251 [==============================] - 34s 134ms/step - loss: 0.3665 - accuracy: 0.8303 - val_loss: 0.4034 - val_accuracy: 0.8240\n",
      "Epoch 18/50\n",
      "251/251 [==============================] - 34s 134ms/step - loss: 0.3923 - accuracy: 0.8233 - val_loss: 0.4536 - val_accuracy: 0.7840\n",
      "Epoch 19/50\n",
      "251/251 [==============================] - 34s 137ms/step - loss: 0.3595 - accuracy: 0.8386 - val_loss: 0.4022 - val_accuracy: 0.8245\n",
      "Epoch 20/50\n",
      "251/251 [==============================] - 34s 134ms/step - loss: 0.3375 - accuracy: 0.8504 - val_loss: 0.4631 - val_accuracy: 0.7875\n",
      "Epoch 21/50\n",
      "251/251 [==============================] - 32s 129ms/step - loss: 0.3260 - accuracy: 0.8548 - val_loss: 0.4025 - val_accuracy: 0.8205\n",
      "Epoch 22/50\n",
      "251/251 [==============================] - 32s 128ms/step - loss: 0.3178 - accuracy: 0.8599 - val_loss: 0.3931 - val_accuracy: 0.8280\n",
      "Epoch 23/50\n",
      "251/251 [==============================] - 32s 128ms/step - loss: 0.3079 - accuracy: 0.8661 - val_loss: 0.4069 - val_accuracy: 0.8320\n",
      "Epoch 24/50\n",
      "251/251 [==============================] - 33s 130ms/step - loss: 0.3059 - accuracy: 0.8683 - val_loss: 0.4386 - val_accuracy: 0.8120\n",
      "Epoch 25/50\n",
      "251/251 [==============================] - 33s 130ms/step - loss: 0.2979 - accuracy: 0.8711 - val_loss: 0.3949 - val_accuracy: 0.8300\n",
      "Epoch 26/50\n",
      "251/251 [==============================] - 32s 129ms/step - loss: 0.3005 - accuracy: 0.8698 - val_loss: 0.4159 - val_accuracy: 0.8195\n",
      "Epoch 27/50\n",
      "251/251 [==============================] - 32s 128ms/step - loss: 0.3552 - accuracy: 0.8418 - val_loss: 0.4362 - val_accuracy: 0.8170\n",
      "Epoch 28/50\n",
      "251/251 [==============================] - 32s 129ms/step - loss: 0.2786 - accuracy: 0.8810 - val_loss: 0.4141 - val_accuracy: 0.8350\n",
      "Epoch 29/50\n",
      "251/251 [==============================] - 32s 128ms/step - loss: 0.2992 - accuracy: 0.8695 - val_loss: 0.4002 - val_accuracy: 0.8265\n",
      "Epoch 30/50\n",
      "251/251 [==============================] - 32s 129ms/step - loss: 0.2750 - accuracy: 0.8818 - val_loss: 0.4495 - val_accuracy: 0.8160\n",
      "Epoch 31/50\n",
      "251/251 [==============================] - 32s 128ms/step - loss: 0.2524 - accuracy: 0.8939 - val_loss: 0.4304 - val_accuracy: 0.8235\n",
      "Epoch 32/50\n",
      "251/251 [==============================] - 33s 130ms/step - loss: 0.2392 - accuracy: 0.9003 - val_loss: 0.4352 - val_accuracy: 0.8205\n",
      "Epoch 33/50\n",
      "251/251 [==============================] - 32s 129ms/step - loss: 0.2709 - accuracy: 0.8834 - val_loss: 0.4139 - val_accuracy: 0.8180\n",
      "Epoch 34/50\n",
      "251/251 [==============================] - 32s 128ms/step - loss: 0.2316 - accuracy: 0.9029 - val_loss: 0.4289 - val_accuracy: 0.8215\n",
      "Epoch 35/50\n",
      "251/251 [==============================] - 34s 136ms/step - loss: 0.2237 - accuracy: 0.9083 - val_loss: 0.4946 - val_accuracy: 0.8110\n",
      "Epoch 36/50\n",
      "251/251 [==============================] - 34s 136ms/step - loss: 0.2300 - accuracy: 0.9031 - val_loss: 0.4236 - val_accuracy: 0.8355\n",
      "Epoch 37/50\n",
      "251/251 [==============================] - 34s 135ms/step - loss: 0.2572 - accuracy: 0.8906 - val_loss: 0.4935 - val_accuracy: 0.8115\n",
      "Epoch 38/50\n",
      "251/251 [==============================] - 34s 137ms/step - loss: 0.2350 - accuracy: 0.8995 - val_loss: 0.4431 - val_accuracy: 0.8240\n",
      "Epoch 39/50\n",
      "251/251 [==============================] - 34s 137ms/step - loss: 0.2004 - accuracy: 0.9150 - val_loss: 0.5329 - val_accuracy: 0.8050\n",
      "Epoch 40/50\n",
      "251/251 [==============================] - 34s 135ms/step - loss: 0.2336 - accuracy: 0.9055 - val_loss: 0.4280 - val_accuracy: 0.8340\n",
      "Epoch 41/50\n",
      "251/251 [==============================] - 34s 136ms/step - loss: 0.2268 - accuracy: 0.9064 - val_loss: 0.4401 - val_accuracy: 0.8280\n",
      "Epoch 42/50\n",
      "251/251 [==============================] - 34s 136ms/step - loss: 0.2417 - accuracy: 0.8976 - val_loss: 0.4517 - val_accuracy: 0.8335\n",
      "Epoch 43/50\n",
      "251/251 [==============================] - 34s 137ms/step - loss: 0.1920 - accuracy: 0.9231 - val_loss: 0.4482 - val_accuracy: 0.8285\n",
      "Epoch 44/50\n",
      "251/251 [==============================] - 34s 137ms/step - loss: 0.1874 - accuracy: 0.9248 - val_loss: 0.4764 - val_accuracy: 0.8160\n",
      "Epoch 45/50\n",
      "251/251 [==============================] - 34s 137ms/step - loss: 0.1909 - accuracy: 0.9221 - val_loss: 0.5558 - val_accuracy: 0.8075\n",
      "Epoch 46/50\n",
      "251/251 [==============================] - 34s 137ms/step - loss: 0.1721 - accuracy: 0.9321 - val_loss: 0.4937 - val_accuracy: 0.8360\n",
      "Epoch 47/50\n",
      "251/251 [==============================] - 34s 137ms/step - loss: 0.1641 - accuracy: 0.9345 - val_loss: 0.5463 - val_accuracy: 0.8185\n",
      "Epoch 48/50\n",
      "251/251 [==============================] - 34s 137ms/step - loss: 0.1745 - accuracy: 0.9269 - val_loss: 0.4812 - val_accuracy: 0.8295\n",
      "Epoch 49/50\n",
      "251/251 [==============================] - 34s 136ms/step - loss: 0.1838 - accuracy: 0.9265 - val_loss: 0.4666 - val_accuracy: 0.8300\n",
      "Epoch 50/50\n",
      "251/251 [==============================] - 36s 142ms/step - loss: 0.1702 - accuracy: 0.9281 - val_loss: 0.4956 - val_accuracy: 0.8270\n"
     ]
    },
    {
     "data": {
      "text/plain": [
       "<keras.callbacks.History at 0x7f5b242e5e20>"
      ]
     },
     "execution_count": 17,
     "metadata": {},
     "output_type": "execute_result"
    }
   ],
   "source": [
    "cnn.fit(x = training_set, validation_data = test_set, epochs = 50)"
   ]
  },
  {
   "cell_type": "markdown",
   "metadata": {
    "colab_type": "text",
    "id": "U3PZasO0006Z"
   },
   "source": [
    "## Part 4 - Making a single prediction"
   ]
  },
  {
   "cell_type": "code",
   "execution_count": 18,
   "metadata": {
    "colab": {},
    "colab_type": "code",
    "id": "gsSiWEJY1BPB"
   },
   "outputs": [
    {
     "name": "stdout",
     "output_type": "stream",
     "text": [
      "dataset/single_prediction/cat_or_dog_1.jpg\n",
      "{'cats': 0, 'dogs': 1}\n",
      "[[1.]] 1.0\n",
      "dataset/single_prediction/cat_or_dog_2.jpg\n",
      "{'cats': 0, 'dogs': 1}\n",
      "[[7.948744e-10]] 7.948744e-10\n"
     ]
    }
   ],
   "source": [
    "import numpy as np\n",
    "from keras.preprocessing import image\n",
    "prediction = []\n",
    "for i in range(1,3):\n",
    "    test_image = image.load_img(f'dataset/single_prediction/cat_or_dog_{i}.jpg', target_size = (64, 64))\n",
    "    print(f'dataset/single_prediction/cat_or_dog_{i}.jpg')\n",
    "    test_image = image.img_to_array(test_image)\n",
    "    test_image = np.expand_dims(test_image, axis = 0)\n",
    "    result = cnn.predict(test_image)\n",
    "    print(training_set.class_indices)\n",
    "    print(result, result[0][0])\n",
    "    if result[0][0] == 1:\n",
    "      prediction.append('dog')\n",
    "    else:\n",
    "      prediction.append('cat')"
   ]
  },
  {
   "cell_type": "code",
   "execution_count": null,
   "metadata": {
    "colab": {},
    "colab_type": "code",
    "id": "ED9KB3I54c1i",
    "tags": []
   },
   "outputs": [],
   "source": [
    "print(prediction)"
   ]
  },
  {
   "cell_type": "code",
   "execution_count": null,
   "metadata": {},
   "outputs": [],
   "source": [
    "test_image = image.load_img(f'dataset/training_set/cats/cat.1005.jpg', target_size = (64, 64))\n",
    "test_image = image.img_to_array(test_image)\n",
    "test_image = np.expand_dims(test_image, axis = 0)\n",
    "result = cnn.predict(test_image)\n",
    "print(training_set.class_indices)\n",
    "print(result, result[0][0])"
   ]
  },
  {
   "cell_type": "markdown",
   "metadata": {},
   "source": [
    "## Fim"
   ]
  }
 ],
 "metadata": {
  "colab": {
   "collapsed_sections": [],
   "name": "convolutional_neural_network.ipynb",
   "provenance": [],
   "toc_visible": true
  },
  "kernelspec": {
   "display_name": "Python 3 (ipykernel)",
   "language": "python",
   "name": "python3"
  },
  "language_info": {
   "codemirror_mode": {
    "name": "ipython",
    "version": 3
   },
   "file_extension": ".py",
   "mimetype": "text/x-python",
   "name": "python",
   "nbconvert_exporter": "python",
   "pygments_lexer": "ipython3",
   "version": "3.8.10"
  }
 },
 "nbformat": 4,
 "nbformat_minor": 4
}
