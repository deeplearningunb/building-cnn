{
  "nbformat": 4,
  "nbformat_minor": 0,
  "metadata": {
    "colab": {
      "name": "convolutional_neural_network.ipynb",
      "provenance": [],
      "collapsed_sections": []
    },
    "kernelspec": {
      "display_name": "Python 3",
      "language": "python",
      "name": "python3"
    },
    "language_info": {
      "codemirror_mode": {
        "name": "ipython",
        "version": 3
      },
      "file_extension": ".py",
      "mimetype": "text/x-python",
      "name": "python",
      "nbconvert_exporter": "python",
      "pygments_lexer": "ipython3",
      "version": "3.6.9"
    },
    "accelerator": "GPU"
  },
  "cells": [
    {
      "cell_type": "markdown",
      "metadata": {
        "id": "3DR-eO17geWu"
      },
      "source": [
        "# Convolutional Neural Network"
      ]
    },
    {
      "cell_type": "markdown",
      "metadata": {
        "id": "EMefrVPCg-60"
      },
      "source": [
        "### Importing the libraries"
      ]
    },
    {
      "cell_type": "code",
      "metadata": {
        "id": "2gFl3BvnlCD7"
      },
      "source": [
        "!pip install --upgrade tensorflow keras Pillow"
      ],
      "execution_count": null,
      "outputs": []
    },
    {
      "cell_type": "code",
      "metadata": {
        "id": "sCV30xyVhFbE"
      },
      "source": [
        "import tensorflow as tf\n",
        "from keras.preprocessing.image import ImageDataGenerator\n"
      ],
      "execution_count": 2,
      "outputs": []
    },
    {
      "cell_type": "code",
      "metadata": {
        "colab": {
          "base_uri": "https://localhost:8080/"
        },
        "id": "uieQ4iA6lges",
        "outputId": "7e9f8c51-5736-439c-e0e3-2e3ecc2a0e93"
      },
      "source": [
        "from google.colab import drive\n",
        "\n",
        "drive.mount('/content/drive/')"
      ],
      "execution_count": 3,
      "outputs": [
        {
          "output_type": "stream",
          "text": [
            "Mounted at /content/drive/\n"
          ],
          "name": "stdout"
        }
      ]
    },
    {
      "cell_type": "code",
      "metadata": {
        "colab": {
          "base_uri": "https://localhost:8080/",
          "height": 36
        },
        "id": "FIleuCAjoFD8",
        "outputId": "db644cbe-2af0-40b9-ede5-9ab98cbb7ee4"
      },
      "source": [
        "\n",
        "tf.__version__"
      ],
      "execution_count": 4,
      "outputs": [
        {
          "output_type": "execute_result",
          "data": {
            "application/vnd.google.colaboratory.intrinsic+json": {
              "type": "string"
            },
            "text/plain": [
              "'2.6.0'"
            ]
          },
          "metadata": {},
          "execution_count": 4
        }
      ]
    },
    {
      "cell_type": "markdown",
      "metadata": {
        "id": "oxQxCBWyoGPE"
      },
      "source": [
        "## Part 1 - Data Preprocessing"
      ]
    },
    {
      "cell_type": "markdown",
      "metadata": {
        "id": "MvE-heJNo3GG"
      },
      "source": [
        "### Preprocessing the Training set"
      ]
    },
    {
      "cell_type": "code",
      "metadata": {
        "colab": {
          "base_uri": "https://localhost:8080/"
        },
        "id": "0koUcJMJpEBD",
        "outputId": "84aac0e8-fa97-49a1-d311-f279f3d55bfc"
      },
      "source": [
        "train_datagen = ImageDataGenerator(rescale = 1./255,\n",
        "                                   shear_range = 0.2,\n",
        "                                   zoom_range = 0.2,\n",
        "                                   horizontal_flip = True)\n",
        "training_set = train_datagen.flow_from_directory('/content/drive/My Drive/Colab Notebooks/cnn/dataset/training_set',\n",
        "                                                 target_size = (64, 64),\n",
        "                                                 batch_size = 32,\n",
        "                                                 class_mode = 'binary')"
      ],
      "execution_count": 5,
      "outputs": [
        {
          "output_type": "stream",
          "text": [
            "Found 8000 images belonging to 2 classes.\n"
          ],
          "name": "stdout"
        }
      ]
    },
    {
      "cell_type": "markdown",
      "metadata": {
        "id": "mrCMmGw9pHys"
      },
      "source": [
        "### Preprocessing the Test set"
      ]
    },
    {
      "cell_type": "code",
      "metadata": {
        "colab": {
          "base_uri": "https://localhost:8080/"
        },
        "id": "SH4WzfOhpKc3",
        "outputId": "f9a44e66-d29d-4191-b893-91bc501d2ce0"
      },
      "source": [
        "test_datagen = ImageDataGenerator(rescale = 1./255)\n",
        "test_set = test_datagen.flow_from_directory('/content/drive/My Drive/Colab Notebooks/cnn/dataset/test_set',\n",
        "                                            target_size = (64, 64),\n",
        "                                            batch_size = 32,\n",
        "                                            class_mode = 'binary')"
      ],
      "execution_count": 6,
      "outputs": [
        {
          "output_type": "stream",
          "text": [
            "Found 2000 images belonging to 2 classes.\n"
          ],
          "name": "stdout"
        }
      ]
    },
    {
      "cell_type": "markdown",
      "metadata": {
        "id": "af8O4l90gk7B"
      },
      "source": [
        "## Part 2 - Building the CNN"
      ]
    },
    {
      "cell_type": "markdown",
      "metadata": {
        "id": "ces1gXY2lmoX"
      },
      "source": [
        "### Initialising the CNN"
      ]
    },
    {
      "cell_type": "code",
      "metadata": {
        "id": "SAUt4UMPlhLS"
      },
      "source": [
        "cnn = tf.keras.models.Sequential()"
      ],
      "execution_count": 48,
      "outputs": []
    },
    {
      "cell_type": "markdown",
      "metadata": {
        "id": "u5YJj_XMl5LF"
      },
      "source": [
        "### Step 1 - Convolution"
      ]
    },
    {
      "cell_type": "code",
      "metadata": {
        "id": "XPzPrMckl-hV"
      },
      "source": [
        "cnn.add(tf.keras.layers.Conv2D(filters=32, kernel_size=3, activation='relu', input_shape=[64, 64, 3]))"
      ],
      "execution_count": 49,
      "outputs": []
    },
    {
      "cell_type": "markdown",
      "metadata": {
        "id": "tf87FpvxmNOJ"
      },
      "source": [
        "### Step 2 - Pooling"
      ]
    },
    {
      "cell_type": "code",
      "metadata": {
        "id": "ncpqPl69mOac"
      },
      "source": [
        "cnn.add(tf.keras.layers.MaxPool2D(pool_size=2, strides=2))"
      ],
      "execution_count": 50,
      "outputs": []
    },
    {
      "cell_type": "markdown",
      "metadata": {
        "id": "xaTOgD8rm4mU"
      },
      "source": [
        "### Adding a second convolutional layer"
      ]
    },
    {
      "cell_type": "code",
      "metadata": {
        "id": "i_-FZjn_m8gk"
      },
      "source": [
        "cnn.add(tf.keras.layers.Conv2D(filters=32, kernel_size=3, activation='relu'))\n",
        "cnn.add(tf.keras.layers.MaxPool2D(pool_size=2, strides=2))"
      ],
      "execution_count": 51,
      "outputs": []
    },
    {
      "cell_type": "code",
      "metadata": {
        "id": "lX0sFR1fTfbC"
      },
      "source": [
        "cnn.add(tf.keras.layers.Conv2D(filters=32, kernel_size=3, activation='relu'))\n",
        "cnn.add(tf.keras.layers.MaxPool2D(pool_size=2, strides=2))"
      ],
      "execution_count": 52,
      "outputs": []
    },
    {
      "cell_type": "markdown",
      "metadata": {
        "id": "tmiEuvTunKfk"
      },
      "source": [
        "### Step 3 - Flattening"
      ]
    },
    {
      "cell_type": "code",
      "metadata": {
        "id": "6AZeOGCvnNZn"
      },
      "source": [
        "cnn.add(tf.keras.layers.Flatten())"
      ],
      "execution_count": 53,
      "outputs": []
    },
    {
      "cell_type": "markdown",
      "metadata": {
        "id": "dAoSECOm203v"
      },
      "source": [
        "### Step 4 - Full Connection"
      ]
    },
    {
      "cell_type": "code",
      "metadata": {
        "id": "8GtmUlLd26Nq"
      },
      "source": [
        "cnn.add(tf.keras.layers.Dense(units=128, activation='sigmoid'))"
      ],
      "execution_count": 54,
      "outputs": []
    },
    {
      "cell_type": "markdown",
      "metadata": {
        "id": "yTldFvbX28Na"
      },
      "source": [
        "### Step 5 - Output Layer"
      ]
    },
    {
      "cell_type": "code",
      "metadata": {
        "id": "1p_Zj1Mc3Ko_"
      },
      "source": [
        "cnn.add(tf.keras.layers.Dense(units=1, activation='sigmoid'))"
      ],
      "execution_count": 55,
      "outputs": []
    },
    {
      "cell_type": "markdown",
      "metadata": {
        "id": "D6XkI90snSDl"
      },
      "source": [
        "## Part 3 - Training the CNN"
      ]
    },
    {
      "cell_type": "markdown",
      "metadata": {
        "id": "vfrFQACEnc6i"
      },
      "source": [
        "### Compiling the CNN"
      ]
    },
    {
      "cell_type": "code",
      "metadata": {
        "id": "NALksrNQpUlJ"
      },
      "source": [
        "cnn.compile(optimizer = 'adam', loss = 'binary_crossentropy', metrics = ['accuracy'])"
      ],
      "execution_count": 56,
      "outputs": []
    },
    {
      "cell_type": "markdown",
      "metadata": {
        "id": "ehS-v3MIpX2h"
      },
      "source": [
        "### Training the CNN on the Training set and evaluating it on the Test set"
      ]
    },
    {
      "cell_type": "code",
      "metadata": {
        "colab": {
          "base_uri": "https://localhost:8080/"
        },
        "id": "XUj1W4PJptta",
        "outputId": "bd7c55bf-9fda-4b60-a1d1-ce953d08167d"
      },
      "source": [
        "cnn.fit(x = training_set, validation_data = test_set, epochs = 25)"
      ],
      "execution_count": 57,
      "outputs": [
        {
          "output_type": "stream",
          "text": [
            "Epoch 1/25\n",
            "250/250 [==============================] - 56s 221ms/step - loss: 0.6902 - accuracy: 0.5369 - val_loss: 0.6417 - val_accuracy: 0.6375\n",
            "Epoch 2/25\n",
            "250/250 [==============================] - 54s 218ms/step - loss: 0.6436 - accuracy: 0.6265 - val_loss: 0.6193 - val_accuracy: 0.6545\n",
            "Epoch 3/25\n",
            "250/250 [==============================] - 55s 218ms/step - loss: 0.5980 - accuracy: 0.6873 - val_loss: 0.5677 - val_accuracy: 0.7215\n",
            "Epoch 4/25\n",
            "250/250 [==============================] - 54s 217ms/step - loss: 0.5639 - accuracy: 0.7090 - val_loss: 0.5401 - val_accuracy: 0.7285\n",
            "Epoch 5/25\n",
            "250/250 [==============================] - 54s 218ms/step - loss: 0.5334 - accuracy: 0.7295 - val_loss: 0.4991 - val_accuracy: 0.7565\n",
            "Epoch 6/25\n",
            "250/250 [==============================] - 54s 218ms/step - loss: 0.5081 - accuracy: 0.7498 - val_loss: 0.4915 - val_accuracy: 0.7640\n",
            "Epoch 7/25\n",
            "250/250 [==============================] - 54s 216ms/step - loss: 0.4774 - accuracy: 0.7690 - val_loss: 0.5022 - val_accuracy: 0.7650\n",
            "Epoch 8/25\n",
            "250/250 [==============================] - 56s 222ms/step - loss: 0.4658 - accuracy: 0.7754 - val_loss: 0.4628 - val_accuracy: 0.7820\n",
            "Epoch 9/25\n",
            "250/250 [==============================] - 56s 223ms/step - loss: 0.4499 - accuracy: 0.7857 - val_loss: 0.4451 - val_accuracy: 0.7875\n",
            "Epoch 10/25\n",
            "250/250 [==============================] - 56s 225ms/step - loss: 0.4439 - accuracy: 0.7904 - val_loss: 0.4280 - val_accuracy: 0.7990\n",
            "Epoch 11/25\n",
            "250/250 [==============================] - 57s 229ms/step - loss: 0.4334 - accuracy: 0.7959 - val_loss: 0.4222 - val_accuracy: 0.8075\n",
            "Epoch 12/25\n",
            "250/250 [==============================] - 54s 216ms/step - loss: 0.4194 - accuracy: 0.8041 - val_loss: 0.4021 - val_accuracy: 0.8220\n",
            "Epoch 13/25\n",
            "250/250 [==============================] - 53s 213ms/step - loss: 0.4055 - accuracy: 0.8126 - val_loss: 0.4150 - val_accuracy: 0.8080\n",
            "Epoch 14/25\n",
            "250/250 [==============================] - 54s 216ms/step - loss: 0.4019 - accuracy: 0.8136 - val_loss: 0.4233 - val_accuracy: 0.8040\n",
            "Epoch 15/25\n",
            "250/250 [==============================] - 53s 211ms/step - loss: 0.3960 - accuracy: 0.8223 - val_loss: 0.4080 - val_accuracy: 0.8030\n",
            "Epoch 16/25\n",
            "250/250 [==============================] - 53s 212ms/step - loss: 0.3818 - accuracy: 0.8263 - val_loss: 0.3903 - val_accuracy: 0.8225\n",
            "Epoch 17/25\n",
            "250/250 [==============================] - 52s 208ms/step - loss: 0.3696 - accuracy: 0.8325 - val_loss: 0.3859 - val_accuracy: 0.8220\n",
            "Epoch 18/25\n",
            "250/250 [==============================] - 52s 209ms/step - loss: 0.3675 - accuracy: 0.8307 - val_loss: 0.3743 - val_accuracy: 0.8325\n",
            "Epoch 19/25\n",
            "250/250 [==============================] - 53s 212ms/step - loss: 0.3595 - accuracy: 0.8361 - val_loss: 0.3807 - val_accuracy: 0.8255\n",
            "Epoch 20/25\n",
            "250/250 [==============================] - 53s 214ms/step - loss: 0.3453 - accuracy: 0.8438 - val_loss: 0.3683 - val_accuracy: 0.8320\n",
            "Epoch 21/25\n",
            "250/250 [==============================] - 53s 214ms/step - loss: 0.3453 - accuracy: 0.8436 - val_loss: 0.3773 - val_accuracy: 0.8335\n",
            "Epoch 22/25\n",
            "250/250 [==============================] - 52s 208ms/step - loss: 0.3404 - accuracy: 0.8494 - val_loss: 0.4359 - val_accuracy: 0.8010\n",
            "Epoch 23/25\n",
            "250/250 [==============================] - 54s 215ms/step - loss: 0.3441 - accuracy: 0.8436 - val_loss: 0.3762 - val_accuracy: 0.8280\n",
            "Epoch 24/25\n",
            "250/250 [==============================] - 54s 216ms/step - loss: 0.3175 - accuracy: 0.8608 - val_loss: 0.3742 - val_accuracy: 0.8310\n",
            "Epoch 25/25\n",
            "250/250 [==============================] - 54s 218ms/step - loss: 0.3178 - accuracy: 0.8614 - val_loss: 0.3909 - val_accuracy: 0.8280\n"
          ],
          "name": "stdout"
        },
        {
          "output_type": "execute_result",
          "data": {
            "text/plain": [
              "<keras.callbacks.History at 0x7f339a6cbf50>"
            ]
          },
          "metadata": {},
          "execution_count": 57
        }
      ]
    },
    {
      "cell_type": "code",
      "metadata": {
        "id": "LzyCKYS_DyX6"
      },
      "source": [
        "import torch"
      ],
      "execution_count": 17,
      "outputs": []
    },
    {
      "cell_type": "code",
      "metadata": {
        "colab": {
          "base_uri": "https://localhost:8080/"
        },
        "id": "cHdm6IZKDypN",
        "outputId": "3159fdb4-712d-43a8-97f2-63054aa24876"
      },
      "source": [
        "def testar_gpu():\n",
        "\ttrain_on_gpu = torch.cuda.is_available() #Observa se a GPU está disponivel\n",
        "\tif train_on_gpu: #Se sim\n",
        "\t\tdevice = torch.device('cuda') #Seleciona o device como GPU\n",
        "\t\tprint(\"Treinando na GPU\") #E manda a mensagem\n",
        "\telse: #Se não\n",
        "\t\tdevice = torch.device('cpu') #Seleciona o device como cpu\n",
        "\t\tprint(\"GPU indisponível, treinando na CPU\") #E avisa que a GPU não esta disponível\n",
        "\treturn device\n",
        "\n",
        "device = testar_gpu()"
      ],
      "execution_count": 18,
      "outputs": [
        {
          "output_type": "stream",
          "text": [
            "Treinando na GPU\n"
          ],
          "name": "stdout"
        }
      ]
    },
    {
      "cell_type": "markdown",
      "metadata": {
        "id": "U3PZasO0006Z"
      },
      "source": [
        "## Part 4 - Making a single prediction"
      ]
    },
    {
      "cell_type": "code",
      "metadata": {
        "id": "gsSiWEJY1BPB"
      },
      "source": [
        "import numpy as np\n",
        "from keras.preprocessing import image\n",
        "test_image = image.load_img('dataset/single_prediction/cat_or_dog_1.jpg', target_size = (64, 64))\n",
        "test_image = image.img_to_array(test_image)\n",
        "test_image = np.expand_dims(test_image, axis = 0)\n",
        "result = cnn.predict(test_image)\n",
        "training_set.class_indices\n",
        "if result[0][0] == 1:\n",
        "  prediction = 'dog'\n",
        "else:\n",
        "  prediction = 'cat'"
      ],
      "execution_count": null,
      "outputs": []
    },
    {
      "cell_type": "code",
      "metadata": {
        "id": "ED9KB3I54c1i",
        "outputId": "c52676b9-f625-47a3-c202-90e1da9b9fa7"
      },
      "source": [
        "print(prediction)"
      ],
      "execution_count": null,
      "outputs": [
        {
          "name": "stdout",
          "output_type": "stream",
          "text": [
            "dog\n"
          ]
        }
      ]
    },
    {
      "cell_type": "markdown",
      "metadata": {
        "id": "J3-xAmrJlCEM"
      },
      "source": [
        "## Fim"
      ]
    }
  ]
}