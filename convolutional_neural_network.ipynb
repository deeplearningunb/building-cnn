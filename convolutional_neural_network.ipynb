{
 "cells": [
  {
   "cell_type": "markdown",
   "metadata": {
    "colab_type": "text",
    "id": "3DR-eO17geWu"
   },
   "source": [
    "# Convolutional Neural Network"
   ]
  },
  {
   "cell_type": "markdown",
   "metadata": {
    "colab_type": "text",
    "id": "EMefrVPCg-60"
   },
   "source": [
    "### Importing the libraries"
   ]
  },
  {
   "cell_type": "code",
   "execution_count": 1,
   "metadata": {},
   "outputs": [
    {
     "name": "stdout",
     "output_type": "stream",
     "text": [
      "Requirement already up-to-date: tensorflow in /home/laura/.local/lib/python3.8/site-packages (2.6.0)\n",
      "Requirement already up-to-date: keras in /home/laura/.local/lib/python3.8/site-packages (2.6.0)\n",
      "Requirement already up-to-date: Pillow in /home/laura/.local/lib/python3.8/site-packages (8.3.1)\n",
      "Requirement already satisfied, skipping upgrade: absl-py~=0.10 in /home/laura/.local/lib/python3.8/site-packages (from tensorflow) (0.13.0)\n",
      "Requirement already satisfied, skipping upgrade: clang~=5.0 in /home/laura/.local/lib/python3.8/site-packages (from tensorflow) (5.0)\n",
      "Requirement already satisfied, skipping upgrade: google-pasta~=0.2 in /home/laura/.local/lib/python3.8/site-packages (from tensorflow) (0.2.0)\n",
      "Requirement already satisfied, skipping upgrade: astunparse~=1.6.3 in /home/laura/.local/lib/python3.8/site-packages (from tensorflow) (1.6.3)\n",
      "Requirement already satisfied, skipping upgrade: keras-preprocessing~=1.1.2 in /home/laura/.local/lib/python3.8/site-packages (from tensorflow) (1.1.2)\n",
      "Requirement already satisfied, skipping upgrade: termcolor~=1.1.0 in /home/laura/.local/lib/python3.8/site-packages (from tensorflow) (1.1.0)\n",
      "Requirement already satisfied, skipping upgrade: h5py~=3.1.0 in /home/laura/.local/lib/python3.8/site-packages (from tensorflow) (3.1.0)\n",
      "Requirement already satisfied, skipping upgrade: numpy~=1.19.2 in /home/laura/.local/lib/python3.8/site-packages (from tensorflow) (1.19.5)\n",
      "Requirement already satisfied, skipping upgrade: typing-extensions~=3.7.4 in /home/laura/.local/lib/python3.8/site-packages (from tensorflow) (3.7.4.3)\n",
      "Requirement already satisfied, skipping upgrade: tensorflow-estimator~=2.6 in /home/laura/.local/lib/python3.8/site-packages (from tensorflow) (2.6.0)\n",
      "Requirement already satisfied, skipping upgrade: wrapt~=1.12.1 in /home/laura/.local/lib/python3.8/site-packages (from tensorflow) (1.12.1)\n",
      "Requirement already satisfied, skipping upgrade: wheel~=0.35 in /home/laura/.local/lib/python3.8/site-packages (from tensorflow) (0.37.0)\n",
      "Requirement already satisfied, skipping upgrade: gast==0.4.0 in /home/laura/.local/lib/python3.8/site-packages (from tensorflow) (0.4.0)\n",
      "Requirement already satisfied, skipping upgrade: flatbuffers~=1.12.0 in /home/laura/.local/lib/python3.8/site-packages (from tensorflow) (1.12)\n",
      "Requirement already satisfied, skipping upgrade: six~=1.15.0 in /home/laura/.local/lib/python3.8/site-packages (from tensorflow) (1.15.0)\n",
      "Requirement already satisfied, skipping upgrade: tensorboard~=2.6 in /home/laura/.local/lib/python3.8/site-packages (from tensorflow) (2.6.0)\n",
      "Requirement already satisfied, skipping upgrade: grpcio<2.0,>=1.37.0 in /home/laura/.local/lib/python3.8/site-packages (from tensorflow) (1.39.0)\n",
      "Requirement already satisfied, skipping upgrade: protobuf>=3.9.2 in /home/laura/.local/lib/python3.8/site-packages (from tensorflow) (3.17.3)\n",
      "Requirement already satisfied, skipping upgrade: opt-einsum~=3.3.0 in /home/laura/.local/lib/python3.8/site-packages (from tensorflow) (3.3.0)\n",
      "Requirement already satisfied, skipping upgrade: setuptools>=41.0.0 in /usr/lib/python3/dist-packages (from tensorboard~=2.6->tensorflow) (45.2.0)\n",
      "Requirement already satisfied, skipping upgrade: markdown>=2.6.8 in /home/laura/.local/lib/python3.8/site-packages (from tensorboard~=2.6->tensorflow) (3.3.4)\n",
      "Requirement already satisfied, skipping upgrade: requests<3,>=2.21.0 in /home/laura/.local/lib/python3.8/site-packages (from tensorboard~=2.6->tensorflow) (2.25.1)\n",
      "Requirement already satisfied, skipping upgrade: tensorboard-data-server<0.7.0,>=0.6.0 in /home/laura/.local/lib/python3.8/site-packages (from tensorboard~=2.6->tensorflow) (0.6.1)\n",
      "Requirement already satisfied, skipping upgrade: google-auth<2,>=1.6.3 in /home/laura/.local/lib/python3.8/site-packages (from tensorboard~=2.6->tensorflow) (1.35.0)\n",
      "Requirement already satisfied, skipping upgrade: tensorboard-plugin-wit>=1.6.0 in /home/laura/.local/lib/python3.8/site-packages (from tensorboard~=2.6->tensorflow) (1.8.0)\n",
      "Requirement already satisfied, skipping upgrade: werkzeug>=0.11.15 in /home/laura/.local/lib/python3.8/site-packages (from tensorboard~=2.6->tensorflow) (2.0.1)\n",
      "Requirement already satisfied, skipping upgrade: google-auth-oauthlib<0.5,>=0.4.1 in /home/laura/.local/lib/python3.8/site-packages (from tensorboard~=2.6->tensorflow) (0.4.5)\n",
      "Requirement already satisfied, skipping upgrade: certifi>=2017.4.17 in /usr/lib/python3/dist-packages (from requests<3,>=2.21.0->tensorboard~=2.6->tensorflow) (2019.11.28)\n",
      "Requirement already satisfied, skipping upgrade: idna<3,>=2.5 in /usr/lib/python3/dist-packages (from requests<3,>=2.21.0->tensorboard~=2.6->tensorflow) (2.8)\n",
      "Requirement already satisfied, skipping upgrade: urllib3<1.27,>=1.21.1 in /usr/lib/python3/dist-packages (from requests<3,>=2.21.0->tensorboard~=2.6->tensorflow) (1.25.8)\n",
      "Requirement already satisfied, skipping upgrade: chardet<5,>=3.0.2 in /usr/lib/python3/dist-packages (from requests<3,>=2.21.0->tensorboard~=2.6->tensorflow) (3.0.4)\n",
      "Requirement already satisfied, skipping upgrade: cachetools<5.0,>=2.0.0 in /home/laura/.local/lib/python3.8/site-packages (from google-auth<2,>=1.6.3->tensorboard~=2.6->tensorflow) (4.2.2)\n",
      "Requirement already satisfied, skipping upgrade: rsa<5,>=3.1.4; python_version >= \"3.6\" in /home/laura/.local/lib/python3.8/site-packages (from google-auth<2,>=1.6.3->tensorboard~=2.6->tensorflow) (4.7.2)\n",
      "Requirement already satisfied, skipping upgrade: pyasn1-modules>=0.2.1 in /home/laura/.local/lib/python3.8/site-packages (from google-auth<2,>=1.6.3->tensorboard~=2.6->tensorflow) (0.2.8)\n",
      "Requirement already satisfied, skipping upgrade: requests-oauthlib>=0.7.0 in /home/laura/.local/lib/python3.8/site-packages (from google-auth-oauthlib<0.5,>=0.4.1->tensorboard~=2.6->tensorflow) (1.3.0)\n",
      "Requirement already satisfied, skipping upgrade: pyasn1>=0.1.3 in /home/laura/.local/lib/python3.8/site-packages (from rsa<5,>=3.1.4; python_version >= \"3.6\"->google-auth<2,>=1.6.3->tensorboard~=2.6->tensorflow) (0.4.8)\n",
      "Requirement already satisfied, skipping upgrade: oauthlib>=3.0.0 in /usr/lib/python3/dist-packages (from requests-oauthlib>=0.7.0->google-auth-oauthlib<0.5,>=0.4.1->tensorboard~=2.6->tensorflow) (3.1.0)\n"
     ]
    }
   ],
   "source": [
    "!pip install --upgrade tensorflow keras Pillow"
   ]
  },
  {
   "cell_type": "code",
   "execution_count": 2,
   "metadata": {
    "colab": {},
    "colab_type": "code",
    "id": "sCV30xyVhFbE"
   },
   "outputs": [],
   "source": [
    "import tensorflow as tf\n",
    "from keras.preprocessing.image import ImageDataGenerator"
   ]
  },
  {
   "cell_type": "code",
   "execution_count": 3,
   "metadata": {
    "colab": {},
    "colab_type": "code",
    "id": "FIleuCAjoFD8"
   },
   "outputs": [
    {
     "data": {
      "text/plain": [
       "'2.6.0'"
      ]
     },
     "execution_count": 3,
     "metadata": {},
     "output_type": "execute_result"
    }
   ],
   "source": [
    "tf.__version__"
   ]
  },
  {
   "cell_type": "markdown",
   "metadata": {
    "colab_type": "text",
    "id": "oxQxCBWyoGPE"
   },
   "source": [
    "## Part 1 - Data Preprocessing"
   ]
  },
  {
   "cell_type": "markdown",
   "metadata": {
    "colab_type": "text",
    "id": "MvE-heJNo3GG"
   },
   "source": [
    "### Preprocessing the Training set"
   ]
  },
  {
   "cell_type": "code",
   "execution_count": 4,
   "metadata": {
    "colab": {},
    "colab_type": "code",
    "id": "0koUcJMJpEBD"
   },
   "outputs": [
    {
     "name": "stdout",
     "output_type": "stream",
     "text": [
      "Found 8000 images belonging to 2 classes.\n"
     ]
    }
   ],
   "source": [
    "train_datagen = ImageDataGenerator(rescale = 1./255,\n",
    "                                   shear_range = 0.2,\n",
    "                                   zoom_range = 0.2,\n",
    "                                   horizontal_flip = True)\n",
    "training_set = train_datagen.flow_from_directory('dataset/training_set',\n",
    "                                                 target_size = (64, 64),\n",
    "                                                 batch_size = 32,\n",
    "                                                 class_mode = 'binary')"
   ]
  },
  {
   "cell_type": "markdown",
   "metadata": {
    "colab_type": "text",
    "id": "mrCMmGw9pHys"
   },
   "source": [
    "### Preprocessing the Test set"
   ]
  },
  {
   "cell_type": "code",
   "execution_count": 5,
   "metadata": {
    "colab": {},
    "colab_type": "code",
    "id": "SH4WzfOhpKc3"
   },
   "outputs": [
    {
     "name": "stdout",
     "output_type": "stream",
     "text": [
      "Found 2000 images belonging to 2 classes.\n"
     ]
    }
   ],
   "source": [
    "test_datagen = ImageDataGenerator(rescale = 1./255)\n",
    "test_set = test_datagen.flow_from_directory('dataset/test_set',\n",
    "                                            target_size = (64, 64),\n",
    "                                            batch_size = 32,\n",
    "                                            class_mode = 'binary')"
   ]
  },
  {
   "cell_type": "markdown",
   "metadata": {
    "colab_type": "text",
    "id": "af8O4l90gk7B"
   },
   "source": [
    "## Part 2 - Building the CNN"
   ]
  },
  {
   "cell_type": "markdown",
   "metadata": {
    "colab_type": "text",
    "id": "ces1gXY2lmoX"
   },
   "source": [
    "### Initialising the CNN"
   ]
  },
  {
   "cell_type": "code",
   "execution_count": 6,
   "metadata": {
    "colab": {},
    "colab_type": "code",
    "id": "SAUt4UMPlhLS"
   },
   "outputs": [],
   "source": [
    "cnn = tf.keras.models.Sequential()"
   ]
  },
  {
   "cell_type": "markdown",
   "metadata": {
    "colab_type": "text",
    "id": "u5YJj_XMl5LF"
   },
   "source": [
    "### Step 1 - Convolution"
   ]
  },
  {
   "cell_type": "code",
   "execution_count": 7,
   "metadata": {
    "colab": {},
    "colab_type": "code",
    "id": "XPzPrMckl-hV"
   },
   "outputs": [],
   "source": [
    "cnn.add(tf.keras.layers.Conv2D(filters=32, kernel_size=3, activation='relu', input_shape=[64, 64, 3]))"
   ]
  },
  {
   "cell_type": "markdown",
   "metadata": {
    "colab_type": "text",
    "id": "tf87FpvxmNOJ"
   },
   "source": [
    "### Step 2 - Pooling"
   ]
  },
  {
   "cell_type": "code",
   "execution_count": 8,
   "metadata": {
    "colab": {},
    "colab_type": "code",
    "id": "ncpqPl69mOac"
   },
   "outputs": [],
   "source": [
    "cnn.add(tf.keras.layers.MaxPool2D(pool_size=2, strides=2))"
   ]
  },
  {
   "cell_type": "markdown",
   "metadata": {
    "colab_type": "text",
    "id": "xaTOgD8rm4mU"
   },
   "source": [
    "### Adding a second convolutional layer"
   ]
  },
  {
   "cell_type": "code",
   "execution_count": 9,
   "metadata": {
    "colab": {},
    "colab_type": "code",
    "id": "i_-FZjn_m8gk"
   },
   "outputs": [],
   "source": [
    "cnn.add(tf.keras.layers.Conv2D(filters=32, kernel_size=3, activation='relu'))\n",
    "cnn.add(tf.keras.layers.MaxPool2D(pool_size=2, strides=2))"
   ]
  },
  {
   "cell_type": "markdown",
   "metadata": {
    "colab_type": "text",
    "id": "tmiEuvTunKfk"
   },
   "source": [
    "### Step 3 - Flattening"
   ]
  },
  {
   "cell_type": "code",
   "execution_count": 10,
   "metadata": {
    "colab": {},
    "colab_type": "code",
    "id": "6AZeOGCvnNZn"
   },
   "outputs": [],
   "source": [
    "cnn.add(tf.keras.layers.Flatten())"
   ]
  },
  {
   "cell_type": "markdown",
   "metadata": {
    "colab_type": "text",
    "id": "dAoSECOm203v"
   },
   "source": [
    "### Step 4 - Full Connection"
   ]
  },
  {
   "cell_type": "code",
   "execution_count": 11,
   "metadata": {
    "colab": {},
    "colab_type": "code",
    "id": "8GtmUlLd26Nq"
   },
   "outputs": [],
   "source": [
    "cnn.add(tf.keras.layers.Dense(units=64, activation='relu'))\n",
    "cnn.add(tf.keras.layers.Dense(units=32, activation='elu'))\n",
    "cnn.add(tf.keras.layers.Dense(units=32, activation='sigmoid'))"
   ]
  },
  {
   "cell_type": "markdown",
   "metadata": {
    "colab_type": "text",
    "id": "yTldFvbX28Na"
   },
   "source": [
    "### Step 5 - Output Layer"
   ]
  },
  {
   "cell_type": "code",
   "execution_count": 12,
   "metadata": {
    "colab": {},
    "colab_type": "code",
    "id": "1p_Zj1Mc3Ko_"
   },
   "outputs": [],
   "source": [
    "cnn.add(tf.keras.layers.Dense(units=1, activation='sigmoid'))"
   ]
  },
  {
   "cell_type": "markdown",
   "metadata": {
    "colab_type": "text",
    "id": "D6XkI90snSDl"
   },
   "source": [
    "## Part 3 - Training the CNN"
   ]
  },
  {
   "cell_type": "markdown",
   "metadata": {
    "colab_type": "text",
    "id": "vfrFQACEnc6i"
   },
   "source": [
    "### Compiling the CNN"
   ]
  },
  {
   "cell_type": "code",
   "execution_count": 13,
   "metadata": {
    "colab": {},
    "colab_type": "code",
    "id": "NALksrNQpUlJ"
   },
   "outputs": [],
   "source": [
    "cnn.compile(optimizer = 'adam', loss = 'binary_crossentropy', metrics = ['accuracy'])"
   ]
  },
  {
   "cell_type": "markdown",
   "metadata": {
    "colab_type": "text",
    "id": "ehS-v3MIpX2h"
   },
   "source": [
    "### Training the CNN on the Training set and evaluating it on the Test set"
   ]
  },
  {
   "cell_type": "code",
   "execution_count": 14,
   "metadata": {
    "colab": {},
    "colab_type": "code",
    "id": "XUj1W4PJptta"
   },
   "outputs": [
    {
     "name": "stdout",
     "output_type": "stream",
     "text": [
      "Epoch 1/25\n",
      "250/250 [==============================] - 95s 374ms/step - loss: 0.6813 - accuracy: 0.5518 - val_loss: 0.6275 - val_accuracy: 0.6325\n",
      "Epoch 2/25\n",
      "250/250 [==============================] - 81s 325ms/step - loss: 0.5983 - accuracy: 0.6790 - val_loss: 0.5726 - val_accuracy: 0.7020\n",
      "Epoch 3/25\n",
      "250/250 [==============================] - 95s 381ms/step - loss: 0.5534 - accuracy: 0.7134 - val_loss: 0.5244 - val_accuracy: 0.7335\n",
      "Epoch 4/25\n",
      "250/250 [==============================] - 102s 408ms/step - loss: 0.5286 - accuracy: 0.7379 - val_loss: 0.5247 - val_accuracy: 0.7450\n",
      "Epoch 5/25\n",
      "250/250 [==============================] - 73s 293ms/step - loss: 0.5019 - accuracy: 0.7533 - val_loss: 0.5006 - val_accuracy: 0.7555\n",
      "Epoch 6/25\n",
      "250/250 [==============================] - 85s 342ms/step - loss: 0.4839 - accuracy: 0.7632 - val_loss: 0.4855 - val_accuracy: 0.7595\n",
      "Epoch 7/25\n",
      "250/250 [==============================] - 88s 352ms/step - loss: 0.4671 - accuracy: 0.7797 - val_loss: 0.4621 - val_accuracy: 0.7865\n",
      "Epoch 8/25\n",
      "250/250 [==============================] - 86s 343ms/step - loss: 0.4498 - accuracy: 0.7895 - val_loss: 0.4520 - val_accuracy: 0.7930\n",
      "Epoch 9/25\n",
      "250/250 [==============================] - 71s 282ms/step - loss: 0.4359 - accuracy: 0.7954 - val_loss: 0.5400 - val_accuracy: 0.7135\n",
      "Epoch 10/25\n",
      "250/250 [==============================] - 68s 271ms/step - loss: 0.4274 - accuracy: 0.8016 - val_loss: 0.4444 - val_accuracy: 0.7980\n",
      "Epoch 11/25\n",
      "250/250 [==============================] - 79s 316ms/step - loss: 0.4077 - accuracy: 0.8104 - val_loss: 0.4329 - val_accuracy: 0.8130\n",
      "Epoch 12/25\n",
      "250/250 [==============================] - 76s 302ms/step - loss: 0.3967 - accuracy: 0.8198 - val_loss: 0.5108 - val_accuracy: 0.7780\n",
      "Epoch 13/25\n",
      "250/250 [==============================] - 72s 286ms/step - loss: 0.3877 - accuracy: 0.8189 - val_loss: 0.4660 - val_accuracy: 0.7875\n",
      "Epoch 14/25\n",
      "250/250 [==============================] - 72s 288ms/step - loss: 0.3716 - accuracy: 0.8325 - val_loss: 0.4216 - val_accuracy: 0.8155\n",
      "Epoch 15/25\n",
      "250/250 [==============================] - 75s 300ms/step - loss: 0.3692 - accuracy: 0.8350 - val_loss: 0.4279 - val_accuracy: 0.8090\n",
      "Epoch 16/25\n",
      "250/250 [==============================] - 73s 290ms/step - loss: 0.3504 - accuracy: 0.8455 - val_loss: 0.4590 - val_accuracy: 0.7925\n",
      "Epoch 17/25\n",
      "250/250 [==============================] - 70s 279ms/step - loss: 0.3426 - accuracy: 0.8484 - val_loss: 0.4627 - val_accuracy: 0.7850\n",
      "Epoch 18/25\n",
      "250/250 [==============================] - 84s 335ms/step - loss: 0.3255 - accuracy: 0.8551 - val_loss: 0.4541 - val_accuracy: 0.8105\n",
      "Epoch 19/25\n",
      "250/250 [==============================] - 89s 357ms/step - loss: 0.3196 - accuracy: 0.8593 - val_loss: 0.4537 - val_accuracy: 0.8040\n",
      "Epoch 20/25\n",
      "250/250 [==============================] - 83s 330ms/step - loss: 0.3101 - accuracy: 0.8659 - val_loss: 0.4374 - val_accuracy: 0.8195\n",
      "Epoch 21/25\n",
      "250/250 [==============================] - 70s 281ms/step - loss: 0.2943 - accuracy: 0.8730 - val_loss: 0.4410 - val_accuracy: 0.8070\n",
      "Epoch 22/25\n",
      "250/250 [==============================] - 73s 293ms/step - loss: 0.2967 - accuracy: 0.8723 - val_loss: 0.4199 - val_accuracy: 0.8185\n",
      "Epoch 23/25\n",
      "250/250 [==============================] - 73s 291ms/step - loss: 0.2842 - accuracy: 0.8804 - val_loss: 0.4341 - val_accuracy: 0.8160\n",
      "Epoch 24/25\n",
      "250/250 [==============================] - 69s 277ms/step - loss: 0.2691 - accuracy: 0.8850 - val_loss: 0.4930 - val_accuracy: 0.8135\n",
      "Epoch 25/25\n",
      "250/250 [==============================] - 72s 289ms/step - loss: 0.2588 - accuracy: 0.8895 - val_loss: 0.4564 - val_accuracy: 0.8070\n"
     ]
    },
    {
     "data": {
      "text/plain": [
       "<keras.callbacks.History at 0x7f70f1487790>"
      ]
     },
     "execution_count": 14,
     "metadata": {},
     "output_type": "execute_result"
    }
   ],
   "source": [
    "cnn.fit(x = training_set, validation_data = test_set, epochs = 25)"
   ]
  },
  {
   "cell_type": "markdown",
   "metadata": {
    "colab_type": "text",
    "id": "U3PZasO0006Z"
   },
   "source": [
    "## Part 4 - Making a single prediction"
   ]
  },
  {
   "cell_type": "code",
   "execution_count": 15,
   "metadata": {
    "colab": {},
    "colab_type": "code",
    "id": "gsSiWEJY1BPB"
   },
   "outputs": [],
   "source": [
    "import numpy as np\n",
    "from keras.preprocessing import image\n",
    "test_image = image.load_img('dataset/single_prediction/cat_or_dog_1.jpg', target_size = (64, 64))\n",
    "test_image = image.img_to_array(test_image)\n",
    "test_image = np.expand_dims(test_image, axis = 0)\n",
    "result = cnn.predict(test_image)\n",
    "training_set.class_indices\n",
    "if result[0][0] == 1:\n",
    "  prediction = 'dog'\n",
    "else:\n",
    "  prediction = 'cat'"
   ]
  },
  {
   "cell_type": "code",
   "execution_count": 16,
   "metadata": {
    "colab": {},
    "colab_type": "code",
    "id": "ED9KB3I54c1i"
   },
   "outputs": [
    {
     "name": "stdout",
     "output_type": "stream",
     "text": [
      "cat\n"
     ]
    }
   ],
   "source": [
    "print(prediction)"
   ]
  }
 ],
 "metadata": {
  "colab": {
   "collapsed_sections": [],
   "name": "convolutional_neural_network.ipynb",
   "provenance": [],
   "toc_visible": true
  },
  "kernelspec": {
   "display_name": "Python 3",
   "language": "python",
   "name": "python3"
  },
  "language_info": {
   "codemirror_mode": {
    "name": "ipython",
    "version": 3
   },
   "file_extension": ".py",
   "mimetype": "text/x-python",
   "name": "python",
   "nbconvert_exporter": "python",
   "pygments_lexer": "ipython3",
   "version": "3.8.10"
  }
 },
 "nbformat": 4,
 "nbformat_minor": 4
}
