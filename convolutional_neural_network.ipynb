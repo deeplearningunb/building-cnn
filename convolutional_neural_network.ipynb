{
 "cells": [
  {
   "cell_type": "markdown",
   "metadata": {
    "colab_type": "text",
    "id": "3DR-eO17geWu"
   },
   "source": [
    "# Convolutional Neural Network"
   ]
  },
  {
   "cell_type": "markdown",
   "metadata": {
    "colab_type": "text",
    "id": "EMefrVPCg-60"
   },
   "source": [
    "### Importing the libraries"
   ]
  },
  {
   "cell_type": "code",
   "execution_count": 1,
   "metadata": {},
   "outputs": [
    {
     "name": "stdout",
     "output_type": "stream",
     "text": [
      "/usr/bin/sh: 1: pip: not found\r\n"
     ]
    }
   ],
   "source": [
    "!pip install --upgrade tensorflow keras Pillow"
   ]
  },
  {
   "cell_type": "code",
   "execution_count": 2,
   "metadata": {
    "colab": {},
    "colab_type": "code",
    "id": "sCV30xyVhFbE"
   },
   "outputs": [],
   "source": [
    "import tensorflow as tf\n",
    "from keras.preprocessing.image import ImageDataGenerator"
   ]
  },
  {
   "cell_type": "code",
   "execution_count": 3,
   "metadata": {
    "colab": {},
    "colab_type": "code",
    "id": "FIleuCAjoFD8"
   },
   "outputs": [
    {
     "data": {
      "text/plain": [
       "'2.3.1'"
      ]
     },
     "execution_count": 3,
     "metadata": {},
     "output_type": "execute_result"
    }
   ],
   "source": [
    "tf.__version__"
   ]
  },
  {
   "cell_type": "markdown",
   "metadata": {
    "colab_type": "text",
    "id": "oxQxCBWyoGPE"
   },
   "source": [
    "## Part 1 - Data Preprocessing"
   ]
  },
  {
   "cell_type": "markdown",
   "metadata": {
    "colab_type": "text",
    "id": "MvE-heJNo3GG"
   },
   "source": [
    "### Preprocessing the Training set"
   ]
  },
  {
   "cell_type": "code",
   "execution_count": 4,
   "metadata": {
    "colab": {},
    "colab_type": "code",
    "id": "0koUcJMJpEBD"
   },
   "outputs": [
    {
     "name": "stdout",
     "output_type": "stream",
     "text": [
      "Found 8000 images belonging to 2 classes.\n"
     ]
    }
   ],
   "source": [
    "train_datagen = ImageDataGenerator(rescale = 1./255,\n",
    "                                   shear_range = 0.2,\n",
    "                                   zoom_range = 0.2,\n",
    "                                   horizontal_flip = True)\n",
    "training_set = train_datagen.flow_from_directory('dataset/training_set',\n",
    "                                                 target_size = (128, 128),\n",
    "                                                 batch_size = 32,\n",
    "                                                 class_mode = 'binary')"
   ]
  },
  {
   "cell_type": "markdown",
   "metadata": {
    "colab_type": "text",
    "id": "mrCMmGw9pHys"
   },
   "source": [
    "### Preprocessing the Test set"
   ]
  },
  {
   "cell_type": "code",
   "execution_count": 5,
   "metadata": {
    "colab": {},
    "colab_type": "code",
    "id": "SH4WzfOhpKc3"
   },
   "outputs": [
    {
     "name": "stdout",
     "output_type": "stream",
     "text": [
      "Found 2000 images belonging to 2 classes.\n"
     ]
    }
   ],
   "source": [
    "test_datagen = ImageDataGenerator(rescale = 1./255)\n",
    "test_set = test_datagen.flow_from_directory('dataset/test_set',\n",
    "                                            target_size = (128, 128),\n",
    "                                            batch_size = 32,\n",
    "                                            class_mode = 'binary')"
   ]
  },
  {
   "cell_type": "markdown",
   "metadata": {
    "colab_type": "text",
    "id": "af8O4l90gk7B"
   },
   "source": [
    "## Part 2 - Building the CNN"
   ]
  },
  {
   "cell_type": "markdown",
   "metadata": {
    "colab_type": "text",
    "id": "ces1gXY2lmoX"
   },
   "source": [
    "### Initialising the CNN"
   ]
  },
  {
   "cell_type": "code",
   "execution_count": 6,
   "metadata": {
    "colab": {},
    "colab_type": "code",
    "id": "SAUt4UMPlhLS"
   },
   "outputs": [],
   "source": [
    "cnn = tf.keras.models.Sequential()"
   ]
  },
  {
   "cell_type": "markdown",
   "metadata": {
    "colab_type": "text",
    "id": "u5YJj_XMl5LF"
   },
   "source": [
    "### Step 1 - Convolution"
   ]
  },
  {
   "cell_type": "code",
   "execution_count": 7,
   "metadata": {
    "colab": {},
    "colab_type": "code",
    "id": "XPzPrMckl-hV"
   },
   "outputs": [],
   "source": [
    "cnn.add(tf.keras.layers.Conv2D(filters=32, kernel_size=3, activation='relu', input_shape=[128, 128, 3]))"
   ]
  },
  {
   "cell_type": "code",
   "execution_count": 8,
   "metadata": {},
   "outputs": [],
   "source": [
    "cnn.add(tf.keras.layers.Conv2D(filters=32, kernel_size=3, activation='relu', input_shape=[64, 64, 3]))"
   ]
  },
  {
   "cell_type": "code",
   "execution_count": 9,
   "metadata": {},
   "outputs": [],
   "source": [
    "cnn.add(tf.keras.layers.Conv2D(filters=32, kernel_size=3, activation='relu', input_shape=[32, 32, 3]))"
   ]
  },
  {
   "cell_type": "markdown",
   "metadata": {
    "colab_type": "text",
    "id": "tf87FpvxmNOJ"
   },
   "source": [
    "### Step 2 - Pooling"
   ]
  },
  {
   "cell_type": "code",
   "execution_count": 10,
   "metadata": {
    "colab": {},
    "colab_type": "code",
    "id": "ncpqPl69mOac"
   },
   "outputs": [],
   "source": [
    "cnn.add(tf.keras.layers.MaxPool2D(pool_size=2, strides=2))"
   ]
  },
  {
   "cell_type": "markdown",
   "metadata": {
    "colab_type": "text",
    "id": "xaTOgD8rm4mU"
   },
   "source": [
    "### Adding a second convolutional layer"
   ]
  },
  {
   "cell_type": "code",
   "execution_count": 11,
   "metadata": {
    "colab": {},
    "colab_type": "code",
    "id": "i_-FZjn_m8gk"
   },
   "outputs": [],
   "source": [
    "cnn.add(tf.keras.layers.Conv2D(filters=32, kernel_size=3, activation='relu'))\n",
    "cnn.add(tf.keras.layers.MaxPool2D(pool_size=2, strides=2))"
   ]
  },
  {
   "cell_type": "markdown",
   "metadata": {
    "colab_type": "text",
    "id": "tmiEuvTunKfk"
   },
   "source": [
    "### Step 3 - Flattening"
   ]
  },
  {
   "cell_type": "code",
   "execution_count": 12,
   "metadata": {
    "colab": {},
    "colab_type": "code",
    "id": "6AZeOGCvnNZn"
   },
   "outputs": [],
   "source": [
    "cnn.add(tf.keras.layers.Flatten())"
   ]
  },
  {
   "cell_type": "markdown",
   "metadata": {
    "colab_type": "text",
    "id": "dAoSECOm203v"
   },
   "source": [
    "### Step 4 - Full Connection"
   ]
  },
  {
   "cell_type": "code",
   "execution_count": 13,
   "metadata": {
    "colab": {},
    "colab_type": "code",
    "id": "8GtmUlLd26Nq"
   },
   "outputs": [],
   "source": [
    "cnn.add(tf.keras.layers.Dense(units=128, activation='relu'))"
   ]
  },
  {
   "cell_type": "markdown",
   "metadata": {
    "colab_type": "text",
    "id": "yTldFvbX28Na"
   },
   "source": [
    "### Step 5 - Output Layer"
   ]
  },
  {
   "cell_type": "code",
   "execution_count": 14,
   "metadata": {
    "colab": {},
    "colab_type": "code",
    "id": "1p_Zj1Mc3Ko_"
   },
   "outputs": [],
   "source": [
    "cnn.add(tf.keras.layers.Dense(units=1, activation='sigmoid'))"
   ]
  },
  {
   "cell_type": "markdown",
   "metadata": {
    "colab_type": "text",
    "id": "D6XkI90snSDl"
   },
   "source": [
    "## Part 3 - Training the CNN"
   ]
  },
  {
   "cell_type": "markdown",
   "metadata": {
    "colab_type": "text",
    "id": "vfrFQACEnc6i"
   },
   "source": [
    "### Compiling the CNN"
   ]
  },
  {
   "cell_type": "code",
   "execution_count": 15,
   "metadata": {
    "colab": {},
    "colab_type": "code",
    "id": "NALksrNQpUlJ"
   },
   "outputs": [],
   "source": [
    "cnn.compile(optimizer = 'adam', loss = 'binary_crossentropy', metrics = ['accuracy'])"
   ]
  },
  {
   "cell_type": "markdown",
   "metadata": {
    "colab_type": "text",
    "id": "ehS-v3MIpX2h"
   },
   "source": [
    "### Training the CNN on the Training set and evaluating it on the Test set"
   ]
  },
  {
   "cell_type": "code",
   "execution_count": 16,
   "metadata": {
    "colab": {},
    "colab_type": "code",
    "id": "XUj1W4PJptta"
   },
   "outputs": [
    {
     "name": "stdout",
     "output_type": "stream",
     "text": [
      "Epoch 1/25\n",
      "250/250 [==============================] - 260s 1s/step - loss: 0.6916 - accuracy: 0.5566 - val_loss: 0.6426 - val_accuracy: 0.6395\n",
      "Epoch 2/25\n",
      "250/250 [==============================] - 258s 1s/step - loss: 0.6293 - accuracy: 0.6496 - val_loss: 0.6162 - val_accuracy: 0.6600\n",
      "Epoch 3/25\n",
      "250/250 [==============================] - 239s 957ms/step - loss: 0.5730 - accuracy: 0.7010 - val_loss: 0.5551 - val_accuracy: 0.7310\n",
      "Epoch 4/25\n",
      "250/250 [==============================] - 210s 839ms/step - loss: 0.5124 - accuracy: 0.7480 - val_loss: 0.5649 - val_accuracy: 0.7420\n",
      "Epoch 5/25\n",
      "250/250 [==============================] - 221s 884ms/step - loss: 0.4822 - accuracy: 0.7665 - val_loss: 0.5297 - val_accuracy: 0.7320\n",
      "Epoch 6/25\n",
      "250/250 [==============================] - 222s 888ms/step - loss: 0.4527 - accuracy: 0.7890 - val_loss: 0.4808 - val_accuracy: 0.7710\n",
      "Epoch 7/25\n",
      "250/250 [==============================] - 223s 893ms/step - loss: 0.4391 - accuracy: 0.7936 - val_loss: 0.4610 - val_accuracy: 0.7880\n",
      "Epoch 8/25\n",
      "250/250 [==============================] - 225s 899ms/step - loss: 0.4135 - accuracy: 0.8114 - val_loss: 0.4697 - val_accuracy: 0.7810\n",
      "Epoch 9/25\n",
      "250/250 [==============================] - 228s 912ms/step - loss: 0.3985 - accuracy: 0.8192 - val_loss: 0.4504 - val_accuracy: 0.7945\n",
      "Epoch 10/25\n",
      "250/250 [==============================] - 225s 901ms/step - loss: 0.3895 - accuracy: 0.8217 - val_loss: 0.4517 - val_accuracy: 0.7960\n",
      "Epoch 11/25\n",
      "250/250 [==============================] - 224s 895ms/step - loss: 0.3762 - accuracy: 0.8305 - val_loss: 0.5058 - val_accuracy: 0.7880\n",
      "Epoch 12/25\n",
      "250/250 [==============================] - 222s 890ms/step - loss: 0.3571 - accuracy: 0.8449 - val_loss: 0.4273 - val_accuracy: 0.8145\n",
      "Epoch 13/25\n",
      "250/250 [==============================] - 222s 889ms/step - loss: 0.3533 - accuracy: 0.8414 - val_loss: 0.4511 - val_accuracy: 0.8085\n",
      "Epoch 14/25\n",
      "250/250 [==============================] - 222s 890ms/step - loss: 0.3349 - accuracy: 0.8515 - val_loss: 0.4599 - val_accuracy: 0.8060\n",
      "Epoch 15/25\n",
      "250/250 [==============================] - 216s 864ms/step - loss: 0.3231 - accuracy: 0.8593 - val_loss: 0.4786 - val_accuracy: 0.8130\n",
      "Epoch 16/25\n",
      "250/250 [==============================] - 227s 908ms/step - loss: 0.3060 - accuracy: 0.8695 - val_loss: 0.5122 - val_accuracy: 0.7940\n",
      "Epoch 17/25\n",
      "250/250 [==============================] - 226s 904ms/step - loss: 0.2929 - accuracy: 0.8730 - val_loss: 0.4788 - val_accuracy: 0.8230\n",
      "Epoch 18/25\n",
      "250/250 [==============================] - 225s 901ms/step - loss: 0.2849 - accuracy: 0.8779 - val_loss: 0.4697 - val_accuracy: 0.8150\n",
      "Epoch 19/25\n",
      "250/250 [==============================] - 219s 875ms/step - loss: 0.2695 - accuracy: 0.8860 - val_loss: 0.4824 - val_accuracy: 0.8155\n",
      "Epoch 20/25\n",
      "250/250 [==============================] - 227s 909ms/step - loss: 0.2661 - accuracy: 0.8852 - val_loss: 0.4943 - val_accuracy: 0.8040\n",
      "Epoch 21/25\n",
      "250/250 [==============================] - 227s 907ms/step - loss: 0.2507 - accuracy: 0.8947 - val_loss: 0.5186 - val_accuracy: 0.8140\n",
      "Epoch 22/25\n",
      "250/250 [==============================] - 224s 896ms/step - loss: 0.2415 - accuracy: 0.8988 - val_loss: 0.5217 - val_accuracy: 0.8125\n",
      "Epoch 23/25\n",
      "250/250 [==============================] - 222s 889ms/step - loss: 0.2332 - accuracy: 0.9066 - val_loss: 0.4935 - val_accuracy: 0.8175\n",
      "Epoch 24/25\n",
      "250/250 [==============================] - 219s 876ms/step - loss: 0.2306 - accuracy: 0.9022 - val_loss: 0.5105 - val_accuracy: 0.8225\n",
      "Epoch 25/25\n",
      "250/250 [==============================] - 216s 862ms/step - loss: 0.2320 - accuracy: 0.9049 - val_loss: 0.5408 - val_accuracy: 0.8185\n"
     ]
    },
    {
     "data": {
      "text/plain": [
       "<tensorflow.python.keras.callbacks.History at 0x7f81de825df0>"
      ]
     },
     "execution_count": 16,
     "metadata": {},
     "output_type": "execute_result"
    }
   ],
   "source": [
    "cnn.fit(x = training_set, validation_data = test_set, epochs = 25)"
   ]
  },
  {
   "cell_type": "markdown",
   "metadata": {
    "colab_type": "text",
    "id": "U3PZasO0006Z"
   },
   "source": [
    "## Part 4 - Making a single prediction"
   ]
  },
  {
   "cell_type": "code",
   "execution_count": 19,
   "metadata": {
    "colab": {},
    "colab_type": "code",
    "id": "gsSiWEJY1BPB"
   },
   "outputs": [],
   "source": [
    "import numpy as np\n",
    "from keras.preprocessing import image\n",
    "test_image = image.load_img('dataset/single_prediction/cat_or_dog_1.jpg', target_size = (128, 128))\n",
    "test_image = image.img_to_array(test_image)\n",
    "test_image = np.expand_dims(test_image, axis = 0)\n",
    "result = cnn.predict(test_image)\n",
    "training_set.class_indices\n",
    "if result[0][0] == 1:\n",
    "  prediction = 'dog'\n",
    "else:\n",
    "  prediction = 'cat'"
   ]
  },
  {
   "cell_type": "code",
   "execution_count": 20,
   "metadata": {
    "colab": {},
    "colab_type": "code",
    "id": "ED9KB3I54c1i"
   },
   "outputs": [
    {
     "name": "stdout",
     "output_type": "stream",
     "text": [
      "dog\n"
     ]
    }
   ],
   "source": [
    "print(prediction)"
   ]
  },
  {
   "cell_type": "markdown",
   "metadata": {},
   "source": [
    "## Fim"
   ]
  }
 ],
 "metadata": {
  "colab": {
   "collapsed_sections": [],
   "name": "convolutional_neural_network.ipynb",
   "provenance": [],
   "toc_visible": true
  },
  "kernelspec": {
   "display_name": "Python 3",
   "language": "python",
   "name": "python3"
  },
  "language_info": {
   "codemirror_mode": {
    "name": "ipython",
    "version": 3
   },
   "file_extension": ".py",
   "mimetype": "text/x-python",
   "name": "python",
   "nbconvert_exporter": "python",
   "pygments_lexer": "ipython3",
   "version": "3.8.5"
  }
 },
 "nbformat": 4,
 "nbformat_minor": 4
}
