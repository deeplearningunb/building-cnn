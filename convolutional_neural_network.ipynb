{
 "cells": [
  {
   "cell_type": "markdown",
   "source": [
    "# Convolutional Neural Network"
   ],
   "metadata": {
    "colab_type": "text",
    "id": "3DR-eO17geWu"
   }
  },
  {
   "cell_type": "markdown",
   "source": [
    "### Importing the libraries"
   ],
   "metadata": {
    "colab_type": "text",
    "id": "EMefrVPCg-60"
   }
  },
  {
   "cell_type": "code",
   "execution_count": 45,
   "source": [
    "!pip install --upgrade tensorflow keras Pillow"
   ],
   "outputs": [
    {
     "output_type": "stream",
     "name": "stdout",
     "text": [
      "Requirement already up-to-date: tensorflow in c:\\users\\lucas\\anaconda3\\envs\\pythoncpu\\lib\\site-packages (2.6.0)\n",
      "Requirement already up-to-date: keras in c:\\users\\lucas\\anaconda3\\envs\\pythoncpu\\lib\\site-packages (2.6.0)\n",
      "Requirement already up-to-date: Pillow in c:\\users\\lucas\\anaconda3\\envs\\pythoncpu\\lib\\site-packages (8.3.1)\n",
      "Requirement already satisfied, skipping upgrade: google-pasta~=0.2 in c:\\users\\lucas\\anaconda3\\envs\\pythoncpu\\lib\\site-packages (from tensorflow) (0.2.0)\n",
      "Requirement already satisfied, skipping upgrade: flatbuffers~=1.12.0 in c:\\users\\lucas\\anaconda3\\envs\\pythoncpu\\lib\\site-packages (from tensorflow) (1.12)\n",
      "Requirement already satisfied, skipping upgrade: protobuf>=3.9.2 in c:\\users\\lucas\\anaconda3\\envs\\pythoncpu\\lib\\site-packages (from tensorflow) (3.13.0)\n",
      "Requirement already satisfied, skipping upgrade: keras-preprocessing~=1.1.2 in c:\\users\\lucas\\anaconda3\\envs\\pythoncpu\\lib\\site-packages (from tensorflow) (1.1.2)\n",
      "Requirement already satisfied, skipping upgrade: clang~=5.0 in c:\\users\\lucas\\anaconda3\\envs\\pythoncpu\\lib\\site-packages (from tensorflow) (5.0)\n",
      "Requirement already satisfied, skipping upgrade: tensorboard~=2.6 in c:\\users\\lucas\\anaconda3\\envs\\pythoncpu\\lib\\site-packages (from tensorflow) (2.6.0)\n",
      "Requirement already satisfied, skipping upgrade: numpy~=1.19.2 in c:\\users\\lucas\\anaconda3\\envs\\pythoncpu\\lib\\site-packages (from tensorflow) (1.19.5)\n",
      "Requirement already satisfied, skipping upgrade: tensorflow-estimator~=2.6 in c:\\users\\lucas\\anaconda3\\envs\\pythoncpu\\lib\\site-packages (from tensorflow) (2.6.0)\n",
      "Requirement already satisfied, skipping upgrade: grpcio<2.0,>=1.37.0 in c:\\users\\lucas\\anaconda3\\envs\\pythoncpu\\lib\\site-packages (from tensorflow) (1.39.0)\n",
      "Requirement already satisfied, skipping upgrade: six~=1.15.0 in c:\\users\\lucas\\anaconda3\\envs\\pythoncpu\\lib\\site-packages (from tensorflow) (1.15.0)\n",
      "Requirement already satisfied, skipping upgrade: termcolor~=1.1.0 in c:\\users\\lucas\\anaconda3\\envs\\pythoncpu\\lib\\site-packages (from tensorflow) (1.1.0)\n",
      "Requirement already satisfied, skipping upgrade: gast==0.4.0 in c:\\users\\lucas\\anaconda3\\envs\\pythoncpu\\lib\\site-packages (from tensorflow) (0.4.0)\n",
      "Requirement already satisfied, skipping upgrade: wrapt~=1.12.1 in c:\\users\\lucas\\anaconda3\\envs\\pythoncpu\\lib\\site-packages (from tensorflow) (1.12.1)\n",
      "Requirement already satisfied, skipping upgrade: astunparse~=1.6.3 in c:\\users\\lucas\\anaconda3\\envs\\pythoncpu\\lib\\site-packages (from tensorflow) (1.6.3)\n",
      "Requirement already satisfied, skipping upgrade: opt-einsum~=3.3.0 in c:\\users\\lucas\\anaconda3\\envs\\pythoncpu\\lib\\site-packages (from tensorflow) (3.3.0)\n",
      "Requirement already satisfied, skipping upgrade: absl-py~=0.10 in c:\\users\\lucas\\anaconda3\\envs\\pythoncpu\\lib\\site-packages (from tensorflow) (0.10.0)\n",
      "Requirement already satisfied, skipping upgrade: wheel~=0.35 in c:\\users\\lucas\\anaconda3\\envs\\pythoncpu\\lib\\site-packages (from tensorflow) (0.35.1)\n",
      "Requirement already satisfied, skipping upgrade: typing-extensions~=3.7.4 in c:\\users\\lucas\\anaconda3\\envs\\pythoncpu\\lib\\site-packages (from tensorflow) (3.7.4.3)\n",
      "Requirement already satisfied, skipping upgrade: h5py~=3.1.0 in c:\\users\\lucas\\anaconda3\\envs\\pythoncpu\\lib\\site-packages (from tensorflow) (3.1.0)\n",
      "Requirement already satisfied, skipping upgrade: setuptools in c:\\users\\lucas\\anaconda3\\envs\\pythoncpu\\lib\\site-packages (from protobuf>=3.9.2->tensorflow) (50.3.0.post20201006)\n",
      "Requirement already satisfied, skipping upgrade: tensorboard-plugin-wit>=1.6.0 in c:\\users\\lucas\\anaconda3\\envs\\pythoncpu\\lib\\site-packages (from tensorboard~=2.6->tensorflow) (1.6.0)\n",
      "Requirement already satisfied, skipping upgrade: werkzeug>=0.11.15 in c:\\users\\lucas\\anaconda3\\envs\\pythoncpu\\lib\\site-packages (from tensorboard~=2.6->tensorflow) (0.14.1)\n",
      "Requirement already satisfied, skipping upgrade: tensorboard-data-server<0.7.0,>=0.6.0 in c:\\users\\lucas\\anaconda3\\envs\\pythoncpu\\lib\\site-packages (from tensorboard~=2.6->tensorflow) (0.6.1)\n",
      "Requirement already satisfied, skipping upgrade: markdown>=2.6.8 in c:\\users\\lucas\\anaconda3\\envs\\pythoncpu\\lib\\site-packages (from tensorboard~=2.6->tensorflow) (3.3.2)\n",
      "Requirement already satisfied, skipping upgrade: google-auth<2,>=1.6.3 in c:\\users\\lucas\\anaconda3\\envs\\pythoncpu\\lib\\site-packages (from tensorboard~=2.6->tensorflow) (1.22.1)\n",
      "Requirement already satisfied, skipping upgrade: google-auth-oauthlib<0.5,>=0.4.1 in c:\\users\\lucas\\anaconda3\\envs\\pythoncpu\\lib\\site-packages (from tensorboard~=2.6->tensorflow) (0.4.1)\n",
      "Requirement already satisfied, skipping upgrade: requests<3,>=2.21.0 in c:\\users\\lucas\\anaconda3\\envs\\pythoncpu\\lib\\site-packages (from tensorboard~=2.6->tensorflow) (2.24.0)\n",
      "Requirement already satisfied, skipping upgrade: cached-property; python_version < \"3.8\" in c:\\users\\lucas\\anaconda3\\envs\\pythoncpu\\lib\\site-packages (from h5py~=3.1.0->tensorflow) (1.5.2)\n",
      "Requirement already satisfied, skipping upgrade: importlib-metadata; python_version < \"3.8\" in c:\\users\\lucas\\anaconda3\\envs\\pythoncpu\\lib\\site-packages (from markdown>=2.6.8->tensorboard~=2.6->tensorflow) (2.0.0)\n",
      "Requirement already satisfied, skipping upgrade: pyasn1-modules>=0.2.1 in c:\\users\\lucas\\anaconda3\\envs\\pythoncpu\\lib\\site-packages (from google-auth<2,>=1.6.3->tensorboard~=2.6->tensorflow) (0.2.8)\n",
      "Requirement already satisfied, skipping upgrade: rsa<5,>=3.1.4; python_version >= \"3.5\" in c:\\users\\lucas\\anaconda3\\envs\\pythoncpu\\lib\\site-packages (from google-auth<2,>=1.6.3->tensorboard~=2.6->tensorflow) (4.6)\n",
      "Requirement already satisfied, skipping upgrade: cachetools<5.0,>=2.0.0 in c:\\users\\lucas\\anaconda3\\envs\\pythoncpu\\lib\\site-packages (from google-auth<2,>=1.6.3->tensorboard~=2.6->tensorflow) (4.1.1)\n",
      "Requirement already satisfied, skipping upgrade: requests-oauthlib>=0.7.0 in c:\\users\\lucas\\anaconda3\\envs\\pythoncpu\\lib\\site-packages (from google-auth-oauthlib<0.5,>=0.4.1->tensorboard~=2.6->tensorflow) (1.3.0)\n",
      "Requirement already satisfied, skipping upgrade: urllib3!=1.25.0,!=1.25.1,<1.26,>=1.21.1 in c:\\users\\lucas\\anaconda3\\envs\\pythoncpu\\lib\\site-packages (from requests<3,>=2.21.0->tensorboard~=2.6->tensorflow) (1.25.11)\n",
      "Requirement already satisfied, skipping upgrade: certifi>=2017.4.17 in c:\\users\\lucas\\anaconda3\\envs\\pythoncpu\\lib\\site-packages (from requests<3,>=2.21.0->tensorboard~=2.6->tensorflow) (2021.5.30)\n",
      "Requirement already satisfied, skipping upgrade: idna<3,>=2.5 in c:\\users\\lucas\\anaconda3\\envs\\pythoncpu\\lib\\site-packages (from requests<3,>=2.21.0->tensorboard~=2.6->tensorflow) (2.10)\n",
      "Requirement already satisfied, skipping upgrade: chardet<4,>=3.0.2 in c:\\users\\lucas\\anaconda3\\envs\\pythoncpu\\lib\\site-packages (from requests<3,>=2.21.0->tensorboard~=2.6->tensorflow) (3.0.4)\n",
      "Requirement already satisfied, skipping upgrade: zipp>=0.5 in c:\\users\\lucas\\anaconda3\\envs\\pythoncpu\\lib\\site-packages (from importlib-metadata; python_version < \"3.8\"->markdown>=2.6.8->tensorboard~=2.6->tensorflow) (3.3.1)\n",
      "Requirement already satisfied, skipping upgrade: pyasn1<0.5.0,>=0.4.6 in c:\\users\\lucas\\anaconda3\\envs\\pythoncpu\\lib\\site-packages (from pyasn1-modules>=0.2.1->google-auth<2,>=1.6.3->tensorboard~=2.6->tensorflow) (0.4.8)\n",
      "Requirement already satisfied, skipping upgrade: oauthlib>=3.0.0 in c:\\users\\lucas\\anaconda3\\envs\\pythoncpu\\lib\\site-packages (from requests-oauthlib>=0.7.0->google-auth-oauthlib<0.5,>=0.4.1->tensorboard~=2.6->tensorflow) (3.1.0)\n"
     ]
    }
   ],
   "metadata": {}
  },
  {
   "cell_type": "code",
   "execution_count": 46,
   "source": [
    "import tensorflow as tf\n",
    "from keras.preprocessing.image import ImageDataGenerator"
   ],
   "outputs": [],
   "metadata": {
    "colab": {},
    "colab_type": "code",
    "id": "sCV30xyVhFbE"
   }
  },
  {
   "cell_type": "code",
   "execution_count": 47,
   "source": [
    "tf.__version__"
   ],
   "outputs": [
    {
     "output_type": "execute_result",
     "data": {
      "text/plain": [
       "'2.6.0'"
      ]
     },
     "metadata": {},
     "execution_count": 47
    }
   ],
   "metadata": {
    "colab": {},
    "colab_type": "code",
    "id": "FIleuCAjoFD8"
   }
  },
  {
   "cell_type": "markdown",
   "source": [
    "## Part 1 - Data Preprocessing"
   ],
   "metadata": {
    "colab_type": "text",
    "id": "oxQxCBWyoGPE"
   }
  },
  {
   "cell_type": "markdown",
   "source": [
    "### Preprocessing the Training set"
   ],
   "metadata": {
    "colab_type": "text",
    "id": "MvE-heJNo3GG"
   }
  },
  {
   "cell_type": "code",
   "execution_count": 48,
   "source": [
    "train_datagen = ImageDataGenerator(rescale = 1./255,\n",
    "                                   shear_range = 0.2,\n",
    "                                   zoom_range = 0.2,\n",
    "                                   horizontal_flip = True)\n",
    "training_set = train_datagen.flow_from_directory('dataset/training_set',\n",
    "                                                 target_size = (64, 64),\n",
    "                                                 batch_size = 32,\n",
    "                                                 class_mode = 'binary')"
   ],
   "outputs": [
    {
     "output_type": "stream",
     "name": "stdout",
     "text": [
      "Found 8000 images belonging to 2 classes.\n"
     ]
    }
   ],
   "metadata": {
    "colab": {},
    "colab_type": "code",
    "id": "0koUcJMJpEBD"
   }
  },
  {
   "cell_type": "markdown",
   "source": [
    "### Preprocessing the Test set"
   ],
   "metadata": {
    "colab_type": "text",
    "id": "mrCMmGw9pHys"
   }
  },
  {
   "cell_type": "code",
   "execution_count": 49,
   "source": [
    "test_datagen = ImageDataGenerator(rescale = 1./255)\n",
    "test_set = test_datagen.flow_from_directory('dataset/test_set',\n",
    "                                            target_size = (64, 64),\n",
    "                                            batch_size = 32,\n",
    "                                            class_mode = 'binary')"
   ],
   "outputs": [
    {
     "output_type": "stream",
     "name": "stdout",
     "text": [
      "Found 2000 images belonging to 2 classes.\n"
     ]
    }
   ],
   "metadata": {
    "colab": {},
    "colab_type": "code",
    "id": "SH4WzfOhpKc3"
   }
  },
  {
   "cell_type": "markdown",
   "source": [
    "## Part 2 - Building the CNN"
   ],
   "metadata": {
    "colab_type": "text",
    "id": "af8O4l90gk7B"
   }
  },
  {
   "cell_type": "markdown",
   "source": [
    "### Initialising the CNN"
   ],
   "metadata": {
    "colab_type": "text",
    "id": "ces1gXY2lmoX"
   }
  },
  {
   "cell_type": "code",
   "execution_count": 50,
   "source": [
    "cnn = tf.keras.models.Sequential()"
   ],
   "outputs": [],
   "metadata": {
    "colab": {},
    "colab_type": "code",
    "id": "SAUt4UMPlhLS"
   }
  },
  {
   "cell_type": "markdown",
   "source": [
    "### Step 1 - Convolution"
   ],
   "metadata": {
    "colab_type": "text",
    "id": "u5YJj_XMl5LF"
   }
  },
  {
   "cell_type": "code",
   "execution_count": 51,
   "source": [
    "cnn.add(tf.keras.layers.Conv2D(filters=32, kernel_size=3, activation='relu', input_shape=[64, 64, 3]))"
   ],
   "outputs": [],
   "metadata": {
    "colab": {},
    "colab_type": "code",
    "id": "XPzPrMckl-hV"
   }
  },
  {
   "cell_type": "markdown",
   "source": [
    "### Step 2 - Pooling"
   ],
   "metadata": {
    "colab_type": "text",
    "id": "tf87FpvxmNOJ"
   }
  },
  {
   "cell_type": "code",
   "execution_count": 52,
   "source": [
    "cnn.add(tf.keras.layers.MaxPool2D(pool_size=2, strides=2))"
   ],
   "outputs": [],
   "metadata": {
    "colab": {},
    "colab_type": "code",
    "id": "ncpqPl69mOac"
   }
  },
  {
   "cell_type": "markdown",
   "source": [
    "### Adding a second convolutional layer"
   ],
   "metadata": {
    "colab_type": "text",
    "id": "xaTOgD8rm4mU"
   }
  },
  {
   "cell_type": "code",
   "execution_count": 53,
   "source": [
    "cnn.add(tf.keras.layers.Conv2D(filters=32, kernel_size=3, activation='relu'))\r\n",
    "cnn.add(tf.keras.layers.MaxPool2D(pool_size=2, strides=2))"
   ],
   "outputs": [],
   "metadata": {
    "colab": {},
    "colab_type": "code",
    "id": "i_-FZjn_m8gk"
   }
  },
  {
   "cell_type": "markdown",
   "source": [
    "### Step 3 - Flattening"
   ],
   "metadata": {
    "colab_type": "text",
    "id": "tmiEuvTunKfk"
   }
  },
  {
   "cell_type": "code",
   "execution_count": 54,
   "source": [
    "cnn.add(tf.keras.layers.Flatten())"
   ],
   "outputs": [],
   "metadata": {
    "colab": {},
    "colab_type": "code",
    "id": "6AZeOGCvnNZn"
   }
  },
  {
   "cell_type": "markdown",
   "source": [
    "### Step 4 - Full Connection"
   ],
   "metadata": {
    "colab_type": "text",
    "id": "dAoSECOm203v"
   }
  },
  {
   "cell_type": "code",
   "execution_count": 55,
   "source": [
    "cnn.add(tf.keras.layers.Dense(units=128, activation='relu'))"
   ],
   "outputs": [],
   "metadata": {
    "colab": {},
    "colab_type": "code",
    "id": "8GtmUlLd26Nq"
   }
  },
  {
   "cell_type": "code",
   "execution_count": 56,
   "source": [
    "cnn.add(tf.keras.layers.Dense(units=128, activation='sigmoid'))"
   ],
   "outputs": [],
   "metadata": {}
  },
  {
   "cell_type": "markdown",
   "source": [
    "### Step 5 - Output Layer"
   ],
   "metadata": {
    "colab_type": "text",
    "id": "yTldFvbX28Na"
   }
  },
  {
   "cell_type": "code",
   "execution_count": 57,
   "source": [
    "cnn.add(tf.keras.layers.Dense(units=1, activation='sigmoid'))"
   ],
   "outputs": [],
   "metadata": {
    "colab": {},
    "colab_type": "code",
    "id": "1p_Zj1Mc3Ko_"
   }
  },
  {
   "cell_type": "markdown",
   "source": [
    "## Part 3 - Training the CNN"
   ],
   "metadata": {
    "colab_type": "text",
    "id": "D6XkI90snSDl"
   }
  },
  {
   "cell_type": "markdown",
   "source": [
    "### Compiling the CNN"
   ],
   "metadata": {
    "colab_type": "text",
    "id": "vfrFQACEnc6i"
   }
  },
  {
   "cell_type": "code",
   "execution_count": 58,
   "source": [
    "cnn.compile(optimizer = 'adam', loss = 'binary_crossentropy', metrics = ['accuracy'])"
   ],
   "outputs": [],
   "metadata": {
    "colab": {},
    "colab_type": "code",
    "id": "NALksrNQpUlJ"
   }
  },
  {
   "cell_type": "markdown",
   "source": [
    "### Training the CNN on the Training set and evaluating it on the Test set"
   ],
   "metadata": {
    "colab_type": "text",
    "id": "ehS-v3MIpX2h"
   }
  },
  {
   "cell_type": "code",
   "execution_count": 59,
   "source": [
    "cnn.fit(x = training_set, validation_data = test_set, epochs = 25)"
   ],
   "outputs": [
    {
     "output_type": "stream",
     "name": "stdout",
     "text": [
      "Epoch 1/25\n",
      "250/250 [==============================] - 26s 102ms/step - loss: 0.6592 - accuracy: 0.5978 - val_loss: 0.6164 - val_accuracy: 0.6785\n",
      "Epoch 2/25\n",
      "250/250 [==============================] - 25s 102ms/step - loss: 0.5941 - accuracy: 0.6795 - val_loss: 0.5979 - val_accuracy: 0.6885\n",
      "Epoch 3/25\n",
      "250/250 [==============================] - 25s 101ms/step - loss: 0.5491 - accuracy: 0.7166 - val_loss: 0.5740 - val_accuracy: 0.7075\n",
      "Epoch 4/25\n",
      "250/250 [==============================] - 26s 102ms/step - loss: 0.5334 - accuracy: 0.7330 - val_loss: 0.5361 - val_accuracy: 0.7380\n",
      "Epoch 5/25\n",
      "250/250 [==============================] - 26s 104ms/step - loss: 0.5089 - accuracy: 0.7467 - val_loss: 0.5383 - val_accuracy: 0.7485\n",
      "Epoch 6/25\n",
      "250/250 [==============================] - 26s 103ms/step - loss: 0.4871 - accuracy: 0.7638 - val_loss: 0.4927 - val_accuracy: 0.7750\n",
      "Epoch 7/25\n",
      "250/250 [==============================] - 26s 102ms/step - loss: 0.4665 - accuracy: 0.7744 - val_loss: 0.4812 - val_accuracy: 0.7655\n",
      "Epoch 8/25\n",
      "250/250 [==============================] - 25s 102ms/step - loss: 0.4544 - accuracy: 0.7828 - val_loss: 0.4854 - val_accuracy: 0.7720\n",
      "Epoch 9/25\n",
      "250/250 [==============================] - 26s 104ms/step - loss: 0.4452 - accuracy: 0.7922 - val_loss: 0.5017 - val_accuracy: 0.7630\n",
      "Epoch 10/25\n",
      "250/250 [==============================] - 26s 104ms/step - loss: 0.4322 - accuracy: 0.7944 - val_loss: 0.4813 - val_accuracy: 0.7675\n",
      "Epoch 11/25\n",
      "250/250 [==============================] - 25s 101ms/step - loss: 0.4097 - accuracy: 0.8135 - val_loss: 0.4769 - val_accuracy: 0.7810\n",
      "Epoch 12/25\n",
      "250/250 [==============================] - 25s 99ms/step - loss: 0.4056 - accuracy: 0.8116 - val_loss: 0.4860 - val_accuracy: 0.7765\n",
      "Epoch 13/25\n",
      "250/250 [==============================] - 24s 98ms/step - loss: 0.3939 - accuracy: 0.8194 - val_loss: 0.4694 - val_accuracy: 0.7870\n",
      "Epoch 14/25\n",
      "250/250 [==============================] - 25s 100ms/step - loss: 0.3812 - accuracy: 0.8229 - val_loss: 0.4641 - val_accuracy: 0.7965\n",
      "Epoch 15/25\n",
      "250/250 [==============================] - 25s 99ms/step - loss: 0.3686 - accuracy: 0.8315 - val_loss: 0.4586 - val_accuracy: 0.8005\n",
      "Epoch 16/25\n",
      "250/250 [==============================] - 25s 98ms/step - loss: 0.3651 - accuracy: 0.8341 - val_loss: 0.4623 - val_accuracy: 0.7960\n",
      "Epoch 17/25\n",
      "250/250 [==============================] - 25s 98ms/step - loss: 0.3531 - accuracy: 0.8430 - val_loss: 0.4813 - val_accuracy: 0.7885\n",
      "Epoch 18/25\n",
      "250/250 [==============================] - 25s 99ms/step - loss: 0.3294 - accuracy: 0.8519 - val_loss: 0.4804 - val_accuracy: 0.7925\n",
      "Epoch 19/25\n",
      "250/250 [==============================] - 25s 100ms/step - loss: 0.3245 - accuracy: 0.8575 - val_loss: 0.4758 - val_accuracy: 0.7950\n",
      "Epoch 20/25\n",
      "250/250 [==============================] - 25s 99ms/step - loss: 0.3058 - accuracy: 0.8669 - val_loss: 0.4664 - val_accuracy: 0.7985\n",
      "Epoch 21/25\n",
      "250/250 [==============================] - 25s 99ms/step - loss: 0.3081 - accuracy: 0.8630 - val_loss: 0.5398 - val_accuracy: 0.7820\n",
      "Epoch 22/25\n",
      "250/250 [==============================] - 25s 98ms/step - loss: 0.2904 - accuracy: 0.8709 - val_loss: 0.5015 - val_accuracy: 0.7890\n",
      "Epoch 23/25\n",
      "250/250 [==============================] - 25s 100ms/step - loss: 0.2748 - accuracy: 0.8839 - val_loss: 0.5414 - val_accuracy: 0.7925\n",
      "Epoch 24/25\n",
      "250/250 [==============================] - 25s 98ms/step - loss: 0.2777 - accuracy: 0.8796 - val_loss: 0.5188 - val_accuracy: 0.7885\n",
      "Epoch 25/25\n",
      "250/250 [==============================] - 25s 100ms/step - loss: 0.2582 - accuracy: 0.8907 - val_loss: 0.4948 - val_accuracy: 0.8025\n"
     ]
    },
    {
     "output_type": "execute_result",
     "data": {
      "text/plain": [
       "<keras.callbacks.History at 0x1a32fdb31c8>"
      ]
     },
     "metadata": {},
     "execution_count": 59
    }
   ],
   "metadata": {
    "colab": {},
    "colab_type": "code",
    "id": "XUj1W4PJptta"
   }
  },
  {
   "cell_type": "markdown",
   "source": [
    "## Part 4 - Making a single prediction"
   ],
   "metadata": {
    "colab_type": "text",
    "id": "U3PZasO0006Z"
   }
  },
  {
   "cell_type": "code",
   "execution_count": 62,
   "source": [
    "import numpy as np\r\n",
    "from keras.preprocessing import image\r\n",
    "test_image = image.load_img('dataset/single_prediction/cat_or_dog_2.jpg', target_size = (64, 64))\r\n",
    "test_image = image.img_to_array(test_image)\r\n",
    "test_image = np.expand_dims(test_image, axis = 0)\r\n",
    "result = cnn.predict(test_image)\r\n",
    "training_set.class_indices\r\n",
    "if result[0][0] == 1:\r\n",
    "  prediction = 'dog'\r\n",
    "else:\r\n",
    "  prediction = 'cat'"
   ],
   "outputs": [],
   "metadata": {
    "colab": {},
    "colab_type": "code",
    "id": "gsSiWEJY1BPB"
   }
  },
  {
   "cell_type": "code",
   "execution_count": 63,
   "source": [
    "print(prediction)"
   ],
   "outputs": [
    {
     "output_type": "stream",
     "name": "stdout",
     "text": [
      "cat\n"
     ]
    }
   ],
   "metadata": {
    "colab": {},
    "colab_type": "code",
    "id": "ED9KB3I54c1i"
   }
  },
  {
   "cell_type": "markdown",
   "source": [
    "## Fim"
   ],
   "metadata": {}
  }
 ],
 "metadata": {
  "colab": {
   "collapsed_sections": [],
   "name": "convolutional_neural_network.ipynb",
   "provenance": [],
   "toc_visible": true
  },
  "kernelspec": {
   "name": "python3",
   "display_name": "Python 3.7.9 64-bit ('PythonCPU': conda)"
  },
  "language_info": {
   "codemirror_mode": {
    "name": "ipython",
    "version": 3
   },
   "file_extension": ".py",
   "mimetype": "text/x-python",
   "name": "python",
   "nbconvert_exporter": "python",
   "pygments_lexer": "ipython3",
   "version": "3.7.9"
  },
  "interpreter": {
   "hash": "bcc6178519c64912aca469af981548f98b3bca4777e9dcd724bae8782173b357"
  }
 },
 "nbformat": 4,
 "nbformat_minor": 4
}