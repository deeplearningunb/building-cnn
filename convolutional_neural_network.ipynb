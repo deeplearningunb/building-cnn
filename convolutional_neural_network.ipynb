{
 "cells": [
  {
   "cell_type": "markdown",
   "metadata": {
    "colab_type": "text",
    "id": "3DR-eO17geWu"
   },
   "source": [
    "# Convolutional Neural Network"
   ]
  },
  {
   "cell_type": "markdown",
   "metadata": {
    "colab_type": "text",
    "id": "EMefrVPCg-60"
   },
   "source": [
    "### Importing the libraries"
   ]
  },
  {
   "cell_type": "code",
   "execution_count": 35,
   "metadata": {
    "colab": {},
    "colab_type": "code",
    "id": "sCV30xyVhFbE"
   },
   "outputs": [],
   "source": [
    "import tensorflow as tf\n",
    "from keras.preprocessing.image import ImageDataGenerator"
   ]
  },
  {
   "cell_type": "code",
   "execution_count": 36,
   "metadata": {
    "colab": {},
    "colab_type": "code",
    "id": "FIleuCAjoFD8"
   },
   "outputs": [
    {
     "data": {
      "text/plain": [
       "'2.6.0'"
      ]
     },
     "execution_count": 36,
     "metadata": {},
     "output_type": "execute_result"
    }
   ],
   "source": [
    "tf.__version__"
   ]
  },
  {
   "cell_type": "markdown",
   "metadata": {
    "colab_type": "text",
    "id": "oxQxCBWyoGPE"
   },
   "source": [
    "## Part 1 - Data Preprocessing"
   ]
  },
  {
   "cell_type": "markdown",
   "metadata": {
    "colab_type": "text",
    "id": "MvE-heJNo3GG"
   },
   "source": [
    "### Preprocessing the Training set"
   ]
  },
  {
   "cell_type": "code",
   "execution_count": 37,
   "metadata": {
    "colab": {},
    "colab_type": "code",
    "id": "0koUcJMJpEBD",
    "scrolled": true
   },
   "outputs": [
    {
     "name": "stdout",
     "output_type": "stream",
     "text": [
      "Found 8000 images belonging to 2 classes.\n"
     ]
    }
   ],
   "source": [
    "train_datagen = ImageDataGenerator(rescale = 1./255,\n",
    "                                   shear_range = 0.2,\n",
    "                                   zoom_range = 0.2,\n",
    "                                   horizontal_flip = True)\n",
    "training_set = train_datagen.flow_from_directory('dataset/training_set',\n",
    "                                                 target_size = (64, 64),\n",
    "                                                 batch_size = 32,\n",
    "                                                 class_mode = 'binary')"
   ]
  },
  {
   "cell_type": "markdown",
   "metadata": {
    "colab_type": "text",
    "id": "mrCMmGw9pHys"
   },
   "source": [
    "### Preprocessing the Test set"
   ]
  },
  {
   "cell_type": "code",
   "execution_count": 38,
   "metadata": {
    "colab": {},
    "colab_type": "code",
    "id": "SH4WzfOhpKc3"
   },
   "outputs": [
    {
     "name": "stdout",
     "output_type": "stream",
     "text": [
      "Found 2000 images belonging to 2 classes.\n"
     ]
    }
   ],
   "source": [
    "test_datagen = ImageDataGenerator(rescale = 1./255)\n",
    "test_set = test_datagen.flow_from_directory('dataset/test_set',\n",
    "                                            target_size = (64, 64),\n",
    "                                            batch_size = 32,\n",
    "                                            class_mode = 'binary')"
   ]
  },
  {
   "cell_type": "markdown",
   "metadata": {
    "colab_type": "text",
    "id": "af8O4l90gk7B"
   },
   "source": [
    "## Part 2 - Building the CNN"
   ]
  },
  {
   "cell_type": "markdown",
   "metadata": {
    "colab_type": "text",
    "id": "ces1gXY2lmoX"
   },
   "source": [
    "### Initialising the CNN"
   ]
  },
  {
   "cell_type": "code",
   "execution_count": 39,
   "metadata": {
    "colab": {},
    "colab_type": "code",
    "id": "SAUt4UMPlhLS"
   },
   "outputs": [],
   "source": [
    "cnn = tf.keras.models.Sequential()"
   ]
  },
  {
   "cell_type": "markdown",
   "metadata": {
    "colab_type": "text",
    "id": "u5YJj_XMl5LF"
   },
   "source": [
    "### Step 1 - Convolution"
   ]
  },
  {
   "cell_type": "code",
   "execution_count": 40,
   "metadata": {
    "colab": {},
    "colab_type": "code",
    "id": "XPzPrMckl-hV"
   },
   "outputs": [],
   "source": [
    "cnn.add(tf.keras.layers.Conv2D(filters=32, kernel_size=3, activation='relu', input_shape=[64, 64, 3]))"
   ]
  },
  {
   "cell_type": "markdown",
   "metadata": {
    "colab_type": "text",
    "id": "tf87FpvxmNOJ"
   },
   "source": [
    "### Step 2 - Pooling"
   ]
  },
  {
   "cell_type": "code",
   "execution_count": 41,
   "metadata": {
    "colab": {},
    "colab_type": "code",
    "id": "ncpqPl69mOac"
   },
   "outputs": [],
   "source": [
    "cnn.add(tf.keras.layers.MaxPool2D(pool_size=2, strides=2))"
   ]
  },
  {
   "cell_type": "markdown",
   "metadata": {
    "colab_type": "text",
    "id": "xaTOgD8rm4mU"
   },
   "source": [
    "### Adding a second convolutional layer"
   ]
  },
  {
   "cell_type": "code",
   "execution_count": 42,
   "metadata": {
    "colab": {},
    "colab_type": "code",
    "id": "i_-FZjn_m8gk"
   },
   "outputs": [],
   "source": [
    "cnn.add(tf.keras.layers.Conv2D(filters=32, kernel_size=3, activation='relu'))\n",
    "cnn.add(tf.keras.layers.MaxPool2D(pool_size=2, strides=2))"
   ]
  },
  {
   "cell_type": "markdown",
   "metadata": {},
   "source": [
    "### Adding a third convolutional layer"
   ]
  },
  {
   "cell_type": "code",
   "execution_count": 43,
   "metadata": {},
   "outputs": [],
   "source": [
    "cnn.add(tf.keras.layers.Conv2D(filters=32, kernel_size=3, activation='sigmoid'))\n",
    "cnn.add(tf.keras.layers.MaxPool2D(pool_size=2, strides=2))"
   ]
  },
  {
   "cell_type": "markdown",
   "metadata": {
    "colab_type": "text",
    "id": "tmiEuvTunKfk"
   },
   "source": [
    "### Step 3 - Flattening"
   ]
  },
  {
   "cell_type": "code",
   "execution_count": 44,
   "metadata": {
    "colab": {},
    "colab_type": "code",
    "id": "6AZeOGCvnNZn"
   },
   "outputs": [],
   "source": [
    "cnn.add(tf.keras.layers.Flatten())"
   ]
  },
  {
   "cell_type": "markdown",
   "metadata": {
    "colab_type": "text",
    "id": "dAoSECOm203v"
   },
   "source": [
    "### Step 4 - Full Connection"
   ]
  },
  {
   "cell_type": "code",
   "execution_count": 45,
   "metadata": {
    "colab": {},
    "colab_type": "code",
    "id": "8GtmUlLd26Nq"
   },
   "outputs": [],
   "source": [
    "cnn.add(tf.keras.layers.Dense(units=128, activation='relu'))"
   ]
  },
  {
   "cell_type": "markdown",
   "metadata": {
    "colab_type": "text",
    "id": "yTldFvbX28Na"
   },
   "source": [
    "### Step 5 - Output Layer"
   ]
  },
  {
   "cell_type": "code",
   "execution_count": 46,
   "metadata": {
    "colab": {},
    "colab_type": "code",
    "id": "1p_Zj1Mc3Ko_"
   },
   "outputs": [],
   "source": [
    "cnn.add(tf.keras.layers.Dense(units=1, activation='sigmoid'))"
   ]
  },
  {
   "cell_type": "markdown",
   "metadata": {
    "colab_type": "text",
    "id": "D6XkI90snSDl"
   },
   "source": [
    "## Part 3 - Training the CNN"
   ]
  },
  {
   "cell_type": "markdown",
   "metadata": {
    "colab_type": "text",
    "id": "vfrFQACEnc6i"
   },
   "source": [
    "### Compiling the CNN"
   ]
  },
  {
   "cell_type": "code",
   "execution_count": 47,
   "metadata": {
    "colab": {},
    "colab_type": "code",
    "id": "NALksrNQpUlJ"
   },
   "outputs": [],
   "source": [
    "cnn.compile(optimizer = 'adam', loss = 'binary_crossentropy', metrics = ['accuracy'])"
   ]
  },
  {
   "cell_type": "markdown",
   "metadata": {
    "colab_type": "text",
    "id": "ehS-v3MIpX2h"
   },
   "source": [
    "### Training the CNN on the Training set and evaluating it on the Test set"
   ]
  },
  {
   "cell_type": "code",
   "execution_count": 48,
   "metadata": {
    "colab": {},
    "colab_type": "code",
    "id": "XUj1W4PJptta"
   },
   "outputs": [
    {
     "name": "stdout",
     "output_type": "stream",
     "text": [
      "Epoch 1/25\n",
      "250/250 [==============================] - 62s 245ms/step - loss: 0.6967 - accuracy: 0.5326 - val_loss: 0.6831 - val_accuracy: 0.5810\n",
      "Epoch 2/25\n",
      "250/250 [==============================] - 61s 244ms/step - loss: 0.6825 - accuracy: 0.5699 - val_loss: 0.6766 - val_accuracy: 0.5985\n",
      "Epoch 3/25\n",
      "250/250 [==============================] - 62s 248ms/step - loss: 0.6710 - accuracy: 0.5881 - val_loss: 0.6667 - val_accuracy: 0.6090\n",
      "Epoch 4/25\n",
      "250/250 [==============================] - 62s 248ms/step - loss: 0.6503 - accuracy: 0.6124 - val_loss: 0.6262 - val_accuracy: 0.6480\n",
      "Epoch 5/25\n",
      "250/250 [==============================] - 67s 269ms/step - loss: 0.6091 - accuracy: 0.6604 - val_loss: 0.5812 - val_accuracy: 0.6975\n",
      "Epoch 6/25\n",
      "250/250 [==============================] - 81s 324ms/step - loss: 0.5820 - accuracy: 0.6884 - val_loss: 0.6043 - val_accuracy: 0.6830\n",
      "Epoch 7/25\n",
      "250/250 [==============================] - 76s 305ms/step - loss: 0.5649 - accuracy: 0.7044 - val_loss: 0.5585 - val_accuracy: 0.7085\n",
      "Epoch 8/25\n",
      "250/250 [==============================] - 65s 258ms/step - loss: 0.5444 - accuracy: 0.7182 - val_loss: 0.5352 - val_accuracy: 0.7285\n",
      "Epoch 9/25\n",
      "250/250 [==============================] - 62s 246ms/step - loss: 0.5203 - accuracy: 0.7368 - val_loss: 0.5184 - val_accuracy: 0.7450\n",
      "Epoch 10/25\n",
      "250/250 [==============================] - 61s 242ms/step - loss: 0.5117 - accuracy: 0.7435 - val_loss: 0.5087 - val_accuracy: 0.7540\n",
      "Epoch 11/25\n",
      "250/250 [==============================] - 62s 249ms/step - loss: 0.5050 - accuracy: 0.7480 - val_loss: 0.5165 - val_accuracy: 0.7385\n",
      "Epoch 12/25\n",
      "250/250 [==============================] - 60s 240ms/step - loss: 0.4868 - accuracy: 0.7561 - val_loss: 0.4761 - val_accuracy: 0.7725\n",
      "Epoch 13/25\n",
      "250/250 [==============================] - 61s 244ms/step - loss: 0.4772 - accuracy: 0.7636 - val_loss: 0.4674 - val_accuracy: 0.7800\n",
      "Epoch 14/25\n",
      "250/250 [==============================] - 60s 241ms/step - loss: 0.4638 - accuracy: 0.7782 - val_loss: 0.4773 - val_accuracy: 0.7700\n",
      "Epoch 15/25\n",
      "250/250 [==============================] - 61s 246ms/step - loss: 0.4519 - accuracy: 0.7814 - val_loss: 0.4570 - val_accuracy: 0.7775\n",
      "Epoch 16/25\n",
      "250/250 [==============================] - 61s 244ms/step - loss: 0.4476 - accuracy: 0.7874 - val_loss: 0.4539 - val_accuracy: 0.7840\n",
      "Epoch 17/25\n",
      "250/250 [==============================] - 61s 243ms/step - loss: 0.4380 - accuracy: 0.7901 - val_loss: 0.4441 - val_accuracy: 0.7870\n",
      "Epoch 18/25\n",
      "250/250 [==============================] - 60s 242ms/step - loss: 0.4259 - accuracy: 0.8020 - val_loss: 0.4604 - val_accuracy: 0.7960\n",
      "Epoch 19/25\n",
      "250/250 [==============================] - 61s 243ms/step - loss: 0.4163 - accuracy: 0.8040 - val_loss: 0.4349 - val_accuracy: 0.7955\n",
      "Epoch 20/25\n",
      "250/250 [==============================] - 60s 238ms/step - loss: 0.4135 - accuracy: 0.8019 - val_loss: 0.4289 - val_accuracy: 0.8090\n",
      "Epoch 21/25\n",
      "250/250 [==============================] - 61s 244ms/step - loss: 0.4016 - accuracy: 0.8161 - val_loss: 0.4247 - val_accuracy: 0.8090\n",
      "Epoch 22/25\n",
      "250/250 [==============================] - 60s 240ms/step - loss: 0.3899 - accuracy: 0.8236 - val_loss: 0.4201 - val_accuracy: 0.8120\n",
      "Epoch 23/25\n",
      "250/250 [==============================] - 60s 241ms/step - loss: 0.3838 - accuracy: 0.8255 - val_loss: 0.4204 - val_accuracy: 0.8090\n",
      "Epoch 24/25\n",
      "250/250 [==============================] - 60s 241ms/step - loss: 0.3803 - accuracy: 0.8232 - val_loss: 0.4128 - val_accuracy: 0.8090\n",
      "Epoch 25/25\n",
      "250/250 [==============================] - 61s 244ms/step - loss: 0.3684 - accuracy: 0.8364 - val_loss: 0.4063 - val_accuracy: 0.8215\n"
     ]
    },
    {
     "data": {
      "text/plain": [
       "<keras.callbacks.History at 0x24fee29a940>"
      ]
     },
     "execution_count": 48,
     "metadata": {},
     "output_type": "execute_result"
    }
   ],
   "source": [
    "cnn.fit(x = training_set, validation_data = test_set, epochs = 25)"
   ]
  },
  {
   "cell_type": "markdown",
   "metadata": {
    "colab_type": "text",
    "id": "U3PZasO0006Z"
   },
   "source": [
    "## Part 4 - Making a single prediction"
   ]
  },
  {
   "cell_type": "code",
   "execution_count": 49,
   "metadata": {
    "colab": {},
    "colab_type": "code",
    "id": "gsSiWEJY1BPB"
   },
   "outputs": [],
   "source": [
    "import numpy as np\n",
    "from keras.preprocessing import image\n",
    "test_image = image.load_img('dataset/single_prediction/cat_or_dog_1.jpg', target_size = (64, 64))\n",
    "test_image = image.img_to_array(test_image)\n",
    "test_image = np.expand_dims(test_image, axis = 0)\n",
    "result = cnn.predict(test_image)\n",
    "training_set.class_indices\n",
    "if result[0][0] == 1:\n",
    "  prediction = 'dog'\n",
    "else:\n",
    "  prediction = 'cat'"
   ]
  },
  {
   "cell_type": "code",
   "execution_count": 50,
   "metadata": {
    "colab": {},
    "colab_type": "code",
    "id": "ED9KB3I54c1i"
   },
   "outputs": [
    {
     "name": "stdout",
     "output_type": "stream",
     "text": [
      "cat\n"
     ]
    }
   ],
   "source": [
    "print(prediction)"
   ]
  },
  {
   "cell_type": "markdown",
   "metadata": {},
   "source": [
    "## Fim"
   ]
  }
 ],
 "metadata": {
  "colab": {
   "collapsed_sections": [],
   "name": "convolutional_neural_network.ipynb",
   "provenance": [],
   "toc_visible": true
  },
  "kernelspec": {
   "display_name": "Python 3",
   "language": "python",
   "name": "python3"
  },
  "language_info": {
   "codemirror_mode": {
    "name": "ipython",
    "version": 3
   },
   "file_extension": ".py",
   "mimetype": "text/x-python",
   "name": "python",
   "nbconvert_exporter": "python",
   "pygments_lexer": "ipython3",
   "version": "3.7.3"
  }
 },
 "nbformat": 4,
 "nbformat_minor": 4
}
