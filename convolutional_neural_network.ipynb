{
 "cells": [
  {
   "cell_type": "markdown",
   "metadata": {
    "colab_type": "text",
    "id": "3DR-eO17geWu"
   },
   "source": [
    "# Convolutional Neural Network"
   ]
  },
  {
   "cell_type": "markdown",
   "metadata": {
    "colab_type": "text",
    "id": "EMefrVPCg-60"
   },
   "source": [
    "### Importing the libraries"
   ]
  },
  {
   "cell_type": "code",
   "execution_count": 1,
   "metadata": {},
   "outputs": [],
   "source": [
    "!pip install --upgrade tensorflow keras Pillow"
   ]
  },
  {
   "cell_type": "code",
   "execution_count": 2,
   "metadata": {
    "colab": {},
    "colab_type": "code",
    "id": "sCV30xyVhFbE"
   },
   "outputs": [],
   "source": [
    "import tensorflow as tf\n",
    "from keras.preprocessing.image import ImageDataGenerator"
   ]
  },
  {
   "cell_type": "code",
   "execution_count": 3,
   "metadata": {
    "colab": {},
    "colab_type": "code",
    "id": "FIleuCAjoFD8"
   },
   "outputs": [
    {
     "output_type": "execute_result",
     "data": {
      "text/plain": [
       "'2.4.1'"
      ]
     },
     "metadata": {},
     "execution_count": 3
    }
   ],
   "source": [
    "tf.__version__"
   ]
  },
  {
   "cell_type": "markdown",
   "metadata": {
    "colab_type": "text",
    "id": "oxQxCBWyoGPE"
   },
   "source": [
    "## Part 1 - Data Preprocessing"
   ]
  },
  {
   "cell_type": "markdown",
   "metadata": {
    "colab_type": "text",
    "id": "MvE-heJNo3GG"
   },
   "source": [
    "### Preprocessing the Training set"
   ]
  },
  {
   "cell_type": "code",
   "execution_count": 4,
   "metadata": {
    "colab": {},
    "colab_type": "code",
    "id": "0koUcJMJpEBD"
   },
   "outputs": [
    {
     "output_type": "stream",
     "name": "stdout",
     "text": [
      "Found 8000 images belonging to 2 classes.\n"
     ]
    }
   ],
   "source": [
    "train_datagen = ImageDataGenerator(rescale = 1./255,\n",
    "                                   shear_range = 0.2,\n",
    "                                   zoom_range = 0.2,\n",
    "                                   horizontal_flip = True)\n",
    "training_set = train_datagen.flow_from_directory('dataset/training_set',\n",
    "                                                 target_size = (64, 64),\n",
    "                                                 batch_size = 32,\n",
    "                                                 class_mode = 'binary')"
   ]
  },
  {
   "cell_type": "markdown",
   "metadata": {
    "colab_type": "text",
    "id": "mrCMmGw9pHys"
   },
   "source": [
    "### Preprocessing the Test set"
   ]
  },
  {
   "cell_type": "code",
   "execution_count": 5,
   "metadata": {
    "colab": {},
    "colab_type": "code",
    "id": "SH4WzfOhpKc3"
   },
   "outputs": [
    {
     "output_type": "stream",
     "name": "stdout",
     "text": [
      "Found 2000 images belonging to 2 classes.\n"
     ]
    }
   ],
   "source": [
    "test_datagen = ImageDataGenerator(rescale = 1./255)\n",
    "test_set = test_datagen.flow_from_directory('dataset/test_set',\n",
    "                                            target_size = (64, 64),\n",
    "                                            batch_size = 32,\n",
    "                                            class_mode = 'binary')"
   ]
  },
  {
   "cell_type": "markdown",
   "metadata": {
    "colab_type": "text",
    "id": "af8O4l90gk7B"
   },
   "source": [
    "## Part 2 - Building the CNN"
   ]
  },
  {
   "cell_type": "markdown",
   "metadata": {
    "colab_type": "text",
    "id": "ces1gXY2lmoX"
   },
   "source": [
    "### Initialising the CNN"
   ]
  },
  {
   "cell_type": "code",
   "execution_count": 6,
   "metadata": {
    "colab": {},
    "colab_type": "code",
    "id": "SAUt4UMPlhLS"
   },
   "outputs": [],
   "source": [
    "cnn = tf.keras.models.Sequential()"
   ]
  },
  {
   "cell_type": "markdown",
   "metadata": {
    "colab_type": "text",
    "id": "u5YJj_XMl5LF"
   },
   "source": [
    "### Step 1 - Convolution"
   ]
  },
  {
   "cell_type": "code",
   "execution_count": 7,
   "metadata": {
    "colab": {},
    "colab_type": "code",
    "id": "XPzPrMckl-hV"
   },
   "outputs": [],
   "source": [
    "cnn.add(tf.keras.layers.Conv2D(filters=32, kernel_size=3, activation='relu', input_shape=[64, 64, 3]))"
   ]
  },
  {
   "cell_type": "markdown",
   "metadata": {
    "colab_type": "text",
    "id": "tf87FpvxmNOJ"
   },
   "source": [
    "### Step 2 - Pooling"
   ]
  },
  {
   "cell_type": "code",
   "execution_count": 8,
   "metadata": {
    "colab": {},
    "colab_type": "code",
    "id": "ncpqPl69mOac"
   },
   "outputs": [],
   "source": [
    "cnn.add(tf.keras.layers.MaxPool2D(pool_size=2, strides=2))"
   ]
  },
  {
   "cell_type": "markdown",
   "metadata": {
    "colab_type": "text",
    "id": "xaTOgD8rm4mU"
   },
   "source": [
    "### Adding a second convolutional layer"
   ]
  },
  {
   "cell_type": "code",
   "execution_count": 9,
   "metadata": {
    "colab": {},
    "colab_type": "code",
    "id": "i_-FZjn_m8gk"
   },
   "outputs": [],
   "source": [
    "cnn.add(tf.keras.layers.Conv2D(filters=32, kernel_size=3, activation='relu'))\n",
    "cnn.add(tf.keras.layers.MaxPool2D(pool_size=2, strides=2))"
   ]
  },
  {
   "source": [
    "### Adding a third convolutional layer"
   ],
   "cell_type": "markdown",
   "metadata": {}
  },
  {
   "cell_type": "code",
   "execution_count": 10,
   "metadata": {},
   "outputs": [],
   "source": [
    "cnn.add(tf.keras.layers.Conv2D(filters=32, kernel_size=3, activation='relu'))\n",
    "cnn.add(tf.keras.layers.MaxPool2D(pool_size=2, strides=2))"
   ]
  },
  {
   "cell_type": "markdown",
   "metadata": {
    "colab_type": "text",
    "id": "tmiEuvTunKfk"
   },
   "source": [
    "### Step 3 - Flattening"
   ]
  },
  {
   "cell_type": "code",
   "execution_count": 11,
   "metadata": {
    "colab": {},
    "colab_type": "code",
    "id": "6AZeOGCvnNZn"
   },
   "outputs": [],
   "source": [
    "cnn.add(tf.keras.layers.Flatten())"
   ]
  },
  {
   "cell_type": "markdown",
   "metadata": {
    "colab_type": "text",
    "id": "dAoSECOm203v"
   },
   "source": [
    "### Step 4 - Full Connection"
   ]
  },
  {
   "cell_type": "code",
   "execution_count": 12,
   "metadata": {
    "colab": {},
    "colab_type": "code",
    "id": "8GtmUlLd26Nq"
   },
   "outputs": [],
   "source": [
    "cnn.add(tf.keras.layers.Dense(units=200, activation='relu'))"
   ]
  },
  {
   "cell_type": "markdown",
   "metadata": {
    "colab_type": "text",
    "id": "yTldFvbX28Na"
   },
   "source": [
    "### Step 5 - Output Layer"
   ]
  },
  {
   "cell_type": "code",
   "execution_count": 13,
   "metadata": {
    "colab": {},
    "colab_type": "code",
    "id": "1p_Zj1Mc3Ko_"
   },
   "outputs": [],
   "source": [
    "cnn.add(tf.keras.layers.Dense(units=1, activation='sigmoid'))"
   ]
  },
  {
   "cell_type": "markdown",
   "metadata": {
    "colab_type": "text",
    "id": "D6XkI90snSDl"
   },
   "source": [
    "## Part 3 - Training the CNN"
   ]
  },
  {
   "cell_type": "markdown",
   "metadata": {
    "colab_type": "text",
    "id": "vfrFQACEnc6i"
   },
   "source": [
    "### Compiling the CNN"
   ]
  },
  {
   "cell_type": "code",
   "execution_count": 14,
   "metadata": {
    "colab": {},
    "colab_type": "code",
    "id": "NALksrNQpUlJ"
   },
   "outputs": [],
   "source": [
    "cnn.compile(optimizer = 'adam', loss = 'binary_crossentropy', metrics = ['accuracy'])"
   ]
  },
  {
   "cell_type": "markdown",
   "metadata": {
    "colab_type": "text",
    "id": "ehS-v3MIpX2h"
   },
   "source": [
    "### Training the CNN on the Training set and evaluating it on the Test set"
   ]
  },
  {
   "cell_type": "code",
   "execution_count": 15,
   "metadata": {
    "colab": {},
    "colab_type": "code",
    "id": "XUj1W4PJptta"
   },
   "outputs": [
    {
     "output_type": "stream",
     "name": "stdout",
     "text": [
      "Epoch 1/50\n",
      "250/250 [==============================] - 21s 82ms/step - loss: 0.6900 - accuracy: 0.5374 - val_loss: 0.6857 - val_accuracy: 0.5650\n",
      "Epoch 2/50\n",
      "250/250 [==============================] - 18s 73ms/step - loss: 0.6322 - accuracy: 0.6345 - val_loss: 0.5772 - val_accuracy: 0.7035\n",
      "Epoch 3/50\n",
      "250/250 [==============================] - 19s 76ms/step - loss: 0.5749 - accuracy: 0.7068 - val_loss: 0.5698 - val_accuracy: 0.7185\n",
      "Epoch 4/50\n",
      "250/250 [==============================] - 19s 78ms/step - loss: 0.5310 - accuracy: 0.7385 - val_loss: 0.4983 - val_accuracy: 0.7740\n",
      "Epoch 5/50\n",
      "250/250 [==============================] - 18s 73ms/step - loss: 0.4931 - accuracy: 0.7597 - val_loss: 0.4717 - val_accuracy: 0.7790\n",
      "Epoch 6/50\n",
      "250/250 [==============================] - 18s 74ms/step - loss: 0.4782 - accuracy: 0.7716 - val_loss: 0.4615 - val_accuracy: 0.7955\n",
      "Epoch 7/50\n",
      "250/250 [==============================] - 18s 74ms/step - loss: 0.4761 - accuracy: 0.7719 - val_loss: 0.4480 - val_accuracy: 0.7985\n",
      "Epoch 8/50\n",
      "250/250 [==============================] - 19s 74ms/step - loss: 0.4489 - accuracy: 0.7844 - val_loss: 0.4502 - val_accuracy: 0.7895\n",
      "Epoch 9/50\n",
      "250/250 [==============================] - 19s 74ms/step - loss: 0.4299 - accuracy: 0.7994 - val_loss: 0.4413 - val_accuracy: 0.7910\n",
      "Epoch 10/50\n",
      "250/250 [==============================] - 19s 75ms/step - loss: 0.4165 - accuracy: 0.8159 - val_loss: 0.4498 - val_accuracy: 0.7930\n",
      "Epoch 11/50\n",
      "250/250 [==============================] - 19s 76ms/step - loss: 0.4042 - accuracy: 0.8164 - val_loss: 0.4281 - val_accuracy: 0.8105\n",
      "Epoch 12/50\n",
      "250/250 [==============================] - 20s 79ms/step - loss: 0.3923 - accuracy: 0.8223 - val_loss: 0.4310 - val_accuracy: 0.8015\n",
      "Epoch 13/50\n",
      "250/250 [==============================] - 20s 79ms/step - loss: 0.3754 - accuracy: 0.8278 - val_loss: 0.4553 - val_accuracy: 0.7985\n",
      "Epoch 14/50\n",
      "250/250 [==============================] - 19s 76ms/step - loss: 0.3752 - accuracy: 0.8328 - val_loss: 0.4264 - val_accuracy: 0.8190\n",
      "Epoch 15/50\n",
      "250/250 [==============================] - 20s 79ms/step - loss: 0.3572 - accuracy: 0.8358 - val_loss: 0.4547 - val_accuracy: 0.7985\n",
      "Epoch 16/50\n",
      "250/250 [==============================] - 20s 78ms/step - loss: 0.3466 - accuracy: 0.8494 - val_loss: 0.4416 - val_accuracy: 0.8005\n",
      "Epoch 17/50\n",
      "250/250 [==============================] - 18s 72ms/step - loss: 0.3349 - accuracy: 0.8566 - val_loss: 0.4137 - val_accuracy: 0.8235\n",
      "Epoch 18/50\n",
      "250/250 [==============================] - 19s 78ms/step - loss: 0.3327 - accuracy: 0.8566 - val_loss: 0.3846 - val_accuracy: 0.8350\n",
      "Epoch 19/50\n",
      "250/250 [==============================] - 19s 76ms/step - loss: 0.3156 - accuracy: 0.8609 - val_loss: 0.3986 - val_accuracy: 0.8295\n",
      "Epoch 20/50\n",
      "250/250 [==============================] - 19s 75ms/step - loss: 0.2995 - accuracy: 0.8708 - val_loss: 0.3849 - val_accuracy: 0.8400\n",
      "Epoch 21/50\n",
      "250/250 [==============================] - 19s 77ms/step - loss: 0.2926 - accuracy: 0.8732 - val_loss: 0.4158 - val_accuracy: 0.8150\n",
      "Epoch 22/50\n",
      "250/250 [==============================] - 20s 80ms/step - loss: 0.2780 - accuracy: 0.8782 - val_loss: 0.3908 - val_accuracy: 0.8440\n",
      "Epoch 23/50\n",
      "250/250 [==============================] - 20s 79ms/step - loss: 0.2618 - accuracy: 0.8915 - val_loss: 0.4239 - val_accuracy: 0.8310\n",
      "Epoch 24/50\n",
      "250/250 [==============================] - 19s 78ms/step - loss: 0.2853 - accuracy: 0.8709 - val_loss: 0.4234 - val_accuracy: 0.8320\n",
      "Epoch 25/50\n",
      "250/250 [==============================] - 20s 79ms/step - loss: 0.2459 - accuracy: 0.8947 - val_loss: 0.4726 - val_accuracy: 0.8245\n",
      "Epoch 26/50\n",
      "250/250 [==============================] - 19s 76ms/step - loss: 0.2673 - accuracy: 0.8802 - val_loss: 0.4270 - val_accuracy: 0.8370\n",
      "Epoch 27/50\n",
      "250/250 [==============================] - 19s 75ms/step - loss: 0.2485 - accuracy: 0.8904 - val_loss: 0.4782 - val_accuracy: 0.8185\n",
      "Epoch 28/50\n",
      "250/250 [==============================] - 18s 74ms/step - loss: 0.2448 - accuracy: 0.8959 - val_loss: 0.4561 - val_accuracy: 0.8305\n",
      "Epoch 29/50\n",
      "250/250 [==============================] - 20s 78ms/step - loss: 0.2189 - accuracy: 0.9083 - val_loss: 0.4213 - val_accuracy: 0.8420\n",
      "Epoch 30/50\n",
      "250/250 [==============================] - 20s 81ms/step - loss: 0.2092 - accuracy: 0.9175 - val_loss: 0.4886 - val_accuracy: 0.8340\n",
      "Epoch 31/50\n",
      "250/250 [==============================] - 20s 82ms/step - loss: 0.2104 - accuracy: 0.9090 - val_loss: 0.4491 - val_accuracy: 0.8290\n",
      "Epoch 32/50\n",
      "250/250 [==============================] - 21s 84ms/step - loss: 0.1962 - accuracy: 0.9183 - val_loss: 0.4426 - val_accuracy: 0.8405\n",
      "Epoch 33/50\n",
      "250/250 [==============================] - 20s 81ms/step - loss: 0.1792 - accuracy: 0.9224 - val_loss: 0.5107 - val_accuracy: 0.8380\n",
      "Epoch 34/50\n",
      "250/250 [==============================] - 21s 86ms/step - loss: 0.1831 - accuracy: 0.9257 - val_loss: 0.4758 - val_accuracy: 0.8395\n",
      "Epoch 35/50\n",
      "250/250 [==============================] - 18s 73ms/step - loss: 0.1739 - accuracy: 0.9320 - val_loss: 0.4539 - val_accuracy: 0.8380\n",
      "Epoch 36/50\n",
      "250/250 [==============================] - 18s 73ms/step - loss: 0.1825 - accuracy: 0.9239 - val_loss: 0.4555 - val_accuracy: 0.8350\n",
      "Epoch 37/50\n",
      "250/250 [==============================] - 18s 72ms/step - loss: 0.1571 - accuracy: 0.9387 - val_loss: 0.5236 - val_accuracy: 0.8265\n",
      "Epoch 38/50\n",
      "250/250 [==============================] - 18s 74ms/step - loss: 0.1543 - accuracy: 0.9402 - val_loss: 0.4966 - val_accuracy: 0.8280\n",
      "Epoch 39/50\n",
      "250/250 [==============================] - 20s 78ms/step - loss: 0.1468 - accuracy: 0.9412 - val_loss: 0.5285 - val_accuracy: 0.8335\n",
      "Epoch 40/50\n",
      "250/250 [==============================] - 20s 79ms/step - loss: 0.1575 - accuracy: 0.9364 - val_loss: 0.5338 - val_accuracy: 0.8480\n",
      "Epoch 41/50\n",
      "250/250 [==============================] - 18s 72ms/step - loss: 0.1428 - accuracy: 0.9422 - val_loss: 0.5446 - val_accuracy: 0.8525\n",
      "Epoch 42/50\n",
      "250/250 [==============================] - 19s 74ms/step - loss: 0.1281 - accuracy: 0.9479 - val_loss: 0.6743 - val_accuracy: 0.8050\n",
      "Epoch 43/50\n",
      "250/250 [==============================] - 19s 78ms/step - loss: 0.1398 - accuracy: 0.9461 - val_loss: 0.5466 - val_accuracy: 0.8270\n",
      "Epoch 44/50\n",
      "250/250 [==============================] - 19s 75ms/step - loss: 0.1230 - accuracy: 0.9463 - val_loss: 0.5548 - val_accuracy: 0.8385\n",
      "Epoch 45/50\n",
      "250/250 [==============================] - 18s 71ms/step - loss: 0.1085 - accuracy: 0.9569 - val_loss: 0.6232 - val_accuracy: 0.8350\n",
      "Epoch 46/50\n",
      "250/250 [==============================] - 19s 76ms/step - loss: 0.1285 - accuracy: 0.9478 - val_loss: 0.6684 - val_accuracy: 0.8195\n",
      "Epoch 47/50\n",
      "250/250 [==============================] - 20s 80ms/step - loss: 0.1178 - accuracy: 0.9566 - val_loss: 0.5733 - val_accuracy: 0.8375\n",
      "Epoch 48/50\n",
      "250/250 [==============================] - 20s 79ms/step - loss: 0.1085 - accuracy: 0.9577 - val_loss: 0.6590 - val_accuracy: 0.8385\n",
      "Epoch 49/50\n",
      "250/250 [==============================] - 20s 78ms/step - loss: 0.1027 - accuracy: 0.9612 - val_loss: 0.6587 - val_accuracy: 0.8340\n",
      "Epoch 50/50\n",
      "250/250 [==============================] - 19s 76ms/step - loss: 0.1061 - accuracy: 0.9624 - val_loss: 0.6608 - val_accuracy: 0.7995\n"
     ]
    },
    {
     "output_type": "execute_result",
     "data": {
      "text/plain": [
       "<tensorflow.python.keras.callbacks.History at 0x7f35495dca30>"
      ]
     },
     "metadata": {},
     "execution_count": 15
    }
   ],
   "source": [
    "cnn.fit(x = training_set, validation_data = test_set, epochs = 50)"
   ]
  },
  {
   "cell_type": "markdown",
   "metadata": {
    "colab_type": "text",
    "id": "U3PZasO0006Z"
   },
   "source": [
    "## Part 4 - Making a single prediction"
   ]
  },
  {
   "cell_type": "code",
   "execution_count": 16,
   "metadata": {
    "colab": {},
    "colab_type": "code",
    "id": "gsSiWEJY1BPB"
   },
   "outputs": [],
   "source": [
    "import numpy as np\n",
    "from keras.preprocessing import image\n",
    "test_image = image.load_img('dataset/single_prediction/cat_or_dog_1.jpg', target_size = (64, 64))\n",
    "test_image = image.img_to_array(test_image)\n",
    "test_image = np.expand_dims(test_image, axis = 0)\n",
    "result = cnn.predict(test_image)\n",
    "training_set.class_indices\n",
    "if result[0][0] == 1:\n",
    "  prediction = 'dog'\n",
    "else:\n",
    "  prediction = 'cat'"
   ]
  },
  {
   "cell_type": "code",
   "execution_count": 17,
   "metadata": {
    "colab": {},
    "colab_type": "code",
    "id": "ED9KB3I54c1i"
   },
   "outputs": [
    {
     "output_type": "stream",
     "name": "stdout",
     "text": [
      "dog\n"
     ]
    }
   ],
   "source": [
    "print(prediction)"
   ]
  },
  {
   "cell_type": "markdown",
   "metadata": {},
   "source": [
    "## Fim"
   ]
  }
 ],
 "metadata": {
  "colab": {
   "collapsed_sections": [],
   "name": "convolutional_neural_network.ipynb",
   "provenance": [],
   "toc_visible": true
  },
  "kernelspec": {
   "display_name": "Python 3",
   "language": "python",
   "name": "python3"
  },
  "language_info": {
   "codemirror_mode": {
    "name": "ipython",
    "version": 3
   },
   "file_extension": ".py",
   "mimetype": "text/x-python",
   "name": "python",
   "nbconvert_exporter": "python",
   "pygments_lexer": "ipython3",
   "version": "3.8.5-final"
  }
 },
 "nbformat": 4,
 "nbformat_minor": 4
}