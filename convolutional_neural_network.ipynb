{
 "cells": [
  {
   "cell_type": "markdown",
   "metadata": {
    "colab_type": "text",
    "id": "3DR-eO17geWu"
   },
   "source": [
    "# Convolutional Neural Network"
   ]
  },
  {
   "cell_type": "markdown",
   "metadata": {
    "colab_type": "text",
    "id": "EMefrVPCg-60"
   },
   "source": [
    "### Importing the libraries"
   ]
  },
  {
   "cell_type": "code",
   "execution_count": 16,
   "metadata": {},
   "outputs": [
    {
     "output_type": "stream",
     "name": "stdout",
     "text": [
      "\u001b[33mDEPRECATION: Python 2.7 reached the end of its life on January 1st, 2020. Please upgrade your Python as Python 2.7 is no longer maintained. pip 21.0 will drop support for Python 2.7 in January 2021. More details about Python 2 support in pip can be found at https://pip.pypa.io/en/latest/development/release-process/#python-2-support pip 21.0 will remove support for this functionality.\u001b[0m\n",
      "Defaulting to user installation because normal site-packages is not writeable\n",
      "Requirement already up-to-date: tensorflow in /home/igor/.local/lib/python2.7/site-packages (2.1.0)\n",
      "Requirement already up-to-date: keras in /home/igor/.local/lib/python2.7/site-packages (2.4.3)\n",
      "Requirement already up-to-date: Pillow in /home/igor/.local/lib/python2.7/site-packages (6.2.2)\n",
      "Requirement already satisfied, skipping upgrade: scipy==1.2.2; python_version < \"3\" in /home/igor/.local/lib/python2.7/site-packages (from tensorflow) (1.2.2)\n",
      "Requirement already satisfied, skipping upgrade: gast==0.2.2 in /home/igor/.local/lib/python2.7/site-packages (from tensorflow) (0.2.2)\n",
      "Requirement already satisfied, skipping upgrade: enum34>=1.1.6; python_version < \"3.4\" in /home/igor/.local/lib/python2.7/site-packages (from tensorflow) (1.1.10)\n",
      "Requirement already satisfied, skipping upgrade: tensorflow-estimator<2.2.0,>=2.1.0rc0 in /home/igor/.local/lib/python2.7/site-packages (from tensorflow) (2.1.0)\n",
      "Requirement already satisfied, skipping upgrade: wrapt>=1.11.1 in /home/igor/.local/lib/python2.7/site-packages (from tensorflow) (1.12.1)\n",
      "Requirement already satisfied, skipping upgrade: astor>=0.6.0 in /home/igor/.local/lib/python2.7/site-packages (from tensorflow) (0.8.1)\n",
      "Requirement already satisfied, skipping upgrade: mock>=2.0.0; python_version < \"3\" in /home/igor/.local/lib/python2.7/site-packages (from tensorflow) (3.0.5)\n",
      "Requirement already satisfied, skipping upgrade: backports.weakref>=1.0rc1; python_version < \"3.4\" in /home/igor/.local/lib/python2.7/site-packages (from tensorflow) (1.0.post1)\n",
      "Requirement already satisfied, skipping upgrade: functools32>=3.2.3; python_version < \"3\" in /home/igor/.local/lib/python2.7/site-packages (from tensorflow) (3.2.3.post2)\n",
      "Requirement already satisfied, skipping upgrade: six>=1.12.0 in /usr/lib/python2.7/dist-packages (from tensorflow) (1.14.0)\n",
      "Requirement already satisfied, skipping upgrade: wheel; python_version < \"3\" in /home/igor/.local/lib/python2.7/site-packages (from tensorflow) (0.36.2)\n",
      "Requirement already satisfied, skipping upgrade: opt-einsum>=2.3.2 in /home/igor/.local/lib/python2.7/site-packages (from tensorflow) (2.3.2)\n",
      "Requirement already satisfied, skipping upgrade: grpcio>=1.8.6 in /home/igor/.local/lib/python2.7/site-packages (from tensorflow) (1.36.1)\n",
      "Requirement already satisfied, skipping upgrade: google-pasta>=0.1.6 in /home/igor/.local/lib/python2.7/site-packages (from tensorflow) (0.2.0)\n",
      "Requirement already satisfied, skipping upgrade: keras-preprocessing>=1.1.0 in /home/igor/.local/lib/python2.7/site-packages (from tensorflow) (1.1.2)\n",
      "Requirement already satisfied, skipping upgrade: absl-py>=0.7.0 in /home/igor/.local/lib/python2.7/site-packages (from tensorflow) (0.12.0)\n",
      "Requirement already satisfied, skipping upgrade: tensorboard<2.2.0,>=2.1.0 in /home/igor/.local/lib/python2.7/site-packages (from tensorflow) (2.1.0)\n",
      "Requirement already satisfied, skipping upgrade: numpy<2.0,>=1.16.0 in /usr/lib/python2.7/dist-packages (from tensorflow) (1.16.5)\n",
      "Requirement already satisfied, skipping upgrade: termcolor>=1.1.0 in /home/igor/.local/lib/python2.7/site-packages (from tensorflow) (1.1.0)\n",
      "Requirement already satisfied, skipping upgrade: keras-applications>=1.0.8 in /home/igor/.local/lib/python2.7/site-packages (from tensorflow) (1.0.8)\n",
      "Requirement already satisfied, skipping upgrade: protobuf>=3.8.0 in /home/igor/.local/lib/python2.7/site-packages (from tensorflow) (3.15.6)\n",
      "Requirement already satisfied, skipping upgrade: pyyaml in /home/igor/.local/lib/python2.7/site-packages (from keras) (5.4.1)\n",
      "Requirement already satisfied, skipping upgrade: h5py in /home/igor/.local/lib/python2.7/site-packages (from keras) (2.10.0)\n",
      "Requirement already satisfied, skipping upgrade: funcsigs>=1; python_version < \"3.3\" in /home/igor/.local/lib/python2.7/site-packages (from mock>=2.0.0; python_version < \"3\"->tensorflow) (1.0.2)\n",
      "Requirement already satisfied, skipping upgrade: futures>=2.2.0; python_version < \"3.2\" in /home/igor/.local/lib/python2.7/site-packages (from grpcio>=1.8.6->tensorflow) (3.3.0)\n",
      "Requirement already satisfied, skipping upgrade: markdown>=2.6.8 in /home/igor/.local/lib/python2.7/site-packages (from tensorboard<2.2.0,>=2.1.0->tensorflow) (3.1.1)\n",
      "Requirement already satisfied, skipping upgrade: google-auth<2,>=1.6.3 in /home/igor/.local/lib/python2.7/site-packages (from tensorboard<2.2.0,>=2.1.0->tensorflow) (1.27.1)\n",
      "Requirement already satisfied, skipping upgrade: requests<3,>=2.21.0 in /home/igor/.local/lib/python2.7/site-packages (from tensorboard<2.2.0,>=2.1.0->tensorflow) (2.25.1)\n",
      "Requirement already satisfied, skipping upgrade: setuptools>=41.0.0 in /home/igor/.local/lib/python2.7/site-packages (from tensorboard<2.2.0,>=2.1.0->tensorflow) (44.1.1)\n",
      "Requirement already satisfied, skipping upgrade: google-auth-oauthlib<0.5,>=0.4.1 in /home/igor/.local/lib/python2.7/site-packages (from tensorboard<2.2.0,>=2.1.0->tensorflow) (0.4.1)\n",
      "Requirement already satisfied, skipping upgrade: werkzeug>=0.11.15 in /home/igor/.local/lib/python2.7/site-packages (from tensorboard<2.2.0,>=2.1.0->tensorflow) (1.0.1)\n",
      "Requirement already satisfied, skipping upgrade: cachetools<5.0,>=2.0.0 in /home/igor/.local/lib/python2.7/site-packages (from google-auth<2,>=1.6.3->tensorboard<2.2.0,>=2.1.0->tensorflow) (3.1.1)\n",
      "Requirement already satisfied, skipping upgrade: pyasn1-modules>=0.2.1 in /home/igor/.local/lib/python2.7/site-packages (from google-auth<2,>=1.6.3->tensorboard<2.2.0,>=2.1.0->tensorflow) (0.2.8)\n",
      "Requirement already satisfied, skipping upgrade: rsa<4.6; python_version < \"3.6\" in /home/igor/.local/lib/python2.7/site-packages (from google-auth<2,>=1.6.3->tensorboard<2.2.0,>=2.1.0->tensorflow) (4.5)\n",
      "Requirement already satisfied, skipping upgrade: chardet<5,>=3.0.2 in /usr/lib/python2.7/dist-packages (from requests<3,>=2.21.0->tensorboard<2.2.0,>=2.1.0->tensorflow) (3.0.4)\n",
      "Requirement already satisfied, skipping upgrade: certifi>=2017.4.17 in /home/igor/.local/lib/python2.7/site-packages (from requests<3,>=2.21.0->tensorboard<2.2.0,>=2.1.0->tensorflow) (2020.12.5)\n",
      "Requirement already satisfied, skipping upgrade: urllib3<1.27,>=1.21.1 in /home/igor/.local/lib/python2.7/site-packages (from requests<3,>=2.21.0->tensorboard<2.2.0,>=2.1.0->tensorflow) (1.26.3)\n",
      "Requirement already satisfied, skipping upgrade: idna<3,>=2.5 in /home/igor/.local/lib/python2.7/site-packages (from requests<3,>=2.21.0->tensorboard<2.2.0,>=2.1.0->tensorflow) (2.10)\n",
      "Requirement already satisfied, skipping upgrade: requests-oauthlib>=0.7.0 in /home/igor/.local/lib/python2.7/site-packages (from google-auth-oauthlib<0.5,>=0.4.1->tensorboard<2.2.0,>=2.1.0->tensorflow) (1.3.0)\n",
      "Requirement already satisfied, skipping upgrade: pyasn1<0.5.0,>=0.4.6 in /home/igor/.local/lib/python2.7/site-packages (from pyasn1-modules>=0.2.1->google-auth<2,>=1.6.3->tensorboard<2.2.0,>=2.1.0->tensorflow) (0.4.8)\n",
      "Requirement already satisfied, skipping upgrade: oauthlib>=3.0.0 in /home/igor/.local/lib/python2.7/site-packages (from requests-oauthlib>=0.7.0->google-auth-oauthlib<0.5,>=0.4.1->tensorboard<2.2.0,>=2.1.0->tensorflow) (3.1.0)\n"
     ]
    }
   ],
   "source": [
    "!pip install --upgrade tensorflow keras Pillow"
   ]
  },
  {
   "cell_type": "code",
   "execution_count": 17,
   "metadata": {
    "colab": {},
    "colab_type": "code",
    "id": "sCV30xyVhFbE"
   },
   "outputs": [],
   "source": [
    "import tensorflow as tf\n",
    "from keras.preprocessing.image import ImageDataGenerator"
   ]
  },
  {
   "cell_type": "code",
   "execution_count": 18,
   "metadata": {
    "colab": {},
    "colab_type": "code",
    "id": "FIleuCAjoFD8"
   },
   "outputs": [
    {
     "output_type": "execute_result",
     "data": {
      "text/plain": [
       "'2.4.1'"
      ]
     },
     "metadata": {},
     "execution_count": 18
    }
   ],
   "source": [
    "tf.__version__"
   ]
  },
  {
   "cell_type": "markdown",
   "metadata": {
    "colab_type": "text",
    "id": "oxQxCBWyoGPE"
   },
   "source": [
    "## Part 1 - Data Preprocessing"
   ]
  },
  {
   "cell_type": "markdown",
   "metadata": {
    "colab_type": "text",
    "id": "MvE-heJNo3GG"
   },
   "source": [
    "### Preprocessing the Training set"
   ]
  },
  {
   "cell_type": "code",
   "execution_count": 19,
   "metadata": {
    "colab": {},
    "colab_type": "code",
    "id": "0koUcJMJpEBD"
   },
   "outputs": [
    {
     "output_type": "stream",
     "name": "stdout",
     "text": [
      "Found 8000 images belonging to 2 classes.\n"
     ]
    }
   ],
   "source": [
    "train_datagen = ImageDataGenerator(rescale = 1./255,\n",
    "                                    rotation_range = 20,\n",
    "                                    shear_range = 0.2,\n",
    "                                    zoom_range = 0.2,\n",
    "                                    horizontal_flip = True)\n",
    "training_set = train_datagen.flow_from_directory('dataset/training_set',\n",
    "                                                 target_size = (64, 64),\n",
    "                                                 batch_size = 32,\n",
    "                                                 class_mode = 'binary')"
   ]
  },
  {
   "cell_type": "markdown",
   "metadata": {
    "colab_type": "text",
    "id": "mrCMmGw9pHys"
   },
   "source": [
    "### Preprocessing the Test set"
   ]
  },
  {
   "cell_type": "code",
   "execution_count": 20,
   "metadata": {
    "colab": {},
    "colab_type": "code",
    "id": "SH4WzfOhpKc3"
   },
   "outputs": [
    {
     "output_type": "stream",
     "name": "stdout",
     "text": [
      "Found 2000 images belonging to 2 classes.\n"
     ]
    }
   ],
   "source": [
    "test_datagen = ImageDataGenerator(rescale = 1./255)\n",
    "test_set = test_datagen.flow_from_directory('dataset/test_set',\n",
    "                                            target_size = (64, 64),\n",
    "                                            batch_size = 32,\n",
    "                                            class_mode = 'binary')"
   ]
  },
  {
   "cell_type": "markdown",
   "metadata": {
    "colab_type": "text",
    "id": "af8O4l90gk7B"
   },
   "source": [
    "## Part 2 - Building the CNN"
   ]
  },
  {
   "cell_type": "markdown",
   "metadata": {
    "colab_type": "text",
    "id": "ces1gXY2lmoX"
   },
   "source": [
    "### Initialising the CNN"
   ]
  },
  {
   "cell_type": "code",
   "execution_count": 21,
   "metadata": {
    "colab": {},
    "colab_type": "code",
    "id": "SAUt4UMPlhLS"
   },
   "outputs": [],
   "source": [
    "cnn = tf.keras.models.Sequential()"
   ]
  },
  {
   "cell_type": "markdown",
   "metadata": {
    "colab_type": "text",
    "id": "u5YJj_XMl5LF"
   },
   "source": [
    "### Step 1 - Convolution"
   ]
  },
  {
   "cell_type": "code",
   "execution_count": 22,
   "metadata": {
    "colab": {},
    "colab_type": "code",
    "id": "XPzPrMckl-hV"
   },
   "outputs": [],
   "source": [
    "cnn.add(tf.keras.layers.Conv2D(filters=32, kernel_size=3, activation='relu', input_shape=[64, 64, 3]))"
   ]
  },
  {
   "cell_type": "markdown",
   "metadata": {
    "colab_type": "text",
    "id": "tf87FpvxmNOJ"
   },
   "source": [
    "### Step 2 - Pooling"
   ]
  },
  {
   "cell_type": "code",
   "execution_count": 23,
   "metadata": {
    "colab": {},
    "colab_type": "code",
    "id": "ncpqPl69mOac"
   },
   "outputs": [],
   "source": [
    "cnn.add(tf.keras.layers.MaxPool2D(pool_size=2, strides=2))"
   ]
  },
  {
   "cell_type": "markdown",
   "metadata": {
    "colab_type": "text",
    "id": "xaTOgD8rm4mU"
   },
   "source": [
    "### Adding a second convolutional layer"
   ]
  },
  {
   "cell_type": "code",
   "execution_count": 24,
   "metadata": {
    "colab": {},
    "colab_type": "code",
    "id": "i_-FZjn_m8gk"
   },
   "outputs": [],
   "source": [
    "cnn.add(tf.keras.layers.Conv2D(filters=32, kernel_size=3, activation='relu'))\n",
    "cnn.add(tf.keras.layers.MaxPool2D(pool_size=2, strides=2))"
   ]
  },
  {
   "source": [
    "### Adding a third convolutional layer"
   ],
   "cell_type": "markdown",
   "metadata": {}
  },
  {
   "cell_type": "code",
   "execution_count": 25,
   "metadata": {},
   "outputs": [],
   "source": [
    "cnn.add(tf.keras.layers.Conv2D(filters=64, kernel_size=3, activation='relu'))\n",
    "cnn.add(tf.keras.layers.MaxPool2D(pool_size=2, strides=2))"
   ]
  },
  {
   "cell_type": "markdown",
   "metadata": {
    "colab_type": "text",
    "id": "tmiEuvTunKfk"
   },
   "source": [
    "### Step 3 - Flattening"
   ]
  },
  {
   "cell_type": "code",
   "execution_count": 26,
   "metadata": {
    "colab": {},
    "colab_type": "code",
    "id": "6AZeOGCvnNZn"
   },
   "outputs": [],
   "source": [
    "cnn.add(tf.keras.layers.Flatten())"
   ]
  },
  {
   "cell_type": "markdown",
   "metadata": {
    "colab_type": "text",
    "id": "dAoSECOm203v"
   },
   "source": [
    "### Step 4 - Full Connection"
   ]
  },
  {
   "cell_type": "code",
   "execution_count": 27,
   "metadata": {
    "colab": {},
    "colab_type": "code",
    "id": "8GtmUlLd26Nq"
   },
   "outputs": [],
   "source": [
    "cnn.add(tf.keras.layers.Dense(units=64, activation='relu'))"
   ]
  },
  {
   "cell_type": "markdown",
   "metadata": {
    "colab_type": "text",
    "id": "yTldFvbX28Na"
   },
   "source": [
    "### Step 5 - Output Layer"
   ]
  },
  {
   "cell_type": "code",
   "execution_count": 28,
   "metadata": {
    "colab": {},
    "colab_type": "code",
    "id": "1p_Zj1Mc3Ko_"
   },
   "outputs": [],
   "source": [
    "cnn.add(tf.keras.layers.Dense(units=1, activation='sigmoid'))"
   ]
  },
  {
   "cell_type": "markdown",
   "metadata": {
    "colab_type": "text",
    "id": "D6XkI90snSDl"
   },
   "source": [
    "## Part 3 - Training the CNN"
   ]
  },
  {
   "cell_type": "markdown",
   "metadata": {
    "colab_type": "text",
    "id": "vfrFQACEnc6i"
   },
   "source": [
    "### Compiling the CNN"
   ]
  },
  {
   "cell_type": "code",
   "execution_count": 29,
   "metadata": {
    "colab": {},
    "colab_type": "code",
    "id": "NALksrNQpUlJ"
   },
   "outputs": [],
   "source": [
    "cnn.compile(optimizer = 'adam', loss = 'binary_crossentropy', metrics = ['accuracy'])"
   ]
  },
  {
   "cell_type": "markdown",
   "metadata": {
    "colab_type": "text",
    "id": "ehS-v3MIpX2h"
   },
   "source": [
    "### Training the CNN on the Training set and evaluating it on the Test set"
   ]
  },
  {
   "cell_type": "code",
   "execution_count": 30,
   "metadata": {
    "colab": {},
    "colab_type": "code",
    "id": "XUj1W4PJptta"
   },
   "outputs": [
    {
     "output_type": "stream",
     "name": "stdout",
     "text": [
      "Epoch 1/25\n",
      "250/250 [==============================] - 34s 134ms/step - loss: 0.6866 - accuracy: 0.5477 - val_loss: 0.6195 - val_accuracy: 0.6505\n",
      "Epoch 2/25\n",
      "250/250 [==============================] - 33s 132ms/step - loss: 0.6131 - accuracy: 0.6634 - val_loss: 0.5564 - val_accuracy: 0.7130\n",
      "Epoch 3/25\n",
      "250/250 [==============================] - 34s 135ms/step - loss: 0.5797 - accuracy: 0.6980 - val_loss: 0.5715 - val_accuracy: 0.6995\n",
      "Epoch 4/25\n",
      "250/250 [==============================] - 33s 133ms/step - loss: 0.5578 - accuracy: 0.7086 - val_loss: 0.5230 - val_accuracy: 0.7380\n",
      "Epoch 5/25\n",
      "250/250 [==============================] - 33s 133ms/step - loss: 0.5228 - accuracy: 0.7448 - val_loss: 0.4604 - val_accuracy: 0.7755\n",
      "Epoch 6/25\n",
      "250/250 [==============================] - 35s 142ms/step - loss: 0.5052 - accuracy: 0.7502 - val_loss: 0.4587 - val_accuracy: 0.7750\n",
      "Epoch 7/25\n",
      "250/250 [==============================] - 33s 133ms/step - loss: 0.4810 - accuracy: 0.7653 - val_loss: 0.4441 - val_accuracy: 0.7935\n",
      "Epoch 8/25\n",
      "250/250 [==============================] - 33s 133ms/step - loss: 0.4679 - accuracy: 0.7820 - val_loss: 0.4730 - val_accuracy: 0.7780\n",
      "Epoch 9/25\n",
      "250/250 [==============================] - 33s 134ms/step - loss: 0.4422 - accuracy: 0.7874 - val_loss: 0.4387 - val_accuracy: 0.7935\n",
      "Epoch 10/25\n",
      "250/250 [==============================] - 38s 152ms/step - loss: 0.4393 - accuracy: 0.7913 - val_loss: 0.4116 - val_accuracy: 0.8060\n",
      "Epoch 11/25\n",
      "250/250 [==============================] - 37s 146ms/step - loss: 0.4252 - accuracy: 0.8125 - val_loss: 0.4708 - val_accuracy: 0.7810\n",
      "Epoch 12/25\n",
      "250/250 [==============================] - 35s 139ms/step - loss: 0.4169 - accuracy: 0.8033 - val_loss: 0.4110 - val_accuracy: 0.8145\n",
      "Epoch 13/25\n",
      "250/250 [==============================] - 35s 141ms/step - loss: 0.4104 - accuracy: 0.8065 - val_loss: 0.4005 - val_accuracy: 0.8100\n",
      "Epoch 14/25\n",
      "250/250 [==============================] - 43s 174ms/step - loss: 0.4025 - accuracy: 0.8205 - val_loss: 0.3882 - val_accuracy: 0.8280\n",
      "Epoch 15/25\n",
      "250/250 [==============================] - 41s 162ms/step - loss: 0.3893 - accuracy: 0.8173 - val_loss: 0.3924 - val_accuracy: 0.8240\n",
      "Epoch 16/25\n",
      "250/250 [==============================] - 39s 157ms/step - loss: 0.3754 - accuracy: 0.8340 - val_loss: 0.3739 - val_accuracy: 0.8310\n",
      "Epoch 17/25\n",
      "250/250 [==============================] - 43s 170ms/step - loss: 0.3519 - accuracy: 0.8441 - val_loss: 0.3670 - val_accuracy: 0.8295\n",
      "Epoch 18/25\n",
      "250/250 [==============================] - 45s 179ms/step - loss: 0.3559 - accuracy: 0.8391 - val_loss: 0.4392 - val_accuracy: 0.8055\n",
      "Epoch 19/25\n",
      "250/250 [==============================] - 43s 173ms/step - loss: 0.3377 - accuracy: 0.8493 - val_loss: 0.3525 - val_accuracy: 0.8345\n",
      "Epoch 20/25\n",
      "250/250 [==============================] - 43s 172ms/step - loss: 0.3473 - accuracy: 0.8483 - val_loss: 0.3626 - val_accuracy: 0.8390\n",
      "Epoch 21/25\n",
      "250/250 [==============================] - 42s 168ms/step - loss: 0.3363 - accuracy: 0.8537 - val_loss: 0.3915 - val_accuracy: 0.8180\n",
      "Epoch 22/25\n",
      "250/250 [==============================] - 43s 173ms/step - loss: 0.3286 - accuracy: 0.8559 - val_loss: 0.3527 - val_accuracy: 0.8460\n",
      "Epoch 23/25\n",
      "250/250 [==============================] - 39s 155ms/step - loss: 0.3272 - accuracy: 0.8554 - val_loss: 0.3784 - val_accuracy: 0.8240\n",
      "Epoch 24/25\n",
      "250/250 [==============================] - 44s 175ms/step - loss: 0.3126 - accuracy: 0.8645 - val_loss: 0.3768 - val_accuracy: 0.8300\n",
      "Epoch 25/25\n",
      "250/250 [==============================] - 43s 173ms/step - loss: 0.3146 - accuracy: 0.8602 - val_loss: 0.3673 - val_accuracy: 0.8450\n"
     ]
    },
    {
     "output_type": "execute_result",
     "data": {
      "text/plain": [
       "<tensorflow.python.keras.callbacks.History at 0x7f85e086adc0>"
      ]
     },
     "metadata": {},
     "execution_count": 30
    }
   ],
   "source": [
    "cnn.fit(x = training_set, validation_data = test_set, epochs = 25)"
   ]
  },
  {
   "cell_type": "markdown",
   "metadata": {
    "colab_type": "text",
    "id": "U3PZasO0006Z"
   },
   "source": [
    "## Part 4 - Making a single prediction"
   ]
  },
  {
   "cell_type": "code",
   "execution_count": 31,
   "metadata": {
    "colab": {},
    "colab_type": "code",
    "id": "gsSiWEJY1BPB"
   },
   "outputs": [],
   "source": [
    "import numpy as np\n",
    "from keras.preprocessing import image\n",
    "test_image = image.load_img('dataset/single_prediction/cat_or_dog_1.jpg', target_size = (64, 64))\n",
    "test_image = image.img_to_array(test_image)\n",
    "test_image = np.expand_dims(test_image, axis = 0)\n",
    "result = cnn.predict(test_image)\n",
    "training_set.class_indices\n",
    "if result[0][0] == 1:\n",
    "  prediction = 'dog'\n",
    "else:\n",
    "  prediction = 'cat'"
   ]
  },
  {
   "cell_type": "code",
   "execution_count": 32,
   "metadata": {
    "colab": {},
    "colab_type": "code",
    "id": "ED9KB3I54c1i"
   },
   "outputs": [
    {
     "output_type": "stream",
     "name": "stdout",
     "text": [
      "dog\n"
     ]
    }
   ],
   "source": [
    "print(prediction)"
   ]
  },
  {
   "cell_type": "markdown",
   "metadata": {},
   "source": [
    "## Fim"
   ]
  }
 ],
 "metadata": {
  "colab": {
   "collapsed_sections": [],
   "name": "convolutional_neural_network.ipynb",
   "provenance": [],
   "toc_visible": true
  },
  "kernelspec": {
   "name": "python385jvsc74a57bd031f2aee4e71d21fbe5cf8b01ff0e069b9275f58929596ceb00d14d90e3e16cd6",
   "display_name": "Python 3.8.5 64-bit"
  },
  "language_info": {
   "codemirror_mode": {
    "name": "ipython",
    "version": 3
   },
   "file_extension": ".py",
   "mimetype": "text/x-python",
   "name": "python",
   "nbconvert_exporter": "python",
   "pygments_lexer": "ipython3",
   "version": "3.8.5-final"
  }
 },
 "nbformat": 4,
 "nbformat_minor": 4
}