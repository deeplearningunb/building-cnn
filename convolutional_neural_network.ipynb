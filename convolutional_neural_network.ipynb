{
 "cells": [
  {
   "cell_type": "markdown",
   "metadata": {
    "colab_type": "text",
    "id": "3DR-eO17geWu"
   },
   "source": [
    "# Convolutional Neural Network"
   ]
  },
  {
   "cell_type": "markdown",
   "metadata": {
    "colab_type": "text",
    "id": "EMefrVPCg-60"
   },
   "source": [
    "### Importing the libraries"
   ]
  },
  {
   "cell_type": "code",
   "execution_count": 6,
   "metadata": {},
   "outputs": [],
   "source": [
    "!pip install --upgrade tensorflow keras Pillow"
   ]
  },
  {
   "cell_type": "code",
   "execution_count": 7,
   "metadata": {
    "colab": {},
    "colab_type": "code",
    "id": "sCV30xyVhFbE"
   },
   "outputs": [],
   "source": [
    "import tensorflow as tf\n",
    "from keras.preprocessing.image import ImageDataGenerator"
   ]
  },
  {
   "cell_type": "code",
   "execution_count": 8,
   "metadata": {
    "colab": {},
    "colab_type": "code",
    "id": "FIleuCAjoFD8"
   },
   "outputs": [
    {
     "data": {
      "text/plain": [
       "'2.8.0'"
      ]
     },
     "execution_count": 8,
     "metadata": {},
     "output_type": "execute_result"
    }
   ],
   "source": [
    "tf.__version__"
   ]
  },
  {
   "cell_type": "markdown",
   "metadata": {
    "colab_type": "text",
    "id": "oxQxCBWyoGPE"
   },
   "source": [
    "## Part 1 - Data Preprocessing"
   ]
  },
  {
   "cell_type": "markdown",
   "metadata": {
    "colab_type": "text",
    "id": "MvE-heJNo3GG"
   },
   "source": [
    "### Preprocessing the Training set"
   ]
  },
  {
   "cell_type": "code",
   "execution_count": 9,
   "metadata": {
    "colab": {},
    "colab_type": "code",
    "id": "0koUcJMJpEBD"
   },
   "outputs": [
    {
     "name": "stdout",
     "output_type": "stream",
     "text": [
      "Found 8000 images belonging to 2 classes.\n"
     ]
    }
   ],
   "source": [
    "train_datagen = ImageDataGenerator(rescale = 1./255,\n",
    "                                   shear_range = 0.2,\n",
    "                                   zoom_range = 0.2,\n",
    "                                   horizontal_flip = True)\n",
    "training_set = train_datagen.flow_from_directory('dataset/training_set',\n",
    "                                                 target_size = (64, 64),\n",
    "                                                 batch_size = 32,\n",
    "                                                 class_mode = 'binary')"
   ]
  },
  {
   "cell_type": "markdown",
   "metadata": {
    "colab_type": "text",
    "id": "mrCMmGw9pHys"
   },
   "source": [
    "### Preprocessing the Test set"
   ]
  },
  {
   "cell_type": "code",
   "execution_count": 10,
   "metadata": {
    "colab": {},
    "colab_type": "code",
    "id": "SH4WzfOhpKc3"
   },
   "outputs": [
    {
     "name": "stdout",
     "output_type": "stream",
     "text": [
      "Found 2000 images belonging to 2 classes.\n"
     ]
    }
   ],
   "source": [
    "test_datagen = ImageDataGenerator(rescale = 1./255)\n",
    "test_set = test_datagen.flow_from_directory('dataset/test_set',\n",
    "                                            target_size = (64, 64),\n",
    "                                            batch_size = 32,\n",
    "                                            class_mode = 'binary')"
   ]
  },
  {
   "cell_type": "markdown",
   "metadata": {
    "colab_type": "text",
    "id": "af8O4l90gk7B"
   },
   "source": [
    "## Part 2 - Building the CNN"
   ]
  },
  {
   "cell_type": "markdown",
   "metadata": {
    "colab_type": "text",
    "id": "ces1gXY2lmoX"
   },
   "source": [
    "### Initialising the CNN"
   ]
  },
  {
   "cell_type": "code",
   "execution_count": 11,
   "metadata": {
    "colab": {},
    "colab_type": "code",
    "id": "SAUt4UMPlhLS"
   },
   "outputs": [],
   "source": [
    "cnn = tf.keras.models.Sequential()"
   ]
  },
  {
   "cell_type": "markdown",
   "metadata": {
    "colab_type": "text",
    "id": "u5YJj_XMl5LF"
   },
   "source": [
    "### Step 1 - Convolution"
   ]
  },
  {
   "cell_type": "code",
   "execution_count": 12,
   "metadata": {
    "colab": {},
    "colab_type": "code",
    "id": "XPzPrMckl-hV"
   },
   "outputs": [],
   "source": [
    "cnn.add(tf.keras.layers.Conv2D(filters=32, kernel_size=4, activation='relu', input_shape=[64, 64, 3]))"
   ]
  },
  {
   "cell_type": "markdown",
   "metadata": {
    "colab_type": "text",
    "id": "tf87FpvxmNOJ"
   },
   "source": [
    "### Step 2 - Pooling"
   ]
  },
  {
   "cell_type": "code",
   "execution_count": 13,
   "metadata": {
    "colab": {},
    "colab_type": "code",
    "id": "ncpqPl69mOac"
   },
   "outputs": [],
   "source": [
    "cnn.add(tf.keras.layers.MaxPool2D(pool_size=2, strides=2))"
   ]
  },
  {
   "cell_type": "markdown",
   "metadata": {
    "colab_type": "text",
    "id": "xaTOgD8rm4mU"
   },
   "source": [
    "### Adding a second convolutional layer"
   ]
  },
  {
   "cell_type": "code",
   "execution_count": 14,
   "metadata": {
    "colab": {},
    "colab_type": "code",
    "id": "i_-FZjn_m8gk"
   },
   "outputs": [],
   "source": [
    "cnn.add(tf.keras.layers.Conv2D(filters=32, kernel_size=3, activation='relu'))\n",
    "cnn.add(tf.keras.layers.MaxPool2D(pool_size=2, strides=2))"
   ]
  },
  {
   "cell_type": "markdown",
   "metadata": {
    "colab_type": "text",
    "id": "xaTOgD8rm4mU"
   },
   "source": [
    "### Adding a third convolutional layer"
   ]
  },
  {
   "cell_type": "code",
   "execution_count": 15,
   "metadata": {},
   "outputs": [],
   "source": [
    "cnn.add(tf.keras.layers.Conv2D(filters=32, kernel_size=2, activation='relu'))\n",
    "cnn.add(tf.keras.layers.MaxPool2D(pool_size=2, strides=2))"
   ]
  },
  {
   "cell_type": "markdown",
   "metadata": {
    "colab_type": "text",
    "id": "tmiEuvTunKfk"
   },
   "source": [
    "### Step 3 - Flattening"
   ]
  },
  {
   "cell_type": "code",
   "execution_count": 16,
   "metadata": {
    "colab": {},
    "colab_type": "code",
    "id": "6AZeOGCvnNZn"
   },
   "outputs": [],
   "source": [
    "cnn.add(tf.keras.layers.Flatten())"
   ]
  },
  {
   "cell_type": "markdown",
   "metadata": {
    "colab_type": "text",
    "id": "dAoSECOm203v"
   },
   "source": [
    "### Step 4 - Full Connection"
   ]
  },
  {
   "cell_type": "code",
   "execution_count": 17,
   "metadata": {
    "colab": {},
    "colab_type": "code",
    "id": "8GtmUlLd26Nq"
   },
   "outputs": [],
   "source": [
    "cnn.add(tf.keras.layers.Dense(units=128, activation='relu'))"
   ]
  },
  {
   "cell_type": "markdown",
   "metadata": {
    "colab_type": "text",
    "id": "yTldFvbX28Na"
   },
   "source": [
    "### Step 5 - Output Layer"
   ]
  },
  {
   "cell_type": "code",
   "execution_count": 18,
   "metadata": {
    "colab": {},
    "colab_type": "code",
    "id": "1p_Zj1Mc3Ko_"
   },
   "outputs": [],
   "source": [
    "cnn.add(tf.keras.layers.Dense(units=1, activation='sigmoid'))"
   ]
  },
  {
   "cell_type": "markdown",
   "metadata": {
    "colab_type": "text",
    "id": "D6XkI90snSDl"
   },
   "source": [
    "## Part 3 - Training the CNN"
   ]
  },
  {
   "cell_type": "markdown",
   "metadata": {
    "colab_type": "text",
    "id": "vfrFQACEnc6i"
   },
   "source": [
    "### Compiling the CNN"
   ]
  },
  {
   "cell_type": "code",
   "execution_count": 19,
   "metadata": {
    "colab": {},
    "colab_type": "code",
    "id": "NALksrNQpUlJ"
   },
   "outputs": [],
   "source": [
    "cnn.compile(optimizer = 'adam', loss = 'binary_crossentropy', metrics = ['accuracy'])"
   ]
  },
  {
   "cell_type": "markdown",
   "metadata": {
    "colab_type": "text",
    "id": "ehS-v3MIpX2h"
   },
   "source": [
    "### Training the CNN on the Training set and evaluating it on the Test set"
   ]
  },
  {
   "cell_type": "code",
   "execution_count": 20,
   "metadata": {
    "colab": {},
    "colab_type": "code",
    "id": "XUj1W4PJptta"
   },
   "outputs": [
    {
     "name": "stdout",
     "output_type": "stream",
     "text": [
      "Epoch 1/25\n",
      "250/250 [==============================] - 195s 779ms/step - loss: 0.6861 - accuracy: 0.5403 - val_loss: 0.6640 - val_accuracy: 0.5785\n",
      "Epoch 2/25\n",
      "250/250 [==============================] - 42s 168ms/step - loss: 0.6388 - accuracy: 0.6355 - val_loss: 0.6278 - val_accuracy: 0.6690\n",
      "Epoch 3/25\n",
      "250/250 [==============================] - 42s 168ms/step - loss: 0.5935 - accuracy: 0.6808 - val_loss: 0.5561 - val_accuracy: 0.7190\n",
      "Epoch 4/25\n",
      "250/250 [==============================] - 36s 144ms/step - loss: 0.5491 - accuracy: 0.7241 - val_loss: 0.5055 - val_accuracy: 0.7550\n",
      "Epoch 5/25\n",
      "250/250 [==============================] - 40s 162ms/step - loss: 0.5285 - accuracy: 0.7345 - val_loss: 0.5188 - val_accuracy: 0.7515\n",
      "Epoch 6/25\n",
      "250/250 [==============================] - 38s 152ms/step - loss: 0.4979 - accuracy: 0.7549 - val_loss: 0.4887 - val_accuracy: 0.7710\n",
      "Epoch 7/25\n",
      "250/250 [==============================] - 35s 140ms/step - loss: 0.4949 - accuracy: 0.7579 - val_loss: 0.5028 - val_accuracy: 0.7510\n",
      "Epoch 8/25\n",
      "250/250 [==============================] - 36s 142ms/step - loss: 0.4780 - accuracy: 0.7681 - val_loss: 0.4892 - val_accuracy: 0.7660\n",
      "Epoch 9/25\n",
      "250/250 [==============================] - 39s 155ms/step - loss: 0.4732 - accuracy: 0.7735 - val_loss: 0.4926 - val_accuracy: 0.7640\n",
      "Epoch 10/25\n",
      "250/250 [==============================] - 49s 196ms/step - loss: 0.4627 - accuracy: 0.7770 - val_loss: 0.4954 - val_accuracy: 0.7650\n",
      "Epoch 11/25\n",
      "250/250 [==============================] - 45s 179ms/step - loss: 0.4553 - accuracy: 0.7834 - val_loss: 0.4472 - val_accuracy: 0.7940\n",
      "Epoch 12/25\n",
      "250/250 [==============================] - 41s 165ms/step - loss: 0.4372 - accuracy: 0.7912 - val_loss: 0.4397 - val_accuracy: 0.7970\n",
      "Epoch 13/25\n",
      "250/250 [==============================] - 44s 178ms/step - loss: 0.4273 - accuracy: 0.7959 - val_loss: 0.4359 - val_accuracy: 0.7940\n",
      "Epoch 14/25\n",
      "250/250 [==============================] - 57s 227ms/step - loss: 0.4154 - accuracy: 0.8055 - val_loss: 0.4422 - val_accuracy: 0.7905\n",
      "Epoch 15/25\n",
      "250/250 [==============================] - 51s 203ms/step - loss: 0.4057 - accuracy: 0.8134 - val_loss: 0.4306 - val_accuracy: 0.7975\n",
      "Epoch 16/25\n",
      "250/250 [==============================] - 44s 174ms/step - loss: 0.3980 - accuracy: 0.8186 - val_loss: 0.4501 - val_accuracy: 0.7870\n",
      "Epoch 17/25\n",
      "250/250 [==============================] - 42s 166ms/step - loss: 0.3866 - accuracy: 0.8160 - val_loss: 0.4676 - val_accuracy: 0.7830\n",
      "Epoch 18/25\n",
      "250/250 [==============================] - 44s 176ms/step - loss: 0.3905 - accuracy: 0.8198 - val_loss: 0.4250 - val_accuracy: 0.8030\n",
      "Epoch 19/25\n",
      "250/250 [==============================] - 42s 167ms/step - loss: 0.3769 - accuracy: 0.8291 - val_loss: 0.4211 - val_accuracy: 0.8135\n",
      "Epoch 20/25\n",
      "250/250 [==============================] - 50s 201ms/step - loss: 0.3671 - accuracy: 0.8340 - val_loss: 0.4178 - val_accuracy: 0.8180\n",
      "Epoch 21/25\n",
      "250/250 [==============================] - 41s 163ms/step - loss: 0.3565 - accuracy: 0.8409 - val_loss: 0.4644 - val_accuracy: 0.8010\n",
      "Epoch 22/25\n",
      "250/250 [==============================] - 37s 148ms/step - loss: 0.3495 - accuracy: 0.8431 - val_loss: 0.4890 - val_accuracy: 0.7825\n",
      "Epoch 23/25\n",
      "250/250 [==============================] - 45s 179ms/step - loss: 0.3416 - accuracy: 0.8468 - val_loss: 0.4190 - val_accuracy: 0.8185\n",
      "Epoch 24/25\n",
      "250/250 [==============================] - 41s 163ms/step - loss: 0.3310 - accuracy: 0.8549 - val_loss: 0.4208 - val_accuracy: 0.8185\n",
      "Epoch 25/25\n",
      "250/250 [==============================] - 46s 186ms/step - loss: 0.3235 - accuracy: 0.8572 - val_loss: 0.4542 - val_accuracy: 0.8140\n"
     ]
    },
    {
     "data": {
      "text/plain": [
       "<keras.callbacks.History at 0x15856f27e50>"
      ]
     },
     "execution_count": 20,
     "metadata": {},
     "output_type": "execute_result"
    }
   ],
   "source": [
    "cnn.fit(x = training_set, validation_data = test_set, epochs = 25)"
   ]
  },
  {
   "cell_type": "markdown",
   "metadata": {
    "colab_type": "text",
    "id": "U3PZasO0006Z"
   },
   "source": [
    "## Part 4 - Making a single prediction"
   ]
  },
  {
   "cell_type": "code",
   "execution_count": 21,
   "metadata": {
    "colab": {},
    "colab_type": "code",
    "id": "gsSiWEJY1BPB"
   },
   "outputs": [],
   "source": [
    "import numpy as np\n",
    "from keras.preprocessing import image\n",
    "test_image = image.load_img('dataset/single_prediction/cat_or_dog_1.jpg', target_size = (64, 64))\n",
    "test_image = image.img_to_array(test_image)\n",
    "test_image = np.expand_dims(test_image, axis = 0)\n",
    "result = cnn.predict(test_image)\n",
    "training_set.class_indices\n",
    "if result[0][0] == 1:\n",
    "  prediction = 'dog'\n",
    "else:\n",
    "  prediction = 'cat'"
   ]
  },
  {
   "cell_type": "code",
   "execution_count": 22,
   "metadata": {
    "colab": {},
    "colab_type": "code",
    "id": "ED9KB3I54c1i"
   },
   "outputs": [
    {
     "name": "stdout",
     "output_type": "stream",
     "text": [
      "dog\n"
     ]
    }
   ],
   "source": [
    "print(prediction)"
   ]
  },
  {
   "cell_type": "markdown",
   "metadata": {},
   "source": [
    "## Fim"
   ]
  }
 ],
 "metadata": {
  "colab": {
   "collapsed_sections": [],
   "name": "convolutional_neural_network.ipynb",
   "provenance": [],
   "toc_visible": true
  },
  "kernelspec": {
   "display_name": "Python 3",
   "language": "python",
   "name": "python3"
  },
  "language_info": {
   "codemirror_mode": {
    "name": "ipython",
    "version": 3
   },
   "file_extension": ".py",
   "mimetype": "text/x-python",
   "name": "python",
   "nbconvert_exporter": "python",
   "pygments_lexer": "ipython3",
   "version": "3.9.10"
  }
 },
 "nbformat": 4,
 "nbformat_minor": 4
}
