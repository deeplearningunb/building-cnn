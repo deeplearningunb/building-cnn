{
 "cells": [
  {
   "cell_type": "markdown",
   "metadata": {
    "colab_type": "text",
    "id": "3DR-eO17geWu"
   },
   "source": [
    "# Convolutional Neural Network"
   ]
  },
  {
   "cell_type": "markdown",
   "metadata": {
    "colab_type": "text",
    "id": "EMefrVPCg-60"
   },
   "source": [
    "### Importing the libraries"
   ]
  },
  {
   "cell_type": "code",
   "execution_count": null,
   "metadata": {},
   "outputs": [],
   "source": [
    "!pip install --upgrade tensorflow keras Pillow"
   ]
  },
  {
   "cell_type": "code",
   "execution_count": 1,
   "metadata": {
    "colab": {},
    "colab_type": "code",
    "id": "sCV30xyVhFbE"
   },
   "outputs": [
    {
     "name": "stderr",
     "output_type": "stream",
     "text": [
      "C:\\ProgramData\\Anaconda3\\lib\\site-packages\\h5py\\__init__.py:36: FutureWarning: Conversion of the second argument of issubdtype from `float` to `np.floating` is deprecated. In future, it will be treated as `np.float64 == np.dtype(float).type`.\n",
      "  from ._conv import register_converters as _register_converters\n",
      "Using TensorFlow backend.\n"
     ]
    }
   ],
   "source": [
    "import tensorflow as tf\n",
    "from keras.preprocessing.image import ImageDataGenerator"
   ]
  },
  {
   "cell_type": "code",
   "execution_count": 2,
   "metadata": {
    "colab": {},
    "colab_type": "code",
    "id": "FIleuCAjoFD8"
   },
   "outputs": [
    {
     "data": {
      "text/plain": [
       "'1.5.0'"
      ]
     },
     "execution_count": 2,
     "metadata": {},
     "output_type": "execute_result"
    }
   ],
   "source": [
    "tf.__version__"
   ]
  },
  {
   "cell_type": "markdown",
   "metadata": {
    "colab_type": "text",
    "id": "oxQxCBWyoGPE"
   },
   "source": [
    "## Part 1 - Data Preprocessing"
   ]
  },
  {
   "cell_type": "markdown",
   "metadata": {
    "colab_type": "text",
    "id": "MvE-heJNo3GG"
   },
   "source": [
    "### Preprocessing the Training set"
   ]
  },
  {
   "cell_type": "code",
   "execution_count": 3,
   "metadata": {
    "colab": {},
    "colab_type": "code",
    "id": "0koUcJMJpEBD"
   },
   "outputs": [
    {
     "name": "stdout",
     "output_type": "stream",
     "text": [
      "Found 37 images belonging to 2 classes.\n"
     ]
    }
   ],
   "source": [
    "train_datagen = ImageDataGenerator(rescale = 1./255,\n",
    "                                   shear_range = 0.2,\n",
    "                                   zoom_range = 0.2,\n",
    "                                   horizontal_flip = True)\n",
    "training_set = train_datagen.flow_from_directory('dataset/training_set',\n",
    "                                                 target_size = (128, 128),\n",
    "                                                 batch_size = 32,\n",
    "                                                 class_mode = 'binary')"
   ]
  },
  {
   "cell_type": "markdown",
   "metadata": {
    "colab_type": "text",
    "id": "mrCMmGw9pHys"
   },
   "source": [
    "### Preprocessing the Test set"
   ]
  },
  {
   "cell_type": "code",
   "execution_count": 4,
   "metadata": {
    "colab": {},
    "colab_type": "code",
    "id": "SH4WzfOhpKc3"
   },
   "outputs": [
    {
     "name": "stdout",
     "output_type": "stream",
     "text": [
      "Found 23 images belonging to 2 classes.\n"
     ]
    }
   ],
   "source": [
    "test_datagen = ImageDataGenerator(rescale = 1./255)\n",
    "test_set = test_datagen.flow_from_directory('dataset/test_set',\n",
    "                                            target_size = (128, 128),\n",
    "                                            batch_size = 32,\n",
    "                                            class_mode = 'binary')"
   ]
  },
  {
   "cell_type": "markdown",
   "metadata": {
    "colab_type": "text",
    "id": "af8O4l90gk7B"
   },
   "source": [
    "## Part 2 - Building the CNN"
   ]
  },
  {
   "cell_type": "markdown",
   "metadata": {
    "colab_type": "text",
    "id": "ces1gXY2lmoX"
   },
   "source": [
    "### Initialising the CNN"
   ]
  },
  {
   "cell_type": "code",
   "execution_count": 5,
   "metadata": {
    "colab": {},
    "colab_type": "code",
    "id": "SAUt4UMPlhLS"
   },
   "outputs": [],
   "source": [
    "cnn = tf.keras.models.Sequential()"
   ]
  },
  {
   "cell_type": "markdown",
   "metadata": {
    "colab_type": "text",
    "id": "u5YJj_XMl5LF"
   },
   "source": [
    "### Step 1 - Convolution"
   ]
  },
  {
   "cell_type": "code",
   "execution_count": 6,
   "metadata": {
    "colab": {},
    "colab_type": "code",
    "id": "XPzPrMckl-hV"
   },
   "outputs": [],
   "source": [
    "cnn.add(tf.keras.layers.Conv2D(filters=32, kernel_size=3, activation='elu', input_shape=[128, 128, 3]))"
   ]
  },
  {
   "cell_type": "markdown",
   "metadata": {
    "colab_type": "text",
    "id": "tf87FpvxmNOJ"
   },
   "source": [
    "### Step 2 - Pooling"
   ]
  },
  {
   "cell_type": "code",
   "execution_count": 7,
   "metadata": {
    "colab": {},
    "colab_type": "code",
    "id": "ncpqPl69mOac"
   },
   "outputs": [],
   "source": [
    "cnn.add(tf.keras.layers.MaxPool2D(pool_size=2, strides=2))"
   ]
  },
  {
   "cell_type": "markdown",
   "metadata": {
    "colab_type": "text",
    "id": "xaTOgD8rm4mU"
   },
   "source": [
    "### Adding a second convolutional layer"
   ]
  },
  {
   "cell_type": "code",
   "execution_count": 8,
   "metadata": {
    "colab": {},
    "colab_type": "code",
    "id": "i_-FZjn_m8gk"
   },
   "outputs": [],
   "source": [
    "cnn.add(tf.keras.layers.Conv2D(filters=32, kernel_size=3, activation='relu'))\n",
    "cnn.add(tf.keras.layers.MaxPool2D(pool_size=2, strides=2))"
   ]
  },
  {
   "cell_type": "markdown",
   "metadata": {
    "colab_type": "text",
    "id": "tmiEuvTunKfk"
   },
   "source": [
    "### Step 3 - Flattening"
   ]
  },
  {
   "cell_type": "code",
   "execution_count": 9,
   "metadata": {
    "colab": {},
    "colab_type": "code",
    "id": "6AZeOGCvnNZn"
   },
   "outputs": [],
   "source": [
    "cnn.add(tf.keras.layers.Flatten())"
   ]
  },
  {
   "cell_type": "markdown",
   "metadata": {
    "colab_type": "text",
    "id": "dAoSECOm203v"
   },
   "source": [
    "### Step 4 - Full Connection"
   ]
  },
  {
   "cell_type": "code",
   "execution_count": 10,
   "metadata": {
    "colab": {},
    "colab_type": "code",
    "id": "8GtmUlLd26Nq"
   },
   "outputs": [],
   "source": [
    "cnn.add(tf.keras.layers.Dense(units=128, activation='relu'))"
   ]
  },
  {
   "cell_type": "markdown",
   "metadata": {
    "colab_type": "text",
    "id": "yTldFvbX28Na"
   },
   "source": [
    "### Step 5 - Output Layer"
   ]
  },
  {
   "cell_type": "code",
   "execution_count": 11,
   "metadata": {
    "colab": {},
    "colab_type": "code",
    "id": "1p_Zj1Mc3Ko_"
   },
   "outputs": [],
   "source": [
    "cnn.add(tf.keras.layers.Dense(units=1, activation='sigmoid'))"
   ]
  },
  {
   "cell_type": "markdown",
   "metadata": {
    "colab_type": "text",
    "id": "D6XkI90snSDl"
   },
   "source": [
    "## Part 3 - Training the CNN"
   ]
  },
  {
   "cell_type": "markdown",
   "metadata": {
    "colab_type": "text",
    "id": "vfrFQACEnc6i"
   },
   "source": [
    "### Compiling the CNN"
   ]
  },
  {
   "cell_type": "code",
   "execution_count": 12,
   "metadata": {
    "colab": {},
    "colab_type": "code",
    "id": "NALksrNQpUlJ"
   },
   "outputs": [
    {
     "name": "stdout",
     "output_type": "stream",
     "text": [
      "WARNING:tensorflow:From C:\\ProgramData\\Anaconda3\\lib\\site-packages\\tensorflow\\python\\keras\\_impl\\keras\\backend.py:1557: calling reduce_mean (from tensorflow.python.ops.math_ops) with keep_dims is deprecated and will be removed in a future version.\n",
      "Instructions for updating:\n",
      "keep_dims is deprecated, use keepdims instead\n"
     ]
    }
   ],
   "source": [
    "cnn.compile(optimizer = 'adam', loss = 'binary_crossentropy', metrics = ['accuracy'])"
   ]
  },
  {
   "cell_type": "markdown",
   "metadata": {
    "colab_type": "text",
    "id": "ehS-v3MIpX2h"
   },
   "source": [
    "### Training the CNN on the Training set and evaluating it on the Test set"
   ]
  },
  {
   "cell_type": "code",
   "execution_count": 14,
   "metadata": {
    "colab": {},
    "colab_type": "code",
    "id": "XUj1W4PJptta"
   },
   "outputs": [
    {
     "name": "stdout",
     "output_type": "stream",
     "text": [
      "Epoch 1/25\n",
      "100/100 [==============================]100/100 [==============================] - 149s 1s/step - loss: 0.4219 - acc: 0.8003 - val_loss: 1.5307 - val_acc: 0.7391\n",
      "\n",
      "Epoch 2/25\n",
      "100/100 [==============================]100/100 [==============================] - 142s 1s/step - loss: 0.0145 - acc: 0.9987 - val_loss: 2.0156 - val_acc: 0.7391\n",
      "\n",
      "Epoch 3/25\n",
      "100/100 [==============================]100/100 [==============================] - 145s 1s/step - loss: 0.0030 - acc: 0.9997 - val_loss: 1.8758 - val_acc: 0.7391\n",
      "\n",
      "Epoch 4/25\n",
      "100/100 [==============================]100/100 [==============================] - 147s 1s/step - loss: 0.0023 - acc: 0.9997 - val_loss: 1.8481 - val_acc: 0.7826\n",
      "\n",
      "Epoch 5/25\n",
      "100/100 [==============================]100/100 [==============================] - 146s 1s/step - loss: 3.1559e-04 - acc: 1.0000 - val_loss: 1.9836 - val_acc: 0.7826\n",
      "\n",
      "Epoch 6/25\n",
      "100/100 [==============================]100/100 [==============================] - 140s 1s/step - loss: 1.7063e-04 - acc: 1.0000 - val_loss: 1.9608 - val_acc: 0.7826\n",
      "\n",
      "Epoch 7/25\n",
      "100/100 [==============================]100/100 [==============================] - 140s 1s/step - loss: 1.0884e-04 - acc: 1.0000 - val_loss: 2.0281 - val_acc: 0.7826\n",
      "\n",
      "Epoch 8/25\n",
      "100/100 [==============================]100/100 [==============================] - 148s 1s/step - loss: 9.3138e-05 - acc: 1.0000 - val_loss: 2.2290 - val_acc: 0.7391\n",
      "\n",
      "Epoch 9/25\n",
      "100/100 [==============================]100/100 [==============================] - 139s 1s/step - loss: 6.7800e-05 - acc: 1.0000 - val_loss: 2.1241 - val_acc: 0.7826\n",
      "\n",
      "Epoch 10/25\n",
      "100/100 [==============================]100/100 [==============================] - 141s 1s/step - loss: 5.7583e-05 - acc: 1.0000 - val_loss: 2.1918 - val_acc: 0.7391\n",
      "\n",
      "Epoch 11/25\n",
      "100/100 [==============================]100/100 [==============================] - 139s 1s/step - loss: 6.0724e-05 - acc: 1.0000 - val_loss: 2.3024 - val_acc: 0.7391\n",
      "\n",
      "Epoch 12/25\n",
      "100/100 [==============================]100/100 [==============================] - 143s 1s/step - loss: 5.0230e-05 - acc: 1.0000 - val_loss: 2.2983 - val_acc: 0.7391\n",
      "\n",
      "Epoch 13/25\n",
      "100/100 [==============================]100/100 [==============================] - 142s 1s/step - loss: 5.0422e-05 - acc: 1.0000 - val_loss: 2.3118 - val_acc: 0.7391\n",
      "\n",
      "Epoch 14/25\n",
      "100/100 [==============================]100/100 [==============================] - 140s 1s/step - loss: 4.0658e-05 - acc: 1.0000 - val_loss: 2.2494 - val_acc: 0.7391\n",
      "\n",
      "Epoch 15/25\n",
      "100/100 [==============================]100/100 [==============================] - 140s 1s/step - loss: 3.4000e-05 - acc: 1.0000 - val_loss: 2.3796 - val_acc: 0.7391\n",
      "\n",
      "Epoch 16/25\n",
      "100/100 [==============================]100/100 [==============================] - 143s 1s/step - loss: 3.3606e-05 - acc: 1.0000 - val_loss: 2.1658 - val_acc: 0.7391\n",
      "\n",
      "Epoch 17/25\n",
      "100/100 [==============================]100/100 [==============================] - 139s 1s/step - loss: 2.1423e-05 - acc: 1.0000 - val_loss: 2.3492 - val_acc: 0.7391\n",
      "\n",
      "Epoch 18/25\n",
      "100/100 [==============================]100/100 [==============================] - 142s 1s/step - loss: 2.5984e-05 - acc: 1.0000 - val_loss: 2.3334 - val_acc: 0.7391\n",
      "\n",
      "Epoch 19/25\n",
      "100/100 [==============================]100/100 [==============================] - 139s 1s/step - loss: 1.8214e-05 - acc: 1.0000 - val_loss: 2.2847 - val_acc: 0.7826\n",
      "\n",
      "Epoch 20/25\n",
      "100/100 [==============================]100/100 [==============================] - 141s 1s/step - loss: 2.5682e-05 - acc: 1.0000 - val_loss: 2.2180 - val_acc: 0.7826\n",
      "\n",
      "Epoch 21/25\n",
      "100/100 [==============================]100/100 [==============================] - 144s 1s/step - loss: 1.7789e-05 - acc: 1.0000 - val_loss: 2.3054 - val_acc: 0.7391\n",
      "\n",
      "Epoch 22/25\n",
      "100/100 [==============================]100/100 [==============================] - 144s 1s/step - loss: 1.1509e-05 - acc: 1.0000 - val_loss: 2.2503 - val_acc: 0.7391\n",
      "\n",
      "Epoch 23/25\n",
      "100/100 [==============================]100/100 [==============================] - 140s 1s/step - loss: 2.1555e-05 - acc: 1.0000 - val_loss: 2.4347 - val_acc: 0.7391\n",
      "\n",
      "Epoch 24/25\n",
      "100/100 [==============================]100/100 [==============================] - 140s 1s/step - loss: 1.0921e-05 - acc: 1.0000 - val_loss: 2.4654 - val_acc: 0.7391\n",
      "\n",
      "Epoch 25/25\n",
      "100/100 [==============================]100/100 [==============================] - 140s 1s/step - loss: 9.9626e-06 - acc: 1.0000 - val_loss: 2.2884 - val_acc: 0.7826\n",
      "\n"
     ]
    },
    {
     "data": {
      "text/plain": [
       "<tensorflow.python.keras._impl.keras.callbacks.History at 0x19a46d4fcf8>"
      ]
     },
     "execution_count": 14,
     "metadata": {},
     "output_type": "execute_result"
    }
   ],
   "source": [
    "cnn.fit_generator(generator=training_set, validation_data=test_set, epochs=25, steps_per_epoch=100, validation_steps=20)"
   ]
  },
  {
   "cell_type": "markdown",
   "metadata": {
    "colab_type": "text",
    "id": "U3PZasO0006Z"
   },
   "source": [
    "## Part 4 - Making a single prediction"
   ]
  },
  {
   "cell_type": "code",
   "execution_count": 33,
   "metadata": {
    "colab": {},
    "colab_type": "code",
    "id": "gsSiWEJY1BPB"
   },
   "outputs": [],
   "source": [
    "import numpy as np\n",
    "from keras.preprocessing import image\n",
    "test_image = image.load_img('dataset/single_prediction/Homelander_or_Billy_1.jpeg', target_size = (128, 128))\n",
    "test_image = image.img_to_array(test_image)\n",
    "test_image = np.expand_dims(test_image, axis = 0)\n",
    "result = cnn.predict(test_image)\n",
    "training_set.class_indices\n",
    "prediction = 'Billy Butcher'\n",
    "if result[0][0] == 1:\n",
    "    prediction = 'Homelander'"
   ]
  },
  {
   "cell_type": "code",
   "execution_count": 34,
   "metadata": {
    "colab": {},
    "colab_type": "code",
    "id": "ED9KB3I54c1i"
   },
   "outputs": [
    {
     "name": "stdout",
     "output_type": "stream",
     "text": [
      "Billy Butcher\n"
     ]
    }
   ],
   "source": [
    "print(prediction)"
   ]
  },
  {
   "cell_type": "code",
   "execution_count": 35,
   "metadata": {},
   "outputs": [],
   "source": [
    "test_image = image.load_img('dataset/single_prediction/Homelander_or_Billy_2.jpeg', target_size = (128, 128))\n",
    "test_image = image.img_to_array(test_image)\n",
    "test_image = np.expand_dims(test_image, axis = 0)\n",
    "result = cnn.predict(test_image)\n",
    "training_set.class_indices\n",
    "prediction = 'Billy Butcher'\n",
    "if result[0][0] == 1:\n",
    "    prediction = 'Homelander'"
   ]
  },
  {
   "cell_type": "code",
   "execution_count": 36,
   "metadata": {},
   "outputs": [
    {
     "name": "stdout",
     "output_type": "stream",
     "text": [
      "Homelander\n"
     ]
    }
   ],
   "source": [
    "print(prediction)"
   ]
  },
  {
   "cell_type": "markdown",
   "metadata": {},
   "source": [
    "## Fim"
   ]
  },
  {
   "cell_type": "code",
   "execution_count": null,
   "metadata": {},
   "outputs": [],
   "source": []
  }
 ],
 "metadata": {
  "colab": {
   "collapsed_sections": [],
   "name": "convolutional_neural_network.ipynb",
   "provenance": [],
   "toc_visible": true
  },
  "kernelspec": {
   "display_name": "Python 3",
   "language": "python",
   "name": "python3"
  },
  "language_info": {
   "codemirror_mode": {
    "name": "ipython",
    "version": 3
   },
   "file_extension": ".py",
   "mimetype": "text/x-python",
   "name": "python",
   "nbconvert_exporter": "python",
   "pygments_lexer": "ipython3",
   "version": "3.6.5"
  }
 },
 "nbformat": 4,
 "nbformat_minor": 4
}
