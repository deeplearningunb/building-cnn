{
 "cells": [
  {
   "cell_type": "markdown",
   "source": [
    "# Convolutional Neural Network"
   ],
   "metadata": {
    "colab_type": "text",
    "id": "3DR-eO17geWu"
   }
  },
  {
   "cell_type": "markdown",
   "source": [
    "### Importing the libraries"
   ],
   "metadata": {
    "colab_type": "text",
    "id": "EMefrVPCg-60"
   }
  },
  {
   "cell_type": "code",
   "execution_count": 15,
   "source": [
    "!pip install --upgrade tensorflow keras Pillow"
   ],
   "outputs": [
    {
     "output_type": "stream",
     "name": "stdout",
     "text": [
      "Requirement already satisfied: tensorflow in /home/arthurarp/Desktop/FutScraper/myvenv/lib/python3.6/site-packages (2.6.0)\n",
      "Requirement already satisfied: keras in /home/arthurarp/Desktop/FutScraper/myvenv/lib/python3.6/site-packages (2.6.0)\n",
      "Requirement already satisfied: Pillow in /home/arthurarp/Desktop/FutScraper/myvenv/lib/python3.6/site-packages (8.3.1)\n",
      "Requirement already satisfied: numpy~=1.19.2 in /home/arthurarp/Desktop/FutScraper/myvenv/lib/python3.6/site-packages (from tensorflow) (1.19.5)\n",
      "Requirement already satisfied: keras-preprocessing~=1.1.2 in /home/arthurarp/Desktop/FutScraper/myvenv/lib/python3.6/site-packages (from tensorflow) (1.1.2)\n",
      "Requirement already satisfied: opt-einsum~=3.3.0 in /home/arthurarp/Desktop/FutScraper/myvenv/lib/python3.6/site-packages (from tensorflow) (3.3.0)\n",
      "Requirement already satisfied: six~=1.15.0 in /home/arthurarp/Desktop/FutScraper/myvenv/lib/python3.6/site-packages (from tensorflow) (1.15.0)\n",
      "Requirement already satisfied: protobuf>=3.9.2 in /home/arthurarp/Desktop/FutScraper/myvenv/lib/python3.6/site-packages (from tensorflow) (3.17.3)\n",
      "Requirement already satisfied: astunparse~=1.6.3 in /home/arthurarp/Desktop/FutScraper/myvenv/lib/python3.6/site-packages (from tensorflow) (1.6.3)\n",
      "Requirement already satisfied: gast==0.4.0 in /home/arthurarp/Desktop/FutScraper/myvenv/lib/python3.6/site-packages (from tensorflow) (0.4.0)\n",
      "Requirement already satisfied: wrapt~=1.12.1 in /home/arthurarp/Desktop/FutScraper/myvenv/lib/python3.6/site-packages (from tensorflow) (1.12.1)\n",
      "Requirement already satisfied: google-pasta~=0.2 in /home/arthurarp/Desktop/FutScraper/myvenv/lib/python3.6/site-packages (from tensorflow) (0.2.0)\n",
      "Requirement already satisfied: clang~=5.0 in /home/arthurarp/Desktop/FutScraper/myvenv/lib/python3.6/site-packages (from tensorflow) (5.0)\n",
      "Requirement already satisfied: h5py~=3.1.0 in /home/arthurarp/Desktop/FutScraper/myvenv/lib/python3.6/site-packages (from tensorflow) (3.1.0)\n",
      "Requirement already satisfied: wheel~=0.35 in /home/arthurarp/Desktop/FutScraper/myvenv/lib/python3.6/site-packages (from tensorflow) (0.35.1)\n",
      "Requirement already satisfied: tensorboard~=2.6 in /home/arthurarp/Desktop/FutScraper/myvenv/lib/python3.6/site-packages (from tensorflow) (2.6.0)\n",
      "Requirement already satisfied: absl-py~=0.10 in /home/arthurarp/Desktop/FutScraper/myvenv/lib/python3.6/site-packages (from tensorflow) (0.13.0)\n",
      "Requirement already satisfied: grpcio<2.0,>=1.37.0 in /home/arthurarp/Desktop/FutScraper/myvenv/lib/python3.6/site-packages (from tensorflow) (1.39.0)\n",
      "Requirement already satisfied: typing-extensions~=3.7.4 in /home/arthurarp/Desktop/FutScraper/myvenv/lib/python3.6/site-packages (from tensorflow) (3.7.4.3)\n",
      "Requirement already satisfied: termcolor~=1.1.0 in /home/arthurarp/Desktop/FutScraper/myvenv/lib/python3.6/site-packages (from tensorflow) (1.1.0)\n",
      "Requirement already satisfied: flatbuffers~=1.12.0 in /home/arthurarp/Desktop/FutScraper/myvenv/lib/python3.6/site-packages (from tensorflow) (1.12)\n",
      "Requirement already satisfied: tensorflow-estimator~=2.6 in /home/arthurarp/Desktop/FutScraper/myvenv/lib/python3.6/site-packages (from tensorflow) (2.6.0)\n",
      "Requirement already satisfied: cached-property in /home/arthurarp/Desktop/FutScraper/myvenv/lib/python3.6/site-packages (from h5py~=3.1.0->tensorflow) (1.5.2)\n",
      "Requirement already satisfied: werkzeug>=0.11.15 in /home/arthurarp/Desktop/FutScraper/myvenv/lib/python3.6/site-packages (from tensorboard~=2.6->tensorflow) (0.16.1)\n",
      "Requirement already satisfied: tensorboard-data-server<0.7.0,>=0.6.0 in /home/arthurarp/Desktop/FutScraper/myvenv/lib/python3.6/site-packages (from tensorboard~=2.6->tensorflow) (0.6.1)\n",
      "Requirement already satisfied: google-auth<2,>=1.6.3 in /home/arthurarp/Desktop/FutScraper/myvenv/lib/python3.6/site-packages (from tensorboard~=2.6->tensorflow) (1.35.0)\n",
      "Requirement already satisfied: requests<3,>=2.21.0 in /home/arthurarp/Desktop/FutScraper/myvenv/lib/python3.6/site-packages (from tensorboard~=2.6->tensorflow) (2.25.1)\n",
      "Requirement already satisfied: setuptools>=41.0.0 in /home/arthurarp/Desktop/FutScraper/myvenv/lib/python3.6/site-packages (from tensorboard~=2.6->tensorflow) (50.3.2)\n",
      "Requirement already satisfied: tensorboard-plugin-wit>=1.6.0 in /home/arthurarp/Desktop/FutScraper/myvenv/lib/python3.6/site-packages (from tensorboard~=2.6->tensorflow) (1.8.0)\n",
      "Requirement already satisfied: markdown>=2.6.8 in /home/arthurarp/Desktop/FutScraper/myvenv/lib/python3.6/site-packages (from tensorboard~=2.6->tensorflow) (3.3.4)\n",
      "Requirement already satisfied: google-auth-oauthlib<0.5,>=0.4.1 in /home/arthurarp/Desktop/FutScraper/myvenv/lib/python3.6/site-packages (from tensorboard~=2.6->tensorflow) (0.4.5)\n",
      "Requirement already satisfied: pyasn1-modules>=0.2.1 in /home/arthurarp/Desktop/FutScraper/myvenv/lib/python3.6/site-packages (from google-auth<2,>=1.6.3->tensorboard~=2.6->tensorflow) (0.2.8)\n",
      "Requirement already satisfied: rsa<5,>=3.1.4 in /home/arthurarp/Desktop/FutScraper/myvenv/lib/python3.6/site-packages (from google-auth<2,>=1.6.3->tensorboard~=2.6->tensorflow) (4.7.2)\n",
      "Requirement already satisfied: cachetools<5.0,>=2.0.0 in /home/arthurarp/Desktop/FutScraper/myvenv/lib/python3.6/site-packages (from google-auth<2,>=1.6.3->tensorboard~=2.6->tensorflow) (4.2.2)\n",
      "Requirement already satisfied: requests-oauthlib>=0.7.0 in /home/arthurarp/Desktop/FutScraper/myvenv/lib/python3.6/site-packages (from google-auth-oauthlib<0.5,>=0.4.1->tensorboard~=2.6->tensorflow) (1.3.0)\n",
      "Requirement already satisfied: importlib-metadata in /home/arthurarp/Desktop/FutScraper/myvenv/lib/python3.6/site-packages (from markdown>=2.6.8->tensorboard~=2.6->tensorflow) (3.3.0)\n",
      "Requirement already satisfied: pyasn1<0.5.0,>=0.4.6 in /home/arthurarp/Desktop/FutScraper/myvenv/lib/python3.6/site-packages (from pyasn1-modules>=0.2.1->google-auth<2,>=1.6.3->tensorboard~=2.6->tensorflow) (0.4.8)\n",
      "Requirement already satisfied: chardet<5,>=3.0.2 in /home/arthurarp/Desktop/FutScraper/myvenv/lib/python3.6/site-packages (from requests<3,>=2.21.0->tensorboard~=2.6->tensorflow) (4.0.0)\n",
      "Requirement already satisfied: idna<3,>=2.5 in /home/arthurarp/Desktop/FutScraper/myvenv/lib/python3.6/site-packages (from requests<3,>=2.21.0->tensorboard~=2.6->tensorflow) (2.10)\n",
      "Requirement already satisfied: certifi>=2017.4.17 in /home/arthurarp/Desktop/FutScraper/myvenv/lib/python3.6/site-packages (from requests<3,>=2.21.0->tensorboard~=2.6->tensorflow) (2020.12.5)\n",
      "Requirement already satisfied: urllib3<1.27,>=1.21.1 in /home/arthurarp/Desktop/FutScraper/myvenv/lib/python3.6/site-packages (from requests<3,>=2.21.0->tensorboard~=2.6->tensorflow) (1.26.2)\n",
      "Requirement already satisfied: oauthlib>=3.0.0 in /home/arthurarp/Desktop/FutScraper/myvenv/lib/python3.6/site-packages (from requests-oauthlib>=0.7.0->google-auth-oauthlib<0.5,>=0.4.1->tensorboard~=2.6->tensorflow) (3.1.1)\n",
      "Requirement already satisfied: zipp>=0.5 in /home/arthurarp/Desktop/FutScraper/myvenv/lib/python3.6/site-packages (from importlib-metadata->markdown>=2.6.8->tensorboard~=2.6->tensorflow) (3.4.0)\n",
      "\u001b[33mWARNING: You are using pip version 21.2.1; however, version 21.2.4 is available.\n",
      "You should consider upgrading via the '/home/arthurarp/Desktop/FutScraper/myvenv/bin/python -m pip install --upgrade pip' command.\u001b[0m\n"
     ]
    }
   ],
   "metadata": {}
  },
  {
   "cell_type": "code",
   "execution_count": 16,
   "source": [
    "import tensorflow as tf\n",
    "from keras.preprocessing.image import ImageDataGenerator"
   ],
   "outputs": [],
   "metadata": {
    "colab": {},
    "colab_type": "code",
    "id": "sCV30xyVhFbE"
   }
  },
  {
   "cell_type": "code",
   "execution_count": 17,
   "source": [
    "tf.__version__"
   ],
   "outputs": [
    {
     "output_type": "execute_result",
     "data": {
      "text/plain": [
       "'1.13.1'"
      ]
     },
     "metadata": {},
     "execution_count": 17
    }
   ],
   "metadata": {
    "colab": {},
    "colab_type": "code",
    "id": "FIleuCAjoFD8"
   }
  },
  {
   "cell_type": "markdown",
   "source": [
    "## Part 1 - Data Preprocessing"
   ],
   "metadata": {
    "colab_type": "text",
    "id": "oxQxCBWyoGPE"
   }
  },
  {
   "cell_type": "markdown",
   "source": [
    "### Preprocessing the Training set"
   ],
   "metadata": {
    "colab_type": "text",
    "id": "MvE-heJNo3GG"
   }
  },
  {
   "cell_type": "code",
   "execution_count": 18,
   "source": [
    "train_datagen = ImageDataGenerator(rescale = 1./255,\n",
    "                                   shear_range = 0.2,\n",
    "                                   zoom_range = 0.2,\n",
    "                                   horizontal_flip = True)\n",
    "training_set = train_datagen.flow_from_directory('dataset/training_set',\n",
    "                                                 target_size = (64, 64),\n",
    "                                                 batch_size = 32,\n",
    "                                                 class_mode = 'binary')"
   ],
   "outputs": [
    {
     "output_type": "stream",
     "name": "stdout",
     "text": [
      "Found 8000 images belonging to 2 classes.\n"
     ]
    }
   ],
   "metadata": {
    "colab": {},
    "colab_type": "code",
    "id": "0koUcJMJpEBD"
   }
  },
  {
   "cell_type": "markdown",
   "source": [
    "### Preprocessing the Test set"
   ],
   "metadata": {
    "colab_type": "text",
    "id": "mrCMmGw9pHys"
   }
  },
  {
   "cell_type": "code",
   "execution_count": 19,
   "source": [
    "test_datagen = ImageDataGenerator(rescale = 1./255)\n",
    "test_set = test_datagen.flow_from_directory('dataset/test_set',\n",
    "                                            target_size = (64, 64),\n",
    "                                            batch_size = 32,\n",
    "                                            class_mode = 'binary')"
   ],
   "outputs": [
    {
     "output_type": "stream",
     "name": "stdout",
     "text": [
      "Found 2000 images belonging to 2 classes.\n"
     ]
    }
   ],
   "metadata": {
    "colab": {},
    "colab_type": "code",
    "id": "SH4WzfOhpKc3"
   }
  },
  {
   "cell_type": "markdown",
   "source": [
    "## Part 2 - Building the CNN"
   ],
   "metadata": {
    "colab_type": "text",
    "id": "af8O4l90gk7B"
   }
  },
  {
   "cell_type": "markdown",
   "source": [
    "### Initialising the CNN"
   ],
   "metadata": {
    "colab_type": "text",
    "id": "ces1gXY2lmoX"
   }
  },
  {
   "cell_type": "code",
   "execution_count": 20,
   "source": [
    "cnn = tf.keras.models.Sequential()"
   ],
   "outputs": [],
   "metadata": {
    "colab": {},
    "colab_type": "code",
    "id": "SAUt4UMPlhLS"
   }
  },
  {
   "cell_type": "markdown",
   "source": [
    "### Step 1 - Convolution"
   ],
   "metadata": {
    "colab_type": "text",
    "id": "u5YJj_XMl5LF"
   }
  },
  {
   "cell_type": "code",
   "execution_count": 21,
   "source": [
    "cnn.add(tf.keras.layers.Conv2D(filters=32, kernel_size=3, activation='relu', input_shape=[64, 64, 3]))"
   ],
   "outputs": [],
   "metadata": {
    "colab": {},
    "colab_type": "code",
    "id": "XPzPrMckl-hV"
   }
  },
  {
   "cell_type": "markdown",
   "source": [
    "### Step 2 - Pooling"
   ],
   "metadata": {
    "colab_type": "text",
    "id": "tf87FpvxmNOJ"
   }
  },
  {
   "cell_type": "code",
   "execution_count": 22,
   "source": [
    "cnn.add(tf.keras.layers.MaxPool2D(pool_size=2, strides=2))"
   ],
   "outputs": [],
   "metadata": {
    "colab": {},
    "colab_type": "code",
    "id": "ncpqPl69mOac"
   }
  },
  {
   "cell_type": "markdown",
   "source": [
    "### Adding a second convolutional layer"
   ],
   "metadata": {
    "colab_type": "text",
    "id": "xaTOgD8rm4mU"
   }
  },
  {
   "cell_type": "code",
   "execution_count": 23,
   "source": [
    "cnn.add(tf.keras.layers.Conv2D(filters=32, kernel_size=3, activation='relu'))\n",
    "cnn.add(tf.keras.layers.MaxPool2D(pool_size=2, strides=2))"
   ],
   "outputs": [],
   "metadata": {
    "colab": {},
    "colab_type": "code",
    "id": "i_-FZjn_m8gk"
   }
  },
  {
   "cell_type": "markdown",
   "source": [
    "Adding a third convolutional layer"
   ],
   "metadata": {}
  },
  {
   "cell_type": "code",
   "execution_count": 24,
   "source": [
    "cnn.add(tf.keras.layers.Conv2D(filters=32, kernel_size=3, activation='relu'))\n",
    "cnn.add(tf.keras.layers.MaxPool2D(pool_size=2, strides=2))"
   ],
   "outputs": [],
   "metadata": {}
  },
  {
   "cell_type": "markdown",
   "source": [
    "### Step 3 - Flattening"
   ],
   "metadata": {
    "colab_type": "text",
    "id": "tmiEuvTunKfk"
   }
  },
  {
   "cell_type": "code",
   "execution_count": 25,
   "source": [
    "cnn.add(tf.keras.layers.Flatten())"
   ],
   "outputs": [],
   "metadata": {
    "colab": {},
    "colab_type": "code",
    "id": "6AZeOGCvnNZn"
   }
  },
  {
   "cell_type": "markdown",
   "source": [
    "### Step 4 - Full Connection"
   ],
   "metadata": {
    "colab_type": "text",
    "id": "dAoSECOm203v"
   }
  },
  {
   "cell_type": "code",
   "execution_count": 26,
   "source": [
    "cnn.add(tf.keras.layers.Dense(units=256, activation='relu'))"
   ],
   "outputs": [],
   "metadata": {
    "colab": {},
    "colab_type": "code",
    "id": "8GtmUlLd26Nq"
   }
  },
  {
   "cell_type": "markdown",
   "source": [
    "### Step 5 - Output Layer"
   ],
   "metadata": {
    "colab_type": "text",
    "id": "yTldFvbX28Na"
   }
  },
  {
   "cell_type": "code",
   "execution_count": 27,
   "source": [
    "cnn.add(tf.keras.layers.Dense(units=1, activation='sigmoid'))"
   ],
   "outputs": [],
   "metadata": {
    "colab": {},
    "colab_type": "code",
    "id": "1p_Zj1Mc3Ko_"
   }
  },
  {
   "cell_type": "markdown",
   "source": [
    "## Part 3 - Training the CNN"
   ],
   "metadata": {
    "colab_type": "text",
    "id": "D6XkI90snSDl"
   }
  },
  {
   "cell_type": "markdown",
   "source": [
    "### Compiling the CNN"
   ],
   "metadata": {
    "colab_type": "text",
    "id": "vfrFQACEnc6i"
   }
  },
  {
   "cell_type": "code",
   "execution_count": 28,
   "source": [
    "cnn.compile(optimizer = 'adam', loss = 'binary_crossentropy', metrics = ['accuracy'])"
   ],
   "outputs": [],
   "metadata": {
    "colab": {},
    "colab_type": "code",
    "id": "NALksrNQpUlJ"
   }
  },
  {
   "cell_type": "markdown",
   "source": [
    "### Training the CNN on the Training set and evaluating it on the Test set"
   ],
   "metadata": {
    "colab_type": "text",
    "id": "ehS-v3MIpX2h"
   }
  },
  {
   "cell_type": "code",
   "execution_count": 29,
   "source": [
    "cnn.fit(x = training_set, validation_data = test_set, epochs = 25)"
   ],
   "outputs": [
    {
     "output_type": "stream",
     "name": "stdout",
     "text": [
      "Epoch 1/25\n",
      "63/63 [==============================] - 3s 42ms/step - loss: 0.6622 - acc: 0.6225\n",
      "250/250 [==============================] - 29s 116ms/step - loss: 0.6838 - acc: 0.5509 - val_loss: 0.6622 - val_acc: 0.6225\n",
      "Epoch 2/25\n",
      "63/63 [==============================] - 3s 46ms/step - loss: 0.6098 - acc: 0.6845\n",
      "250/250 [==============================] - 30s 122ms/step - loss: 0.6507 - acc: 0.6134 - val_loss: 0.6098 - val_acc: 0.6845\n",
      "Epoch 3/25\n",
      "63/63 [==============================] - 3s 46ms/step - loss: 0.5529 - acc: 0.7275\n",
      "250/250 [==============================] - 31s 124ms/step - loss: 0.5920 - acc: 0.6831 - val_loss: 0.5529 - val_acc: 0.7275\n",
      "Epoch 4/25\n",
      "63/63 [==============================] - 3s 46ms/step - loss: 0.5658 - acc: 0.7005\n",
      "250/250 [==============================] - 31s 125ms/step - loss: 0.5539 - acc: 0.7151 - val_loss: 0.5658 - val_acc: 0.7005\n",
      "Epoch 5/25\n",
      "63/63 [==============================] - 3s 48ms/step - loss: 0.5122 - acc: 0.7585\n",
      "250/250 [==============================] - 29s 116ms/step - loss: 0.5225 - acc: 0.7405 - val_loss: 0.5122 - val_acc: 0.7585\n",
      "Epoch 6/25\n",
      "63/63 [==============================] - 3s 47ms/step - loss: 0.5172 - acc: 0.7565\n",
      "250/250 [==============================] - 31s 126ms/step - loss: 0.5011 - acc: 0.7581 - val_loss: 0.5172 - val_acc: 0.7565\n",
      "Epoch 7/25\n",
      "63/63 [==============================] - 3s 43ms/step - loss: 0.4801 - acc: 0.7805\n",
      "250/250 [==============================] - 30s 120ms/step - loss: 0.4842 - acc: 0.7653 - val_loss: 0.4801 - val_acc: 0.7805\n",
      "Epoch 8/25\n",
      "63/63 [==============================] - 3s 45ms/step - loss: 0.4862 - acc: 0.7615\n",
      "250/250 [==============================] - 30s 119ms/step - loss: 0.4661 - acc: 0.7782 - val_loss: 0.4862 - val_acc: 0.7615\n",
      "Epoch 9/25\n",
      "63/63 [==============================] - 3s 44ms/step - loss: 0.4611 - acc: 0.7845\n",
      "250/250 [==============================] - 31s 123ms/step - loss: 0.4453 - acc: 0.7890 - val_loss: 0.4611 - val_acc: 0.7845\n",
      "Epoch 10/25\n",
      "63/63 [==============================] - 3s 43ms/step - loss: 0.4376 - acc: 0.8080\n",
      "250/250 [==============================] - 29s 118ms/step - loss: 0.4380 - acc: 0.7950 - val_loss: 0.4376 - val_acc: 0.8080\n",
      "Epoch 11/25\n",
      "63/63 [==============================] - 3s 44ms/step - loss: 0.4494 - acc: 0.7940\n",
      "250/250 [==============================] - 29s 117ms/step - loss: 0.4198 - acc: 0.8069 - val_loss: 0.4494 - val_acc: 0.7940\n",
      "Epoch 12/25\n",
      "63/63 [==============================] - 3s 45ms/step - loss: 0.4395 - acc: 0.8020\n",
      "250/250 [==============================] - 29s 116ms/step - loss: 0.4112 - acc: 0.8109 - val_loss: 0.4395 - val_acc: 0.8020\n",
      "Epoch 13/25\n",
      "63/63 [==============================] - 3s 44ms/step - loss: 0.4492 - acc: 0.7900\n",
      "250/250 [==============================] - 29s 117ms/step - loss: 0.3948 - acc: 0.8205 - val_loss: 0.4492 - val_acc: 0.7900\n",
      "Epoch 14/25\n",
      "63/63 [==============================] - 3s 43ms/step - loss: 0.4725 - acc: 0.7835\n",
      "250/250 [==============================] - 29s 117ms/step - loss: 0.3764 - acc: 0.8292 - val_loss: 0.4725 - val_acc: 0.7835\n",
      "Epoch 15/25\n",
      "63/63 [==============================] - 3s 44ms/step - loss: 0.4167 - acc: 0.8240\n",
      "250/250 [==============================] - 29s 117ms/step - loss: 0.3744 - acc: 0.8279 - val_loss: 0.4167 - val_acc: 0.8240\n",
      "Epoch 16/25\n",
      "63/63 [==============================] - 3s 44ms/step - loss: 0.4630 - acc: 0.7895\n",
      "250/250 [==============================] - 29s 117ms/step - loss: 0.3632 - acc: 0.8382 - val_loss: 0.4630 - val_acc: 0.7895\n",
      "Epoch 17/25\n",
      "63/63 [==============================] - 3s 43ms/step - loss: 0.3985 - acc: 0.8315\n",
      "250/250 [==============================] - 29s 117ms/step - loss: 0.3470 - acc: 0.8424 - val_loss: 0.3985 - val_acc: 0.8315\n",
      "Epoch 18/25\n",
      "63/63 [==============================] - 3s 44ms/step - loss: 0.4304 - acc: 0.8045\n",
      "250/250 [==============================] - 29s 117ms/step - loss: 0.3442 - acc: 0.8503 - val_loss: 0.4304 - val_acc: 0.8045\n",
      "Epoch 19/25\n",
      "63/63 [==============================] - 3s 44ms/step - loss: 0.4259 - acc: 0.8100\n",
      "250/250 [==============================] - 29s 117ms/step - loss: 0.3250 - acc: 0.8544 - val_loss: 0.4259 - val_acc: 0.8100\n",
      "Epoch 20/25\n",
      "63/63 [==============================] - 3s 47ms/step - loss: 0.4539 - acc: 0.8055\n",
      "250/250 [==============================] - 30s 119ms/step - loss: 0.3124 - acc: 0.8679 - val_loss: 0.4539 - val_acc: 0.8055\n",
      "Epoch 21/25\n",
      "63/63 [==============================] - 3s 53ms/step - loss: 0.4082 - acc: 0.8270\n",
      "250/250 [==============================] - 37s 148ms/step - loss: 0.3028 - acc: 0.8669 - val_loss: 0.4082 - val_acc: 0.8270\n",
      "Epoch 22/25\n",
      "63/63 [==============================] - 3s 51ms/step - loss: 0.4172 - acc: 0.8235\n",
      "250/250 [==============================] - 35s 139ms/step - loss: 0.2977 - acc: 0.8731 - val_loss: 0.4172 - val_acc: 0.8235\n",
      "Epoch 23/25\n",
      "63/63 [==============================] - 3s 47ms/step - loss: 0.5130 - acc: 0.7835\n",
      "250/250 [==============================] - 32s 129ms/step - loss: 0.2804 - acc: 0.8791 - val_loss: 0.5130 - val_acc: 0.7835\n",
      "Epoch 24/25\n",
      "63/63 [==============================] - 3s 53ms/step - loss: 0.4410 - acc: 0.8175\n",
      "250/250 [==============================] - 36s 145ms/step - loss: 0.2690 - acc: 0.8870 - val_loss: 0.4410 - val_acc: 0.8175\n",
      "Epoch 25/25\n",
      "63/63 [==============================] - 3s 51ms/step - loss: 0.4510 - acc: 0.8280\n",
      "250/250 [==============================] - 38s 150ms/step - loss: 0.2660 - acc: 0.8880 - val_loss: 0.4510 - val_acc: 0.8280\n"
     ]
    },
    {
     "output_type": "execute_result",
     "data": {
      "text/plain": [
       "<tensorflow.python.keras.callbacks.History at 0x7f59176e1f98>"
      ]
     },
     "metadata": {},
     "execution_count": 29
    }
   ],
   "metadata": {
    "colab": {},
    "colab_type": "code",
    "id": "XUj1W4PJptta"
   }
  },
  {
   "cell_type": "markdown",
   "source": [
    "## Part 4 - Making a single prediction"
   ],
   "metadata": {
    "colab_type": "text",
    "id": "U3PZasO0006Z"
   }
  },
  {
   "cell_type": "code",
   "execution_count": 63,
   "source": [
    "training_set.class_indices"
   ],
   "outputs": [
    {
     "output_type": "execute_result",
     "data": {
      "text/plain": [
       "{'cats': 0, 'dogs': 1}"
      ]
     },
     "metadata": {},
     "execution_count": 63
    }
   ],
   "metadata": {}
  },
  {
   "cell_type": "code",
   "execution_count": 72,
   "source": [
    "import numpy as np\n",
    "from keras.preprocessing import image\n",
    "test_image = image.load_img('dataset/single_prediction/cat_or_dog_1.jpg', target_size = (64, 64))\n",
    "test_image = image.img_to_array(test_image)\n",
    "test_image = np.expand_dims(test_image, axis = 0)\n",
    "result = cnn.predict(test_image)\n",
    "training_set.class_indices\n",
    "if result[0][0] == 1:\n",
    "  prediction = 'dog'\n",
    "else:\n",
    "  prediction = 'cat'"
   ],
   "outputs": [
    {
     "output_type": "error",
     "ename": "FileNotFoundError",
     "evalue": "[Errno 2] No such file or directory: 'dataset/single_prediction/cat_or_dog_0.jpg'",
     "traceback": [
      "\u001b[0;31m---------------------------------------------------------------------------\u001b[0m",
      "\u001b[0;31mFileNotFoundError\u001b[0m                         Traceback (most recent call last)",
      "\u001b[0;32m<ipython-input-72-6032b420184b>\u001b[0m in \u001b[0;36m<module>\u001b[0;34m\u001b[0m\n\u001b[1;32m      1\u001b[0m \u001b[0;32mimport\u001b[0m \u001b[0mnumpy\u001b[0m \u001b[0;32mas\u001b[0m \u001b[0mnp\u001b[0m\u001b[0;34m\u001b[0m\u001b[0;34m\u001b[0m\u001b[0m\n\u001b[1;32m      2\u001b[0m \u001b[0;32mfrom\u001b[0m \u001b[0mkeras\u001b[0m\u001b[0;34m.\u001b[0m\u001b[0mpreprocessing\u001b[0m \u001b[0;32mimport\u001b[0m \u001b[0mimage\u001b[0m\u001b[0;34m\u001b[0m\u001b[0;34m\u001b[0m\u001b[0m\n\u001b[0;32m----> 3\u001b[0;31m \u001b[0mtest_image\u001b[0m \u001b[0;34m=\u001b[0m \u001b[0mimage\u001b[0m\u001b[0;34m.\u001b[0m\u001b[0mload_img\u001b[0m\u001b[0;34m(\u001b[0m\u001b[0;34m'dataset/single_prediction/cat_or_dog_0.jpg'\u001b[0m\u001b[0;34m,\u001b[0m \u001b[0mtarget_size\u001b[0m \u001b[0;34m=\u001b[0m \u001b[0;34m(\u001b[0m\u001b[0;36m64\u001b[0m\u001b[0;34m,\u001b[0m \u001b[0;36m64\u001b[0m\u001b[0;34m)\u001b[0m\u001b[0;34m)\u001b[0m\u001b[0;34m\u001b[0m\u001b[0;34m\u001b[0m\u001b[0m\n\u001b[0m\u001b[1;32m      4\u001b[0m \u001b[0mtest_image\u001b[0m \u001b[0;34m=\u001b[0m \u001b[0mimage\u001b[0m\u001b[0;34m.\u001b[0m\u001b[0mimg_to_array\u001b[0m\u001b[0;34m(\u001b[0m\u001b[0mtest_image\u001b[0m\u001b[0;34m)\u001b[0m\u001b[0;34m\u001b[0m\u001b[0;34m\u001b[0m\u001b[0m\n\u001b[1;32m      5\u001b[0m \u001b[0mtest_image\u001b[0m \u001b[0;34m=\u001b[0m \u001b[0mnp\u001b[0m\u001b[0;34m.\u001b[0m\u001b[0mexpand_dims\u001b[0m\u001b[0;34m(\u001b[0m\u001b[0mtest_image\u001b[0m\u001b[0;34m,\u001b[0m \u001b[0maxis\u001b[0m \u001b[0;34m=\u001b[0m \u001b[0;36m0\u001b[0m\u001b[0;34m)\u001b[0m\u001b[0;34m\u001b[0m\u001b[0;34m\u001b[0m\u001b[0m\n",
      "\u001b[0;32m~/.local/lib/python3.6/site-packages/keras_preprocessing/image/utils.py\u001b[0m in \u001b[0;36mload_img\u001b[0;34m(path, grayscale, color_mode, target_size, interpolation)\u001b[0m\n\u001b[1;32m    111\u001b[0m         raise ImportError('Could not import PIL.Image. '\n\u001b[1;32m    112\u001b[0m                           'The use of `load_img` requires PIL.')\n\u001b[0;32m--> 113\u001b[0;31m     \u001b[0;32mwith\u001b[0m \u001b[0mopen\u001b[0m\u001b[0;34m(\u001b[0m\u001b[0mpath\u001b[0m\u001b[0;34m,\u001b[0m \u001b[0;34m'rb'\u001b[0m\u001b[0;34m)\u001b[0m \u001b[0;32mas\u001b[0m \u001b[0mf\u001b[0m\u001b[0;34m:\u001b[0m\u001b[0;34m\u001b[0m\u001b[0;34m\u001b[0m\u001b[0m\n\u001b[0m\u001b[1;32m    114\u001b[0m         \u001b[0mimg\u001b[0m \u001b[0;34m=\u001b[0m \u001b[0mpil_image\u001b[0m\u001b[0;34m.\u001b[0m\u001b[0mopen\u001b[0m\u001b[0;34m(\u001b[0m\u001b[0mio\u001b[0m\u001b[0;34m.\u001b[0m\u001b[0mBytesIO\u001b[0m\u001b[0;34m(\u001b[0m\u001b[0mf\u001b[0m\u001b[0;34m.\u001b[0m\u001b[0mread\u001b[0m\u001b[0;34m(\u001b[0m\u001b[0;34m)\u001b[0m\u001b[0;34m)\u001b[0m\u001b[0;34m)\u001b[0m\u001b[0;34m\u001b[0m\u001b[0;34m\u001b[0m\u001b[0m\n\u001b[1;32m    115\u001b[0m         \u001b[0;32mif\u001b[0m \u001b[0mcolor_mode\u001b[0m \u001b[0;34m==\u001b[0m \u001b[0;34m'grayscale'\u001b[0m\u001b[0;34m:\u001b[0m\u001b[0;34m\u001b[0m\u001b[0;34m\u001b[0m\u001b[0m\n",
      "\u001b[0;31mFileNotFoundError\u001b[0m: [Errno 2] No such file or directory: 'dataset/single_prediction/cat_or_dog_0.jpg'"
     ]
    }
   ],
   "metadata": {
    "colab": {},
    "colab_type": "code",
    "id": "gsSiWEJY1BPB"
   }
  },
  {
   "cell_type": "code",
   "execution_count": null,
   "source": [
    "print(result)\n",
    "print(prediction)"
   ],
   "outputs": [
    {
     "output_type": "stream",
     "name": "stdout",
     "text": [
      "[[1.]]\n",
      "dog\n"
     ]
    }
   ],
   "metadata": {
    "colab": {},
    "colab_type": "code",
    "id": "ED9KB3I54c1i"
   }
  },
  {
   "cell_type": "markdown",
   "source": [
    "## Fim"
   ],
   "metadata": {}
  }
 ],
 "metadata": {
  "colab": {
   "collapsed_sections": [],
   "name": "convolutional_neural_network.ipynb",
   "provenance": [],
   "toc_visible": true
  },
  "kernelspec": {
   "name": "python3",
   "display_name": "Python 3.6.9 64-bit"
  },
  "language_info": {
   "codemirror_mode": {
    "name": "ipython",
    "version": 3
   },
   "file_extension": ".py",
   "mimetype": "text/x-python",
   "name": "python",
   "nbconvert_exporter": "python",
   "pygments_lexer": "ipython3",
   "version": "3.6.9"
  },
  "interpreter": {
   "hash": "767d51c1340bd893661ea55ea3124f6de3c7a262a8b4abca0554b478b1e2ff90"
  }
 },
 "nbformat": 4,
 "nbformat_minor": 4
}