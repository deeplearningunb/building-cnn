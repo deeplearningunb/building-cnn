{
 "cells": [
  {
   "cell_type": "markdown",
   "source": [
    "# Convolutional Neural Network"
   ],
   "metadata": {
    "colab_type": "text",
    "id": "3DR-eO17geWu"
   }
  },
  {
   "cell_type": "markdown",
   "source": [
    "### Importing the libraries"
   ],
   "metadata": {
    "colab_type": "text",
    "id": "EMefrVPCg-60"
   }
  },
  {
   "cell_type": "code",
   "execution_count": 189,
   "source": [
    "!pip install --upgrade tensorflow keras Pillow"
   ],
   "outputs": [
    {
     "output_type": "stream",
     "name": "stdout",
     "text": [
      "Requirement already satisfied: tensorflow in d:\\program files (x86)\\anaconda\\lib\\site-packages (2.6.0)\n",
      "Requirement already satisfied: keras in d:\\program files (x86)\\anaconda\\lib\\site-packages (2.6.0)\n",
      "Requirement already satisfied: Pillow in d:\\program files (x86)\\anaconda\\lib\\site-packages (8.3.1)\n",
      "Requirement already satisfied: opt-einsum~=3.3.0 in d:\\program files (x86)\\anaconda\\lib\\site-packages (from tensorflow) (3.3.0)\n",
      "Requirement already satisfied: protobuf>=3.9.2 in d:\\program files (x86)\\anaconda\\lib\\site-packages (from tensorflow) (3.13.0)\n",
      "Requirement already satisfied: astunparse~=1.6.3 in d:\\program files (x86)\\anaconda\\lib\\site-packages (from tensorflow) (1.6.3)\n",
      "Requirement already satisfied: termcolor~=1.1.0 in d:\\program files (x86)\\anaconda\\lib\\site-packages (from tensorflow) (1.1.0)\n",
      "Requirement already satisfied: keras-preprocessing~=1.1.2 in d:\\program files (x86)\\anaconda\\lib\\site-packages (from tensorflow) (1.1.2)\n",
      "Requirement already satisfied: numpy~=1.19.2 in d:\\program files (x86)\\anaconda\\lib\\site-packages (from tensorflow) (1.19.5)\n",
      "Requirement already satisfied: flatbuffers~=1.12.0 in d:\\program files (x86)\\anaconda\\lib\\site-packages (from tensorflow) (1.12)\n",
      "Requirement already satisfied: google-pasta~=0.2 in d:\\program files (x86)\\anaconda\\lib\\site-packages (from tensorflow) (0.2.0)\n",
      "Requirement already satisfied: typing-extensions~=3.7.4 in d:\\program files (x86)\\anaconda\\lib\\site-packages (from tensorflow) (3.7.4.3)\n",
      "Requirement already satisfied: wheel~=0.35 in d:\\program files (x86)\\anaconda\\lib\\site-packages (from tensorflow) (0.36.2)\n",
      "Requirement already satisfied: tensorboard~=2.6 in d:\\program files (x86)\\anaconda\\lib\\site-packages (from tensorflow) (2.6.0)\n",
      "Requirement already satisfied: wrapt~=1.12.1 in d:\\program files (x86)\\anaconda\\lib\\site-packages (from tensorflow) (1.12.1)\n",
      "Requirement already satisfied: grpcio<2.0,>=1.37.0 in d:\\program files (x86)\\anaconda\\lib\\site-packages (from tensorflow) (1.39.0)\n",
      "Requirement already satisfied: absl-py~=0.10 in d:\\program files (x86)\\anaconda\\lib\\site-packages (from tensorflow) (0.10.0)\n",
      "Requirement already satisfied: six~=1.15.0 in d:\\program files (x86)\\anaconda\\lib\\site-packages (from tensorflow) (1.15.0)\n",
      "Requirement already satisfied: clang~=5.0 in d:\\program files (x86)\\anaconda\\lib\\site-packages (from tensorflow) (5.0)\n",
      "Requirement already satisfied: tensorflow-estimator~=2.6 in d:\\program files (x86)\\anaconda\\lib\\site-packages (from tensorflow) (2.6.0)\n",
      "Requirement already satisfied: h5py~=3.1.0 in d:\\program files (x86)\\anaconda\\lib\\site-packages (from tensorflow) (3.1.0)\n",
      "Requirement already satisfied: gast==0.4.0 in d:\\program files (x86)\\anaconda\\lib\\site-packages (from tensorflow) (0.4.0)\n",
      "Requirement already satisfied: setuptools in d:\\program files (x86)\\anaconda\\lib\\site-packages (from protobuf>=3.9.2->tensorflow) (52.0.0.post20210125)\n",
      "Requirement already satisfied: werkzeug>=0.11.15 in d:\\program files (x86)\\anaconda\\lib\\site-packages (from tensorboard~=2.6->tensorflow) (1.0.1)\n",
      "Requirement already satisfied: google-auth-oauthlib<0.5,>=0.4.1 in d:\\program files (x86)\\anaconda\\lib\\site-packages (from tensorboard~=2.6->tensorflow) (0.4.1)\n",
      "Requirement already satisfied: tensorboard-data-server<0.7.0,>=0.6.0 in d:\\program files (x86)\\anaconda\\lib\\site-packages (from tensorboard~=2.6->tensorflow) (0.6.1)\n",
      "Requirement already satisfied: tensorboard-plugin-wit>=1.6.0 in d:\\program files (x86)\\anaconda\\lib\\site-packages (from tensorboard~=2.6->tensorflow) (1.6.0)\n",
      "Requirement already satisfied: google-auth<2,>=1.6.3 in d:\\program files (x86)\\anaconda\\lib\\site-packages (from tensorboard~=2.6->tensorflow) (1.21.3)\n",
      "Requirement already satisfied: markdown>=2.6.8 in d:\\program files (x86)\\anaconda\\lib\\site-packages (from tensorboard~=2.6->tensorflow) (3.3.2)\n",
      "Requirement already satisfied: requests<3,>=2.21.0 in d:\\program files (x86)\\anaconda\\lib\\site-packages (from tensorboard~=2.6->tensorflow) (2.25.1)\n",
      "Requirement already satisfied: cachetools<5.0,>=2.0.0 in d:\\program files (x86)\\anaconda\\lib\\site-packages (from google-auth<2,>=1.6.3->tensorboard~=2.6->tensorflow) (4.1.1)\n",
      "Requirement already satisfied: pyasn1-modules>=0.2.1 in d:\\program files (x86)\\anaconda\\lib\\site-packages (from google-auth<2,>=1.6.3->tensorboard~=2.6->tensorflow) (0.2.8)\n",
      "Requirement already satisfied: rsa<5,>=3.1.4 in d:\\program files (x86)\\anaconda\\lib\\site-packages (from google-auth<2,>=1.6.3->tensorboard~=2.6->tensorflow) (4.6)\n",
      "Requirement already satisfied: requests-oauthlib>=0.7.0 in d:\\program files (x86)\\anaconda\\lib\\site-packages (from google-auth-oauthlib<0.5,>=0.4.1->tensorboard~=2.6->tensorflow) (1.3.0)\n",
      "Requirement already satisfied: pyasn1<0.5.0,>=0.4.6 in d:\\program files (x86)\\anaconda\\lib\\site-packages (from pyasn1-modules>=0.2.1->google-auth<2,>=1.6.3->tensorboard~=2.6->tensorflow) (0.4.8)\n",
      "Requirement already satisfied: urllib3<1.27,>=1.21.1 in d:\\program files (x86)\\anaconda\\lib\\site-packages (from requests<3,>=2.21.0->tensorboard~=2.6->tensorflow) (1.26.4)\n",
      "Requirement already satisfied: idna<3,>=2.5 in d:\\program files (x86)\\anaconda\\lib\\site-packages (from requests<3,>=2.21.0->tensorboard~=2.6->tensorflow) (2.10)\n",
      "Requirement already satisfied: certifi>=2017.4.17 in d:\\program files (x86)\\anaconda\\lib\\site-packages (from requests<3,>=2.21.0->tensorboard~=2.6->tensorflow) (2020.12.5)\n",
      "Requirement already satisfied: chardet<5,>=3.0.2 in d:\\program files (x86)\\anaconda\\lib\\site-packages (from requests<3,>=2.21.0->tensorboard~=2.6->tensorflow) (4.0.0)\n",
      "Requirement already satisfied: oauthlib>=3.0.0 in d:\\program files (x86)\\anaconda\\lib\\site-packages (from requests-oauthlib>=0.7.0->google-auth-oauthlib<0.5,>=0.4.1->tensorboard~=2.6->tensorflow) (3.1.0)\n"
     ]
    }
   ],
   "metadata": {}
  },
  {
   "cell_type": "code",
   "execution_count": 190,
   "source": [
    "import tensorflow as tf\r\n",
    "from keras.preprocessing.image import ImageDataGenerator"
   ],
   "outputs": [],
   "metadata": {
    "colab": {},
    "colab_type": "code",
    "id": "sCV30xyVhFbE"
   }
  },
  {
   "cell_type": "code",
   "execution_count": 191,
   "source": [
    "tf.__version__"
   ],
   "outputs": [
    {
     "output_type": "execute_result",
     "data": {
      "text/plain": [
       "'2.6.0'"
      ]
     },
     "metadata": {},
     "execution_count": 191
    }
   ],
   "metadata": {
    "colab": {},
    "colab_type": "code",
    "id": "FIleuCAjoFD8"
   }
  },
  {
   "cell_type": "markdown",
   "source": [
    "## Part 1 - Data Preprocessing"
   ],
   "metadata": {
    "colab_type": "text",
    "id": "oxQxCBWyoGPE"
   }
  },
  {
   "cell_type": "markdown",
   "source": [
    "### Preprocessing the Training set"
   ],
   "metadata": {
    "colab_type": "text",
    "id": "MvE-heJNo3GG"
   }
  },
  {
   "cell_type": "code",
   "execution_count": 192,
   "source": [
    "train_datagen = ImageDataGenerator(rescale = 1./255,\r\n",
    "                                   shear_range = 0.2,\r\n",
    "                                   zoom_range = 0.2,\r\n",
    "                                   horizontal_flip = True)\r\n",
    "training_set = train_datagen.flow_from_directory('dataset/training_set',\r\n",
    "                                                 target_size = (64, 64),\r\n",
    "                                                 batch_size = 32,\r\n",
    "                                                 class_mode = 'binary')"
   ],
   "outputs": [
    {
     "output_type": "stream",
     "name": "stdout",
     "text": [
      "Found 8000 images belonging to 2 classes.\n"
     ]
    }
   ],
   "metadata": {
    "colab": {},
    "colab_type": "code",
    "id": "0koUcJMJpEBD"
   }
  },
  {
   "cell_type": "markdown",
   "source": [
    "### Preprocessing the Test set"
   ],
   "metadata": {
    "colab_type": "text",
    "id": "mrCMmGw9pHys"
   }
  },
  {
   "cell_type": "code",
   "execution_count": 193,
   "source": [
    "test_datagen = ImageDataGenerator(rescale = 1./255)\r\n",
    "test_set = test_datagen.flow_from_directory('dataset/test_set',\r\n",
    "                                            target_size = (64, 64),\r\n",
    "                                            batch_size = 32,\r\n",
    "                                            class_mode = 'binary')"
   ],
   "outputs": [
    {
     "output_type": "stream",
     "name": "stdout",
     "text": [
      "Found 2000 images belonging to 2 classes.\n"
     ]
    }
   ],
   "metadata": {
    "colab": {},
    "colab_type": "code",
    "id": "SH4WzfOhpKc3"
   }
  },
  {
   "cell_type": "markdown",
   "source": [
    "## Part 2 - Building the CNN"
   ],
   "metadata": {
    "colab_type": "text",
    "id": "af8O4l90gk7B"
   }
  },
  {
   "cell_type": "markdown",
   "source": [
    "### Initialising the CNN"
   ],
   "metadata": {
    "colab_type": "text",
    "id": "ces1gXY2lmoX"
   }
  },
  {
   "cell_type": "code",
   "execution_count": 194,
   "source": [
    "cnn = tf.keras.models.Sequential()"
   ],
   "outputs": [],
   "metadata": {
    "colab": {},
    "colab_type": "code",
    "id": "SAUt4UMPlhLS"
   }
  },
  {
   "cell_type": "markdown",
   "source": [
    "### Step 1 - Convolution"
   ],
   "metadata": {
    "colab_type": "text",
    "id": "u5YJj_XMl5LF"
   }
  },
  {
   "cell_type": "code",
   "execution_count": 195,
   "source": [
    "cnn.add(tf.keras.layers.Conv2D(filters=32, kernel_size=3, activation='relu', input_shape=[64, 64, 3]))"
   ],
   "outputs": [],
   "metadata": {
    "colab": {},
    "colab_type": "code",
    "id": "XPzPrMckl-hV"
   }
  },
  {
   "cell_type": "markdown",
   "source": [
    "### Step 2 - Pooling"
   ],
   "metadata": {
    "colab_type": "text",
    "id": "tf87FpvxmNOJ"
   }
  },
  {
   "cell_type": "code",
   "execution_count": 196,
   "source": [
    "cnn.add(tf.keras.layers.MaxPool2D(pool_size=2, strides=2))"
   ],
   "outputs": [],
   "metadata": {
    "colab": {},
    "colab_type": "code",
    "id": "ncpqPl69mOac"
   }
  },
  {
   "cell_type": "markdown",
   "source": [
    "### Adding a second convolutional layer"
   ],
   "metadata": {
    "colab_type": "text",
    "id": "xaTOgD8rm4mU"
   }
  },
  {
   "cell_type": "code",
   "execution_count": 197,
   "source": [
    "cnn.add(tf.keras.layers.Conv2D(filters=32, kernel_size=3, activation='relu'))\r\n",
    "cnn.add(tf.keras.layers.MaxPool2D(pool_size=2, strides=2))"
   ],
   "outputs": [],
   "metadata": {
    "colab": {},
    "colab_type": "code",
    "id": "i_-FZjn_m8gk"
   }
  },
  {
   "cell_type": "markdown",
   "source": [
    "### Step 3 - Flattening"
   ],
   "metadata": {
    "colab_type": "text",
    "id": "tmiEuvTunKfk"
   }
  },
  {
   "cell_type": "code",
   "execution_count": 198,
   "source": [
    "cnn.add(tf.keras.layers.Flatten())"
   ],
   "outputs": [],
   "metadata": {
    "colab": {},
    "colab_type": "code",
    "id": "6AZeOGCvnNZn"
   }
  },
  {
   "cell_type": "markdown",
   "source": [
    "### Step 4 - Full Connection"
   ],
   "metadata": {
    "colab_type": "text",
    "id": "dAoSECOm203v"
   }
  },
  {
   "cell_type": "code",
   "execution_count": 199,
   "source": [
    "cnn.add(tf.keras.layers.Dense(units=128, activation='relu'))"
   ],
   "outputs": [],
   "metadata": {
    "colab": {},
    "colab_type": "code",
    "id": "8GtmUlLd26Nq"
   }
  },
  {
   "cell_type": "code",
   "execution_count": 200,
   "source": [
    "cnn.add(tf.keras.layers.Dense(units=256, activation='sigmoid'))"
   ],
   "outputs": [],
   "metadata": {}
  },
  {
   "cell_type": "markdown",
   "source": [
    "### Step 5 - Output Layer"
   ],
   "metadata": {
    "colab_type": "text",
    "id": "yTldFvbX28Na"
   }
  },
  {
   "cell_type": "code",
   "execution_count": 201,
   "source": [
    "cnn.add(tf.keras.layers.Dense(units=1, activation='sigmoid'))"
   ],
   "outputs": [],
   "metadata": {
    "colab": {},
    "colab_type": "code",
    "id": "1p_Zj1Mc3Ko_"
   }
  },
  {
   "cell_type": "markdown",
   "source": [
    "## Part 3 - Training the CNN"
   ],
   "metadata": {
    "colab_type": "text",
    "id": "D6XkI90snSDl"
   }
  },
  {
   "cell_type": "markdown",
   "source": [
    "### Compiling the CNN"
   ],
   "metadata": {
    "colab_type": "text",
    "id": "vfrFQACEnc6i"
   }
  },
  {
   "cell_type": "code",
   "execution_count": 202,
   "source": [
    "cnn.compile(optimizer = 'adam', loss = 'binary_crossentropy', metrics = ['accuracy'])"
   ],
   "outputs": [],
   "metadata": {
    "colab": {},
    "colab_type": "code",
    "id": "NALksrNQpUlJ"
   }
  },
  {
   "cell_type": "markdown",
   "source": [
    "### Training the CNN on the Training set and evaluating it on the Test set"
   ],
   "metadata": {
    "colab_type": "text",
    "id": "ehS-v3MIpX2h"
   }
  },
  {
   "cell_type": "code",
   "execution_count": 203,
   "source": [
    "cnn.fit(x = training_set, validation_data = test_set, epochs = 25)"
   ],
   "outputs": [
    {
     "output_type": "stream",
     "name": "stdout",
     "text": [
      "Epoch 1/25\n",
      "250/250 [==============================] - 81s 318ms/step - loss: 0.6511 - accuracy: 0.6096 - val_loss: 0.6369 - val_accuracy: 0.6460\n",
      "Epoch 2/25\n",
      "250/250 [==============================] - 79s 315ms/step - loss: 0.5798 - accuracy: 0.6981 - val_loss: 0.5600 - val_accuracy: 0.7110\n",
      "Epoch 3/25\n",
      "250/250 [==============================] - 98s 392ms/step - loss: 0.5424 - accuracy: 0.7200 - val_loss: 0.5163 - val_accuracy: 0.7440\n",
      "Epoch 4/25\n",
      "250/250 [==============================] - 115s 457ms/step - loss: 0.5192 - accuracy: 0.7434 - val_loss: 0.5084 - val_accuracy: 0.7510\n",
      "Epoch 5/25\n",
      "250/250 [==============================] - 115s 460ms/step - loss: 0.4982 - accuracy: 0.7588 - val_loss: 0.4866 - val_accuracy: 0.7615\n",
      "Epoch 6/25\n",
      "250/250 [==============================] - 109s 437ms/step - loss: 0.4802 - accuracy: 0.7699 - val_loss: 0.5008 - val_accuracy: 0.7580\n",
      "Epoch 7/25\n",
      "250/250 [==============================] - 116s 462ms/step - loss: 0.4584 - accuracy: 0.7785 - val_loss: 0.4698 - val_accuracy: 0.7780\n",
      "Epoch 8/25\n",
      "250/250 [==============================] - 116s 463ms/step - loss: 0.4468 - accuracy: 0.7911 - val_loss: 0.4638 - val_accuracy: 0.7800\n",
      "Epoch 9/25\n",
      "250/250 [==============================] - 109s 433ms/step - loss: 0.4349 - accuracy: 0.7924 - val_loss: 0.5301 - val_accuracy: 0.7550\n",
      "Epoch 10/25\n",
      "250/250 [==============================] - 110s 438ms/step - loss: 0.4244 - accuracy: 0.8034 - val_loss: 0.4902 - val_accuracy: 0.7735\n",
      "Epoch 11/25\n",
      "250/250 [==============================] - 100s 400ms/step - loss: 0.4110 - accuracy: 0.8127 - val_loss: 0.5053 - val_accuracy: 0.7670\n",
      "Epoch 12/25\n",
      "250/250 [==============================] - 105s 419ms/step - loss: 0.4015 - accuracy: 0.8176 - val_loss: 0.4430 - val_accuracy: 0.7885\n",
      "Epoch 13/25\n",
      "250/250 [==============================] - 101s 402ms/step - loss: 0.3902 - accuracy: 0.8179 - val_loss: 0.4650 - val_accuracy: 0.7910\n",
      "Epoch 14/25\n",
      "250/250 [==============================] - 103s 412ms/step - loss: 0.3795 - accuracy: 0.8271 - val_loss: 0.4437 - val_accuracy: 0.7950\n",
      "Epoch 15/25\n",
      "250/250 [==============================] - 127s 507ms/step - loss: 0.3632 - accuracy: 0.8359 - val_loss: 0.4305 - val_accuracy: 0.7980\n",
      "Epoch 16/25\n",
      "250/250 [==============================] - 123s 492ms/step - loss: 0.3618 - accuracy: 0.8349 - val_loss: 0.4379 - val_accuracy: 0.8045\n",
      "Epoch 17/25\n",
      "250/250 [==============================] - 122s 489ms/step - loss: 0.3288 - accuracy: 0.8570 - val_loss: 0.4433 - val_accuracy: 0.8000\n",
      "Epoch 18/25\n",
      "250/250 [==============================] - 127s 508ms/step - loss: 0.3305 - accuracy: 0.8551 - val_loss: 0.4413 - val_accuracy: 0.8045\n",
      "Epoch 19/25\n",
      "250/250 [==============================] - 117s 467ms/step - loss: 0.3298 - accuracy: 0.8540 - val_loss: 0.4593 - val_accuracy: 0.7980\n",
      "Epoch 20/25\n",
      "250/250 [==============================] - 99s 396ms/step - loss: 0.3124 - accuracy: 0.8664 - val_loss: 0.4870 - val_accuracy: 0.7995\n",
      "Epoch 21/25\n",
      "250/250 [==============================] - 101s 406ms/step - loss: 0.2917 - accuracy: 0.8730 - val_loss: 0.4675 - val_accuracy: 0.7960\n",
      "Epoch 22/25\n",
      "250/250 [==============================] - 98s 392ms/step - loss: 0.2849 - accuracy: 0.8771 - val_loss: 0.4940 - val_accuracy: 0.7915\n",
      "Epoch 23/25\n",
      "250/250 [==============================] - 100s 401ms/step - loss: 0.2652 - accuracy: 0.8866 - val_loss: 0.5040 - val_accuracy: 0.7950\n",
      "Epoch 24/25\n",
      "250/250 [==============================] - 97s 390ms/step - loss: 0.2710 - accuracy: 0.8823 - val_loss: 0.5179 - val_accuracy: 0.7960\n",
      "Epoch 25/25\n",
      "250/250 [==============================] - 98s 392ms/step - loss: 0.2635 - accuracy: 0.8879 - val_loss: 0.4699 - val_accuracy: 0.8035\n"
     ]
    },
    {
     "output_type": "execute_result",
     "data": {
      "text/plain": [
       "<keras.callbacks.History at 0x22d4ae66760>"
      ]
     },
     "metadata": {},
     "execution_count": 203
    }
   ],
   "metadata": {
    "colab": {},
    "colab_type": "code",
    "id": "XUj1W4PJptta"
   }
  },
  {
   "cell_type": "markdown",
   "source": [
    "## Part 4 - Making a single prediction"
   ],
   "metadata": {
    "colab_type": "text",
    "id": "U3PZasO0006Z"
   }
  },
  {
   "cell_type": "code",
   "execution_count": 204,
   "source": [
    "import numpy as np\r\n",
    "from keras.preprocessing import image\r\n",
    "test_image = image.load_img('dataset/single_prediction/cat_or_dog_1.jpg', target_size = (64, 64))\r\n",
    "test_image = image.img_to_array(test_image)\r\n",
    "test_image = np.expand_dims(test_image, axis = 0)\r\n",
    "result = cnn.predict(test_image)\r\n",
    "training_set.class_indices\r\n",
    "if result[0][0] == 1:\r\n",
    "  prediction = 'dog'\r\n",
    "else:\r\n",
    "  prediction = 'cat'"
   ],
   "outputs": [],
   "metadata": {
    "colab": {},
    "colab_type": "code",
    "id": "gsSiWEJY1BPB"
   }
  },
  {
   "cell_type": "code",
   "execution_count": 205,
   "source": [
    "print(prediction)"
   ],
   "outputs": [
    {
     "output_type": "stream",
     "name": "stdout",
     "text": [
      "cat\n"
     ]
    }
   ],
   "metadata": {
    "colab": {},
    "colab_type": "code",
    "id": "ED9KB3I54c1i"
   }
  },
  {
   "cell_type": "markdown",
   "source": [
    "## Fim"
   ],
   "metadata": {}
  }
 ],
 "metadata": {
  "colab": {
   "collapsed_sections": [],
   "name": "convolutional_neural_network.ipynb",
   "provenance": [],
   "toc_visible": true
  },
  "kernelspec": {
   "name": "python3",
   "display_name": "Python 3.8.8 64-bit ('base': conda)"
  },
  "language_info": {
   "codemirror_mode": {
    "name": "ipython",
    "version": 3
   },
   "file_extension": ".py",
   "mimetype": "text/x-python",
   "name": "python",
   "nbconvert_exporter": "python",
   "pygments_lexer": "ipython3",
   "version": "3.8.8"
  },
  "interpreter": {
   "hash": "81296e984b8316c1d9fe443bd0a3b9b4960eee54bf7b6c4b101d1ffe53f0f5db"
  }
 },
 "nbformat": 4,
 "nbformat_minor": 4
}