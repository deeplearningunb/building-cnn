{
 "cells": [
  {
   "cell_type": "markdown",
   "source": [
    "# Convolutional Neural Network"
   ],
   "metadata": {
    "colab_type": "text",
    "id": "3DR-eO17geWu"
   }
  },
  {
   "cell_type": "markdown",
   "source": [
    "### Importing the libraries"
   ],
   "metadata": {
    "colab_type": "text",
    "id": "EMefrVPCg-60"
   }
  },
  {
   "cell_type": "code",
   "execution_count": 17,
   "source": [
    "!pip install --upgrade tensorflow keras Pillow"
   ],
   "outputs": [
    {
     "output_type": "stream",
     "name": "stdout",
     "text": [
      "Requirement already up-to-date: tensorflow in /home/heisson/.local/lib/python3.8/site-packages (2.6.0)\n",
      "Requirement already up-to-date: keras in /home/heisson/.local/lib/python3.8/site-packages (2.6.0)\n",
      "Requirement already up-to-date: Pillow in /home/heisson/.local/lib/python3.8/site-packages (8.3.1)\n",
      "Requirement already satisfied, skipping upgrade: grpcio<2.0,>=1.37.0 in /home/heisson/.local/lib/python3.8/site-packages (from tensorflow) (1.39.0)\n",
      "Requirement already satisfied, skipping upgrade: wheel~=0.35 in /home/heisson/.local/lib/python3.8/site-packages (from tensorflow) (0.37.0)\n",
      "Requirement already satisfied, skipping upgrade: opt-einsum~=3.3.0 in /home/heisson/.local/lib/python3.8/site-packages (from tensorflow) (3.3.0)\n",
      "Requirement already satisfied, skipping upgrade: tensorboard~=2.6 in /home/heisson/.local/lib/python3.8/site-packages (from tensorflow) (2.6.0)\n",
      "Requirement already satisfied, skipping upgrade: gast==0.4.0 in /home/heisson/.local/lib/python3.8/site-packages (from tensorflow) (0.4.0)\n",
      "Requirement already satisfied, skipping upgrade: wrapt~=1.12.1 in /home/heisson/.local/lib/python3.8/site-packages (from tensorflow) (1.12.1)\n",
      "Requirement already satisfied, skipping upgrade: tensorflow-estimator~=2.6 in /home/heisson/.local/lib/python3.8/site-packages (from tensorflow) (2.6.0)\n",
      "Requirement already satisfied, skipping upgrade: six~=1.15.0 in /home/heisson/.local/lib/python3.8/site-packages (from tensorflow) (1.15.0)\n",
      "Requirement already satisfied, skipping upgrade: numpy~=1.19.2 in /home/heisson/.local/lib/python3.8/site-packages (from tensorflow) (1.19.5)\n",
      "Requirement already satisfied, skipping upgrade: absl-py~=0.10 in /home/heisson/.local/lib/python3.8/site-packages (from tensorflow) (0.13.0)\n",
      "Requirement already satisfied, skipping upgrade: clang~=5.0 in /home/heisson/.local/lib/python3.8/site-packages (from tensorflow) (5.0)\n",
      "Requirement already satisfied, skipping upgrade: h5py~=3.1.0 in /home/heisson/.local/lib/python3.8/site-packages (from tensorflow) (3.1.0)\n",
      "Requirement already satisfied, skipping upgrade: keras-preprocessing~=1.1.2 in /home/heisson/.local/lib/python3.8/site-packages (from tensorflow) (1.1.2)\n",
      "Requirement already satisfied, skipping upgrade: astunparse~=1.6.3 in /home/heisson/.local/lib/python3.8/site-packages (from tensorflow) (1.6.3)\n",
      "Requirement already satisfied, skipping upgrade: google-pasta~=0.2 in /home/heisson/.local/lib/python3.8/site-packages (from tensorflow) (0.2.0)\n",
      "Requirement already satisfied, skipping upgrade: flatbuffers~=1.12.0 in /home/heisson/.local/lib/python3.8/site-packages (from tensorflow) (1.12)\n",
      "Requirement already satisfied, skipping upgrade: typing-extensions~=3.7.4 in /usr/lib/python3/dist-packages (from tensorflow) (3.7.4.1)\n",
      "Requirement already satisfied, skipping upgrade: termcolor~=1.1.0 in /home/heisson/.local/lib/python3.8/site-packages (from tensorflow) (1.1.0)\n",
      "Requirement already satisfied, skipping upgrade: protobuf>=3.9.2 in /home/heisson/.local/lib/python3.8/site-packages (from tensorflow) (3.17.3)\n",
      "Requirement already satisfied, skipping upgrade: google-auth-oauthlib<0.5,>=0.4.1 in /home/heisson/.local/lib/python3.8/site-packages (from tensorboard~=2.6->tensorflow) (0.4.5)\n",
      "Requirement already satisfied, skipping upgrade: markdown>=2.6.8 in /home/heisson/.local/lib/python3.8/site-packages (from tensorboard~=2.6->tensorflow) (3.3.4)\n",
      "Requirement already satisfied, skipping upgrade: google-auth<2,>=1.6.3 in /home/heisson/.local/lib/python3.8/site-packages (from tensorboard~=2.6->tensorflow) (1.35.0)\n",
      "Requirement already satisfied, skipping upgrade: requests<3,>=2.21.0 in /usr/lib/python3/dist-packages (from tensorboard~=2.6->tensorflow) (2.22.0)\n",
      "Requirement already satisfied, skipping upgrade: werkzeug>=0.11.15 in /home/heisson/.local/lib/python3.8/site-packages (from tensorboard~=2.6->tensorflow) (2.0.1)\n",
      "Requirement already satisfied, skipping upgrade: tensorboard-data-server<0.7.0,>=0.6.0 in /home/heisson/.local/lib/python3.8/site-packages (from tensorboard~=2.6->tensorflow) (0.6.1)\n",
      "Requirement already satisfied, skipping upgrade: setuptools>=41.0.0 in /usr/lib/python3/dist-packages (from tensorboard~=2.6->tensorflow) (45.2.0)\n",
      "Requirement already satisfied, skipping upgrade: tensorboard-plugin-wit>=1.6.0 in /home/heisson/.local/lib/python3.8/site-packages (from tensorboard~=2.6->tensorflow) (1.8.0)\n",
      "Requirement already satisfied, skipping upgrade: requests-oauthlib>=0.7.0 in /home/heisson/.local/lib/python3.8/site-packages (from google-auth-oauthlib<0.5,>=0.4.1->tensorboard~=2.6->tensorflow) (1.3.0)\n",
      "Requirement already satisfied, skipping upgrade: rsa<5,>=3.1.4; python_version >= \"3.6\" in /home/heisson/.local/lib/python3.8/site-packages (from google-auth<2,>=1.6.3->tensorboard~=2.6->tensorflow) (4.7.2)\n",
      "Requirement already satisfied, skipping upgrade: cachetools<5.0,>=2.0.0 in /home/heisson/.local/lib/python3.8/site-packages (from google-auth<2,>=1.6.3->tensorboard~=2.6->tensorflow) (4.2.2)\n",
      "Requirement already satisfied, skipping upgrade: pyasn1-modules>=0.2.1 in /home/heisson/.local/lib/python3.8/site-packages (from google-auth<2,>=1.6.3->tensorboard~=2.6->tensorflow) (0.2.8)\n",
      "Requirement already satisfied, skipping upgrade: oauthlib>=3.0.0 in /usr/lib/python3/dist-packages (from requests-oauthlib>=0.7.0->google-auth-oauthlib<0.5,>=0.4.1->tensorboard~=2.6->tensorflow) (3.1.0)\n",
      "Requirement already satisfied, skipping upgrade: pyasn1>=0.1.3 in /home/heisson/.local/lib/python3.8/site-packages (from rsa<5,>=3.1.4; python_version >= \"3.6\"->google-auth<2,>=1.6.3->tensorboard~=2.6->tensorflow) (0.4.8)\n"
     ]
    }
   ],
   "metadata": {}
  },
  {
   "cell_type": "code",
   "execution_count": 18,
   "source": [
    "import tensorflow as tf\n",
    "from keras.preprocessing.image import ImageDataGenerator"
   ],
   "outputs": [],
   "metadata": {
    "colab": {},
    "colab_type": "code",
    "id": "sCV30xyVhFbE"
   }
  },
  {
   "cell_type": "code",
   "execution_count": 19,
   "source": [
    "tf.__version__"
   ],
   "outputs": [
    {
     "output_type": "execute_result",
     "data": {
      "text/plain": [
       "'2.6.0'"
      ]
     },
     "metadata": {},
     "execution_count": 19
    }
   ],
   "metadata": {
    "colab": {},
    "colab_type": "code",
    "id": "FIleuCAjoFD8"
   }
  },
  {
   "cell_type": "markdown",
   "source": [
    "## Part 1 - Data Preprocessing"
   ],
   "metadata": {
    "colab_type": "text",
    "id": "oxQxCBWyoGPE"
   }
  },
  {
   "cell_type": "markdown",
   "source": [
    "### Preprocessing the Training set"
   ],
   "metadata": {
    "colab_type": "text",
    "id": "MvE-heJNo3GG"
   }
  },
  {
   "cell_type": "code",
   "execution_count": 20,
   "source": [
    "train_datagen = ImageDataGenerator(rescale = 1./255,\n",
    "                                   shear_range = 0.2,\n",
    "                                   zoom_range = 0.2,\n",
    "                                   horizontal_flip = True)\n",
    "training_set = train_datagen.flow_from_directory('dataset/training_set',\n",
    "                                                 target_size = (64, 64),\n",
    "                                                 batch_size = 32,\n",
    "                                                 class_mode = 'binary')"
   ],
   "outputs": [
    {
     "output_type": "stream",
     "name": "stdout",
     "text": [
      "Found 8000 images belonging to 2 classes.\n"
     ]
    }
   ],
   "metadata": {
    "colab": {},
    "colab_type": "code",
    "id": "0koUcJMJpEBD"
   }
  },
  {
   "cell_type": "markdown",
   "source": [
    "### Preprocessing the Test set"
   ],
   "metadata": {
    "colab_type": "text",
    "id": "mrCMmGw9pHys"
   }
  },
  {
   "cell_type": "code",
   "execution_count": 21,
   "source": [
    "test_datagen = ImageDataGenerator(rescale = 1./255)\n",
    "test_set = test_datagen.flow_from_directory('dataset/test_set',\n",
    "                                            target_size = (64, 64),\n",
    "                                            batch_size = 32,\n",
    "                                            class_mode = 'binary')"
   ],
   "outputs": [
    {
     "output_type": "stream",
     "name": "stdout",
     "text": [
      "Found 2000 images belonging to 2 classes.\n"
     ]
    }
   ],
   "metadata": {
    "colab": {},
    "colab_type": "code",
    "id": "SH4WzfOhpKc3"
   }
  },
  {
   "cell_type": "markdown",
   "source": [
    "## Part 2 - Building the CNN"
   ],
   "metadata": {
    "colab_type": "text",
    "id": "af8O4l90gk7B"
   }
  },
  {
   "cell_type": "markdown",
   "source": [
    "### Initialising the CNN"
   ],
   "metadata": {
    "colab_type": "text",
    "id": "ces1gXY2lmoX"
   }
  },
  {
   "cell_type": "code",
   "execution_count": 22,
   "source": [
    "cnn = tf.keras.models.Sequential()"
   ],
   "outputs": [],
   "metadata": {
    "colab": {},
    "colab_type": "code",
    "id": "SAUt4UMPlhLS"
   }
  },
  {
   "cell_type": "markdown",
   "source": [
    "### Step 1 - Convolution"
   ],
   "metadata": {
    "colab_type": "text",
    "id": "u5YJj_XMl5LF"
   }
  },
  {
   "cell_type": "code",
   "execution_count": 23,
   "source": [
    "cnn.add(tf.keras.layers.Conv2D(filters=32, kernel_size=3, activation='relu', input_shape=[64, 64, 3]))"
   ],
   "outputs": [],
   "metadata": {
    "colab": {},
    "colab_type": "code",
    "id": "XPzPrMckl-hV"
   }
  },
  {
   "cell_type": "markdown",
   "source": [
    "### Step 2 - Pooling"
   ],
   "metadata": {
    "colab_type": "text",
    "id": "tf87FpvxmNOJ"
   }
  },
  {
   "cell_type": "code",
   "execution_count": 24,
   "source": [
    "cnn.add(tf.keras.layers.MaxPool2D(pool_size=2, strides=2))"
   ],
   "outputs": [],
   "metadata": {
    "colab": {},
    "colab_type": "code",
    "id": "ncpqPl69mOac"
   }
  },
  {
   "cell_type": "markdown",
   "source": [
    "### Adding a second convolutional layer"
   ],
   "metadata": {
    "colab_type": "text",
    "id": "xaTOgD8rm4mU"
   }
  },
  {
   "cell_type": "code",
   "execution_count": 25,
   "source": [
    "cnn.add(tf.keras.layers.Conv2D(filters=32, kernel_size=3, activation='relu'))\n",
    "cnn.add(tf.keras.layers.MaxPool2D(pool_size=2, strides=2))"
   ],
   "outputs": [],
   "metadata": {
    "colab": {},
    "colab_type": "code",
    "id": "i_-FZjn_m8gk"
   }
  },
  {
   "cell_type": "markdown",
   "source": [
    "### Step 3 - Flattening"
   ],
   "metadata": {
    "colab_type": "text",
    "id": "tmiEuvTunKfk"
   }
  },
  {
   "cell_type": "code",
   "execution_count": 26,
   "source": [
    "cnn.add(tf.keras.layers.Flatten())"
   ],
   "outputs": [],
   "metadata": {
    "colab": {},
    "colab_type": "code",
    "id": "6AZeOGCvnNZn"
   }
  },
  {
   "cell_type": "markdown",
   "source": [
    "### Step 4 - Full Connection"
   ],
   "metadata": {
    "colab_type": "text",
    "id": "dAoSECOm203v"
   }
  },
  {
   "cell_type": "code",
   "execution_count": 27,
   "source": [
    "cnn.add(tf.keras.layers.Dense(units=128, activation='relu'))\n",
    "cnn.add(tf.keras.layers.Dense(units=64, activation='sigmoid'))"
   ],
   "outputs": [],
   "metadata": {
    "colab": {},
    "colab_type": "code",
    "id": "8GtmUlLd26Nq"
   }
  },
  {
   "cell_type": "markdown",
   "source": [
    "### Step 5 - Output Layer"
   ],
   "metadata": {
    "colab_type": "text",
    "id": "yTldFvbX28Na"
   }
  },
  {
   "cell_type": "code",
   "execution_count": 28,
   "source": [
    "cnn.add(tf.keras.layers.Dense(units=1, activation='sigmoid'))"
   ],
   "outputs": [],
   "metadata": {
    "colab": {},
    "colab_type": "code",
    "id": "1p_Zj1Mc3Ko_"
   }
  },
  {
   "cell_type": "markdown",
   "source": [
    "## Part 3 - Training the CNN"
   ],
   "metadata": {
    "colab_type": "text",
    "id": "D6XkI90snSDl"
   }
  },
  {
   "cell_type": "markdown",
   "source": [
    "### Compiling the CNN"
   ],
   "metadata": {
    "colab_type": "text",
    "id": "vfrFQACEnc6i"
   }
  },
  {
   "cell_type": "code",
   "execution_count": 29,
   "source": [
    "cnn.compile(optimizer = 'adam', loss = 'binary_crossentropy', metrics = ['accuracy'])"
   ],
   "outputs": [],
   "metadata": {
    "colab": {},
    "colab_type": "code",
    "id": "NALksrNQpUlJ"
   }
  },
  {
   "cell_type": "markdown",
   "source": [
    "### Training the CNN on the Training set and evaluating it on the Test set"
   ],
   "metadata": {
    "colab_type": "text",
    "id": "ehS-v3MIpX2h"
   }
  },
  {
   "cell_type": "code",
   "execution_count": 30,
   "source": [
    "cnn.fit(x = training_set, validation_data = test_set, epochs = 25)"
   ],
   "outputs": [
    {
     "output_type": "stream",
     "name": "stdout",
     "text": [
      "Epoch 1/25\n",
      "250/250 [==============================] - 36s 141ms/step - loss: 0.6924 - accuracy: 0.5494 - val_loss: 0.6619 - val_accuracy: 0.6410\n",
      "Epoch 2/25\n",
      "250/250 [==============================] - 35s 142ms/step - loss: 0.6200 - accuracy: 0.6599 - val_loss: 0.5924 - val_accuracy: 0.6825\n",
      "Epoch 3/25\n",
      "250/250 [==============================] - 36s 144ms/step - loss: 0.5761 - accuracy: 0.6948 - val_loss: 0.5962 - val_accuracy: 0.6755\n",
      "Epoch 4/25\n",
      "250/250 [==============================] - 36s 144ms/step - loss: 0.5405 - accuracy: 0.7244 - val_loss: 0.5840 - val_accuracy: 0.6985\n",
      "Epoch 5/25\n",
      "250/250 [==============================] - 36s 145ms/step - loss: 0.5259 - accuracy: 0.7311 - val_loss: 0.5130 - val_accuracy: 0.7435\n",
      "Epoch 6/25\n",
      "250/250 [==============================] - 36s 144ms/step - loss: 0.4983 - accuracy: 0.7558 - val_loss: 0.5210 - val_accuracy: 0.7425\n",
      "Epoch 7/25\n",
      "250/250 [==============================] - 36s 145ms/step - loss: 0.4754 - accuracy: 0.7688 - val_loss: 0.5114 - val_accuracy: 0.7475\n",
      "Epoch 8/25\n",
      "250/250 [==============================] - 36s 145ms/step - loss: 0.4650 - accuracy: 0.7803 - val_loss: 0.4887 - val_accuracy: 0.7705\n",
      "Epoch 9/25\n",
      "250/250 [==============================] - 37s 147ms/step - loss: 0.4487 - accuracy: 0.7891 - val_loss: 0.5056 - val_accuracy: 0.7480\n",
      "Epoch 10/25\n",
      "250/250 [==============================] - 37s 148ms/step - loss: 0.4430 - accuracy: 0.7911 - val_loss: 0.4611 - val_accuracy: 0.7910\n",
      "Epoch 11/25\n",
      "250/250 [==============================] - 38s 150ms/step - loss: 0.4230 - accuracy: 0.8030 - val_loss: 0.4813 - val_accuracy: 0.7730\n",
      "Epoch 12/25\n",
      "250/250 [==============================] - 37s 147ms/step - loss: 0.4123 - accuracy: 0.8129 - val_loss: 0.4500 - val_accuracy: 0.7935\n",
      "Epoch 13/25\n",
      "250/250 [==============================] - 37s 147ms/step - loss: 0.4043 - accuracy: 0.8140 - val_loss: 0.4473 - val_accuracy: 0.7915\n",
      "Epoch 14/25\n",
      "250/250 [==============================] - 37s 148ms/step - loss: 0.3872 - accuracy: 0.8240 - val_loss: 0.5141 - val_accuracy: 0.7760\n",
      "Epoch 15/25\n",
      "250/250 [==============================] - 36s 146ms/step - loss: 0.3790 - accuracy: 0.8324 - val_loss: 0.4572 - val_accuracy: 0.8005\n",
      "Epoch 16/25\n",
      "250/250 [==============================] - 36s 146ms/step - loss: 0.3671 - accuracy: 0.8357 - val_loss: 0.4559 - val_accuracy: 0.7870\n",
      "Epoch 17/25\n",
      "250/250 [==============================] - 36s 146ms/step - loss: 0.3597 - accuracy: 0.8397 - val_loss: 0.4714 - val_accuracy: 0.7890\n",
      "Epoch 18/25\n",
      "250/250 [==============================] - 36s 146ms/step - loss: 0.3534 - accuracy: 0.8468 - val_loss: 0.4376 - val_accuracy: 0.8130\n",
      "Epoch 19/25\n",
      "250/250 [==============================] - 40s 160ms/step - loss: 0.3370 - accuracy: 0.8466 - val_loss: 0.4481 - val_accuracy: 0.8075\n",
      "Epoch 20/25\n",
      "250/250 [==============================] - 39s 157ms/step - loss: 0.3295 - accuracy: 0.8558 - val_loss: 0.4670 - val_accuracy: 0.7905\n",
      "Epoch 21/25\n",
      "250/250 [==============================] - 40s 159ms/step - loss: 0.3065 - accuracy: 0.8675 - val_loss: 0.4647 - val_accuracy: 0.7980\n",
      "Epoch 22/25\n",
      "250/250 [==============================] - 40s 161ms/step - loss: 0.2967 - accuracy: 0.8733 - val_loss: 0.4835 - val_accuracy: 0.7950\n",
      "Epoch 23/25\n",
      "250/250 [==============================] - 40s 158ms/step - loss: 0.2928 - accuracy: 0.8714 - val_loss: 0.4886 - val_accuracy: 0.7995\n",
      "Epoch 24/25\n",
      "250/250 [==============================] - 41s 164ms/step - loss: 0.2863 - accuracy: 0.8749 - val_loss: 0.4673 - val_accuracy: 0.8045\n",
      "Epoch 25/25\n",
      "250/250 [==============================] - 37s 148ms/step - loss: 0.2759 - accuracy: 0.8829 - val_loss: 0.5019 - val_accuracy: 0.8050\n"
     ]
    },
    {
     "output_type": "execute_result",
     "data": {
      "text/plain": [
       "<keras.callbacks.History at 0x7f1e3873fa30>"
      ]
     },
     "metadata": {},
     "execution_count": 30
    }
   ],
   "metadata": {
    "colab": {},
    "colab_type": "code",
    "id": "XUj1W4PJptta"
   }
  },
  {
   "cell_type": "markdown",
   "source": [
    "## Part 4 - Making a single prediction"
   ],
   "metadata": {
    "colab_type": "text",
    "id": "U3PZasO0006Z"
   }
  },
  {
   "cell_type": "code",
   "execution_count": 31,
   "source": [
    "import numpy as np\n",
    "from keras.preprocessing import image\n",
    "test_image = image.load_img('dataset/single_prediction/cat_or_dog_1.jpg', target_size = (64, 64))\n",
    "test_image = image.img_to_array(test_image)\n",
    "test_image = np.expand_dims(test_image, axis = 0)\n",
    "result = cnn.predict(test_image)\n",
    "training_set.class_indices\n",
    "if result[0][0] == 1:\n",
    "  prediction = 'dog'\n",
    "else:\n",
    "  prediction = 'cat'"
   ],
   "outputs": [],
   "metadata": {
    "colab": {},
    "colab_type": "code",
    "id": "gsSiWEJY1BPB"
   }
  },
  {
   "cell_type": "code",
   "execution_count": 32,
   "source": [
    "print(prediction)"
   ],
   "outputs": [
    {
     "output_type": "stream",
     "name": "stdout",
     "text": [
      "cat\n"
     ]
    }
   ],
   "metadata": {
    "colab": {},
    "colab_type": "code",
    "id": "ED9KB3I54c1i"
   }
  },
  {
   "cell_type": "markdown",
   "source": [
    "## Fim"
   ],
   "metadata": {}
  }
 ],
 "metadata": {
  "colab": {
   "collapsed_sections": [],
   "name": "convolutional_neural_network.ipynb",
   "provenance": [],
   "toc_visible": true
  },
  "kernelspec": {
   "name": "python3",
   "display_name": "Python 3.8.10 64-bit"
  },
  "language_info": {
   "codemirror_mode": {
    "name": "ipython",
    "version": 3
   },
   "file_extension": ".py",
   "mimetype": "text/x-python",
   "name": "python",
   "nbconvert_exporter": "python",
   "pygments_lexer": "ipython3",
   "version": "3.8.10"
  },
  "interpreter": {
   "hash": "916dbcbb3f70747c44a77c7bcd40155683ae19c65e1c03b4aa3499c5328201f1"
  }
 },
 "nbformat": 4,
 "nbformat_minor": 4
}