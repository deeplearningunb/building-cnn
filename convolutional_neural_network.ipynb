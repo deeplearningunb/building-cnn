{
 "cells": [
  {
   "cell_type": "markdown",
   "metadata": {
    "colab_type": "text",
    "id": "3DR-eO17geWu"
   },
   "source": [
    "# Convolutional Neural Network"
   ]
  },
  {
   "cell_type": "markdown",
   "metadata": {
    "colab_type": "text",
    "id": "EMefrVPCg-60"
   },
   "source": [
    "### Importing the libraries"
   ]
  },
  {
   "cell_type": "code",
   "execution_count": 2,
   "metadata": {},
   "outputs": [
    {
     "name": "stdout",
     "output_type": "stream",
     "text": [
      "Defaulting to user installation because normal site-packages is not writeable\n",
      "Requirement already satisfied: tensorflow in /home/arthur/.local/lib/python3.9/site-packages (2.5.0)\n",
      "Requirement already satisfied: keras in /home/arthur/.local/lib/python3.9/site-packages (2.4.3)\n",
      "Requirement already satisfied: Pillow in /usr/lib/python3.9/site-packages (8.2.0)\n",
      "Requirement already satisfied: pyyaml in /usr/lib/python3.9/site-packages (from keras) (5.4.1)\n",
      "Requirement already satisfied: numpy>=1.9.1 in /home/arthur/.local/lib/python3.9/site-packages (from keras) (1.19.5)\n",
      "Requirement already satisfied: h5py in /home/arthur/.local/lib/python3.9/site-packages (from keras) (3.1.0)\n",
      "Requirement already satisfied: scipy>=0.14 in /home/arthur/.local/lib/python3.9/site-packages (from keras) (1.6.1)\n",
      "Requirement already satisfied: flatbuffers~=1.12.0 in /home/arthur/.local/lib/python3.9/site-packages (from tensorflow) (1.12)\n",
      "Requirement already satisfied: grpcio~=1.34.0 in /home/arthur/.local/lib/python3.9/site-packages (from tensorflow) (1.34.1)\n",
      "Requirement already satisfied: six~=1.15.0 in /usr/lib/python3.9/site-packages (from tensorflow) (1.15.0)\n",
      "Requirement already satisfied: termcolor~=1.1.0 in /home/arthur/.local/lib/python3.9/site-packages (from tensorflow) (1.1.0)\n",
      "Requirement already satisfied: tensorboard~=2.5 in /home/arthur/.local/lib/python3.9/site-packages (from tensorflow) (2.5.0)\n",
      "Requirement already satisfied: gast==0.4.0 in /home/arthur/.local/lib/python3.9/site-packages (from tensorflow) (0.4.0)\n",
      "Requirement already satisfied: keras-preprocessing~=1.1.2 in /home/arthur/.local/lib/python3.9/site-packages (from tensorflow) (1.1.2)\n",
      "Requirement already satisfied: protobuf>=3.9.2 in /home/arthur/.local/lib/python3.9/site-packages (from tensorflow) (3.15.5)\n",
      "Requirement already satisfied: keras-nightly~=2.5.0.dev in /home/arthur/.local/lib/python3.9/site-packages (from tensorflow) (2.5.0.dev2021032900)\n",
      "Requirement already satisfied: absl-py~=0.10 in /home/arthur/.local/lib/python3.9/site-packages (from tensorflow) (0.11.0)\n",
      "Requirement already satisfied: typing-extensions~=3.7.4 in /home/arthur/.local/lib/python3.9/site-packages (from tensorflow) (3.7.4.3)\n",
      "Requirement already satisfied: astunparse~=1.6.3 in /home/arthur/.local/lib/python3.9/site-packages (from tensorflow) (1.6.3)\n",
      "Requirement already satisfied: google-pasta~=0.2 in /home/arthur/.local/lib/python3.9/site-packages (from tensorflow) (0.2.0)\n",
      "Requirement already satisfied: opt-einsum~=3.3.0 in /home/arthur/.local/lib/python3.9/site-packages (from tensorflow) (3.3.0)\n",
      "Requirement already satisfied: numpy>=1.9.1 in /home/arthur/.local/lib/python3.9/site-packages (from keras) (1.19.5)\n",
      "Requirement already satisfied: h5py in /home/arthur/.local/lib/python3.9/site-packages (from keras) (3.1.0)\n",
      "Requirement already satisfied: wheel~=0.35 in /home/arthur/.local/lib/python3.9/site-packages (from tensorflow) (0.36.2)\n",
      "Requirement already satisfied: wrapt~=1.12.1 in /usr/lib/python3.9/site-packages (from tensorflow) (1.12.1)\n",
      "Requirement already satisfied: tensorflow-estimator<2.6.0,>=2.5.0rc0 in /home/arthur/.local/lib/python3.9/site-packages (from tensorflow) (2.5.0)\n",
      "Requirement already satisfied: six~=1.15.0 in /usr/lib/python3.9/site-packages (from tensorflow) (1.15.0)\n",
      "Requirement already satisfied: wheel~=0.35 in /home/arthur/.local/lib/python3.9/site-packages (from tensorflow) (0.36.2)\n",
      "Requirement already satisfied: six~=1.15.0 in /usr/lib/python3.9/site-packages (from tensorflow) (1.15.0)\n",
      "Requirement already satisfied: six~=1.15.0 in /usr/lib/python3.9/site-packages (from tensorflow) (1.15.0)\n",
      "Requirement already satisfied: six~=1.15.0 in /usr/lib/python3.9/site-packages (from tensorflow) (1.15.0)\n",
      "Requirement already satisfied: numpy>=1.9.1 in /home/arthur/.local/lib/python3.9/site-packages (from keras) (1.19.5)\n",
      "Requirement already satisfied: six~=1.15.0 in /usr/lib/python3.9/site-packages (from tensorflow) (1.15.0)\n",
      "Requirement already satisfied: numpy>=1.9.1 in /home/arthur/.local/lib/python3.9/site-packages (from keras) (1.19.5)\n",
      "Requirement already satisfied: numpy>=1.9.1 in /home/arthur/.local/lib/python3.9/site-packages (from keras) (1.19.5)\n",
      "Requirement already satisfied: six~=1.15.0 in /usr/lib/python3.9/site-packages (from tensorflow) (1.15.0)\n",
      "Requirement already satisfied: numpy>=1.9.1 in /home/arthur/.local/lib/python3.9/site-packages (from keras) (1.19.5)\n",
      "Requirement already satisfied: protobuf>=3.9.2 in /home/arthur/.local/lib/python3.9/site-packages (from tensorflow) (3.15.5)\n",
      "Requirement already satisfied: requests<3,>=2.21.0 in /usr/lib/python3.9/site-packages (from tensorboard~=2.5->tensorflow) (2.25.1)\n",
      "Requirement already satisfied: google-auth-oauthlib<0.5,>=0.4.1 in /home/arthur/.local/lib/python3.9/site-packages (from tensorboard~=2.5->tensorflow) (0.4.4)\n",
      "Requirement already satisfied: grpcio~=1.34.0 in /home/arthur/.local/lib/python3.9/site-packages (from tensorflow) (1.34.1)\n",
      "Requirement already satisfied: tensorboard-data-server<0.7.0,>=0.6.0 in /home/arthur/.local/lib/python3.9/site-packages (from tensorboard~=2.5->tensorflow) (0.6.1)\n",
      "Requirement already satisfied: absl-py~=0.10 in /home/arthur/.local/lib/python3.9/site-packages (from tensorflow) (0.11.0)\n",
      "Requirement already satisfied: tensorboard-plugin-wit>=1.6.0 in /home/arthur/.local/lib/python3.9/site-packages (from tensorboard~=2.5->tensorflow) (1.8.0)\n",
      "Requirement already satisfied: google-auth<2,>=1.6.3 in /home/arthur/.local/lib/python3.9/site-packages (from tensorboard~=2.5->tensorflow) (1.30.0)\n",
      "Requirement already satisfied: wheel~=0.35 in /home/arthur/.local/lib/python3.9/site-packages (from tensorflow) (0.36.2)\n",
      "Requirement already satisfied: numpy>=1.9.1 in /home/arthur/.local/lib/python3.9/site-packages (from keras) (1.19.5)\n",
      "Requirement already satisfied: setuptools>=41.0.0 in /usr/lib/python3.9/site-packages (from tensorboard~=2.5->tensorflow) (56.0.0)\n",
      "Requirement already satisfied: markdown>=2.6.8 in /usr/lib/python3.9/site-packages (from tensorboard~=2.5->tensorflow) (3.3.4)\n",
      "Requirement already satisfied: werkzeug>=0.11.15 in /home/arthur/.local/lib/python3.9/site-packages (from tensorboard~=2.5->tensorflow) (1.0.1)\n",
      "Requirement already satisfied: cachetools<5.0,>=2.0.0 in /home/arthur/.local/lib/python3.9/site-packages (from google-auth<2,>=1.6.3->tensorboard~=2.5->tensorflow) (4.2.2)\n",
      "Requirement already satisfied: setuptools>=41.0.0 in /usr/lib/python3.9/site-packages (from tensorboard~=2.5->tensorflow) (56.0.0)\n",
      "Requirement already satisfied: rsa<5,>=3.1.4 in /home/arthur/.local/lib/python3.9/site-packages (from google-auth<2,>=1.6.3->tensorboard~=2.5->tensorflow) (4.7.2)\n",
      "Requirement already satisfied: pyasn1-modules>=0.2.1 in /home/arthur/.local/lib/python3.9/site-packages (from google-auth<2,>=1.6.3->tensorboard~=2.5->tensorflow) (0.2.8)\n",
      "Requirement already satisfied: six~=1.15.0 in /usr/lib/python3.9/site-packages (from tensorflow) (1.15.0)\n",
      "Requirement already satisfied: google-auth<2,>=1.6.3 in /home/arthur/.local/lib/python3.9/site-packages (from tensorboard~=2.5->tensorflow) (1.30.0)\n",
      "Requirement already satisfied: requests-oauthlib>=0.7.0 in /home/arthur/.local/lib/python3.9/site-packages (from google-auth-oauthlib<0.5,>=0.4.1->tensorboard~=2.5->tensorflow) (1.3.0)\n",
      "Requirement already satisfied: pyasn1<0.5.0,>=0.4.6 in /home/arthur/.local/lib/python3.9/site-packages (from pyasn1-modules>=0.2.1->google-auth<2,>=1.6.3->tensorboard~=2.5->tensorflow) (0.4.8)\n",
      "Requirement already satisfied: chardet>=3.0.2 in /usr/lib/python3.9/site-packages (from requests<3,>=2.21.0->tensorboard~=2.5->tensorflow) (4.0.0)\n",
      "Requirement already satisfied: idna>=2.5 in /usr/lib/python3.9/site-packages (from requests<3,>=2.21.0->tensorboard~=2.5->tensorflow) (3.1)\n",
      "Requirement already satisfied: urllib3>=1.21.1 in /usr/lib/python3.9/site-packages (from requests<3,>=2.21.0->tensorboard~=2.5->tensorflow) (1.26.4)\n",
      "Requirement already satisfied: requests<3,>=2.21.0 in /usr/lib/python3.9/site-packages (from tensorboard~=2.5->tensorflow) (2.25.1)\n",
      "Requirement already satisfied: oauthlib>=3.0.0 in /home/arthur/.local/lib/python3.9/site-packages (from requests-oauthlib>=0.7.0->google-auth-oauthlib<0.5,>=0.4.1->tensorboard~=2.5->tensorflow) (3.1.0)\n",
      "Requirement already satisfied: pyasn1<0.5.0,>=0.4.6 in /home/arthur/.local/lib/python3.9/site-packages (from pyasn1-modules>=0.2.1->google-auth<2,>=1.6.3->tensorboard~=2.5->tensorflow) (0.4.8)\n"
     ]
    }
   ],
   "source": [
    "!pip install --upgrade tensorflow keras Pillow"
   ]
  },
  {
   "cell_type": "code",
   "execution_count": 3,
   "metadata": {
    "colab": {},
    "colab_type": "code",
    "id": "sCV30xyVhFbE"
   },
   "outputs": [],
   "source": [
    "import tensorflow as tf\n",
    "from keras.preprocessing.image import ImageDataGenerator"
   ]
  },
  {
   "cell_type": "code",
   "execution_count": 4,
   "metadata": {
    "colab": {},
    "colab_type": "code",
    "id": "FIleuCAjoFD8"
   },
   "outputs": [
    {
     "data": {
      "text/plain": [
       "'2.5.0'"
      ]
     },
     "execution_count": 4,
     "metadata": {},
     "output_type": "execute_result"
    }
   ],
   "source": [
    "tf.__version__"
   ]
  },
  {
   "cell_type": "markdown",
   "metadata": {
    "colab_type": "text",
    "id": "oxQxCBWyoGPE"
   },
   "source": [
    "## Part 1 - Data Preprocessing"
   ]
  },
  {
   "cell_type": "markdown",
   "metadata": {
    "colab_type": "text",
    "id": "MvE-heJNo3GG"
   },
   "source": [
    "### Preprocessing the Training set"
   ]
  },
  {
   "cell_type": "code",
   "execution_count": 5,
   "metadata": {
    "colab": {},
    "colab_type": "code",
    "id": "0koUcJMJpEBD"
   },
   "outputs": [
    {
     "name": "stdout",
     "output_type": "stream",
     "text": [
      "Found 8000 images belonging to 2 classes.\n"
     ]
    }
   ],
   "source": [
    "train_datagen = ImageDataGenerator(rescale = 1./255,\n",
    "                                   shear_range = 0.2,\n",
    "                                   zoom_range = 0.2,\n",
    "                                   horizontal_flip = True)\n",
    "training_set = train_datagen.flow_from_directory('dataset/training_set',\n",
    "                                                 target_size = (64, 64),\n",
    "                                                 batch_size = 32,\n",
    "                                                 class_mode = 'binary')"
   ]
  },
  {
   "cell_type": "markdown",
   "metadata": {
    "colab_type": "text",
    "id": "mrCMmGw9pHys"
   },
   "source": [
    "### Preprocessing the Test set"
   ]
  },
  {
   "cell_type": "code",
   "execution_count": 6,
   "metadata": {
    "colab": {},
    "colab_type": "code",
    "id": "SH4WzfOhpKc3"
   },
   "outputs": [
    {
     "name": "stdout",
     "output_type": "stream",
     "text": [
      "Found 2000 images belonging to 2 classes.\n"
     ]
    }
   ],
   "source": [
    "test_datagen = ImageDataGenerator(rescale = 1./255)\n",
    "test_set = test_datagen.flow_from_directory('dataset/test_set',\n",
    "                                            target_size = (64, 64),\n",
    "                                            batch_size = 32,\n",
    "                                            class_mode = 'binary')"
   ]
  },
  {
   "cell_type": "markdown",
   "metadata": {
    "colab_type": "text",
    "id": "af8O4l90gk7B"
   },
   "source": [
    "## Part 2 - Building the CNN"
   ]
  },
  {
   "cell_type": "markdown",
   "metadata": {
    "colab_type": "text",
    "id": "ces1gXY2lmoX"
   },
   "source": [
    "### Initialising the CNN"
   ]
  },
  {
   "cell_type": "code",
   "execution_count": 7,
   "metadata": {
    "colab": {},
    "colab_type": "code",
    "id": "SAUt4UMPlhLS"
   },
   "outputs": [],
   "source": [
    "cnn = tf.keras.models.Sequential()"
   ]
  },
  {
   "cell_type": "markdown",
   "metadata": {
    "colab_type": "text",
    "id": "u5YJj_XMl5LF"
   },
   "source": [
    "### Step 1 - Convolution"
   ]
  },
  {
   "cell_type": "code",
   "execution_count": 8,
   "metadata": {
    "colab": {},
    "colab_type": "code",
    "id": "XPzPrMckl-hV"
   },
   "outputs": [],
   "source": [
    "cnn.add(tf.keras.layers.Conv2D(filters=32, kernel_size=3, activation='relu', input_shape=[64, 64, 3]))"
   ]
  },
  {
   "cell_type": "markdown",
   "metadata": {
    "colab_type": "text",
    "id": "tf87FpvxmNOJ"
   },
   "source": [
    "### Step 2 - Pooling"
   ]
  },
  {
   "cell_type": "code",
   "execution_count": 9,
   "metadata": {
    "colab": {},
    "colab_type": "code",
    "id": "ncpqPl69mOac"
   },
   "outputs": [],
   "source": [
    "cnn.add(tf.keras.layers.MaxPool2D(pool_size=2, strides=2))"
   ]
  },
  {
   "cell_type": "markdown",
   "metadata": {
    "colab_type": "text",
    "id": "xaTOgD8rm4mU"
   },
   "source": [
    "### Adding a second convolutional layer"
   ]
  },
  {
   "cell_type": "code",
   "execution_count": 10,
   "metadata": {
    "colab": {},
    "colab_type": "code",
    "id": "i_-FZjn_m8gk"
   },
   "outputs": [],
   "source": [
    "cnn.add(tf.keras.layers.Conv2D(filters=32, kernel_size=3, activation='relu'))\n",
    "cnn.add(tf.keras.layers.MaxPool2D(pool_size=2, strides=2))"
   ]
  },
  {
   "cell_type": "markdown",
   "metadata": {},
   "source": [
    "### Adding a third convolutional layer"
   ]
  },
  {
   "cell_type": "code",
   "execution_count": 11,
   "metadata": {},
   "outputs": [],
   "source": [
    "cnn.add(tf.keras.layers.Conv2D(filters=64, kernel_size=3, activation='relu'))\n",
    "cnn.add(tf.keras.layers.MaxPool2D(pool_size=2, strides=2))"
   ]
  },
  {
   "cell_type": "markdown",
   "metadata": {},
   "source": [
    "### Adding a fourth convolutional layer"
   ]
  },
  {
   "cell_type": "code",
   "execution_count": 12,
   "metadata": {},
   "outputs": [],
   "source": [
    "cnn.add(tf.keras.layers.Conv2D(filters=128, kernel_size=3, activation='relu'))\n",
    "cnn.add(tf.keras.layers.MaxPool2D(pool_size=2, strides=2))"
   ]
  },
  {
   "cell_type": "markdown",
   "metadata": {
    "colab_type": "text",
    "id": "tmiEuvTunKfk"
   },
   "source": [
    "### Step 3 - Flattening"
   ]
  },
  {
   "cell_type": "code",
   "execution_count": 13,
   "metadata": {
    "colab": {},
    "colab_type": "code",
    "id": "6AZeOGCvnNZn"
   },
   "outputs": [],
   "source": [
    "cnn.add(tf.keras.layers.Flatten())"
   ]
  },
  {
   "cell_type": "markdown",
   "metadata": {
    "colab_type": "text",
    "id": "dAoSECOm203v"
   },
   "source": [
    "### Step 4 - Full Connection"
   ]
  },
  {
   "cell_type": "code",
   "execution_count": 14,
   "metadata": {
    "colab": {},
    "colab_type": "code",
    "id": "8GtmUlLd26Nq"
   },
   "outputs": [],
   "source": [
    "cnn.add(tf.keras.layers.Dense(units=128, activation='relu'))"
   ]
  },
  {
   "cell_type": "markdown",
   "metadata": {
    "colab_type": "text",
    "id": "yTldFvbX28Na"
   },
   "source": [
    "### Step 5 - Output Layer"
   ]
  },
  {
   "cell_type": "code",
   "execution_count": 15,
   "metadata": {
    "colab": {},
    "colab_type": "code",
    "id": "1p_Zj1Mc3Ko_"
   },
   "outputs": [],
   "source": [
    "cnn.add(tf.keras.layers.Dense(units=1, activation='tanh'))"
   ]
  },
  {
   "cell_type": "markdown",
   "metadata": {
    "colab_type": "text",
    "id": "D6XkI90snSDl"
   },
   "source": [
    "## Part 3 - Training the CNN"
   ]
  },
  {
   "cell_type": "markdown",
   "metadata": {
    "colab_type": "text",
    "id": "vfrFQACEnc6i"
   },
   "source": [
    "### Compiling the CNN"
   ]
  },
  {
   "cell_type": "code",
   "execution_count": 16,
   "metadata": {
    "colab": {},
    "colab_type": "code",
    "id": "NALksrNQpUlJ"
   },
   "outputs": [],
   "source": [
    "cnn.compile(optimizer = 'adam', loss = 'binary_crossentropy', metrics = ['accuracy'])"
   ]
  },
  {
   "cell_type": "markdown",
   "metadata": {
    "colab_type": "text",
    "id": "ehS-v3MIpX2h"
   },
   "source": [
    "### Training the CNN on the Training set and evaluating it on the Test set"
   ]
  },
  {
   "cell_type": "code",
   "execution_count": 17,
   "metadata": {
    "colab": {},
    "colab_type": "code",
    "id": "XUj1W4PJptta"
   },
   "outputs": [
    {
     "name": "stdout",
     "output_type": "stream",
     "text": [
      "Epoch 1/25\n",
      "250/250 [==============================] - 35s 136ms/step - loss: 0.6902 - accuracy: 0.5545 - val_loss: 0.7082 - val_accuracy: 0.5215\n",
      "Epoch 2/25\n",
      "250/250 [==============================] - 34s 134ms/step - loss: 0.6611 - accuracy: 0.6170 - val_loss: 0.6306 - val_accuracy: 0.6505\n",
      "Epoch 3/25\n",
      "250/250 [==============================] - 33s 131ms/step - loss: 0.6000 - accuracy: 0.6798 - val_loss: 0.5226 - val_accuracy: 0.7585\n",
      "Epoch 4/25\n",
      "250/250 [==============================] - 33s 131ms/step - loss: 0.6136 - accuracy: 0.6624 - val_loss: 0.5927 - val_accuracy: 0.6890\n",
      "Epoch 5/25\n",
      "250/250 [==============================] - 33s 130ms/step - loss: 0.5641 - accuracy: 0.7155 - val_loss: 0.8828 - val_accuracy: 0.6925\n",
      "Epoch 6/25\n",
      "250/250 [==============================] - 33s 131ms/step - loss: 0.5252 - accuracy: 0.7420 - val_loss: 0.4846 - val_accuracy: 0.7650\n",
      "Epoch 7/25\n",
      "250/250 [==============================] - 33s 131ms/step - loss: 0.5430 - accuracy: 0.7205 - val_loss: 0.5070 - val_accuracy: 0.7595\n",
      "Epoch 8/25\n",
      "250/250 [==============================] - 34s 135ms/step - loss: 0.5323 - accuracy: 0.7370 - val_loss: 0.4937 - val_accuracy: 0.7620\n",
      "Epoch 9/25\n",
      "250/250 [==============================] - 33s 133ms/step - loss: 0.4992 - accuracy: 0.7588 - val_loss: 0.4459 - val_accuracy: 0.7955\n",
      "Epoch 10/25\n",
      "250/250 [==============================] - 33s 132ms/step - loss: 0.4989 - accuracy: 0.7582 - val_loss: 0.4700 - val_accuracy: 0.7795\n",
      "Epoch 11/25\n",
      "250/250 [==============================] - 33s 131ms/step - loss: 0.4611 - accuracy: 0.7822 - val_loss: 0.4484 - val_accuracy: 0.7915\n",
      "Epoch 12/25\n",
      "250/250 [==============================] - 33s 131ms/step - loss: 0.4512 - accuracy: 0.7895 - val_loss: 0.4905 - val_accuracy: 0.7675\n",
      "Epoch 13/25\n",
      "250/250 [==============================] - 33s 133ms/step - loss: 0.4844 - accuracy: 0.7605 - val_loss: 0.4384 - val_accuracy: 0.7960\n",
      "Epoch 14/25\n",
      "250/250 [==============================] - 33s 133ms/step - loss: 0.4438 - accuracy: 0.7989 - val_loss: 0.4290 - val_accuracy: 0.8125\n",
      "Epoch 15/25\n",
      "250/250 [==============================] - 34s 135ms/step - loss: 0.4159 - accuracy: 0.8134 - val_loss: 0.4663 - val_accuracy: 0.8200\n",
      "Epoch 16/25\n",
      "250/250 [==============================] - 34s 134ms/step - loss: 0.4034 - accuracy: 0.8225 - val_loss: 0.4132 - val_accuracy: 0.8115\n",
      "Epoch 17/25\n",
      "250/250 [==============================] - 33s 133ms/step - loss: 0.5439 - accuracy: 0.7205 - val_loss: 0.6037 - val_accuracy: 0.6965\n",
      "Epoch 18/25\n",
      "250/250 [==============================] - 34s 134ms/step - loss: 0.5117 - accuracy: 0.7539 - val_loss: 0.4770 - val_accuracy: 0.7965\n",
      "Epoch 19/25\n",
      "250/250 [==============================] - 34s 138ms/step - loss: 0.4431 - accuracy: 0.8016 - val_loss: 0.4411 - val_accuracy: 0.8030\n",
      "Epoch 20/25\n",
      "250/250 [==============================] - 35s 140ms/step - loss: 0.4070 - accuracy: 0.8179 - val_loss: 0.4132 - val_accuracy: 0.8325\n",
      "Epoch 21/25\n",
      "250/250 [==============================] - 34s 134ms/step - loss: 0.5497 - accuracy: 0.7135 - val_loss: 0.5398 - val_accuracy: 0.7680\n",
      "Epoch 22/25\n",
      "250/250 [==============================] - 34s 137ms/step - loss: 0.5053 - accuracy: 0.7596 - val_loss: 0.4554 - val_accuracy: 0.7990\n",
      "Epoch 23/25\n",
      "250/250 [==============================] - 33s 133ms/step - loss: 0.4629 - accuracy: 0.7915 - val_loss: 0.4849 - val_accuracy: 0.8005\n",
      "Epoch 24/25\n",
      "250/250 [==============================] - 34s 134ms/step - loss: 0.4637 - accuracy: 0.7824 - val_loss: 0.5035 - val_accuracy: 0.7575\n",
      "Epoch 25/25\n",
      "250/250 [==============================] - 34s 135ms/step - loss: 0.4281 - accuracy: 0.8039 - val_loss: 0.3998 - val_accuracy: 0.8220\n"
     ]
    },
    {
     "data": {
      "text/plain": [
       "<tensorflow.python.keras.callbacks.History at 0x7f65d6f1cf40>"
      ]
     },
     "execution_count": 17,
     "metadata": {},
     "output_type": "execute_result"
    }
   ],
   "source": [
    "cnn.fit(x = training_set, validation_data = test_set, epochs = 25)"
   ]
  },
  {
   "cell_type": "markdown",
   "metadata": {
    "colab_type": "text",
    "id": "U3PZasO0006Z"
   },
   "source": [
    "## Part 4 - Making a single prediction"
   ]
  },
  {
   "cell_type": "code",
   "execution_count": 18,
   "metadata": {
    "colab": {},
    "colab_type": "code",
    "id": "gsSiWEJY1BPB"
   },
   "outputs": [],
   "source": [
    "import numpy as np\n",
    "from keras.preprocessing import image\n",
    "test_image = image.load_img('dataset/single_prediction/cat_or_dog_1.jpg', target_size = (64, 64))\n",
    "test_image = image.img_to_array(test_image)\n",
    "test_image = np.expand_dims(test_image, axis = 0)\n",
    "result = cnn.predict(test_image)\n",
    "training_set.class_indices\n",
    "if result[0][0] == 1:\n",
    "  prediction = 'dog'\n",
    "else:\n",
    "  prediction = 'cat'"
   ]
  },
  {
   "cell_type": "code",
   "execution_count": 19,
   "metadata": {
    "colab": {},
    "colab_type": "code",
    "id": "ED9KB3I54c1i"
   },
   "outputs": [
    {
     "name": "stdout",
     "output_type": "stream",
     "text": [
      "dog\n"
     ]
    }
   ],
   "source": [
    "print(prediction)"
   ]
  },
  {
   "cell_type": "code",
   "execution_count": 24,
   "metadata": {},
   "outputs": [],
   "source": [
    "import numpy as np\n",
    "from keras.preprocessing import image\n",
    "test_image = image.load_img('dataset/single_prediction/cat_or_dog_2.jpg', target_size = (64, 64))\n",
    "test_image = image.img_to_array(test_image)\n",
    "test_image = np.expand_dims(test_image, axis = 0)\n",
    "result = cnn.predict(test_image)\n",
    "training_set.class_indices\n",
    "if result[0][0] == 1:\n",
    "  prediction = 'dog'\n",
    "else:\n",
    "  prediction = 'cat'"
   ]
  },
  {
   "cell_type": "code",
   "execution_count": 25,
   "metadata": {},
   "outputs": [
    {
     "name": "stdout",
     "output_type": "stream",
     "text": [
      "dog\n"
     ]
    }
   ],
   "source": [
    "print(prediction)"
   ]
  },
  {
   "cell_type": "code",
   "execution_count": 27,
   "metadata": {},
   "outputs": [
    {
     "name": "stdout",
     "output_type": "stream",
     "text": [
      "cat\n"
     ]
    }
   ],
   "source": [
    "import numpy as np\n",
    "from keras.preprocessing import image\n",
    "test_image = image.load_img('dataset/test_set/cats/cat.4987.jpg', target_size = (64, 64))\n",
    "test_image = image.img_to_array(test_image)\n",
    "test_image = np.expand_dims(test_image, axis = 0)\n",
    "result = cnn.predict(test_image)\n",
    "training_set.class_indices\n",
    "if result[0][0] == 1:\n",
    "  prediction = 'dog'\n",
    "else:\n",
    "  prediction = 'cat'\n",
    "print(prediction)"
   ]
  },
  {
   "cell_type": "markdown",
   "metadata": {},
   "source": [
    "## Fim"
   ]
  }
 ],
 "metadata": {
  "colab": {
   "collapsed_sections": [],
   "name": "convolutional_neural_network.ipynb",
   "provenance": [],
   "toc_visible": true
  },
  "kernelspec": {
   "display_name": "Python 3",
   "language": "python",
   "name": "python3"
  },
  "language_info": {
   "codemirror_mode": {
    "name": "ipython",
    "version": 3
   },
   "file_extension": ".py",
   "mimetype": "text/x-python",
   "name": "python",
   "nbconvert_exporter": "python",
   "pygments_lexer": "ipython3",
   "version": "3.9.4"
  }
 },
 "nbformat": 4,
 "nbformat_minor": 4
}
